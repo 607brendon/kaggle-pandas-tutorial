{
 "cells": [
  {
   "cell_type": "code",
   "execution_count": 1,
   "id": "25652bcb",
   "metadata": {
    "_cell_guid": "b1076dfc-b9ad-4769-8c92-a6c4dae69d19",
    "_uuid": "8f2839f25d086af736a60e9eeb907d3b93b6e0e5",
    "execution": {
     "iopub.execute_input": "2025-03-10T17:54:10.669699Z",
     "iopub.status.busy": "2025-03-10T17:54:10.669240Z",
     "iopub.status.idle": "2025-03-10T17:54:11.764566Z",
     "shell.execute_reply": "2025-03-10T17:54:11.763237Z"
    },
    "papermill": {
     "duration": 1.106742,
     "end_time": "2025-03-10T17:54:11.766643",
     "exception": false,
     "start_time": "2025-03-10T17:54:10.659901",
     "status": "completed"
    },
    "tags": []
   },
   "outputs": [
    {
     "name": "stdout",
     "output_type": "stream",
     "text": [
      "/kaggle/input/austin-animal-center-outcomes/Austin_Animal_Center_Outcomes.csv\n"
     ]
    }
   ],
   "source": [
    "# This Python 3 environment comes with many helpful analytics libraries installed\n",
    "# It is defined by the kaggle/python Docker image: https://github.com/kaggle/docker-python\n",
    "# For example, here's several helpful packages to load\n",
    "\n",
    "import numpy as np # linear algebra\n",
    "import pandas as pd # data processing, CSV file I/O (e.g. pd.read_csv)\n",
    "\n",
    "# Input data files are available in the read-only \"../input/\" directory\n",
    "# For example, running this (by clicking run or pressing Shift+Enter) will list all files under the input directory\n",
    "\n",
    "import os\n",
    "for dirname, _, filenames in os.walk('/kaggle/input'):\n",
    "    for filename in filenames:\n",
    "        print(os.path.join(dirname, filename))\n",
    "\n",
    "# You can write up to 20GB to the current directory (/kaggle/working/) that gets preserved as output when you create a version using \"Save & Run All\" \n",
    "# You can also write temporary files to /kaggle/temp/, but they won't be saved outside of the current session"
   ]
  },
  {
   "cell_type": "markdown",
   "id": "ed991fcc",
   "metadata": {
    "papermill": {
     "duration": 0.007371,
     "end_time": "2025-03-10T17:54:11.782887",
     "exception": false,
     "start_time": "2025-03-10T17:54:11.775516",
     "status": "completed"
    },
    "tags": []
   },
   "source": [
    "Currently studying the pandas library and using this dataset as an opportunity to demonstrate what I've learned.\n",
    "\n",
    "**Questions I want to answer:**\n",
    "1. How many total records (animals) are in the dataset?\n",
    "2. What are the most common animal types?\n",
    "3. What are the most common breeds for dogs and cats?\n",
    "4. What are the busiest months for animal intakes?\n",
    "5. Has the number of adoptions changed over time?\n",
    "6. What are the most common outcomes for animals?\n",
    "7. Do certain breeds have higher adoption rates?\n",
    "8. Do younger animals get adopted more quickly?\n",
    "9. Are certain zip codes associated with more intakes or adoptions?\n",
    "10. How long do animals typically stay in the shelter before adoption?"
   ]
  },
  {
   "cell_type": "markdown",
   "id": "fd93e936",
   "metadata": {
    "papermill": {
     "duration": 0.007255,
     "end_time": "2025-03-10T17:54:11.797777",
     "exception": false,
     "start_time": "2025-03-10T17:54:11.790522",
     "status": "completed"
    },
    "tags": []
   },
   "source": [
    "### Step 1: Cleaning\n",
    "1. Does the dataset have missing values? If so, which columns and how many?\n",
    "2. Are there duplicate rows? Should they be removed?\n",
    "3. Are there any inconsistent or unexpected values (e.g., negative ages, incorrect dates)?\n",
    "4. Do column names follow a consistent format (lowercase, snake_case, etc.)?\n",
    "## handling missing data\n",
    "* Should missing values be filled, removed, or left as is?\n",
    "* If filling missing values, what’s the best approach (mean, median, mode, forward/backward fill)?\n",
    "* Are missing values concentrated in specific columns or random?\n",
    "\n",
    "## data type validation\n",
    "* Are all columns in the correct data type (e.g., dates as datetime, numbers as int/float)?\n",
    "* Do categorical columns have correct and consistent labels?\n",
    "* Are numerical columns formatted correctly (e.g., no misplaced commas or currency symbols)?\n",
    "\n",
    "## standardizing and fixing inconsistencies\n",
    "* Are animal types (e.g., “Dog” vs. “dog”) consistent?\n",
    "* Are breed names standardized (e.g., “German Shepherd” vs. “GSD”)?\n",
    "* Do outcome types and intake types have uniform spelling and categorization?\n",
    "* Are date formats consistent across the dataset?\n",
    "\n",
    "## handling outliers and erroneous data\n",
    "* Are there extreme outliers in numerical columns (e.g., very high ages, negative values)?\n",
    "* Are there animals with duplicate intake and outcome records?\n",
    "* Are there any animals with unrealistic age values (e.g., “100 years old” for a dog)?\n",
    "\n",
    "## date and time processing\n",
    "* Are intake and outcome dates properly formatted and sorted?\n",
    "* Are there cases where the outcome date is before the intake date?\n",
    "* Are there unexpected time gaps between intake and outcome?\n",
    "\n",
    "## final checks\n",
    "* Does the cleaned dataset retain all necessary columns for analysis?\n",
    "* Have you documented the cleaning steps for reproducibility?\n",
    "* Have you saved the cleaned dataset for further analysis?"
   ]
  },
  {
   "cell_type": "code",
   "execution_count": 2,
   "id": "285b42d9",
   "metadata": {
    "execution": {
     "iopub.execute_input": "2025-03-10T17:54:11.815268Z",
     "iopub.status.busy": "2025-03-10T17:54:11.814735Z",
     "iopub.status.idle": "2025-03-10T17:54:12.851647Z",
     "shell.execute_reply": "2025-03-10T17:54:12.850006Z"
    },
    "papermill": {
     "duration": 1.047485,
     "end_time": "2025-03-10T17:54:12.853800",
     "exception": false,
     "start_time": "2025-03-10T17:54:11.806315",
     "status": "completed"
    },
    "tags": []
   },
   "outputs": [
    {
     "name": "stdout",
     "output_type": "stream",
     "text": [
      "/kaggle/input/austin-animal-center-outcomes/Austin_Animal_Center_Outcomes.csv\n",
      "<class 'pandas.core.frame.DataFrame'>\n",
      "RangeIndex: 172113 entries, 0 to 172112\n",
      "Data columns (total 12 columns):\n",
      " #   Column            Non-Null Count   Dtype \n",
      "---  ------            --------------   ----- \n",
      " 0   Animal ID         172113 non-null  object\n",
      " 1   Name              122845 non-null  object\n",
      " 2   DateTime          172113 non-null  object\n",
      " 3   MonthYear         172113 non-null  object\n",
      " 4   Date of Birth     172113 non-null  object\n",
      " 5   Outcome Type      172071 non-null  object\n",
      " 6   Outcome Subtype   78842 non-null   object\n",
      " 7   Animal Type       172113 non-null  object\n",
      " 8   Sex upon Outcome  172111 non-null  object\n",
      " 9   Age upon Outcome  172106 non-null  object\n",
      " 10  Breed             172113 non-null  object\n",
      " 11  Color             172113 non-null  object\n",
      "dtypes: object(12)\n",
      "memory usage: 15.8+ MB\n"
     ]
    }
   ],
   "source": [
    "for dirname, _, filenames in os.walk('/kaggle/input'):\n",
    "    for filename in filenames:\n",
    "        print(os.path.join(dirname, filename))\n",
    "        dataset = os.path.join(dirname, filename)\n",
    "\n",
    "df = pd.read_csv(dataset)\n",
    "df_backup = df.copy()\n",
    "df.info()"
   ]
  },
  {
   "cell_type": "markdown",
   "id": "08804628",
   "metadata": {
    "papermill": {
     "duration": 0.00851,
     "end_time": "2025-03-10T17:54:12.870351",
     "exception": false,
     "start_time": "2025-03-10T17:54:12.861841",
     "status": "completed"
    },
    "tags": []
   },
   "source": [
    "Changing data to correct datatypes"
   ]
  },
  {
   "cell_type": "code",
   "execution_count": 3,
   "id": "726aeac9",
   "metadata": {
    "execution": {
     "iopub.execute_input": "2025-03-10T17:54:12.887377Z",
     "iopub.status.busy": "2025-03-10T17:54:12.887003Z",
     "iopub.status.idle": "2025-03-10T17:54:29.858763Z",
     "shell.execute_reply": "2025-03-10T17:54:29.857452Z"
    },
    "papermill": {
     "duration": 16.982627,
     "end_time": "2025-03-10T17:54:29.860735",
     "exception": false,
     "start_time": "2025-03-10T17:54:12.878108",
     "status": "completed"
    },
    "tags": []
   },
   "outputs": [
    {
     "name": "stderr",
     "output_type": "stream",
     "text": [
      "<ipython-input-3-a1bf5901da9c>:1: UserWarning: Could not infer format, so each element will be parsed individually, falling back to `dateutil`. To ensure parsing is consistent and as-expected, please specify a format.\n",
      "  df['DateTime'] = pd.to_datetime(df['DateTime'], errors='coerce')\n",
      "<ipython-input-3-a1bf5901da9c>:2: UserWarning: Could not infer format, so each element will be parsed individually, falling back to `dateutil`. To ensure parsing is consistent and as-expected, please specify a format.\n",
      "  df['MonthYear'] = pd.to_datetime(df['MonthYear'],  errors='coerce')\n"
     ]
    }
   ],
   "source": [
    "df['DateTime'] = pd.to_datetime(df['DateTime'], errors='coerce')\n",
    "df['MonthYear'] = pd.to_datetime(df['MonthYear'],  errors='coerce')\n",
    "df['Date of Birth'] = pd.to_datetime(df['Date of Birth'], errors='coerce')"
   ]
  },
  {
   "cell_type": "code",
   "execution_count": 4,
   "id": "6b62997b",
   "metadata": {
    "execution": {
     "iopub.execute_input": "2025-03-10T17:54:29.877898Z",
     "iopub.status.busy": "2025-03-10T17:54:29.877411Z",
     "iopub.status.idle": "2025-03-10T17:54:29.903419Z",
     "shell.execute_reply": "2025-03-10T17:54:29.902441Z"
    },
    "papermill": {
     "duration": 0.036503,
     "end_time": "2025-03-10T17:54:29.905200",
     "exception": false,
     "start_time": "2025-03-10T17:54:29.868697",
     "status": "completed"
    },
    "tags": []
   },
   "outputs": [
    {
     "name": "stdout",
     "output_type": "stream",
     "text": [
      "0 0 0        2023-03-25\n",
      "1        2017-05-02\n",
      "2        2017-07-12\n",
      "3        2019-08-16\n",
      "4        2015-10-08\n",
      "            ...    \n",
      "172108   2024-12-16\n",
      "172109   2021-03-03\n",
      "172110   2019-02-27\n",
      "172111   2025-01-06\n",
      "172112   2014-03-05\n",
      "Name: Date of Birth, Length: 172113, dtype: datetime64[ns]\n"
     ]
    },
    {
     "data": {
      "text/plain": [
       "count                           172113\n",
       "mean     2018-10-22 01:03:43.701870336\n",
       "min                2013-10-01 00:00:00\n",
       "25%                2016-02-01 00:00:00\n",
       "50%                2018-07-01 00:00:00\n",
       "75%                2021-07-01 00:00:00\n",
       "max                2025-03-01 00:00:00\n",
       "Name: MonthYear, dtype: object"
      ]
     },
     "execution_count": 4,
     "metadata": {},
     "output_type": "execute_result"
    }
   ],
   "source": [
    "print(df['DateTime'].isna().sum(), df['MonthYear'].isna().sum(), df['Date of Birth'])\n",
    "df['MonthYear'].describe()"
   ]
  },
  {
   "cell_type": "code",
   "execution_count": 5,
   "id": "3b763949",
   "metadata": {
    "execution": {
     "iopub.execute_input": "2025-03-10T17:54:29.922234Z",
     "iopub.status.busy": "2025-03-10T17:54:29.921903Z",
     "iopub.status.idle": "2025-03-10T17:54:29.937660Z",
     "shell.execute_reply": "2025-03-10T17:54:29.936419Z"
    },
    "papermill": {
     "duration": 0.026038,
     "end_time": "2025-03-10T17:54:29.939391",
     "exception": false,
     "start_time": "2025-03-10T17:54:29.913353",
     "status": "completed"
    },
    "tags": []
   },
   "outputs": [
    {
     "data": {
      "text/plain": [
       "count                           172113\n",
       "mean     2018-11-06 11:28:53.957923072\n",
       "min                2013-10-01 09:31:00\n",
       "25%                2016-02-01 08:56:00\n",
       "50%                2018-07-21 17:54:00\n",
       "75%                2021-07-25 17:47:00\n",
       "max                2025-03-07 13:48:00\n",
       "Name: DateTime, dtype: object"
      ]
     },
     "execution_count": 5,
     "metadata": {},
     "output_type": "execute_result"
    }
   ],
   "source": [
    "df['DateTime'].describe()"
   ]
  },
  {
   "cell_type": "code",
   "execution_count": 6,
   "id": "73817453",
   "metadata": {
    "execution": {
     "iopub.execute_input": "2025-03-10T17:54:29.956986Z",
     "iopub.status.busy": "2025-03-10T17:54:29.956605Z",
     "iopub.status.idle": "2025-03-10T17:54:29.972383Z",
     "shell.execute_reply": "2025-03-10T17:54:29.971455Z"
    },
    "papermill": {
     "duration": 0.026375,
     "end_time": "2025-03-10T17:54:29.974023",
     "exception": false,
     "start_time": "2025-03-10T17:54:29.947648",
     "status": "completed"
    },
    "tags": []
   },
   "outputs": [
    {
     "data": {
      "text/plain": [
       "count                           172113\n",
       "mean     2016-10-04 09:36:05.923550208\n",
       "min                1991-09-22 00:00:00\n",
       "25%                2014-03-11 00:00:00\n",
       "50%                2016-10-21 00:00:00\n",
       "75%                2019-11-06 00:00:00\n",
       "max                2028-05-01 00:00:00\n",
       "Name: Date of Birth, dtype: object"
      ]
     },
     "execution_count": 6,
     "metadata": {},
     "output_type": "execute_result"
    }
   ],
   "source": [
    "df['Date of Birth'].describe()"
   ]
  },
  {
   "cell_type": "markdown",
   "id": "88079a7c",
   "metadata": {
    "papermill": {
     "duration": 0.007744,
     "end_time": "2025-03-10T17:54:29.990199",
     "exception": false,
     "start_time": "2025-03-10T17:54:29.982455",
     "status": "completed"
    },
    "tags": []
   },
   "source": [
    "### 1. Does the dataset have missing values? If so, which columns and how many?\n",
    "We see below that Outcome Type, Outcome Subtype, Sex upon Outcome, and Age upon Outcome all have missing values."
   ]
  },
  {
   "cell_type": "code",
   "execution_count": 7,
   "id": "fa0f260c",
   "metadata": {
    "execution": {
     "iopub.execute_input": "2025-03-10T17:54:30.008607Z",
     "iopub.status.busy": "2025-03-10T17:54:30.008161Z",
     "iopub.status.idle": "2025-03-10T17:54:30.066708Z",
     "shell.execute_reply": "2025-03-10T17:54:30.065497Z"
    },
    "papermill": {
     "duration": 0.070597,
     "end_time": "2025-03-10T17:54:30.068814",
     "exception": false,
     "start_time": "2025-03-10T17:54:29.998217",
     "status": "completed"
    },
    "tags": []
   },
   "outputs": [
    {
     "data": {
      "text/html": [
       "<div>\n",
       "<style scoped>\n",
       "    .dataframe tbody tr th:only-of-type {\n",
       "        vertical-align: middle;\n",
       "    }\n",
       "\n",
       "    .dataframe tbody tr th {\n",
       "        vertical-align: top;\n",
       "    }\n",
       "\n",
       "    .dataframe thead th {\n",
       "        text-align: right;\n",
       "    }\n",
       "</style>\n",
       "<table border=\"1\" class=\"dataframe\">\n",
       "  <thead>\n",
       "    <tr style=\"text-align: right;\">\n",
       "      <th></th>\n",
       "      <th>DateTime</th>\n",
       "      <th>MonthYear</th>\n",
       "      <th>Date of Birth</th>\n",
       "    </tr>\n",
       "  </thead>\n",
       "  <tbody>\n",
       "    <tr>\n",
       "      <th>count</th>\n",
       "      <td>172113</td>\n",
       "      <td>172113</td>\n",
       "      <td>172113</td>\n",
       "    </tr>\n",
       "    <tr>\n",
       "      <th>mean</th>\n",
       "      <td>2018-11-06 11:28:53.957923072</td>\n",
       "      <td>2018-10-22 01:03:43.701870336</td>\n",
       "      <td>2016-10-04 09:36:05.923550208</td>\n",
       "    </tr>\n",
       "    <tr>\n",
       "      <th>min</th>\n",
       "      <td>2013-10-01 09:31:00</td>\n",
       "      <td>2013-10-01 00:00:00</td>\n",
       "      <td>1991-09-22 00:00:00</td>\n",
       "    </tr>\n",
       "    <tr>\n",
       "      <th>25%</th>\n",
       "      <td>2016-02-01 08:56:00</td>\n",
       "      <td>2016-02-01 00:00:00</td>\n",
       "      <td>2014-03-11 00:00:00</td>\n",
       "    </tr>\n",
       "    <tr>\n",
       "      <th>50%</th>\n",
       "      <td>2018-07-21 17:54:00</td>\n",
       "      <td>2018-07-01 00:00:00</td>\n",
       "      <td>2016-10-21 00:00:00</td>\n",
       "    </tr>\n",
       "    <tr>\n",
       "      <th>75%</th>\n",
       "      <td>2021-07-25 17:47:00</td>\n",
       "      <td>2021-07-01 00:00:00</td>\n",
       "      <td>2019-11-06 00:00:00</td>\n",
       "    </tr>\n",
       "    <tr>\n",
       "      <th>max</th>\n",
       "      <td>2025-03-07 13:48:00</td>\n",
       "      <td>2025-03-01 00:00:00</td>\n",
       "      <td>2028-05-01 00:00:00</td>\n",
       "    </tr>\n",
       "  </tbody>\n",
       "</table>\n",
       "</div>"
      ],
      "text/plain": [
       "                            DateTime                      MonthYear  \\\n",
       "count                         172113                         172113   \n",
       "mean   2018-11-06 11:28:53.957923072  2018-10-22 01:03:43.701870336   \n",
       "min              2013-10-01 09:31:00            2013-10-01 00:00:00   \n",
       "25%              2016-02-01 08:56:00            2016-02-01 00:00:00   \n",
       "50%              2018-07-21 17:54:00            2018-07-01 00:00:00   \n",
       "75%              2021-07-25 17:47:00            2021-07-01 00:00:00   \n",
       "max              2025-03-07 13:48:00            2025-03-01 00:00:00   \n",
       "\n",
       "                       Date of Birth  \n",
       "count                         172113  \n",
       "mean   2016-10-04 09:36:05.923550208  \n",
       "min              1991-09-22 00:00:00  \n",
       "25%              2014-03-11 00:00:00  \n",
       "50%              2016-10-21 00:00:00  \n",
       "75%              2019-11-06 00:00:00  \n",
       "max              2028-05-01 00:00:00  "
      ]
     },
     "execution_count": 7,
     "metadata": {},
     "output_type": "execute_result"
    }
   ],
   "source": [
    "df.describe()"
   ]
  },
  {
   "cell_type": "markdown",
   "id": "ba21d09a",
   "metadata": {
    "papermill": {
     "duration": 0.007938,
     "end_time": "2025-03-10T17:54:30.085584",
     "exception": false,
     "start_time": "2025-03-10T17:54:30.077646",
     "status": "completed"
    },
    "tags": []
   },
   "source": [
    "## 2. Are there duplicate rows? Should they be removed?\n",
    "25 duplicated rows. Yes, they should be removed."
   ]
  },
  {
   "cell_type": "code",
   "execution_count": 8,
   "id": "2088d674",
   "metadata": {
    "execution": {
     "iopub.execute_input": "2025-03-10T17:54:30.103789Z",
     "iopub.status.busy": "2025-03-10T17:54:30.103446Z",
     "iopub.status.idle": "2025-03-10T17:54:30.312334Z",
     "shell.execute_reply": "2025-03-10T17:54:30.311347Z"
    },
    "papermill": {
     "duration": 0.220219,
     "end_time": "2025-03-10T17:54:30.313965",
     "exception": false,
     "start_time": "2025-03-10T17:54:30.093746",
     "status": "completed"
    },
    "tags": []
   },
   "outputs": [
    {
     "data": {
      "text/plain": [
       "25"
      ]
     },
     "execution_count": 8,
     "metadata": {},
     "output_type": "execute_result"
    }
   ],
   "source": [
    "df.duplicated().sum()"
   ]
  },
  {
   "cell_type": "code",
   "execution_count": 9,
   "id": "ab104e5e",
   "metadata": {
    "execution": {
     "iopub.execute_input": "2025-03-10T17:54:30.332168Z",
     "iopub.status.busy": "2025-03-10T17:54:30.331834Z",
     "iopub.status.idle": "2025-03-10T17:54:30.587447Z",
     "shell.execute_reply": "2025-03-10T17:54:30.586405Z"
    },
    "papermill": {
     "duration": 0.266657,
     "end_time": "2025-03-10T17:54:30.589327",
     "exception": false,
     "start_time": "2025-03-10T17:54:30.322670",
     "status": "completed"
    },
    "tags": []
   },
   "outputs": [
    {
     "data": {
      "text/html": [
       "<div>\n",
       "<style scoped>\n",
       "    .dataframe tbody tr th:only-of-type {\n",
       "        vertical-align: middle;\n",
       "    }\n",
       "\n",
       "    .dataframe tbody tr th {\n",
       "        vertical-align: top;\n",
       "    }\n",
       "\n",
       "    .dataframe thead th {\n",
       "        text-align: right;\n",
       "    }\n",
       "</style>\n",
       "<table border=\"1\" class=\"dataframe\">\n",
       "  <thead>\n",
       "    <tr style=\"text-align: right;\">\n",
       "      <th></th>\n",
       "      <th>Animal ID</th>\n",
       "      <th>Name</th>\n",
       "      <th>DateTime</th>\n",
       "      <th>MonthYear</th>\n",
       "      <th>Date of Birth</th>\n",
       "      <th>Outcome Type</th>\n",
       "      <th>Outcome Subtype</th>\n",
       "      <th>Animal Type</th>\n",
       "      <th>Sex upon Outcome</th>\n",
       "      <th>Age upon Outcome</th>\n",
       "      <th>Breed</th>\n",
       "      <th>Color</th>\n",
       "    </tr>\n",
       "  </thead>\n",
       "  <tbody>\n",
       "    <tr>\n",
       "      <th>0</th>\n",
       "      <td>A882831</td>\n",
       "      <td>*Hamilton</td>\n",
       "      <td>2023-07-01 18:12:00</td>\n",
       "      <td>2023-07-01</td>\n",
       "      <td>2023-03-25</td>\n",
       "      <td>Adoption</td>\n",
       "      <td>NaN</td>\n",
       "      <td>Cat</td>\n",
       "      <td>Neutered Male</td>\n",
       "      <td>3 months</td>\n",
       "      <td>Domestic Shorthair Mix</td>\n",
       "      <td>Black/White</td>\n",
       "    </tr>\n",
       "    <tr>\n",
       "      <th>1</th>\n",
       "      <td>A794011</td>\n",
       "      <td>Chunk</td>\n",
       "      <td>2019-05-08 18:20:00</td>\n",
       "      <td>2019-05-01</td>\n",
       "      <td>2017-05-02</td>\n",
       "      <td>Rto-Adopt</td>\n",
       "      <td>NaN</td>\n",
       "      <td>Cat</td>\n",
       "      <td>Neutered Male</td>\n",
       "      <td>2 years</td>\n",
       "      <td>Domestic Shorthair Mix</td>\n",
       "      <td>Brown Tabby/White</td>\n",
       "    </tr>\n",
       "    <tr>\n",
       "      <th>2</th>\n",
       "      <td>A776359</td>\n",
       "      <td>Gizmo</td>\n",
       "      <td>2018-07-18 16:02:00</td>\n",
       "      <td>2018-07-01</td>\n",
       "      <td>2017-07-12</td>\n",
       "      <td>Adoption</td>\n",
       "      <td>NaN</td>\n",
       "      <td>Dog</td>\n",
       "      <td>Neutered Male</td>\n",
       "      <td>1 year</td>\n",
       "      <td>Chihuahua Shorthair Mix</td>\n",
       "      <td>White/Brown</td>\n",
       "    </tr>\n",
       "    <tr>\n",
       "      <th>3</th>\n",
       "      <td>A821648</td>\n",
       "      <td>NaN</td>\n",
       "      <td>2020-08-16 11:38:00</td>\n",
       "      <td>2020-08-01</td>\n",
       "      <td>2019-08-16</td>\n",
       "      <td>Euthanasia</td>\n",
       "      <td>NaN</td>\n",
       "      <td>Other</td>\n",
       "      <td>Unknown</td>\n",
       "      <td>1 year</td>\n",
       "      <td>Raccoon</td>\n",
       "      <td>Gray</td>\n",
       "    </tr>\n",
       "    <tr>\n",
       "      <th>4</th>\n",
       "      <td>A720371</td>\n",
       "      <td>Moose</td>\n",
       "      <td>2016-02-13 17:59:00</td>\n",
       "      <td>2016-02-01</td>\n",
       "      <td>2015-10-08</td>\n",
       "      <td>Adoption</td>\n",
       "      <td>NaN</td>\n",
       "      <td>Dog</td>\n",
       "      <td>Neutered Male</td>\n",
       "      <td>4 months</td>\n",
       "      <td>Anatol Shepherd/Labrador Retriever</td>\n",
       "      <td>Buff</td>\n",
       "    </tr>\n",
       "    <tr>\n",
       "      <th>...</th>\n",
       "      <td>...</td>\n",
       "      <td>...</td>\n",
       "      <td>...</td>\n",
       "      <td>...</td>\n",
       "      <td>...</td>\n",
       "      <td>...</td>\n",
       "      <td>...</td>\n",
       "      <td>...</td>\n",
       "      <td>...</td>\n",
       "      <td>...</td>\n",
       "      <td>...</td>\n",
       "      <td>...</td>\n",
       "    </tr>\n",
       "    <tr>\n",
       "      <th>172108</th>\n",
       "      <td>A922949</td>\n",
       "      <td>*Scout</td>\n",
       "      <td>2025-03-07 11:45:00</td>\n",
       "      <td>2025-03-01</td>\n",
       "      <td>2024-12-16</td>\n",
       "      <td>Adoption</td>\n",
       "      <td>Foster</td>\n",
       "      <td>Dog</td>\n",
       "      <td>Neutered Male</td>\n",
       "      <td>2 months</td>\n",
       "      <td>Chihuahua Shorthair Mix</td>\n",
       "      <td>Buff/White</td>\n",
       "    </tr>\n",
       "    <tr>\n",
       "      <th>172109</th>\n",
       "      <td>A925959</td>\n",
       "      <td>NaN</td>\n",
       "      <td>2025-03-07 11:24:00</td>\n",
       "      <td>2025-03-01</td>\n",
       "      <td>2021-03-03</td>\n",
       "      <td>Transfer</td>\n",
       "      <td>Partner</td>\n",
       "      <td>Dog</td>\n",
       "      <td>Intact Male</td>\n",
       "      <td>4 years</td>\n",
       "      <td>Dachshund/Chihuahua Shorthair</td>\n",
       "      <td>Black/White</td>\n",
       "    </tr>\n",
       "    <tr>\n",
       "      <th>172110</th>\n",
       "      <td>A925235</td>\n",
       "      <td>*Gertrude</td>\n",
       "      <td>2025-03-07 12:48:00</td>\n",
       "      <td>2025-03-01</td>\n",
       "      <td>2019-02-27</td>\n",
       "      <td>Adoption</td>\n",
       "      <td>NaN</td>\n",
       "      <td>Dog</td>\n",
       "      <td>Spayed Female</td>\n",
       "      <td>6 years</td>\n",
       "      <td>Miniature Schnauzer</td>\n",
       "      <td>Black/Black</td>\n",
       "    </tr>\n",
       "    <tr>\n",
       "      <th>172111</th>\n",
       "      <td>A924228</td>\n",
       "      <td>*Penny Lane</td>\n",
       "      <td>2025-03-07 12:41:00</td>\n",
       "      <td>2025-03-01</td>\n",
       "      <td>2025-01-06</td>\n",
       "      <td>Adoption</td>\n",
       "      <td>NaN</td>\n",
       "      <td>Dog</td>\n",
       "      <td>Spayed Female</td>\n",
       "      <td>1 month</td>\n",
       "      <td>Australian Cattle Dog/Pit Bull</td>\n",
       "      <td>Blue Tick</td>\n",
       "    </tr>\n",
       "    <tr>\n",
       "      <th>172112</th>\n",
       "      <td>A926089</td>\n",
       "      <td>NaN</td>\n",
       "      <td>2025-03-07 13:48:00</td>\n",
       "      <td>2025-03-01</td>\n",
       "      <td>2014-03-05</td>\n",
       "      <td>Transfer</td>\n",
       "      <td>Partner</td>\n",
       "      <td>Dog</td>\n",
       "      <td>Intact Female</td>\n",
       "      <td>11 years</td>\n",
       "      <td>Toy Poodle</td>\n",
       "      <td>White</td>\n",
       "    </tr>\n",
       "  </tbody>\n",
       "</table>\n",
       "<p>172088 rows × 12 columns</p>\n",
       "</div>"
      ],
      "text/plain": [
       "       Animal ID         Name            DateTime  MonthYear Date of Birth  \\\n",
       "0        A882831    *Hamilton 2023-07-01 18:12:00 2023-07-01    2023-03-25   \n",
       "1        A794011        Chunk 2019-05-08 18:20:00 2019-05-01    2017-05-02   \n",
       "2        A776359        Gizmo 2018-07-18 16:02:00 2018-07-01    2017-07-12   \n",
       "3        A821648          NaN 2020-08-16 11:38:00 2020-08-01    2019-08-16   \n",
       "4        A720371        Moose 2016-02-13 17:59:00 2016-02-01    2015-10-08   \n",
       "...          ...          ...                 ...        ...           ...   \n",
       "172108   A922949       *Scout 2025-03-07 11:45:00 2025-03-01    2024-12-16   \n",
       "172109   A925959          NaN 2025-03-07 11:24:00 2025-03-01    2021-03-03   \n",
       "172110   A925235    *Gertrude 2025-03-07 12:48:00 2025-03-01    2019-02-27   \n",
       "172111   A924228  *Penny Lane 2025-03-07 12:41:00 2025-03-01    2025-01-06   \n",
       "172112   A926089          NaN 2025-03-07 13:48:00 2025-03-01    2014-03-05   \n",
       "\n",
       "       Outcome Type Outcome Subtype Animal Type Sex upon Outcome  \\\n",
       "0          Adoption             NaN         Cat    Neutered Male   \n",
       "1         Rto-Adopt             NaN         Cat    Neutered Male   \n",
       "2          Adoption             NaN         Dog    Neutered Male   \n",
       "3        Euthanasia             NaN       Other          Unknown   \n",
       "4          Adoption             NaN         Dog    Neutered Male   \n",
       "...             ...             ...         ...              ...   \n",
       "172108     Adoption          Foster         Dog    Neutered Male   \n",
       "172109     Transfer         Partner         Dog      Intact Male   \n",
       "172110     Adoption             NaN         Dog    Spayed Female   \n",
       "172111     Adoption             NaN         Dog    Spayed Female   \n",
       "172112     Transfer         Partner         Dog    Intact Female   \n",
       "\n",
       "       Age upon Outcome                               Breed              Color  \n",
       "0              3 months              Domestic Shorthair Mix        Black/White  \n",
       "1               2 years              Domestic Shorthair Mix  Brown Tabby/White  \n",
       "2                1 year             Chihuahua Shorthair Mix        White/Brown  \n",
       "3                1 year                             Raccoon               Gray  \n",
       "4              4 months  Anatol Shepherd/Labrador Retriever               Buff  \n",
       "...                 ...                                 ...                ...  \n",
       "172108         2 months             Chihuahua Shorthair Mix         Buff/White  \n",
       "172109          4 years       Dachshund/Chihuahua Shorthair        Black/White  \n",
       "172110          6 years                 Miniature Schnauzer        Black/Black  \n",
       "172111          1 month      Australian Cattle Dog/Pit Bull          Blue Tick  \n",
       "172112         11 years                          Toy Poodle              White  \n",
       "\n",
       "[172088 rows x 12 columns]"
      ]
     },
     "execution_count": 9,
     "metadata": {},
     "output_type": "execute_result"
    }
   ],
   "source": [
    "df.drop_duplicates()"
   ]
  },
  {
   "cell_type": "markdown",
   "id": "eb0c6a6f",
   "metadata": {
    "papermill": {
     "duration": 0.008608,
     "end_time": "2025-03-10T17:54:30.607287",
     "exception": false,
     "start_time": "2025-03-10T17:54:30.598679",
     "status": "completed"
    },
    "tags": []
   },
   "source": [
    "Are there any inconsistent or unexpected values (e.g., negative ages, incorrect dates)?"
   ]
  },
  {
   "cell_type": "code",
   "execution_count": 10,
   "id": "b512bf01",
   "metadata": {
    "execution": {
     "iopub.execute_input": "2025-03-10T17:54:30.626392Z",
     "iopub.status.busy": "2025-03-10T17:54:30.625992Z",
     "iopub.status.idle": "2025-03-10T17:54:30.663132Z",
     "shell.execute_reply": "2025-03-10T17:54:30.662275Z"
    },
    "papermill": {
     "duration": 0.048685,
     "end_time": "2025-03-10T17:54:30.664725",
     "exception": false,
     "start_time": "2025-03-10T17:54:30.616040",
     "status": "completed"
    },
    "tags": []
   },
   "outputs": [
    {
     "data": {
      "text/plain": [
       "Name\n",
       "Luna        748\n",
       "Max         721\n",
       "Bella       674\n",
       "Rocky       490\n",
       "Daisy       464\n",
       "           ... \n",
       "*Brocade      1\n",
       "Babydoll      1\n",
       "A849756       1\n",
       "Karati        1\n",
       "Trueno        1\n",
       "Name: count, Length: 29585, dtype: int64"
      ]
     },
     "execution_count": 10,
     "metadata": {},
     "output_type": "execute_result"
    }
   ],
   "source": [
    "df['Name'].value_counts()"
   ]
  },
  {
   "cell_type": "code",
   "execution_count": 11,
   "id": "4d6c9054",
   "metadata": {
    "execution": {
     "iopub.execute_input": "2025-03-10T17:54:30.683818Z",
     "iopub.status.busy": "2025-03-10T17:54:30.683476Z",
     "iopub.status.idle": "2025-03-10T17:54:30.726717Z",
     "shell.execute_reply": "2025-03-10T17:54:30.725379Z"
    },
    "papermill": {
     "duration": 0.054944,
     "end_time": "2025-03-10T17:54:30.728732",
     "exception": false,
     "start_time": "2025-03-10T17:54:30.673788",
     "status": "completed"
    },
    "tags": []
   },
   "outputs": [
    {
     "data": {
      "text/html": [
       "<div>\n",
       "<style scoped>\n",
       "    .dataframe tbody tr th:only-of-type {\n",
       "        vertical-align: middle;\n",
       "    }\n",
       "\n",
       "    .dataframe tbody tr th {\n",
       "        vertical-align: top;\n",
       "    }\n",
       "\n",
       "    .dataframe thead th {\n",
       "        text-align: right;\n",
       "    }\n",
       "</style>\n",
       "<table border=\"1\" class=\"dataframe\">\n",
       "  <thead>\n",
       "    <tr style=\"text-align: right;\">\n",
       "      <th></th>\n",
       "      <th>Animal ID</th>\n",
       "      <th>Name</th>\n",
       "      <th>DateTime</th>\n",
       "      <th>MonthYear</th>\n",
       "      <th>Date of Birth</th>\n",
       "      <th>Outcome Type</th>\n",
       "      <th>Outcome Subtype</th>\n",
       "      <th>Animal Type</th>\n",
       "      <th>Sex upon Outcome</th>\n",
       "      <th>Age upon Outcome</th>\n",
       "      <th>Breed</th>\n",
       "      <th>Color</th>\n",
       "    </tr>\n",
       "  </thead>\n",
       "  <tbody>\n",
       "    <tr>\n",
       "      <th>3</th>\n",
       "      <td>A821648</td>\n",
       "      <td>NaN</td>\n",
       "      <td>2020-08-16 11:38:00</td>\n",
       "      <td>2020-08-01</td>\n",
       "      <td>2019-08-16</td>\n",
       "      <td>Euthanasia</td>\n",
       "      <td>NaN</td>\n",
       "      <td>Other</td>\n",
       "      <td>Unknown</td>\n",
       "      <td>1 year</td>\n",
       "      <td>Raccoon</td>\n",
       "      <td>Gray</td>\n",
       "    </tr>\n",
       "    <tr>\n",
       "      <th>5</th>\n",
       "      <td>A674754</td>\n",
       "      <td>NaN</td>\n",
       "      <td>2014-03-18 11:47:00</td>\n",
       "      <td>2014-03-01</td>\n",
       "      <td>2014-03-12</td>\n",
       "      <td>Transfer</td>\n",
       "      <td>Partner</td>\n",
       "      <td>Cat</td>\n",
       "      <td>Intact Male</td>\n",
       "      <td>6 days</td>\n",
       "      <td>Domestic Shorthair Mix</td>\n",
       "      <td>Orange Tabby</td>\n",
       "    </tr>\n",
       "    <tr>\n",
       "      <th>8</th>\n",
       "      <td>A902098</td>\n",
       "      <td>NaN</td>\n",
       "      <td>2024-07-18 12:07:00</td>\n",
       "      <td>2024-07-01</td>\n",
       "      <td>2024-04-10</td>\n",
       "      <td>Adoption</td>\n",
       "      <td>Foster</td>\n",
       "      <td>Cat</td>\n",
       "      <td>Neutered Male</td>\n",
       "      <td>3 months</td>\n",
       "      <td>Domestic Shorthair</td>\n",
       "      <td>Blue Tabby</td>\n",
       "    </tr>\n",
       "    <tr>\n",
       "      <th>13</th>\n",
       "      <td>A888689</td>\n",
       "      <td>NaN</td>\n",
       "      <td>2023-09-14 09:22:00</td>\n",
       "      <td>2023-09-01</td>\n",
       "      <td>2020-09-11</td>\n",
       "      <td>Transfer</td>\n",
       "      <td>Snr</td>\n",
       "      <td>Cat</td>\n",
       "      <td>Intact Male</td>\n",
       "      <td>3 years</td>\n",
       "      <td>Domestic Medium Hair</td>\n",
       "      <td>Brown Tabby</td>\n",
       "    </tr>\n",
       "    <tr>\n",
       "      <th>14</th>\n",
       "      <td>A684617</td>\n",
       "      <td>NaN</td>\n",
       "      <td>2014-07-27 09:00:00</td>\n",
       "      <td>2014-07-01</td>\n",
       "      <td>2012-07-26</td>\n",
       "      <td>Transfer</td>\n",
       "      <td>SCRP</td>\n",
       "      <td>Cat</td>\n",
       "      <td>Intact Female</td>\n",
       "      <td>2 years</td>\n",
       "      <td>Domestic Shorthair Mix</td>\n",
       "      <td>Black</td>\n",
       "    </tr>\n",
       "    <tr>\n",
       "      <th>...</th>\n",
       "      <td>...</td>\n",
       "      <td>...</td>\n",
       "      <td>...</td>\n",
       "      <td>...</td>\n",
       "      <td>...</td>\n",
       "      <td>...</td>\n",
       "      <td>...</td>\n",
       "      <td>...</td>\n",
       "      <td>...</td>\n",
       "      <td>...</td>\n",
       "      <td>...</td>\n",
       "      <td>...</td>\n",
       "    </tr>\n",
       "    <tr>\n",
       "      <th>172105</th>\n",
       "      <td>A925579</td>\n",
       "      <td>NaN</td>\n",
       "      <td>2025-03-07 11:18:00</td>\n",
       "      <td>2025-03-01</td>\n",
       "      <td>2023-02-26</td>\n",
       "      <td>Transfer</td>\n",
       "      <td>Partner</td>\n",
       "      <td>Dog</td>\n",
       "      <td>Intact Male</td>\n",
       "      <td>2 years</td>\n",
       "      <td>Shih Tzu</td>\n",
       "      <td>White/Black</td>\n",
       "    </tr>\n",
       "    <tr>\n",
       "      <th>172106</th>\n",
       "      <td>A922138</td>\n",
       "      <td>NaN</td>\n",
       "      <td>2025-03-07 11:14:00</td>\n",
       "      <td>2025-03-01</td>\n",
       "      <td>2024-01-24</td>\n",
       "      <td>Adoption</td>\n",
       "      <td>Foster</td>\n",
       "      <td>Cat</td>\n",
       "      <td>Spayed Female</td>\n",
       "      <td>1 year</td>\n",
       "      <td>Domestic Shorthair</td>\n",
       "      <td>Tortie</td>\n",
       "    </tr>\n",
       "    <tr>\n",
       "      <th>172107</th>\n",
       "      <td>A925987</td>\n",
       "      <td>NaN</td>\n",
       "      <td>2025-03-07 11:16:00</td>\n",
       "      <td>2025-03-01</td>\n",
       "      <td>2024-03-03</td>\n",
       "      <td>Transfer</td>\n",
       "      <td>Partner</td>\n",
       "      <td>Dog</td>\n",
       "      <td>Intact Male</td>\n",
       "      <td>1 year</td>\n",
       "      <td>Lhasa Apso</td>\n",
       "      <td>Black/Brown</td>\n",
       "    </tr>\n",
       "    <tr>\n",
       "      <th>172109</th>\n",
       "      <td>A925959</td>\n",
       "      <td>NaN</td>\n",
       "      <td>2025-03-07 11:24:00</td>\n",
       "      <td>2025-03-01</td>\n",
       "      <td>2021-03-03</td>\n",
       "      <td>Transfer</td>\n",
       "      <td>Partner</td>\n",
       "      <td>Dog</td>\n",
       "      <td>Intact Male</td>\n",
       "      <td>4 years</td>\n",
       "      <td>Dachshund/Chihuahua Shorthair</td>\n",
       "      <td>Black/White</td>\n",
       "    </tr>\n",
       "    <tr>\n",
       "      <th>172112</th>\n",
       "      <td>A926089</td>\n",
       "      <td>NaN</td>\n",
       "      <td>2025-03-07 13:48:00</td>\n",
       "      <td>2025-03-01</td>\n",
       "      <td>2014-03-05</td>\n",
       "      <td>Transfer</td>\n",
       "      <td>Partner</td>\n",
       "      <td>Dog</td>\n",
       "      <td>Intact Female</td>\n",
       "      <td>11 years</td>\n",
       "      <td>Toy Poodle</td>\n",
       "      <td>White</td>\n",
       "    </tr>\n",
       "  </tbody>\n",
       "</table>\n",
       "<p>49268 rows × 12 columns</p>\n",
       "</div>"
      ],
      "text/plain": [
       "       Animal ID Name            DateTime  MonthYear Date of Birth  \\\n",
       "3        A821648  NaN 2020-08-16 11:38:00 2020-08-01    2019-08-16   \n",
       "5        A674754  NaN 2014-03-18 11:47:00 2014-03-01    2014-03-12   \n",
       "8        A902098  NaN 2024-07-18 12:07:00 2024-07-01    2024-04-10   \n",
       "13       A888689  NaN 2023-09-14 09:22:00 2023-09-01    2020-09-11   \n",
       "14       A684617  NaN 2014-07-27 09:00:00 2014-07-01    2012-07-26   \n",
       "...          ...  ...                 ...        ...           ...   \n",
       "172105   A925579  NaN 2025-03-07 11:18:00 2025-03-01    2023-02-26   \n",
       "172106   A922138  NaN 2025-03-07 11:14:00 2025-03-01    2024-01-24   \n",
       "172107   A925987  NaN 2025-03-07 11:16:00 2025-03-01    2024-03-03   \n",
       "172109   A925959  NaN 2025-03-07 11:24:00 2025-03-01    2021-03-03   \n",
       "172112   A926089  NaN 2025-03-07 13:48:00 2025-03-01    2014-03-05   \n",
       "\n",
       "       Outcome Type Outcome Subtype Animal Type Sex upon Outcome  \\\n",
       "3        Euthanasia             NaN       Other          Unknown   \n",
       "5          Transfer         Partner         Cat      Intact Male   \n",
       "8          Adoption          Foster         Cat    Neutered Male   \n",
       "13         Transfer             Snr         Cat      Intact Male   \n",
       "14         Transfer            SCRP         Cat    Intact Female   \n",
       "...             ...             ...         ...              ...   \n",
       "172105     Transfer         Partner         Dog      Intact Male   \n",
       "172106     Adoption          Foster         Cat    Spayed Female   \n",
       "172107     Transfer         Partner         Dog      Intact Male   \n",
       "172109     Transfer         Partner         Dog      Intact Male   \n",
       "172112     Transfer         Partner         Dog    Intact Female   \n",
       "\n",
       "       Age upon Outcome                          Breed         Color  \n",
       "3                1 year                        Raccoon          Gray  \n",
       "5                6 days         Domestic Shorthair Mix  Orange Tabby  \n",
       "8              3 months             Domestic Shorthair    Blue Tabby  \n",
       "13              3 years           Domestic Medium Hair   Brown Tabby  \n",
       "14              2 years         Domestic Shorthair Mix         Black  \n",
       "...                 ...                            ...           ...  \n",
       "172105          2 years                       Shih Tzu   White/Black  \n",
       "172106           1 year             Domestic Shorthair        Tortie  \n",
       "172107           1 year                     Lhasa Apso   Black/Brown  \n",
       "172109          4 years  Dachshund/Chihuahua Shorthair   Black/White  \n",
       "172112         11 years                     Toy Poodle         White  \n",
       "\n",
       "[49268 rows x 12 columns]"
      ]
     },
     "execution_count": 11,
     "metadata": {},
     "output_type": "execute_result"
    }
   ],
   "source": [
    "df['Name'].isna().sum()\n",
    "df[df['Name'].isna()]"
   ]
  },
  {
   "cell_type": "code",
   "execution_count": 12,
   "id": "9a47f484",
   "metadata": {
    "execution": {
     "iopub.execute_input": "2025-03-10T17:54:30.749113Z",
     "iopub.status.busy": "2025-03-10T17:54:30.748777Z",
     "iopub.status.idle": "2025-03-10T17:54:30.767470Z",
     "shell.execute_reply": "2025-03-10T17:54:30.766270Z"
    },
    "papermill": {
     "duration": 0.031228,
     "end_time": "2025-03-10T17:54:30.769237",
     "exception": false,
     "start_time": "2025-03-10T17:54:30.738009",
     "status": "completed"
    },
    "tags": []
   },
   "outputs": [
    {
     "name": "stderr",
     "output_type": "stream",
     "text": [
      "<ipython-input-12-c9c58b5c4e5b>:1: FutureWarning: A value is trying to be set on a copy of a DataFrame or Series through chained assignment using an inplace method.\n",
      "The behavior will change in pandas 3.0. This inplace method will never work because the intermediate object on which we are setting values always behaves as a copy.\n",
      "\n",
      "For example, when doing 'df[col].method(value, inplace=True)', try using 'df.method({col: value}, inplace=True)' or df[col] = df[col].method(value) instead, to perform the operation inplace on the original object.\n",
      "\n",
      "\n",
      "  df['Name'].fillna('Unknown', inplace=True)\n"
     ]
    }
   ],
   "source": [
    "df['Name'].fillna('Unknown', inplace=True)"
   ]
  },
  {
   "cell_type": "markdown",
   "id": "d080d4f4",
   "metadata": {
    "papermill": {
     "duration": 0.008802,
     "end_time": "2025-03-10T17:54:30.787290",
     "exception": false,
     "start_time": "2025-03-10T17:54:30.778488",
     "status": "completed"
    },
    "tags": []
   },
   "source": [
    "Checking for null values again after using default 'Unknown' name"
   ]
  },
  {
   "cell_type": "code",
   "execution_count": 13,
   "id": "8da14634",
   "metadata": {
    "execution": {
     "iopub.execute_input": "2025-03-10T17:54:30.806951Z",
     "iopub.status.busy": "2025-03-10T17:54:30.806589Z",
     "iopub.status.idle": "2025-03-10T17:54:30.837306Z",
     "shell.execute_reply": "2025-03-10T17:54:30.836321Z"
    },
    "papermill": {
     "duration": 0.042575,
     "end_time": "2025-03-10T17:54:30.839039",
     "exception": false,
     "start_time": "2025-03-10T17:54:30.796464",
     "status": "completed"
    },
    "tags": []
   },
   "outputs": [
    {
     "data": {
      "text/html": [
       "<div>\n",
       "<style scoped>\n",
       "    .dataframe tbody tr th:only-of-type {\n",
       "        vertical-align: middle;\n",
       "    }\n",
       "\n",
       "    .dataframe tbody tr th {\n",
       "        vertical-align: top;\n",
       "    }\n",
       "\n",
       "    .dataframe thead th {\n",
       "        text-align: right;\n",
       "    }\n",
       "</style>\n",
       "<table border=\"1\" class=\"dataframe\">\n",
       "  <thead>\n",
       "    <tr style=\"text-align: right;\">\n",
       "      <th></th>\n",
       "      <th>Animal ID</th>\n",
       "      <th>Name</th>\n",
       "      <th>DateTime</th>\n",
       "      <th>MonthYear</th>\n",
       "      <th>Date of Birth</th>\n",
       "      <th>Outcome Type</th>\n",
       "      <th>Outcome Subtype</th>\n",
       "      <th>Animal Type</th>\n",
       "      <th>Sex upon Outcome</th>\n",
       "      <th>Age upon Outcome</th>\n",
       "      <th>Breed</th>\n",
       "      <th>Color</th>\n",
       "    </tr>\n",
       "  </thead>\n",
       "  <tbody>\n",
       "  </tbody>\n",
       "</table>\n",
       "</div>"
      ],
      "text/plain": [
       "Empty DataFrame\n",
       "Columns: [Animal ID, Name, DateTime, MonthYear, Date of Birth, Outcome Type, Outcome Subtype, Animal Type, Sex upon Outcome, Age upon Outcome, Breed, Color]\n",
       "Index: []"
      ]
     },
     "execution_count": 13,
     "metadata": {},
     "output_type": "execute_result"
    }
   ],
   "source": [
    "df['Name'].isna().sum()\n",
    "df[df['Name'].isna()]"
   ]
  },
  {
   "cell_type": "markdown",
   "id": "f086629b",
   "metadata": {
    "papermill": {
     "duration": 0.0097,
     "end_time": "2025-03-10T17:54:30.858819",
     "exception": false,
     "start_time": "2025-03-10T17:54:30.849119",
     "status": "completed"
    },
    "tags": []
   },
   "source": [
    "Looking at some of the weird names"
   ]
  },
  {
   "cell_type": "code",
   "execution_count": 14,
   "id": "d95ace39",
   "metadata": {
    "execution": {
     "iopub.execute_input": "2025-03-10T17:54:30.879075Z",
     "iopub.status.busy": "2025-03-10T17:54:30.878698Z",
     "iopub.status.idle": "2025-03-10T17:54:30.917397Z",
     "shell.execute_reply": "2025-03-10T17:54:30.916290Z"
    },
    "papermill": {
     "duration": 0.050957,
     "end_time": "2025-03-10T17:54:30.919241",
     "exception": false,
     "start_time": "2025-03-10T17:54:30.868284",
     "status": "completed"
    },
    "tags": []
   },
   "outputs": [
    {
     "data": {
      "text/plain": [
       "Index(['*Pearl The Girl', 'Navada', '*170 G', 'Tatianna', '*Keroppi',\n",
       "       'A837241', '*Cat Benatar', '*Ol' Saint Nick', 'Big Maximus', 'Oddie',\n",
       "       ...\n",
       "       'Panny', 'Hestia', 'A872166', 'A863086', 'Chicago', '*Brocade',\n",
       "       'Babydoll', 'A849756', 'Karati', 'Trueno'],\n",
       "      dtype='object', name='Name', length=17910)"
      ]
     },
     "execution_count": 14,
     "metadata": {},
     "output_type": "execute_result"
    }
   ],
   "source": [
    "unique_values = df['Name'].value_counts()\n",
    "unique_values[unique_values == 1].index"
   ]
  },
  {
   "cell_type": "markdown",
   "id": "4ded1932",
   "metadata": {
    "papermill": {
     "duration": 0.009183,
     "end_time": "2025-03-10T17:54:30.938485",
     "exception": false,
     "start_time": "2025-03-10T17:54:30.929302",
     "status": "completed"
    },
    "tags": []
   },
   "source": [
    "Checking for non-Alphabetical characters"
   ]
  },
  {
   "cell_type": "code",
   "execution_count": 15,
   "id": "7fa7785a",
   "metadata": {
    "execution": {
     "iopub.execute_input": "2025-03-10T17:54:30.959032Z",
     "iopub.status.busy": "2025-03-10T17:54:30.958701Z",
     "iopub.status.idle": "2025-03-10T17:54:31.034312Z",
     "shell.execute_reply": "2025-03-10T17:54:31.033227Z"
    },
    "papermill": {
     "duration": 0.087862,
     "end_time": "2025-03-10T17:54:31.036076",
     "exception": false,
     "start_time": "2025-03-10T17:54:30.948214",
     "status": "completed"
    },
    "tags": []
   },
   "outputs": [
    {
     "name": "stdout",
     "output_type": "stream",
     "text": [
      "28                  A878380\n",
      "37                  A886502\n",
      "55                  A851472\n",
      "72                  A839936\n",
      "98           *Boot Scootin'\n",
      "                ...        \n",
      "171661         *Mr. Pickles\n",
      "171708         *Mr. Pickles\n",
      "171946           *Choco-Cat\n",
      "172075       *Mae(Deceased)\n",
      "172080    24-1809C Snowball\n",
      "Name: Name, Length: 5484, dtype: object\n"
     ]
    }
   ],
   "source": [
    "weird_names = df[df['Name'].str.contains(r'[^a-zA-Z*\\s]', na=False)]\n",
    "print(weird_names['Name'])"
   ]
  },
  {
   "cell_type": "markdown",
   "id": "e184647a",
   "metadata": {
    "papermill": {
     "duration": 0.009166,
     "end_time": "2025-03-10T17:54:31.055976",
     "exception": false,
     "start_time": "2025-03-10T17:54:31.046810",
     "status": "completed"
    },
    "tags": []
   },
   "source": [
    "Why are there two cats named *Mr. Pickles? Same cat or different?"
   ]
  },
  {
   "cell_type": "code",
   "execution_count": 16,
   "id": "442d3e33",
   "metadata": {
    "execution": {
     "iopub.execute_input": "2025-03-10T17:54:31.076617Z",
     "iopub.status.busy": "2025-03-10T17:54:31.076251Z",
     "iopub.status.idle": "2025-03-10T17:54:31.106493Z",
     "shell.execute_reply": "2025-03-10T17:54:31.105211Z"
    },
    "papermill": {
     "duration": 0.0426,
     "end_time": "2025-03-10T17:54:31.108252",
     "exception": false,
     "start_time": "2025-03-10T17:54:31.065652",
     "status": "completed"
    },
    "tags": []
   },
   "outputs": [
    {
     "data": {
      "text/html": [
       "<div>\n",
       "<style scoped>\n",
       "    .dataframe tbody tr th:only-of-type {\n",
       "        vertical-align: middle;\n",
       "    }\n",
       "\n",
       "    .dataframe tbody tr th {\n",
       "        vertical-align: top;\n",
       "    }\n",
       "\n",
       "    .dataframe thead th {\n",
       "        text-align: right;\n",
       "    }\n",
       "</style>\n",
       "<table border=\"1\" class=\"dataframe\">\n",
       "  <thead>\n",
       "    <tr style=\"text-align: right;\">\n",
       "      <th></th>\n",
       "      <th>Animal ID</th>\n",
       "      <th>Name</th>\n",
       "      <th>DateTime</th>\n",
       "      <th>MonthYear</th>\n",
       "      <th>Date of Birth</th>\n",
       "      <th>Outcome Type</th>\n",
       "      <th>Outcome Subtype</th>\n",
       "      <th>Animal Type</th>\n",
       "      <th>Sex upon Outcome</th>\n",
       "      <th>Age upon Outcome</th>\n",
       "      <th>Breed</th>\n",
       "      <th>Color</th>\n",
       "    </tr>\n",
       "  </thead>\n",
       "  <tbody>\n",
       "    <tr>\n",
       "      <th>11235</th>\n",
       "      <td>A772703</td>\n",
       "      <td>*Mr. Pickles</td>\n",
       "      <td>2019-01-16 13:55:00</td>\n",
       "      <td>2019-01-01</td>\n",
       "      <td>2015-05-22</td>\n",
       "      <td>Adoption</td>\n",
       "      <td>Foster</td>\n",
       "      <td>Dog</td>\n",
       "      <td>Neutered Male</td>\n",
       "      <td>3 years</td>\n",
       "      <td>American Pit Bull Terrier Mix</td>\n",
       "      <td>Blue/White</td>\n",
       "    </tr>\n",
       "    <tr>\n",
       "      <th>171661</th>\n",
       "      <td>A741366</td>\n",
       "      <td>*Mr. Pickles</td>\n",
       "      <td>2017-01-05 17:25:00</td>\n",
       "      <td>2017-01-01</td>\n",
       "      <td>2015-12-31</td>\n",
       "      <td>Adoption</td>\n",
       "      <td>NaN</td>\n",
       "      <td>Dog</td>\n",
       "      <td>Neutered Male</td>\n",
       "      <td>1 year</td>\n",
       "      <td>Norwich Terrier Mix</td>\n",
       "      <td>Tan</td>\n",
       "    </tr>\n",
       "    <tr>\n",
       "      <th>171708</th>\n",
       "      <td>A741366</td>\n",
       "      <td>*Mr. Pickles</td>\n",
       "      <td>2025-02-23 11:51:00</td>\n",
       "      <td>2025-02-01</td>\n",
       "      <td>2015-12-31</td>\n",
       "      <td>Adoption</td>\n",
       "      <td>NaN</td>\n",
       "      <td>Dog</td>\n",
       "      <td>Neutered Male</td>\n",
       "      <td>9 years</td>\n",
       "      <td>Norwich Terrier Mix</td>\n",
       "      <td>Tan</td>\n",
       "    </tr>\n",
       "  </tbody>\n",
       "</table>\n",
       "</div>"
      ],
      "text/plain": [
       "       Animal ID          Name            DateTime  MonthYear Date of Birth  \\\n",
       "11235    A772703  *Mr. Pickles 2019-01-16 13:55:00 2019-01-01    2015-05-22   \n",
       "171661   A741366  *Mr. Pickles 2017-01-05 17:25:00 2017-01-01    2015-12-31   \n",
       "171708   A741366  *Mr. Pickles 2025-02-23 11:51:00 2025-02-01    2015-12-31   \n",
       "\n",
       "       Outcome Type Outcome Subtype Animal Type Sex upon Outcome  \\\n",
       "11235      Adoption          Foster         Dog    Neutered Male   \n",
       "171661     Adoption             NaN         Dog    Neutered Male   \n",
       "171708     Adoption             NaN         Dog    Neutered Male   \n",
       "\n",
       "       Age upon Outcome                          Breed       Color  \n",
       "11235           3 years  American Pit Bull Terrier Mix  Blue/White  \n",
       "171661           1 year            Norwich Terrier Mix         Tan  \n",
       "171708          9 years            Norwich Terrier Mix         Tan  "
      ]
     },
     "execution_count": 16,
     "metadata": {},
     "output_type": "execute_result"
    }
   ],
   "source": [
    "df[df['Name'] == '*Mr. Pickles']"
   ]
  },
  {
   "cell_type": "code",
   "execution_count": 17,
   "id": "0a94e686",
   "metadata": {
    "execution": {
     "iopub.execute_input": "2025-03-10T17:54:31.129360Z",
     "iopub.status.busy": "2025-03-10T17:54:31.128932Z",
     "iopub.status.idle": "2025-03-10T17:54:31.145358Z",
     "shell.execute_reply": "2025-03-10T17:54:31.144279Z"
    },
    "papermill": {
     "duration": 0.029306,
     "end_time": "2025-03-10T17:54:31.147557",
     "exception": false,
     "start_time": "2025-03-10T17:54:31.118251",
     "status": "completed"
    },
    "tags": []
   },
   "outputs": [
    {
     "data": {
      "text/plain": [
       "count                           172113\n",
       "mean     2018-11-06 11:28:53.957923072\n",
       "min                2013-10-01 09:31:00\n",
       "25%                2016-02-01 08:56:00\n",
       "50%                2018-07-21 17:54:00\n",
       "75%                2021-07-25 17:47:00\n",
       "max                2025-03-07 13:48:00\n",
       "Name: DateTime, dtype: object"
      ]
     },
     "execution_count": 17,
     "metadata": {},
     "output_type": "execute_result"
    }
   ],
   "source": [
    "df['DateTime'].describe()"
   ]
  },
  {
   "cell_type": "code",
   "execution_count": 18,
   "id": "c78bc83d",
   "metadata": {
    "execution": {
     "iopub.execute_input": "2025-03-10T17:54:31.168960Z",
     "iopub.status.busy": "2025-03-10T17:54:31.168621Z",
     "iopub.status.idle": "2025-03-10T17:54:31.181291Z",
     "shell.execute_reply": "2025-03-10T17:54:31.180188Z"
    },
    "papermill": {
     "duration": 0.02527,
     "end_time": "2025-03-10T17:54:31.183184",
     "exception": false,
     "start_time": "2025-03-10T17:54:31.157914",
     "status": "completed"
    },
    "tags": []
   },
   "outputs": [
    {
     "data": {
      "text/plain": [
       "MonthYear\n",
       "2019-06-01    2244\n",
       "2014-07-01    2084\n",
       "2019-08-01    1979\n",
       "2015-06-01    1976\n",
       "2019-07-01    1949\n",
       "              ... \n",
       "2021-01-01     649\n",
       "2020-05-01     442\n",
       "2021-02-01     422\n",
       "2020-04-01     393\n",
       "2025-03-01     213\n",
       "Name: count, Length: 138, dtype: int64"
      ]
     },
     "execution_count": 18,
     "metadata": {},
     "output_type": "execute_result"
    }
   ],
   "source": [
    "df['MonthYear'].value_counts()"
   ]
  },
  {
   "cell_type": "code",
   "execution_count": 19,
   "id": "064489ef",
   "metadata": {
    "execution": {
     "iopub.execute_input": "2025-03-10T17:54:31.205519Z",
     "iopub.status.busy": "2025-03-10T17:54:31.205065Z",
     "iopub.status.idle": "2025-03-10T17:54:31.218202Z",
     "shell.execute_reply": "2025-03-10T17:54:31.217180Z"
    },
    "papermill": {
     "duration": 0.025933,
     "end_time": "2025-03-10T17:54:31.219868",
     "exception": false,
     "start_time": "2025-03-10T17:54:31.193935",
     "status": "completed"
    },
    "tags": []
   },
   "outputs": [
    {
     "data": {
      "text/plain": [
       "Date of Birth\n",
       "2016-05-01    121\n",
       "2014-05-05    120\n",
       "2015-09-01    117\n",
       "2014-04-21    117\n",
       "2018-04-16    108\n",
       "             ... \n",
       "2001-02-02      1\n",
       "1999-01-04      1\n",
       "1997-07-07      1\n",
       "2006-08-09      1\n",
       "2000-04-22      1\n",
       "Name: count, Length: 8613, dtype: int64"
      ]
     },
     "execution_count": 19,
     "metadata": {},
     "output_type": "execute_result"
    }
   ],
   "source": [
    "df['Date of Birth'].value_counts()"
   ]
  },
  {
   "cell_type": "code",
   "execution_count": 20,
   "id": "8fb30c28",
   "metadata": {
    "execution": {
     "iopub.execute_input": "2025-03-10T17:54:31.242155Z",
     "iopub.status.busy": "2025-03-10T17:54:31.241765Z",
     "iopub.status.idle": "2025-03-10T17:54:31.261217Z",
     "shell.execute_reply": "2025-03-10T17:54:31.260183Z"
    },
    "papermill": {
     "duration": 0.032445,
     "end_time": "2025-03-10T17:54:31.262913",
     "exception": false,
     "start_time": "2025-03-10T17:54:31.230468",
     "status": "completed"
    },
    "tags": []
   },
   "outputs": [
    {
     "data": {
      "text/plain": [
       "Outcome Type\n",
       "Adoption           83709\n",
       "Transfer           48264\n",
       "Return to Owner    25529\n",
       "Euthanasia         10686\n",
       "Died                1658\n",
       "Rto-Adopt           1230\n",
       "Disposal             868\n",
       "Missing               92\n",
       "Relocate              28\n",
       "Stolen                 5\n",
       "Lost                   2\n",
       "Name: count, dtype: int64"
      ]
     },
     "execution_count": 20,
     "metadata": {},
     "output_type": "execute_result"
    }
   ],
   "source": [
    "df['Outcome Type'].value_counts()"
   ]
  },
  {
   "cell_type": "code",
   "execution_count": 21,
   "id": "518d652f",
   "metadata": {
    "execution": {
     "iopub.execute_input": "2025-03-10T17:54:31.286164Z",
     "iopub.status.busy": "2025-03-10T17:54:31.285776Z",
     "iopub.status.idle": "2025-03-10T17:54:31.302338Z",
     "shell.execute_reply": "2025-03-10T17:54:31.301181Z"
    },
    "papermill": {
     "duration": 0.030089,
     "end_time": "2025-03-10T17:54:31.304245",
     "exception": false,
     "start_time": "2025-03-10T17:54:31.274156",
     "status": "completed"
    },
    "tags": []
   },
   "outputs": [
    {
     "data": {
      "text/plain": [
       "Outcome Subtype\n",
       "Partner                40046\n",
       "Foster                 17729\n",
       "Rabies Risk             4843\n",
       "Suffering               4094\n",
       "Snr                     4041\n",
       "SCRP                    3211\n",
       "Out State                931\n",
       "In Kennel                866\n",
       "Aggressive               611\n",
       "Offsite                  512\n",
       "In Foster                413\n",
       "Medical                  352\n",
       "At Vet                   351\n",
       "Field                    238\n",
       "Behavior                 176\n",
       "Enroute                  112\n",
       "Court/Investigation       99\n",
       "Emergency                 52\n",
       "Underage                  37\n",
       "In Surgery                33\n",
       "Customer S                20\n",
       "Prc                       20\n",
       "Possible Theft            16\n",
       "Barn                      16\n",
       "In State                  12\n",
       "Emer                      11\n",
       "Name: count, dtype: int64"
      ]
     },
     "execution_count": 21,
     "metadata": {},
     "output_type": "execute_result"
    }
   ],
   "source": [
    "df['Outcome Subtype'].value_counts()"
   ]
  },
  {
   "cell_type": "code",
   "execution_count": 22,
   "id": "6bbc1e24",
   "metadata": {
    "execution": {
     "iopub.execute_input": "2025-03-10T17:54:31.326725Z",
     "iopub.status.busy": "2025-03-10T17:54:31.326378Z",
     "iopub.status.idle": "2025-03-10T17:54:31.346192Z",
     "shell.execute_reply": "2025-03-10T17:54:31.345179Z"
    },
    "papermill": {
     "duration": 0.032985,
     "end_time": "2025-03-10T17:54:31.347999",
     "exception": false,
     "start_time": "2025-03-10T17:54:31.315014",
     "status": "completed"
    },
    "tags": []
   },
   "outputs": [
    {
     "data": {
      "text/plain": [
       "Animal Type\n",
       "Dog          93718\n",
       "Cat          68652\n",
       "Other         8839\n",
       "Bird           870\n",
       "Livestock       34\n",
       "Name: count, dtype: int64"
      ]
     },
     "execution_count": 22,
     "metadata": {},
     "output_type": "execute_result"
    }
   ],
   "source": [
    "df['Animal Type'].value_counts()"
   ]
  },
  {
   "cell_type": "code",
   "execution_count": 23,
   "id": "f7e5b77c",
   "metadata": {
    "execution": {
     "iopub.execute_input": "2025-03-10T17:54:31.371504Z",
     "iopub.status.busy": "2025-03-10T17:54:31.371132Z",
     "iopub.status.idle": "2025-03-10T17:54:31.391098Z",
     "shell.execute_reply": "2025-03-10T17:54:31.390145Z"
    },
    "papermill": {
     "duration": 0.033532,
     "end_time": "2025-03-10T17:54:31.392925",
     "exception": false,
     "start_time": "2025-03-10T17:54:31.359393",
     "status": "completed"
    },
    "tags": []
   },
   "outputs": [
    {
     "data": {
      "text/plain": [
       "Sex upon Outcome\n",
       "Neutered Male    60363\n",
       "Spayed Female    54784\n",
       "Intact Male      22056\n",
       "Intact Female    21614\n",
       "Unknown          13294\n",
       "Name: count, dtype: int64"
      ]
     },
     "execution_count": 23,
     "metadata": {},
     "output_type": "execute_result"
    }
   ],
   "source": [
    "df['Sex upon Outcome'].value_counts()"
   ]
  },
  {
   "cell_type": "code",
   "execution_count": 24,
   "id": "523f75f6",
   "metadata": {
    "execution": {
     "iopub.execute_input": "2025-03-10T17:54:31.416188Z",
     "iopub.status.busy": "2025-03-10T17:54:31.415811Z",
     "iopub.status.idle": "2025-03-10T17:54:31.435365Z",
     "shell.execute_reply": "2025-03-10T17:54:31.434178Z"
    },
    "papermill": {
     "duration": 0.033278,
     "end_time": "2025-03-10T17:54:31.437118",
     "exception": false,
     "start_time": "2025-03-10T17:54:31.403840",
     "status": "completed"
    },
    "tags": []
   },
   "outputs": [
    {
     "data": {
      "text/plain": [
       "Age upon Outcome\n",
       "1 year       28510\n",
       "2 years      27603\n",
       "2 months     23069\n",
       "3 years       9702\n",
       "3 months      9137\n",
       "1 month       7332\n",
       "4 months      6010\n",
       "4 years       5766\n",
       "5 years       5217\n",
       "5 months      4404\n",
       "6 months      4162\n",
       "6 years       3403\n",
       "7 years       2995\n",
       "8 years       2938\n",
       "3 weeks       2871\n",
       "2 weeks       2868\n",
       "8 months      2689\n",
       "4 weeks       2407\n",
       "10 months     2382\n",
       "10 years      2367\n",
       "7 months      2257\n",
       "9 months      1754\n",
       "9 years       1642\n",
       "1 weeks       1338\n",
       "12 years      1154\n",
       "11 months     1096\n",
       "1 week         952\n",
       "11 years       920\n",
       "13 years       740\n",
       "3 days         565\n",
       "14 years       533\n",
       "2 days         523\n",
       "1 day          506\n",
       "15 years       461\n",
       "4 days         352\n",
       "6 days         341\n",
       "0 years        268\n",
       "5 days         221\n",
       "5 weeks        202\n",
       "16 years       200\n",
       "17 years       107\n",
       "18 years        64\n",
       "19 years        29\n",
       "20 years        26\n",
       "-1 years         6\n",
       "22 years         6\n",
       "-3 years         2\n",
       "25 years         2\n",
       "21 years         1\n",
       "24 years         1\n",
       "28 years         1\n",
       "30 years         1\n",
       "23 years         1\n",
       "-2 years         1\n",
       "-4 years         1\n",
       "Name: count, dtype: int64"
      ]
     },
     "execution_count": 24,
     "metadata": {},
     "output_type": "execute_result"
    }
   ],
   "source": [
    "df['Age upon Outcome'].value_counts()"
   ]
  },
  {
   "cell_type": "markdown",
   "id": "b4819daa",
   "metadata": {
    "papermill": {
     "duration": 0.010297,
     "end_time": "2025-03-10T17:54:31.458302",
     "exception": false,
     "start_time": "2025-03-10T17:54:31.448005",
     "status": "completed"
    },
    "tags": []
   },
   "source": [
    "Let's calculate it manually using 'DateTime' and 'Date of Birth'"
   ]
  },
  {
   "cell_type": "code",
   "execution_count": 25,
   "id": "1a98433b",
   "metadata": {
    "execution": {
     "iopub.execute_input": "2025-03-10T17:54:31.481495Z",
     "iopub.status.busy": "2025-03-10T17:54:31.481146Z",
     "iopub.status.idle": "2025-03-10T17:54:31.515003Z",
     "shell.execute_reply": "2025-03-10T17:54:31.514150Z"
    },
    "papermill": {
     "duration": 0.047948,
     "end_time": "2025-03-10T17:54:31.516938",
     "exception": false,
     "start_time": "2025-03-10T17:54:31.468990",
     "status": "completed"
    },
    "tags": []
   },
   "outputs": [
    {
     "data": {
      "text/plain": [
       "count                          172113\n",
       "mean      763 days 01:52:48.034372760\n",
       "std      1043 days 16:54:17.678271008\n",
       "min              -1548 days +11:53:00\n",
       "25%                  90 days 07:16:00\n",
       "50%                 369 days 17:44:00\n",
       "75%                 812 days 18:56:00\n",
       "max               10996 days 15:07:00\n",
       "dtype: object"
      ]
     },
     "execution_count": 25,
     "metadata": {},
     "output_type": "execute_result"
    }
   ],
   "source": [
    "new_age_series = (df['DateTime'] - df['Date of Birth'])\n",
    "new_age_series.describe()"
   ]
  },
  {
   "cell_type": "markdown",
   "id": "f33d58d0",
   "metadata": {
    "papermill": {
     "duration": 0.010403,
     "end_time": "2025-03-10T17:54:31.538881",
     "exception": false,
     "start_time": "2025-03-10T17:54:31.528478",
     "status": "completed"
    },
    "tags": []
   },
   "source": [
    "The negative years do not make sense."
   ]
  },
  {
   "cell_type": "code",
   "execution_count": 26,
   "id": "38704615",
   "metadata": {
    "execution": {
     "iopub.execute_input": "2025-03-10T17:54:31.561637Z",
     "iopub.status.busy": "2025-03-10T17:54:31.561219Z",
     "iopub.status.idle": "2025-03-10T17:54:31.569140Z",
     "shell.execute_reply": "2025-03-10T17:54:31.568128Z"
    },
    "papermill": {
     "duration": 0.021305,
     "end_time": "2025-03-10T17:54:31.570856",
     "exception": false,
     "start_time": "2025-03-10T17:54:31.549551",
     "status": "completed"
    },
    "tags": []
   },
   "outputs": [
    {
     "data": {
      "text/plain": [
       "Timedelta('-1548 days +11:53:00')"
      ]
     },
     "execution_count": 26,
     "metadata": {},
     "output_type": "execute_result"
    }
   ],
   "source": [
    "new_age_series.min()"
   ]
  },
  {
   "cell_type": "code",
   "execution_count": 27,
   "id": "3f48783a",
   "metadata": {
    "execution": {
     "iopub.execute_input": "2025-03-10T17:54:31.593910Z",
     "iopub.status.busy": "2025-03-10T17:54:31.593517Z",
     "iopub.status.idle": "2025-03-10T17:54:31.616279Z",
     "shell.execute_reply": "2025-03-10T17:54:31.615139Z"
    },
    "papermill": {
     "duration": 0.036292,
     "end_time": "2025-03-10T17:54:31.618024",
     "exception": false,
     "start_time": "2025-03-10T17:54:31.581732",
     "status": "completed"
    },
    "tags": []
   },
   "outputs": [
    {
     "data": {
      "text/plain": [
       "Breed\n",
       "Domestic Shorthair Mix                           34026\n",
       "Domestic Shorthair                               23197\n",
       "Pit Bull Mix                                     10113\n",
       "Labrador Retriever Mix                            8734\n",
       "Chihuahua Shorthair Mix                           6901\n",
       "                                                 ...  \n",
       "Australian Kelpie/Bichon Frise                       1\n",
       "Cavalier Span/Border Collie                          1\n",
       "Duck/American                                        1\n",
       "English Springer Spaniel/Cardigan Welsh Corgi        1\n",
       "Doberman Pinsch/Alaskan Husky                        1\n",
       "Name: count, Length: 2990, dtype: int64"
      ]
     },
     "execution_count": 27,
     "metadata": {},
     "output_type": "execute_result"
    }
   ],
   "source": [
    "df['Breed'].value_counts()"
   ]
  },
  {
   "cell_type": "code",
   "execution_count": 28,
   "id": "15b4aec7",
   "metadata": {
    "execution": {
     "iopub.execute_input": "2025-03-10T17:54:31.641387Z",
     "iopub.status.busy": "2025-03-10T17:54:31.641020Z",
     "iopub.status.idle": "2025-03-10T17:54:31.661182Z",
     "shell.execute_reply": "2025-03-10T17:54:31.660099Z"
    },
    "papermill": {
     "duration": 0.033467,
     "end_time": "2025-03-10T17:54:31.662659",
     "exception": false,
     "start_time": "2025-03-10T17:54:31.629192",
     "status": "completed"
    },
    "tags": []
   },
   "outputs": [
    {
     "data": {
      "text/plain": [
       "Color\n",
       "Black/White        17820\n",
       "Black              14537\n",
       "Brown Tabby        10587\n",
       "Brown               7068\n",
       "White               6076\n",
       "                   ...  \n",
       "Blue Tabby/Buff        1\n",
       "Chocolate/Gold         1\n",
       "Torbie/Blue            1\n",
       "Torbie/Calico          1\n",
       "Cream/Chocolate        1\n",
       "Name: count, Length: 661, dtype: int64"
      ]
     },
     "execution_count": 28,
     "metadata": {},
     "output_type": "execute_result"
    }
   ],
   "source": [
    "df['Color'].value_counts()"
   ]
  },
  {
   "cell_type": "code",
   "execution_count": 29,
   "id": "2437f846",
   "metadata": {
    "execution": {
     "iopub.execute_input": "2025-03-10T17:54:31.685825Z",
     "iopub.status.busy": "2025-03-10T17:54:31.685450Z",
     "iopub.status.idle": "2025-03-10T17:54:31.733430Z",
     "shell.execute_reply": "2025-03-10T17:54:31.732140Z"
    },
    "papermill": {
     "duration": 0.061574,
     "end_time": "2025-03-10T17:54:31.735276",
     "exception": false,
     "start_time": "2025-03-10T17:54:31.673702",
     "status": "completed"
    },
    "tags": []
   },
   "outputs": [
    {
     "data": {
      "text/html": [
       "<div>\n",
       "<style scoped>\n",
       "    .dataframe tbody tr th:only-of-type {\n",
       "        vertical-align: middle;\n",
       "    }\n",
       "\n",
       "    .dataframe tbody tr th {\n",
       "        vertical-align: top;\n",
       "    }\n",
       "\n",
       "    .dataframe thead th {\n",
       "        text-align: right;\n",
       "    }\n",
       "</style>\n",
       "<table border=\"1\" class=\"dataframe\">\n",
       "  <thead>\n",
       "    <tr style=\"text-align: right;\">\n",
       "      <th></th>\n",
       "      <th>DateTime</th>\n",
       "      <th>MonthYear</th>\n",
       "      <th>Date of Birth</th>\n",
       "    </tr>\n",
       "  </thead>\n",
       "  <tbody>\n",
       "    <tr>\n",
       "      <th>count</th>\n",
       "      <td>172113</td>\n",
       "      <td>172113</td>\n",
       "      <td>172113</td>\n",
       "    </tr>\n",
       "    <tr>\n",
       "      <th>mean</th>\n",
       "      <td>2018-11-06 11:28:53.957923072</td>\n",
       "      <td>2018-10-22 01:03:43.701870336</td>\n",
       "      <td>2016-10-04 09:36:05.923550208</td>\n",
       "    </tr>\n",
       "    <tr>\n",
       "      <th>min</th>\n",
       "      <td>2013-10-01 09:31:00</td>\n",
       "      <td>2013-10-01 00:00:00</td>\n",
       "      <td>1991-09-22 00:00:00</td>\n",
       "    </tr>\n",
       "    <tr>\n",
       "      <th>25%</th>\n",
       "      <td>2016-02-01 08:56:00</td>\n",
       "      <td>2016-02-01 00:00:00</td>\n",
       "      <td>2014-03-11 00:00:00</td>\n",
       "    </tr>\n",
       "    <tr>\n",
       "      <th>50%</th>\n",
       "      <td>2018-07-21 17:54:00</td>\n",
       "      <td>2018-07-01 00:00:00</td>\n",
       "      <td>2016-10-21 00:00:00</td>\n",
       "    </tr>\n",
       "    <tr>\n",
       "      <th>75%</th>\n",
       "      <td>2021-07-25 17:47:00</td>\n",
       "      <td>2021-07-01 00:00:00</td>\n",
       "      <td>2019-11-06 00:00:00</td>\n",
       "    </tr>\n",
       "    <tr>\n",
       "      <th>max</th>\n",
       "      <td>2025-03-07 13:48:00</td>\n",
       "      <td>2025-03-01 00:00:00</td>\n",
       "      <td>2028-05-01 00:00:00</td>\n",
       "    </tr>\n",
       "  </tbody>\n",
       "</table>\n",
       "</div>"
      ],
      "text/plain": [
       "                            DateTime                      MonthYear  \\\n",
       "count                         172113                         172113   \n",
       "mean   2018-11-06 11:28:53.957923072  2018-10-22 01:03:43.701870336   \n",
       "min              2013-10-01 09:31:00            2013-10-01 00:00:00   \n",
       "25%              2016-02-01 08:56:00            2016-02-01 00:00:00   \n",
       "50%              2018-07-21 17:54:00            2018-07-01 00:00:00   \n",
       "75%              2021-07-25 17:47:00            2021-07-01 00:00:00   \n",
       "max              2025-03-07 13:48:00            2025-03-01 00:00:00   \n",
       "\n",
       "                       Date of Birth  \n",
       "count                         172113  \n",
       "mean   2016-10-04 09:36:05.923550208  \n",
       "min              1991-09-22 00:00:00  \n",
       "25%              2014-03-11 00:00:00  \n",
       "50%              2016-10-21 00:00:00  \n",
       "75%              2019-11-06 00:00:00  \n",
       "max              2028-05-01 00:00:00  "
      ]
     },
     "execution_count": 29,
     "metadata": {},
     "output_type": "execute_result"
    }
   ],
   "source": [
    "df.describe()"
   ]
  }
 ],
 "metadata": {
  "kaggle": {
   "accelerator": "none",
   "dataSources": [
    {
     "datasetId": 6815598,
     "sourceId": 10955746,
     "sourceType": "datasetVersion"
    }
   ],
   "dockerImageVersionId": 30918,
   "isGpuEnabled": false,
   "isInternetEnabled": true,
   "language": "python",
   "sourceType": "notebook"
  },
  "kernelspec": {
   "display_name": "Python 3",
   "language": "python",
   "name": "python3"
  },
  "language_info": {
   "codemirror_mode": {
    "name": "ipython",
    "version": 3
   },
   "file_extension": ".py",
   "mimetype": "text/x-python",
   "name": "python",
   "nbconvert_exporter": "python",
   "pygments_lexer": "ipython3",
   "version": "3.10.12"
  },
  "papermill": {
   "default_parameters": {},
   "duration": 24.668455,
   "end_time": "2025-03-10T17:54:32.370484",
   "environment_variables": {},
   "exception": null,
   "input_path": "__notebook__.ipynb",
   "output_path": "__notebook__.ipynb",
   "parameters": {},
   "start_time": "2025-03-10T17:54:07.702029",
   "version": "2.6.0"
  }
 },
 "nbformat": 4,
 "nbformat_minor": 5
}

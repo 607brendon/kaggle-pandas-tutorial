{
 "cells": [
  {
   "cell_type": "code",
   "execution_count": 1,
   "id": "9d99d118",
   "metadata": {
    "_cell_guid": "b1076dfc-b9ad-4769-8c92-a6c4dae69d19",
    "_uuid": "8f2839f25d086af736a60e9eeb907d3b93b6e0e5",
    "execution": {
     "iopub.execute_input": "2025-03-25T23:43:55.403555Z",
     "iopub.status.busy": "2025-03-25T23:43:55.403088Z",
     "iopub.status.idle": "2025-03-25T23:43:56.445351Z",
     "shell.execute_reply": "2025-03-25T23:43:56.444031Z"
    },
    "papermill": {
     "duration": 1.053639,
     "end_time": "2025-03-25T23:43:56.447287",
     "exception": false,
     "start_time": "2025-03-25T23:43:55.393648",
     "status": "completed"
    },
    "tags": []
   },
   "outputs": [
    {
     "name": "stdout",
     "output_type": "stream",
     "text": [
      "/kaggle/input/austin-animal-center-outcomes/Austin_Animal_Center_Outcomes.csv\n"
     ]
    }
   ],
   "source": [
    "# This Python 3 environment comes with many helpful analytics libraries installed\n",
    "# It is defined by the kaggle/python Docker image: https://github.com/kaggle/docker-python\n",
    "# For example, here's several helpful packages to load\n",
    "\n",
    "import numpy as np # linear algebra\n",
    "import pandas as pd # data processing, CSV file I/O (e.g. pd.read_csv)\n",
    "\n",
    "# Input data files are available in the read-only \"../input/\" directory\n",
    "# For example, running this (by clicking run or pressing Shift+Enter) will list all files under the input directory\n",
    "\n",
    "import os\n",
    "for dirname, _, filenames in os.walk('/kaggle/input'):\n",
    "    for filename in filenames:\n",
    "        print(os.path.join(dirname, filename))\n",
    "\n",
    "# You can write up to 20GB to the current directory (/kaggle/working/) that gets preserved as output when you create a version using \"Save & Run All\" \n",
    "# You can also write temporary files to /kaggle/temp/, but they won't be saved outside of the current session"
   ]
  },
  {
   "cell_type": "markdown",
   "id": "8128b143",
   "metadata": {
    "papermill": {
     "duration": 0.006794,
     "end_time": "2025-03-25T23:43:56.461711",
     "exception": false,
     "start_time": "2025-03-25T23:43:56.454917",
     "status": "completed"
    },
    "tags": []
   },
   "source": [
    "Currently studying the pandas library and using this dataset as an opportunity to demonstrate what I've learned.\n",
    "\n",
    "**Questions I want to answer:**\n",
    "1. How many total records (animals) are in the dataset?\n",
    "2. What are the most common animal types?\n",
    "3. What are the most common breeds for dogs and cats?\n",
    "4. What are the busiest months for animal intakes?\n",
    "5. Has the number of adoptions changed over time?\n",
    "6. What are the most common outcomes for animals?\n",
    "7. Do certain breeds have higher adoption rates?\n",
    "8. Do younger animals get adopted more quickly?\n",
    "9. Are certain zip codes associated with more intakes or adoptions?\n",
    "10. How long do animals typically stay in the shelter before adoption?"
   ]
  },
  {
   "cell_type": "markdown",
   "id": "4845ba79",
   "metadata": {
    "papermill": {
     "duration": 0.006763,
     "end_time": "2025-03-25T23:43:56.475520",
     "exception": false,
     "start_time": "2025-03-25T23:43:56.468757",
     "status": "completed"
    },
    "tags": []
   },
   "source": [
    "# Step 1: Cleaning\n",
    "1. Does the dataset have missing values? If so, which columns and how many?\n",
    "2. Are there duplicate rows? Should they be removed?\n",
    "3. Are there any inconsistent or unexpected values (e.g., negative ages, incorrect dates)?\n",
    "4. Do column names follow a consistent format (lowercase, snake_case, etc.)?\n",
    " handling missing data\n",
    "* Should missing values be filled, removed, or left as is?\n",
    "* If filling missing values, what’s the best approach (mean, median, mode, forward/backward fill)?\n",
    "* Are missing values concentrated in specific columns or random?\n",
    "\n",
    "data type validation\n",
    "* Are all columns in the correct data type (e.g., dates as datetime, numbers as int/float)?\n",
    "* Do categorical columns have correct and consistent labels?\n",
    "* Are numerical columns formatted correctly (e.g., no misplaced commas or currency symbols)?\n",
    "\n",
    " standardizing and fixing inconsistencies\n",
    "* Are animal types (e.g., “Dog” vs. “dog”) consistent?\n",
    "* Are breed names standardized (e.g., “German Shepherd” vs. “GSD”)?\n",
    "* Do outcome types and intake types have uniform spelling and categorization?\n",
    "* Are date formats consistent across the dataset?\n",
    "\n",
    " handling outliers and erroneous data\n",
    "* Are there extreme outliers in numerical columns (e.g., very high ages, negative values)?\n",
    "* Are there animals with duplicate intake and outcome records?\n",
    "* Are there any animals with unrealistic age values (e.g., “100 years old” for a dog)?\n",
    "\n",
    " date and time processing\n",
    "* Are intake and outcome dates properly formatted and sorted?\n",
    "* Are there cases where the outcome date is before the intake date?\n",
    "* Are there unexpected time gaps between intake and outcome?\n",
    "\n",
    "final checks\n",
    "* Does the cleaned dataset retain all necessary columns for analysis?\n",
    "* Have you documented the cleaning steps for reproducibility?\n",
    "* Have you saved the cleaned dataset for further analysis?"
   ]
  },
  {
   "cell_type": "code",
   "execution_count": 2,
   "id": "1bac55e0",
   "metadata": {
    "execution": {
     "iopub.execute_input": "2025-03-25T23:43:56.491258Z",
     "iopub.status.busy": "2025-03-25T23:43:56.490692Z",
     "iopub.status.idle": "2025-03-25T23:43:57.589635Z",
     "shell.execute_reply": "2025-03-25T23:43:57.588324Z"
    },
    "papermill": {
     "duration": 1.108725,
     "end_time": "2025-03-25T23:43:57.591494",
     "exception": false,
     "start_time": "2025-03-25T23:43:56.482769",
     "status": "completed"
    },
    "tags": []
   },
   "outputs": [
    {
     "name": "stdout",
     "output_type": "stream",
     "text": [
      "/kaggle/input/austin-animal-center-outcomes/Austin_Animal_Center_Outcomes.csv\n",
      "<class 'pandas.core.frame.DataFrame'>\n",
      "RangeIndex: 172113 entries, 0 to 172112\n",
      "Data columns (total 12 columns):\n",
      " #   Column            Non-Null Count   Dtype \n",
      "---  ------            --------------   ----- \n",
      " 0   Animal ID         172113 non-null  object\n",
      " 1   Name              122845 non-null  object\n",
      " 2   DateTime          172113 non-null  object\n",
      " 3   MonthYear         172113 non-null  object\n",
      " 4   Date of Birth     172113 non-null  object\n",
      " 5   Outcome Type      172071 non-null  object\n",
      " 6   Outcome Subtype   78842 non-null   object\n",
      " 7   Animal Type       172113 non-null  object\n",
      " 8   Sex upon Outcome  172111 non-null  object\n",
      " 9   Age upon Outcome  172106 non-null  object\n",
      " 10  Breed             172113 non-null  object\n",
      " 11  Color             172113 non-null  object\n",
      "dtypes: object(12)\n",
      "memory usage: 15.8+ MB\n"
     ]
    }
   ],
   "source": [
    "for dirname, _, filenames in os.walk('/kaggle/input'):\n",
    "    for filename in filenames:\n",
    "        print(os.path.join(dirname, filename))\n",
    "        dataset = os.path.join(dirname, filename)\n",
    "\n",
    "df = pd.read_csv(dataset)\n",
    "df_backup = df.copy()\n",
    "df.info()"
   ]
  },
  {
   "cell_type": "markdown",
   "id": "74b03e46",
   "metadata": {
    "papermill": {
     "duration": 0.007227,
     "end_time": "2025-03-25T23:43:57.606863",
     "exception": false,
     "start_time": "2025-03-25T23:43:57.599636",
     "status": "completed"
    },
    "tags": []
   },
   "source": [
    "Changing data to correct datatypes"
   ]
  },
  {
   "cell_type": "code",
   "execution_count": 3,
   "id": "be9f6230",
   "metadata": {
    "execution": {
     "iopub.execute_input": "2025-03-25T23:43:57.622792Z",
     "iopub.status.busy": "2025-03-25T23:43:57.622447Z",
     "iopub.status.idle": "2025-03-25T23:44:14.043908Z",
     "shell.execute_reply": "2025-03-25T23:44:14.042744Z"
    },
    "papermill": {
     "duration": 16.431678,
     "end_time": "2025-03-25T23:44:14.045744",
     "exception": false,
     "start_time": "2025-03-25T23:43:57.614066",
     "status": "completed"
    },
    "tags": []
   },
   "outputs": [
    {
     "name": "stderr",
     "output_type": "stream",
     "text": [
      "<ipython-input-3-a1bf5901da9c>:1: UserWarning: Could not infer format, so each element will be parsed individually, falling back to `dateutil`. To ensure parsing is consistent and as-expected, please specify a format.\n",
      "  df['DateTime'] = pd.to_datetime(df['DateTime'], errors='coerce')\n",
      "<ipython-input-3-a1bf5901da9c>:2: UserWarning: Could not infer format, so each element will be parsed individually, falling back to `dateutil`. To ensure parsing is consistent and as-expected, please specify a format.\n",
      "  df['MonthYear'] = pd.to_datetime(df['MonthYear'],  errors='coerce')\n"
     ]
    }
   ],
   "source": [
    "df['DateTime'] = pd.to_datetime(df['DateTime'], errors='coerce')\n",
    "df['MonthYear'] = pd.to_datetime(df['MonthYear'],  errors='coerce')\n",
    "df['Date of Birth'] = pd.to_datetime(df['Date of Birth'], errors='coerce')"
   ]
  },
  {
   "cell_type": "markdown",
   "id": "d237e768",
   "metadata": {
    "papermill": {
     "duration": 0.006966,
     "end_time": "2025-03-25T23:44:14.060352",
     "exception": false,
     "start_time": "2025-03-25T23:44:14.053386",
     "status": "completed"
    },
    "tags": []
   },
   "source": [
    "## 1. Does the dataset have missing values? If so, which columns and how many?\n",
    "We see below that Outcome Type, Outcome Subtype, Sex upon Outcome, and Age upon Outcome all have missing values."
   ]
  },
  {
   "cell_type": "markdown",
   "id": "fc0ef237",
   "metadata": {
    "papermill": {
     "duration": 0.006996,
     "end_time": "2025-03-25T23:44:14.074692",
     "exception": false,
     "start_time": "2025-03-25T23:44:14.067696",
     "status": "completed"
    },
    "tags": []
   },
   "source": [
    "## 2. Are there duplicate rows? Should they be removed?\n",
    "25 duplicated rows. Yes, they should be removed."
   ]
  },
  {
   "cell_type": "code",
   "execution_count": 4,
   "id": "0fc9807f",
   "metadata": {
    "execution": {
     "iopub.execute_input": "2025-03-25T23:44:14.090794Z",
     "iopub.status.busy": "2025-03-25T23:44:14.090462Z",
     "iopub.status.idle": "2025-03-25T23:44:14.371658Z",
     "shell.execute_reply": "2025-03-25T23:44:14.370481Z"
    },
    "papermill": {
     "duration": 0.291497,
     "end_time": "2025-03-25T23:44:14.373619",
     "exception": false,
     "start_time": "2025-03-25T23:44:14.082122",
     "status": "completed"
    },
    "tags": []
   },
   "outputs": [
    {
     "data": {
      "text/html": [
       "<div>\n",
       "<style scoped>\n",
       "    .dataframe tbody tr th:only-of-type {\n",
       "        vertical-align: middle;\n",
       "    }\n",
       "\n",
       "    .dataframe tbody tr th {\n",
       "        vertical-align: top;\n",
       "    }\n",
       "\n",
       "    .dataframe thead th {\n",
       "        text-align: right;\n",
       "    }\n",
       "</style>\n",
       "<table border=\"1\" class=\"dataframe\">\n",
       "  <thead>\n",
       "    <tr style=\"text-align: right;\">\n",
       "      <th></th>\n",
       "      <th>Animal ID</th>\n",
       "      <th>Name</th>\n",
       "      <th>DateTime</th>\n",
       "      <th>MonthYear</th>\n",
       "      <th>Date of Birth</th>\n",
       "      <th>Outcome Type</th>\n",
       "      <th>Outcome Subtype</th>\n",
       "      <th>Animal Type</th>\n",
       "      <th>Sex upon Outcome</th>\n",
       "      <th>Age upon Outcome</th>\n",
       "      <th>Breed</th>\n",
       "      <th>Color</th>\n",
       "    </tr>\n",
       "  </thead>\n",
       "  <tbody>\n",
       "    <tr>\n",
       "      <th>0</th>\n",
       "      <td>A882831</td>\n",
       "      <td>*Hamilton</td>\n",
       "      <td>2023-07-01 18:12:00</td>\n",
       "      <td>2023-07-01</td>\n",
       "      <td>2023-03-25</td>\n",
       "      <td>Adoption</td>\n",
       "      <td>NaN</td>\n",
       "      <td>Cat</td>\n",
       "      <td>Neutered Male</td>\n",
       "      <td>3 months</td>\n",
       "      <td>Domestic Shorthair Mix</td>\n",
       "      <td>Black/White</td>\n",
       "    </tr>\n",
       "    <tr>\n",
       "      <th>1</th>\n",
       "      <td>A794011</td>\n",
       "      <td>Chunk</td>\n",
       "      <td>2019-05-08 18:20:00</td>\n",
       "      <td>2019-05-01</td>\n",
       "      <td>2017-05-02</td>\n",
       "      <td>Rto-Adopt</td>\n",
       "      <td>NaN</td>\n",
       "      <td>Cat</td>\n",
       "      <td>Neutered Male</td>\n",
       "      <td>2 years</td>\n",
       "      <td>Domestic Shorthair Mix</td>\n",
       "      <td>Brown Tabby/White</td>\n",
       "    </tr>\n",
       "    <tr>\n",
       "      <th>2</th>\n",
       "      <td>A776359</td>\n",
       "      <td>Gizmo</td>\n",
       "      <td>2018-07-18 16:02:00</td>\n",
       "      <td>2018-07-01</td>\n",
       "      <td>2017-07-12</td>\n",
       "      <td>Adoption</td>\n",
       "      <td>NaN</td>\n",
       "      <td>Dog</td>\n",
       "      <td>Neutered Male</td>\n",
       "      <td>1 year</td>\n",
       "      <td>Chihuahua Shorthair Mix</td>\n",
       "      <td>White/Brown</td>\n",
       "    </tr>\n",
       "    <tr>\n",
       "      <th>3</th>\n",
       "      <td>A821648</td>\n",
       "      <td>NaN</td>\n",
       "      <td>2020-08-16 11:38:00</td>\n",
       "      <td>2020-08-01</td>\n",
       "      <td>2019-08-16</td>\n",
       "      <td>Euthanasia</td>\n",
       "      <td>NaN</td>\n",
       "      <td>Other</td>\n",
       "      <td>Unknown</td>\n",
       "      <td>1 year</td>\n",
       "      <td>Raccoon</td>\n",
       "      <td>Gray</td>\n",
       "    </tr>\n",
       "    <tr>\n",
       "      <th>4</th>\n",
       "      <td>A720371</td>\n",
       "      <td>Moose</td>\n",
       "      <td>2016-02-13 17:59:00</td>\n",
       "      <td>2016-02-01</td>\n",
       "      <td>2015-10-08</td>\n",
       "      <td>Adoption</td>\n",
       "      <td>NaN</td>\n",
       "      <td>Dog</td>\n",
       "      <td>Neutered Male</td>\n",
       "      <td>4 months</td>\n",
       "      <td>Anatol Shepherd/Labrador Retriever</td>\n",
       "      <td>Buff</td>\n",
       "    </tr>\n",
       "    <tr>\n",
       "      <th>...</th>\n",
       "      <td>...</td>\n",
       "      <td>...</td>\n",
       "      <td>...</td>\n",
       "      <td>...</td>\n",
       "      <td>...</td>\n",
       "      <td>...</td>\n",
       "      <td>...</td>\n",
       "      <td>...</td>\n",
       "      <td>...</td>\n",
       "      <td>...</td>\n",
       "      <td>...</td>\n",
       "      <td>...</td>\n",
       "    </tr>\n",
       "    <tr>\n",
       "      <th>172108</th>\n",
       "      <td>A922949</td>\n",
       "      <td>*Scout</td>\n",
       "      <td>2025-03-07 11:45:00</td>\n",
       "      <td>2025-03-01</td>\n",
       "      <td>2024-12-16</td>\n",
       "      <td>Adoption</td>\n",
       "      <td>Foster</td>\n",
       "      <td>Dog</td>\n",
       "      <td>Neutered Male</td>\n",
       "      <td>2 months</td>\n",
       "      <td>Chihuahua Shorthair Mix</td>\n",
       "      <td>Buff/White</td>\n",
       "    </tr>\n",
       "    <tr>\n",
       "      <th>172109</th>\n",
       "      <td>A925959</td>\n",
       "      <td>NaN</td>\n",
       "      <td>2025-03-07 11:24:00</td>\n",
       "      <td>2025-03-01</td>\n",
       "      <td>2021-03-03</td>\n",
       "      <td>Transfer</td>\n",
       "      <td>Partner</td>\n",
       "      <td>Dog</td>\n",
       "      <td>Intact Male</td>\n",
       "      <td>4 years</td>\n",
       "      <td>Dachshund/Chihuahua Shorthair</td>\n",
       "      <td>Black/White</td>\n",
       "    </tr>\n",
       "    <tr>\n",
       "      <th>172110</th>\n",
       "      <td>A925235</td>\n",
       "      <td>*Gertrude</td>\n",
       "      <td>2025-03-07 12:48:00</td>\n",
       "      <td>2025-03-01</td>\n",
       "      <td>2019-02-27</td>\n",
       "      <td>Adoption</td>\n",
       "      <td>NaN</td>\n",
       "      <td>Dog</td>\n",
       "      <td>Spayed Female</td>\n",
       "      <td>6 years</td>\n",
       "      <td>Miniature Schnauzer</td>\n",
       "      <td>Black/Black</td>\n",
       "    </tr>\n",
       "    <tr>\n",
       "      <th>172111</th>\n",
       "      <td>A924228</td>\n",
       "      <td>*Penny Lane</td>\n",
       "      <td>2025-03-07 12:41:00</td>\n",
       "      <td>2025-03-01</td>\n",
       "      <td>2025-01-06</td>\n",
       "      <td>Adoption</td>\n",
       "      <td>NaN</td>\n",
       "      <td>Dog</td>\n",
       "      <td>Spayed Female</td>\n",
       "      <td>1 month</td>\n",
       "      <td>Australian Cattle Dog/Pit Bull</td>\n",
       "      <td>Blue Tick</td>\n",
       "    </tr>\n",
       "    <tr>\n",
       "      <th>172112</th>\n",
       "      <td>A926089</td>\n",
       "      <td>NaN</td>\n",
       "      <td>2025-03-07 13:48:00</td>\n",
       "      <td>2025-03-01</td>\n",
       "      <td>2014-03-05</td>\n",
       "      <td>Transfer</td>\n",
       "      <td>Partner</td>\n",
       "      <td>Dog</td>\n",
       "      <td>Intact Female</td>\n",
       "      <td>11 years</td>\n",
       "      <td>Toy Poodle</td>\n",
       "      <td>White</td>\n",
       "    </tr>\n",
       "  </tbody>\n",
       "</table>\n",
       "<p>172088 rows × 12 columns</p>\n",
       "</div>"
      ],
      "text/plain": [
       "       Animal ID         Name            DateTime  MonthYear Date of Birth  \\\n",
       "0        A882831    *Hamilton 2023-07-01 18:12:00 2023-07-01    2023-03-25   \n",
       "1        A794011        Chunk 2019-05-08 18:20:00 2019-05-01    2017-05-02   \n",
       "2        A776359        Gizmo 2018-07-18 16:02:00 2018-07-01    2017-07-12   \n",
       "3        A821648          NaN 2020-08-16 11:38:00 2020-08-01    2019-08-16   \n",
       "4        A720371        Moose 2016-02-13 17:59:00 2016-02-01    2015-10-08   \n",
       "...          ...          ...                 ...        ...           ...   \n",
       "172108   A922949       *Scout 2025-03-07 11:45:00 2025-03-01    2024-12-16   \n",
       "172109   A925959          NaN 2025-03-07 11:24:00 2025-03-01    2021-03-03   \n",
       "172110   A925235    *Gertrude 2025-03-07 12:48:00 2025-03-01    2019-02-27   \n",
       "172111   A924228  *Penny Lane 2025-03-07 12:41:00 2025-03-01    2025-01-06   \n",
       "172112   A926089          NaN 2025-03-07 13:48:00 2025-03-01    2014-03-05   \n",
       "\n",
       "       Outcome Type Outcome Subtype Animal Type Sex upon Outcome  \\\n",
       "0          Adoption             NaN         Cat    Neutered Male   \n",
       "1         Rto-Adopt             NaN         Cat    Neutered Male   \n",
       "2          Adoption             NaN         Dog    Neutered Male   \n",
       "3        Euthanasia             NaN       Other          Unknown   \n",
       "4          Adoption             NaN         Dog    Neutered Male   \n",
       "...             ...             ...         ...              ...   \n",
       "172108     Adoption          Foster         Dog    Neutered Male   \n",
       "172109     Transfer         Partner         Dog      Intact Male   \n",
       "172110     Adoption             NaN         Dog    Spayed Female   \n",
       "172111     Adoption             NaN         Dog    Spayed Female   \n",
       "172112     Transfer         Partner         Dog    Intact Female   \n",
       "\n",
       "       Age upon Outcome                               Breed              Color  \n",
       "0              3 months              Domestic Shorthair Mix        Black/White  \n",
       "1               2 years              Domestic Shorthair Mix  Brown Tabby/White  \n",
       "2                1 year             Chihuahua Shorthair Mix        White/Brown  \n",
       "3                1 year                             Raccoon               Gray  \n",
       "4              4 months  Anatol Shepherd/Labrador Retriever               Buff  \n",
       "...                 ...                                 ...                ...  \n",
       "172108         2 months             Chihuahua Shorthair Mix         Buff/White  \n",
       "172109          4 years       Dachshund/Chihuahua Shorthair        Black/White  \n",
       "172110          6 years                 Miniature Schnauzer        Black/Black  \n",
       "172111          1 month      Australian Cattle Dog/Pit Bull          Blue Tick  \n",
       "172112         11 years                          Toy Poodle              White  \n",
       "\n",
       "[172088 rows x 12 columns]"
      ]
     },
     "execution_count": 4,
     "metadata": {},
     "output_type": "execute_result"
    }
   ],
   "source": [
    "df.drop_duplicates()"
   ]
  },
  {
   "cell_type": "markdown",
   "id": "4fab3644",
   "metadata": {
    "papermill": {
     "duration": 0.007617,
     "end_time": "2025-03-25T23:44:14.389534",
     "exception": false,
     "start_time": "2025-03-25T23:44:14.381917",
     "status": "completed"
    },
    "tags": []
   },
   "source": [
    "Are there any inconsistent or unexpected values (e.g., negative ages, incorrect dates)?"
   ]
  },
  {
   "cell_type": "code",
   "execution_count": 5,
   "id": "a1e9542e",
   "metadata": {
    "execution": {
     "iopub.execute_input": "2025-03-25T23:44:14.406225Z",
     "iopub.status.busy": "2025-03-25T23:44:14.405823Z",
     "iopub.status.idle": "2025-03-25T23:44:14.441641Z",
     "shell.execute_reply": "2025-03-25T23:44:14.440509Z"
    },
    "papermill": {
     "duration": 0.046324,
     "end_time": "2025-03-25T23:44:14.443602",
     "exception": false,
     "start_time": "2025-03-25T23:44:14.397278",
     "status": "completed"
    },
    "tags": []
   },
   "outputs": [
    {
     "data": {
      "text/html": [
       "<div>\n",
       "<style scoped>\n",
       "    .dataframe tbody tr th:only-of-type {\n",
       "        vertical-align: middle;\n",
       "    }\n",
       "\n",
       "    .dataframe tbody tr th {\n",
       "        vertical-align: top;\n",
       "    }\n",
       "\n",
       "    .dataframe thead th {\n",
       "        text-align: right;\n",
       "    }\n",
       "</style>\n",
       "<table border=\"1\" class=\"dataframe\">\n",
       "  <thead>\n",
       "    <tr style=\"text-align: right;\">\n",
       "      <th></th>\n",
       "      <th>Animal ID</th>\n",
       "      <th>Name</th>\n",
       "      <th>DateTime</th>\n",
       "      <th>MonthYear</th>\n",
       "      <th>Date of Birth</th>\n",
       "      <th>Outcome Type</th>\n",
       "      <th>Outcome Subtype</th>\n",
       "      <th>Animal Type</th>\n",
       "      <th>Sex upon Outcome</th>\n",
       "      <th>Age upon Outcome</th>\n",
       "      <th>Breed</th>\n",
       "      <th>Color</th>\n",
       "    </tr>\n",
       "  </thead>\n",
       "  <tbody>\n",
       "    <tr>\n",
       "      <th>3</th>\n",
       "      <td>A821648</td>\n",
       "      <td>NaN</td>\n",
       "      <td>2020-08-16 11:38:00</td>\n",
       "      <td>2020-08-01</td>\n",
       "      <td>2019-08-16</td>\n",
       "      <td>Euthanasia</td>\n",
       "      <td>NaN</td>\n",
       "      <td>Other</td>\n",
       "      <td>Unknown</td>\n",
       "      <td>1 year</td>\n",
       "      <td>Raccoon</td>\n",
       "      <td>Gray</td>\n",
       "    </tr>\n",
       "    <tr>\n",
       "      <th>5</th>\n",
       "      <td>A674754</td>\n",
       "      <td>NaN</td>\n",
       "      <td>2014-03-18 11:47:00</td>\n",
       "      <td>2014-03-01</td>\n",
       "      <td>2014-03-12</td>\n",
       "      <td>Transfer</td>\n",
       "      <td>Partner</td>\n",
       "      <td>Cat</td>\n",
       "      <td>Intact Male</td>\n",
       "      <td>6 days</td>\n",
       "      <td>Domestic Shorthair Mix</td>\n",
       "      <td>Orange Tabby</td>\n",
       "    </tr>\n",
       "    <tr>\n",
       "      <th>8</th>\n",
       "      <td>A902098</td>\n",
       "      <td>NaN</td>\n",
       "      <td>2024-07-18 12:07:00</td>\n",
       "      <td>2024-07-01</td>\n",
       "      <td>2024-04-10</td>\n",
       "      <td>Adoption</td>\n",
       "      <td>Foster</td>\n",
       "      <td>Cat</td>\n",
       "      <td>Neutered Male</td>\n",
       "      <td>3 months</td>\n",
       "      <td>Domestic Shorthair</td>\n",
       "      <td>Blue Tabby</td>\n",
       "    </tr>\n",
       "    <tr>\n",
       "      <th>13</th>\n",
       "      <td>A888689</td>\n",
       "      <td>NaN</td>\n",
       "      <td>2023-09-14 09:22:00</td>\n",
       "      <td>2023-09-01</td>\n",
       "      <td>2020-09-11</td>\n",
       "      <td>Transfer</td>\n",
       "      <td>Snr</td>\n",
       "      <td>Cat</td>\n",
       "      <td>Intact Male</td>\n",
       "      <td>3 years</td>\n",
       "      <td>Domestic Medium Hair</td>\n",
       "      <td>Brown Tabby</td>\n",
       "    </tr>\n",
       "    <tr>\n",
       "      <th>14</th>\n",
       "      <td>A684617</td>\n",
       "      <td>NaN</td>\n",
       "      <td>2014-07-27 09:00:00</td>\n",
       "      <td>2014-07-01</td>\n",
       "      <td>2012-07-26</td>\n",
       "      <td>Transfer</td>\n",
       "      <td>SCRP</td>\n",
       "      <td>Cat</td>\n",
       "      <td>Intact Female</td>\n",
       "      <td>2 years</td>\n",
       "      <td>Domestic Shorthair Mix</td>\n",
       "      <td>Black</td>\n",
       "    </tr>\n",
       "    <tr>\n",
       "      <th>...</th>\n",
       "      <td>...</td>\n",
       "      <td>...</td>\n",
       "      <td>...</td>\n",
       "      <td>...</td>\n",
       "      <td>...</td>\n",
       "      <td>...</td>\n",
       "      <td>...</td>\n",
       "      <td>...</td>\n",
       "      <td>...</td>\n",
       "      <td>...</td>\n",
       "      <td>...</td>\n",
       "      <td>...</td>\n",
       "    </tr>\n",
       "    <tr>\n",
       "      <th>172105</th>\n",
       "      <td>A925579</td>\n",
       "      <td>NaN</td>\n",
       "      <td>2025-03-07 11:18:00</td>\n",
       "      <td>2025-03-01</td>\n",
       "      <td>2023-02-26</td>\n",
       "      <td>Transfer</td>\n",
       "      <td>Partner</td>\n",
       "      <td>Dog</td>\n",
       "      <td>Intact Male</td>\n",
       "      <td>2 years</td>\n",
       "      <td>Shih Tzu</td>\n",
       "      <td>White/Black</td>\n",
       "    </tr>\n",
       "    <tr>\n",
       "      <th>172106</th>\n",
       "      <td>A922138</td>\n",
       "      <td>NaN</td>\n",
       "      <td>2025-03-07 11:14:00</td>\n",
       "      <td>2025-03-01</td>\n",
       "      <td>2024-01-24</td>\n",
       "      <td>Adoption</td>\n",
       "      <td>Foster</td>\n",
       "      <td>Cat</td>\n",
       "      <td>Spayed Female</td>\n",
       "      <td>1 year</td>\n",
       "      <td>Domestic Shorthair</td>\n",
       "      <td>Tortie</td>\n",
       "    </tr>\n",
       "    <tr>\n",
       "      <th>172107</th>\n",
       "      <td>A925987</td>\n",
       "      <td>NaN</td>\n",
       "      <td>2025-03-07 11:16:00</td>\n",
       "      <td>2025-03-01</td>\n",
       "      <td>2024-03-03</td>\n",
       "      <td>Transfer</td>\n",
       "      <td>Partner</td>\n",
       "      <td>Dog</td>\n",
       "      <td>Intact Male</td>\n",
       "      <td>1 year</td>\n",
       "      <td>Lhasa Apso</td>\n",
       "      <td>Black/Brown</td>\n",
       "    </tr>\n",
       "    <tr>\n",
       "      <th>172109</th>\n",
       "      <td>A925959</td>\n",
       "      <td>NaN</td>\n",
       "      <td>2025-03-07 11:24:00</td>\n",
       "      <td>2025-03-01</td>\n",
       "      <td>2021-03-03</td>\n",
       "      <td>Transfer</td>\n",
       "      <td>Partner</td>\n",
       "      <td>Dog</td>\n",
       "      <td>Intact Male</td>\n",
       "      <td>4 years</td>\n",
       "      <td>Dachshund/Chihuahua Shorthair</td>\n",
       "      <td>Black/White</td>\n",
       "    </tr>\n",
       "    <tr>\n",
       "      <th>172112</th>\n",
       "      <td>A926089</td>\n",
       "      <td>NaN</td>\n",
       "      <td>2025-03-07 13:48:00</td>\n",
       "      <td>2025-03-01</td>\n",
       "      <td>2014-03-05</td>\n",
       "      <td>Transfer</td>\n",
       "      <td>Partner</td>\n",
       "      <td>Dog</td>\n",
       "      <td>Intact Female</td>\n",
       "      <td>11 years</td>\n",
       "      <td>Toy Poodle</td>\n",
       "      <td>White</td>\n",
       "    </tr>\n",
       "  </tbody>\n",
       "</table>\n",
       "<p>49268 rows × 12 columns</p>\n",
       "</div>"
      ],
      "text/plain": [
       "       Animal ID Name            DateTime  MonthYear Date of Birth  \\\n",
       "3        A821648  NaN 2020-08-16 11:38:00 2020-08-01    2019-08-16   \n",
       "5        A674754  NaN 2014-03-18 11:47:00 2014-03-01    2014-03-12   \n",
       "8        A902098  NaN 2024-07-18 12:07:00 2024-07-01    2024-04-10   \n",
       "13       A888689  NaN 2023-09-14 09:22:00 2023-09-01    2020-09-11   \n",
       "14       A684617  NaN 2014-07-27 09:00:00 2014-07-01    2012-07-26   \n",
       "...          ...  ...                 ...        ...           ...   \n",
       "172105   A925579  NaN 2025-03-07 11:18:00 2025-03-01    2023-02-26   \n",
       "172106   A922138  NaN 2025-03-07 11:14:00 2025-03-01    2024-01-24   \n",
       "172107   A925987  NaN 2025-03-07 11:16:00 2025-03-01    2024-03-03   \n",
       "172109   A925959  NaN 2025-03-07 11:24:00 2025-03-01    2021-03-03   \n",
       "172112   A926089  NaN 2025-03-07 13:48:00 2025-03-01    2014-03-05   \n",
       "\n",
       "       Outcome Type Outcome Subtype Animal Type Sex upon Outcome  \\\n",
       "3        Euthanasia             NaN       Other          Unknown   \n",
       "5          Transfer         Partner         Cat      Intact Male   \n",
       "8          Adoption          Foster         Cat    Neutered Male   \n",
       "13         Transfer             Snr         Cat      Intact Male   \n",
       "14         Transfer            SCRP         Cat    Intact Female   \n",
       "...             ...             ...         ...              ...   \n",
       "172105     Transfer         Partner         Dog      Intact Male   \n",
       "172106     Adoption          Foster         Cat    Spayed Female   \n",
       "172107     Transfer         Partner         Dog      Intact Male   \n",
       "172109     Transfer         Partner         Dog      Intact Male   \n",
       "172112     Transfer         Partner         Dog    Intact Female   \n",
       "\n",
       "       Age upon Outcome                          Breed         Color  \n",
       "3                1 year                        Raccoon          Gray  \n",
       "5                6 days         Domestic Shorthair Mix  Orange Tabby  \n",
       "8              3 months             Domestic Shorthair    Blue Tabby  \n",
       "13              3 years           Domestic Medium Hair   Brown Tabby  \n",
       "14              2 years         Domestic Shorthair Mix         Black  \n",
       "...                 ...                            ...           ...  \n",
       "172105          2 years                       Shih Tzu   White/Black  \n",
       "172106           1 year             Domestic Shorthair        Tortie  \n",
       "172107           1 year                     Lhasa Apso   Black/Brown  \n",
       "172109          4 years  Dachshund/Chihuahua Shorthair   Black/White  \n",
       "172112         11 years                     Toy Poodle         White  \n",
       "\n",
       "[49268 rows x 12 columns]"
      ]
     },
     "execution_count": 5,
     "metadata": {},
     "output_type": "execute_result"
    }
   ],
   "source": [
    "df[df['Name'].isna()]"
   ]
  },
  {
   "cell_type": "code",
   "execution_count": 6,
   "id": "9ce1ef2d",
   "metadata": {
    "execution": {
     "iopub.execute_input": "2025-03-25T23:44:14.461103Z",
     "iopub.status.busy": "2025-03-25T23:44:14.460662Z",
     "iopub.status.idle": "2025-03-25T23:44:14.478708Z",
     "shell.execute_reply": "2025-03-25T23:44:14.477680Z"
    },
    "papermill": {
     "duration": 0.028557,
     "end_time": "2025-03-25T23:44:14.480439",
     "exception": false,
     "start_time": "2025-03-25T23:44:14.451882",
     "status": "completed"
    },
    "tags": []
   },
   "outputs": [
    {
     "name": "stderr",
     "output_type": "stream",
     "text": [
      "<ipython-input-6-c9c58b5c4e5b>:1: FutureWarning: A value is trying to be set on a copy of a DataFrame or Series through chained assignment using an inplace method.\n",
      "The behavior will change in pandas 3.0. This inplace method will never work because the intermediate object on which we are setting values always behaves as a copy.\n",
      "\n",
      "For example, when doing 'df[col].method(value, inplace=True)', try using 'df.method({col: value}, inplace=True)' or df[col] = df[col].method(value) instead, to perform the operation inplace on the original object.\n",
      "\n",
      "\n",
      "  df['Name'].fillna('Unknown', inplace=True)\n"
     ]
    }
   ],
   "source": [
    "df['Name'].fillna('Unknown', inplace=True)"
   ]
  },
  {
   "cell_type": "markdown",
   "id": "d9a8b132",
   "metadata": {
    "papermill": {
     "duration": 0.008564,
     "end_time": "2025-03-25T23:44:14.497684",
     "exception": false,
     "start_time": "2025-03-25T23:44:14.489120",
     "status": "completed"
    },
    "tags": []
   },
   "source": [
    "Let's calculate age manually using 'DateTime' and 'Date of Birth'"
   ]
  },
  {
   "cell_type": "code",
   "execution_count": 7,
   "id": "8a790c5c",
   "metadata": {
    "execution": {
     "iopub.execute_input": "2025-03-25T23:44:14.516689Z",
     "iopub.status.busy": "2025-03-25T23:44:14.516334Z",
     "iopub.status.idle": "2025-03-25T23:44:17.167845Z",
     "shell.execute_reply": "2025-03-25T23:44:17.166800Z"
    },
    "papermill": {
     "duration": 2.663044,
     "end_time": "2025-03-25T23:44:17.169796",
     "exception": false,
     "start_time": "2025-03-25T23:44:14.506752",
     "status": "completed"
    },
    "tags": []
   },
   "outputs": [],
   "source": [
    "df['age_upon_outcome_days'] = (df['DateTime'] - df['Date of Birth']).dt.days\n",
    "df['age_upon_outcome_days'].describe()\n",
    "\n",
    "def fix_negative_age(row):\n",
    "    return max(row.age_upon_outcome_days, 0)\n",
    "\n",
    "df['age_upon_outcome_days'] = df.apply(fix_negative_age, axis='columns')"
   ]
  },
  {
   "cell_type": "markdown",
   "id": "27f1ba86",
   "metadata": {
    "papermill": {
     "duration": 0.008109,
     "end_time": "2025-03-25T23:44:17.186607",
     "exception": false,
     "start_time": "2025-03-25T23:44:17.178498",
     "status": "completed"
    },
    "tags": []
   },
   "source": [
    "1. How many total records (animals) are in the dataset?\n",
    "2. What are the most common animal types?\n",
    "3. What are the most common breeds for dogs and cats?\n",
    "4. What are the busiest months for animal intakes?\n",
    "5. Has the number of adoptions changed over time?\n",
    "6. What are the most common outcomes for animals?\n",
    "7. Do certain breeds have higher adoption rates?\n",
    "8. Do younger animals get adopted more quickly?\n",
    "9. Are certain zip codes associated with more intakes or adoptions?\n",
    "10. How long do animals typically stay in the shelter before adoption?"
   ]
  },
  {
   "cell_type": "markdown",
   "id": "390da6a3",
   "metadata": {
    "papermill": {
     "duration": 0.00788,
     "end_time": "2025-03-25T23:44:17.203194",
     "exception": false,
     "start_time": "2025-03-25T23:44:17.195314",
     "status": "completed"
    },
    "tags": []
   },
   "source": [
    "How many total records/animals are in the dataset?\n",
    "172113 records, 154722 unique animals"
   ]
  },
  {
   "cell_type": "code",
   "execution_count": 8,
   "id": "108b2f42",
   "metadata": {
    "execution": {
     "iopub.execute_input": "2025-03-25T23:44:17.221642Z",
     "iopub.status.busy": "2025-03-25T23:44:17.221289Z",
     "iopub.status.idle": "2025-03-25T23:44:17.380251Z",
     "shell.execute_reply": "2025-03-25T23:44:17.379058Z"
    },
    "papermill": {
     "duration": 0.17066,
     "end_time": "2025-03-25T23:44:17.382305",
     "exception": false,
     "start_time": "2025-03-25T23:44:17.211645",
     "status": "completed"
    },
    "tags": []
   },
   "outputs": [
    {
     "data": {
      "text/plain": [
       "count      172113\n",
       "unique     154722\n",
       "top       A721033\n",
       "freq           33\n",
       "Name: Animal ID, dtype: object"
      ]
     },
     "execution_count": 8,
     "metadata": {},
     "output_type": "execute_result"
    }
   ],
   "source": [
    "df['Animal ID'].describe()"
   ]
  },
  {
   "cell_type": "markdown",
   "id": "f1c9c197",
   "metadata": {
    "papermill": {
     "duration": 0.007786,
     "end_time": "2025-03-25T23:44:17.398642",
     "exception": false,
     "start_time": "2025-03-25T23:44:17.390856",
     "status": "completed"
    },
    "tags": []
   },
   "source": [
    "2. What are the most common animal types?\n"
   ]
  },
  {
   "cell_type": "code",
   "execution_count": 9,
   "id": "c3eb8531",
   "metadata": {
    "execution": {
     "iopub.execute_input": "2025-03-25T23:44:17.416217Z",
     "iopub.status.busy": "2025-03-25T23:44:17.415829Z",
     "iopub.status.idle": "2025-03-25T23:44:17.435120Z",
     "shell.execute_reply": "2025-03-25T23:44:17.434053Z"
    },
    "papermill": {
     "duration": 0.03,
     "end_time": "2025-03-25T23:44:17.436788",
     "exception": false,
     "start_time": "2025-03-25T23:44:17.406788",
     "status": "completed"
    },
    "tags": []
   },
   "outputs": [
    {
     "data": {
      "text/plain": [
       "Animal Type\n",
       "Dog          93718\n",
       "Cat          68652\n",
       "Other         8839\n",
       "Bird           870\n",
       "Livestock       34\n",
       "Name: count, dtype: int64"
      ]
     },
     "execution_count": 9,
     "metadata": {},
     "output_type": "execute_result"
    }
   ],
   "source": [
    "df['Animal Type'].value_counts()"
   ]
  },
  {
   "cell_type": "code",
   "execution_count": 10,
   "id": "59c967bb",
   "metadata": {
    "execution": {
     "iopub.execute_input": "2025-03-25T23:44:17.455115Z",
     "iopub.status.busy": "2025-03-25T23:44:17.454645Z",
     "iopub.status.idle": "2025-03-25T23:44:17.482283Z",
     "shell.execute_reply": "2025-03-25T23:44:17.480813Z"
    },
    "papermill": {
     "duration": 0.038777,
     "end_time": "2025-03-25T23:44:17.484179",
     "exception": false,
     "start_time": "2025-03-25T23:44:17.445402",
     "status": "completed"
    },
    "tags": []
   },
   "outputs": [
    {
     "data": {
      "text/plain": [
       "Breed\n",
       "Bat                    2293\n",
       "Bat Mix                1756\n",
       "Raccoon                 814\n",
       "Guinea Pig              542\n",
       "Raccoon Mix             539\n",
       "                       ... \n",
       "Britannia Petit Mix       1\n",
       "Angora-Satin Mix          1\n",
       "Polish Mix                1\n",
       "Chinchilla-Amer           1\n",
       "Rhinelander Mix           1\n",
       "Name: count, Length: 138, dtype: int64"
      ]
     },
     "execution_count": 10,
     "metadata": {},
     "output_type": "execute_result"
    }
   ],
   "source": [
    "df[df['Animal Type'] == 'Other']['Breed'].value_counts()"
   ]
  },
  {
   "cell_type": "markdown",
   "id": "b325e153",
   "metadata": {
    "papermill": {
     "duration": 0.008132,
     "end_time": "2025-03-25T23:44:17.501052",
     "exception": false,
     "start_time": "2025-03-25T23:44:17.492920",
     "status": "completed"
    },
    "tags": []
   },
   "source": [
    "3. What are the most common breeds for dogs and cats?"
   ]
  },
  {
   "cell_type": "code",
   "execution_count": 11,
   "id": "8a58137b",
   "metadata": {
    "execution": {
     "iopub.execute_input": "2025-03-25T23:44:17.518887Z",
     "iopub.status.busy": "2025-03-25T23:44:17.518563Z",
     "iopub.status.idle": "2025-03-25T23:44:17.562151Z",
     "shell.execute_reply": "2025-03-25T23:44:17.561010Z"
    },
    "papermill": {
     "duration": 0.054478,
     "end_time": "2025-03-25T23:44:17.563836",
     "exception": false,
     "start_time": "2025-03-25T23:44:17.509358",
     "status": "completed"
    },
    "tags": []
   },
   "outputs": [
    {
     "data": {
      "text/plain": [
       "Breed\n",
       "Pit Bull Mix                              10113\n",
       "Labrador Retriever Mix                     8734\n",
       "Chihuahua Shorthair Mix                    6901\n",
       "German Shepherd Mix                        4038\n",
       "Pit Bull                                   3341\n",
       "                                          ...  \n",
       "Labrador Retriever/Saluki                     1\n",
       "Bull Terrier Miniature/German Shepherd        1\n",
       "Basset Hound/Beauceron                        1\n",
       "Boxer/American Pit Bull Terrier               1\n",
       "Doberman Pinsch/Alaskan Husky                 1\n",
       "Name: count, Length: 2639, dtype: int64"
      ]
     },
     "execution_count": 11,
     "metadata": {},
     "output_type": "execute_result"
    }
   ],
   "source": [
    "df[df['Animal Type'] == 'Dog']['Breed'].value_counts()"
   ]
  },
  {
   "cell_type": "code",
   "execution_count": 12,
   "id": "5db277d8",
   "metadata": {
    "execution": {
     "iopub.execute_input": "2025-03-25T23:44:17.582665Z",
     "iopub.status.busy": "2025-03-25T23:44:17.582320Z",
     "iopub.status.idle": "2025-03-25T23:44:17.621022Z",
     "shell.execute_reply": "2025-03-25T23:44:17.619810Z"
    },
    "papermill": {
     "duration": 0.050467,
     "end_time": "2025-03-25T23:44:17.623134",
     "exception": false,
     "start_time": "2025-03-25T23:44:17.572667",
     "status": "completed"
    },
    "tags": []
   },
   "outputs": [
    {
     "data": {
      "text/plain": [
       "Breed\n",
       "Domestic Shorthair Mix                      34026\n",
       "Domestic Shorthair                          23197\n",
       "Domestic Medium Hair Mix                     3376\n",
       "Domestic Medium Hair                         2068\n",
       "Domestic Longhair Mix                        1687\n",
       "                                            ...  \n",
       "Japanese Bobtail/American Curl Shorthair        1\n",
       "Savannah                                        1\n",
       "Domestic Shorthair/Bengal                       1\n",
       "Turkish Angora                                  1\n",
       "Bombay                                          1\n",
       "Name: count, Length: 110, dtype: int64"
      ]
     },
     "execution_count": 12,
     "metadata": {},
     "output_type": "execute_result"
    }
   ],
   "source": [
    "df[df['Animal Type'] == 'Cat']['Breed'].value_counts()"
   ]
  },
  {
   "cell_type": "markdown",
   "id": "6e464717",
   "metadata": {
    "papermill": {
     "duration": 0.008283,
     "end_time": "2025-03-25T23:44:17.642096",
     "exception": false,
     "start_time": "2025-03-25T23:44:17.633813",
     "status": "completed"
    },
    "tags": []
   },
   "source": [
    "4. What are the busiest months for animal intakes?\n"
   ]
  },
  {
   "cell_type": "code",
   "execution_count": 13,
   "id": "01cc16d8",
   "metadata": {
    "execution": {
     "iopub.execute_input": "2025-03-25T23:44:17.660460Z",
     "iopub.status.busy": "2025-03-25T23:44:17.660104Z",
     "iopub.status.idle": "2025-03-25T23:44:17.682484Z",
     "shell.execute_reply": "2025-03-25T23:44:17.681527Z"
    },
    "papermill": {
     "duration": 0.033983,
     "end_time": "2025-03-25T23:44:17.684518",
     "exception": false,
     "start_time": "2025-03-25T23:44:17.650535",
     "status": "completed"
    },
    "tags": []
   },
   "outputs": [],
   "source": [
    "df['outcome_month'] = df['MonthYear'].dt.month\n",
    "df['outcome_year'] = df['MonthYear'].dt.year"
   ]
  },
  {
   "cell_type": "code",
   "execution_count": 14,
   "id": "33f1cb24",
   "metadata": {
    "execution": {
     "iopub.execute_input": "2025-03-25T23:44:17.703652Z",
     "iopub.status.busy": "2025-03-25T23:44:17.703318Z",
     "iopub.status.idle": "2025-03-25T23:44:17.714552Z",
     "shell.execute_reply": "2025-03-25T23:44:17.713285Z"
    },
    "papermill": {
     "duration": 0.023099,
     "end_time": "2025-03-25T23:44:17.716399",
     "exception": false,
     "start_time": "2025-03-25T23:44:17.693300",
     "status": "completed"
    },
    "tags": []
   },
   "outputs": [
    {
     "data": {
      "text/plain": [
       "outcome_month\n",
       "7     16507\n",
       "6     16295\n",
       "8     16062\n",
       "10    15705\n",
       "9     14627\n",
       "5     14598\n",
       "12    14392\n",
       "11    13929\n",
       "1     13273\n",
       "3     12800\n",
       "4     12177\n",
       "2     11748\n",
       "Name: count, dtype: int64"
      ]
     },
     "execution_count": 14,
     "metadata": {},
     "output_type": "execute_result"
    }
   ],
   "source": [
    "df['outcome_month'].value_counts()"
   ]
  },
  {
   "cell_type": "code",
   "execution_count": 15,
   "id": "d6c00e7e",
   "metadata": {
    "execution": {
     "iopub.execute_input": "2025-03-25T23:44:17.735523Z",
     "iopub.status.busy": "2025-03-25T23:44:17.735192Z",
     "iopub.status.idle": "2025-03-25T23:44:17.744357Z",
     "shell.execute_reply": "2025-03-25T23:44:17.743273Z"
    },
    "papermill": {
     "duration": 0.020501,
     "end_time": "2025-03-25T23:44:17.746020",
     "exception": false,
     "start_time": "2025-03-25T23:44:17.725519",
     "status": "completed"
    },
    "tags": []
   },
   "outputs": [
    {
     "data": {
      "text/plain": [
       "outcome_year\n",
       "2019    19775\n",
       "2014    18709\n",
       "2015    18506\n",
       "2016    17670\n",
       "2017    17657\n",
       "2018    16741\n",
       "2021    11967\n",
       "2022    11886\n",
       "2024    11822\n",
       "2023    11151\n",
       "2020     9778\n",
       "2013     4505\n",
       "2025     1946\n",
       "Name: count, dtype: int64"
      ]
     },
     "execution_count": 15,
     "metadata": {},
     "output_type": "execute_result"
    }
   ],
   "source": [
    "df['outcome_year'].value_counts()"
   ]
  },
  {
   "cell_type": "markdown",
   "id": "20382c53",
   "metadata": {
    "papermill": {
     "duration": 0.008493,
     "end_time": "2025-03-25T23:44:17.763554",
     "exception": false,
     "start_time": "2025-03-25T23:44:17.755061",
     "status": "completed"
    },
    "tags": []
   },
   "source": [
    "Why was 2013 so low? First year of data collection?"
   ]
  },
  {
   "cell_type": "markdown",
   "id": "97aafadc",
   "metadata": {
    "papermill": {
     "duration": 0.00833,
     "end_time": "2025-03-25T23:44:17.780685",
     "exception": false,
     "start_time": "2025-03-25T23:44:17.772355",
     "status": "completed"
    },
    "tags": []
   },
   "source": [
    "What are the most common outcomes for animals?"
   ]
  },
  {
   "cell_type": "code",
   "execution_count": 16,
   "id": "bef35a75",
   "metadata": {
    "execution": {
     "iopub.execute_input": "2025-03-25T23:44:17.799459Z",
     "iopub.status.busy": "2025-03-25T23:44:17.799115Z",
     "iopub.status.idle": "2025-03-25T23:44:17.818449Z",
     "shell.execute_reply": "2025-03-25T23:44:17.817330Z"
    },
    "papermill": {
     "duration": 0.030908,
     "end_time": "2025-03-25T23:44:17.820478",
     "exception": false,
     "start_time": "2025-03-25T23:44:17.789570",
     "status": "completed"
    },
    "tags": []
   },
   "outputs": [
    {
     "data": {
      "text/plain": [
       "Outcome Type\n",
       "Adoption           83709\n",
       "Transfer           48264\n",
       "Return to Owner    25529\n",
       "Euthanasia         10686\n",
       "Died                1658\n",
       "Rto-Adopt           1230\n",
       "Disposal             868\n",
       "Missing               92\n",
       "Relocate              28\n",
       "Stolen                 5\n",
       "Lost                   2\n",
       "Name: count, dtype: int64"
      ]
     },
     "execution_count": 16,
     "metadata": {},
     "output_type": "execute_result"
    }
   ],
   "source": [
    "df['Outcome Type'].value_counts()"
   ]
  },
  {
   "cell_type": "markdown",
   "id": "cee96ab0",
   "metadata": {
    "papermill": {
     "duration": 0.008722,
     "end_time": "2025-03-25T23:44:17.838316",
     "exception": false,
     "start_time": "2025-03-25T23:44:17.829594",
     "status": "completed"
    },
    "tags": []
   },
   "source": [
    "7. Do certain breeds have higher adoption rates?"
   ]
  },
  {
   "cell_type": "code",
   "execution_count": 17,
   "id": "721551f8",
   "metadata": {
    "execution": {
     "iopub.execute_input": "2025-03-25T23:44:17.857407Z",
     "iopub.status.busy": "2025-03-25T23:44:17.857024Z",
     "iopub.status.idle": "2025-03-25T23:44:18.246178Z",
     "shell.execute_reply": "2025-03-25T23:44:18.244940Z"
    },
    "papermill": {
     "duration": 0.40064,
     "end_time": "2025-03-25T23:44:18.247863",
     "exception": false,
     "start_time": "2025-03-25T23:44:17.847223",
     "status": "completed"
    },
    "tags": []
   },
   "outputs": [
    {
     "data": {
      "text/plain": [
       "Breed\n",
       "Yorkshire Terrier/Yorkshire Terrier          100.0\n",
       "Harrier/Anatol Shepherd                      100.0\n",
       "Border Terrier/Dachshund Wirehair            100.0\n",
       "Border Terrier/Jack Russell Terrier          100.0\n",
       "Greyhound/Weimaraner                         100.0\n",
       "                                             ...  \n",
       "Irish Wolfhound/Australian Shepherd            0.0\n",
       "Irish Wolfhound/American Pit Bull Terrier      0.0\n",
       "Rabbit Sh/Lop-Mini                             0.0\n",
       "Raccoon                                        0.0\n",
       "Maltese/Shih Tzu                               0.0\n",
       "Name: Outcome Type, Length: 2990, dtype: float64"
      ]
     },
     "execution_count": 17,
     "metadata": {},
     "output_type": "execute_result"
    }
   ],
   "source": [
    "df.groupby('Breed')['Outcome Type'].apply(lambda x: (x=='Adoption').mean() * 100).sort_values(ascending=False)"
   ]
  },
  {
   "cell_type": "code",
   "execution_count": 18,
   "id": "2d6855a1",
   "metadata": {
    "execution": {
     "iopub.execute_input": "2025-03-25T23:44:18.268130Z",
     "iopub.status.busy": "2025-03-25T23:44:18.267732Z",
     "iopub.status.idle": "2025-03-25T23:44:18.357091Z",
     "shell.execute_reply": "2025-03-25T23:44:18.355841Z"
    },
    "papermill": {
     "duration": 0.101577,
     "end_time": "2025-03-25T23:44:18.358886",
     "exception": false,
     "start_time": "2025-03-25T23:44:18.257309",
     "status": "completed"
    },
    "tags": []
   },
   "outputs": [
    {
     "data": {
      "text/html": [
       "<div>\n",
       "<style scoped>\n",
       "    .dataframe tbody tr th:only-of-type {\n",
       "        vertical-align: middle;\n",
       "    }\n",
       "\n",
       "    .dataframe tbody tr th {\n",
       "        vertical-align: top;\n",
       "    }\n",
       "\n",
       "    .dataframe thead th {\n",
       "        text-align: right;\n",
       "    }\n",
       "</style>\n",
       "<table border=\"1\" class=\"dataframe\">\n",
       "  <thead>\n",
       "    <tr style=\"text-align: right;\">\n",
       "      <th></th>\n",
       "      <th>total_count</th>\n",
       "      <th>adopt_perc</th>\n",
       "    </tr>\n",
       "    <tr>\n",
       "      <th>Breed</th>\n",
       "      <th></th>\n",
       "      <th></th>\n",
       "    </tr>\n",
       "  </thead>\n",
       "  <tbody>\n",
       "    <tr>\n",
       "      <th>Domestic Medium Hair</th>\n",
       "      <td>2068</td>\n",
       "      <td>62.185687</td>\n",
       "    </tr>\n",
       "    <tr>\n",
       "      <th>Australian Cattle Dog Mix</th>\n",
       "      <td>1982</td>\n",
       "      <td>58.779011</td>\n",
       "    </tr>\n",
       "    <tr>\n",
       "      <th>German Shepherd</th>\n",
       "      <td>1791</td>\n",
       "      <td>58.179788</td>\n",
       "    </tr>\n",
       "    <tr>\n",
       "      <th>Domestic Shorthair</th>\n",
       "      <td>23197</td>\n",
       "      <td>57.938527</td>\n",
       "    </tr>\n",
       "    <tr>\n",
       "      <th>German Shepherd Mix</th>\n",
       "      <td>4038</td>\n",
       "      <td>56.488361</td>\n",
       "    </tr>\n",
       "    <tr>\n",
       "      <th>Labrador Retriever Mix</th>\n",
       "      <td>8734</td>\n",
       "      <td>55.598809</td>\n",
       "    </tr>\n",
       "    <tr>\n",
       "      <th>Labrador Retriever</th>\n",
       "      <td>1998</td>\n",
       "      <td>51.251251</td>\n",
       "    </tr>\n",
       "    <tr>\n",
       "      <th>Pit Bull</th>\n",
       "      <td>3341</td>\n",
       "      <td>51.032625</td>\n",
       "    </tr>\n",
       "    <tr>\n",
       "      <th>Domestic Medium Hair Mix</th>\n",
       "      <td>3376</td>\n",
       "      <td>49.822275</td>\n",
       "    </tr>\n",
       "    <tr>\n",
       "      <th>Chihuahua Shorthair Mix</th>\n",
       "      <td>6901</td>\n",
       "      <td>48.079988</td>\n",
       "    </tr>\n",
       "    <tr>\n",
       "      <th>Chihuahua Shorthair</th>\n",
       "      <td>1981</td>\n",
       "      <td>46.744069</td>\n",
       "    </tr>\n",
       "    <tr>\n",
       "      <th>Domestic Shorthair Mix</th>\n",
       "      <td>34026</td>\n",
       "      <td>46.299888</td>\n",
       "    </tr>\n",
       "    <tr>\n",
       "      <th>Pit Bull Mix</th>\n",
       "      <td>10113</td>\n",
       "      <td>43.004054</td>\n",
       "    </tr>\n",
       "    <tr>\n",
       "      <th>Bat</th>\n",
       "      <td>2293</td>\n",
       "      <td>0.000000</td>\n",
       "    </tr>\n",
       "    <tr>\n",
       "      <th>Bat Mix</th>\n",
       "      <td>1756</td>\n",
       "      <td>0.000000</td>\n",
       "    </tr>\n",
       "  </tbody>\n",
       "</table>\n",
       "</div>"
      ],
      "text/plain": [
       "                           total_count  adopt_perc\n",
       "Breed                                             \n",
       "Domestic Medium Hair              2068   62.185687\n",
       "Australian Cattle Dog Mix         1982   58.779011\n",
       "German Shepherd                   1791   58.179788\n",
       "Domestic Shorthair               23197   57.938527\n",
       "German Shepherd Mix               4038   56.488361\n",
       "Labrador Retriever Mix            8734   55.598809\n",
       "Labrador Retriever                1998   51.251251\n",
       "Pit Bull                          3341   51.032625\n",
       "Domestic Medium Hair Mix          3376   49.822275\n",
       "Chihuahua Shorthair Mix           6901   48.079988\n",
       "Chihuahua Shorthair               1981   46.744069\n",
       "Domestic Shorthair Mix           34026   46.299888\n",
       "Pit Bull Mix                     10113   43.004054\n",
       "Bat                               2293    0.000000\n",
       "Bat Mix                           1756    0.000000"
      ]
     },
     "execution_count": 18,
     "metadata": {},
     "output_type": "execute_result"
    }
   ],
   "source": [
    "breed_counts = df['Breed'].value_counts()\n",
    "popular_breeds = breed_counts[breed_counts>170000*.01].index\n",
    "df_filtered = df[df['Breed'].isin(popular_breeds)]\n",
    "df_filtered.groupby('Breed').agg( total_count=(\"Breed\", \"count\"), \n",
    "                                 adopt_perc=('Outcome Type', lambda x: (x=='Adoption').mean() * 100 )).sort_values(by='adopt_perc', ascending = False)"
   ]
  },
  {
   "cell_type": "code",
   "execution_count": 19,
   "id": "10c60006",
   "metadata": {
    "execution": {
     "iopub.execute_input": "2025-03-25T23:44:18.378914Z",
     "iopub.status.busy": "2025-03-25T23:44:18.378559Z",
     "iopub.status.idle": "2025-03-25T23:44:18.423384Z",
     "shell.execute_reply": "2025-03-25T23:44:18.422095Z"
    },
    "papermill": {
     "duration": 0.056768,
     "end_time": "2025-03-25T23:44:18.425237",
     "exception": false,
     "start_time": "2025-03-25T23:44:18.368469",
     "status": "completed"
    },
    "tags": []
   },
   "outputs": [
    {
     "data": {
      "text/html": [
       "<div>\n",
       "<style scoped>\n",
       "    .dataframe tbody tr th:only-of-type {\n",
       "        vertical-align: middle;\n",
       "    }\n",
       "\n",
       "    .dataframe tbody tr th {\n",
       "        vertical-align: top;\n",
       "    }\n",
       "\n",
       "    .dataframe thead th {\n",
       "        text-align: right;\n",
       "    }\n",
       "</style>\n",
       "<table border=\"1\" class=\"dataframe\">\n",
       "  <thead>\n",
       "    <tr style=\"text-align: right;\">\n",
       "      <th></th>\n",
       "      <th>total_count</th>\n",
       "      <th>adopt_perc</th>\n",
       "    </tr>\n",
       "    <tr>\n",
       "      <th>Breed</th>\n",
       "      <th></th>\n",
       "      <th></th>\n",
       "    </tr>\n",
       "  </thead>\n",
       "  <tbody>\n",
       "    <tr>\n",
       "      <th>Domestic Shorthair Mix</th>\n",
       "      <td>34026</td>\n",
       "      <td>46.299888</td>\n",
       "    </tr>\n",
       "    <tr>\n",
       "      <th>Domestic Shorthair</th>\n",
       "      <td>23191</td>\n",
       "      <td>57.938527</td>\n",
       "    </tr>\n",
       "    <tr>\n",
       "      <th>Pit Bull Mix</th>\n",
       "      <td>10112</td>\n",
       "      <td>43.004054</td>\n",
       "    </tr>\n",
       "    <tr>\n",
       "      <th>Labrador Retriever Mix</th>\n",
       "      <td>8733</td>\n",
       "      <td>55.598809</td>\n",
       "    </tr>\n",
       "    <tr>\n",
       "      <th>Chihuahua Shorthair Mix</th>\n",
       "      <td>6900</td>\n",
       "      <td>48.079988</td>\n",
       "    </tr>\n",
       "    <tr>\n",
       "      <th>German Shepherd Mix</th>\n",
       "      <td>4038</td>\n",
       "      <td>56.488361</td>\n",
       "    </tr>\n",
       "    <tr>\n",
       "      <th>Domestic Medium Hair Mix</th>\n",
       "      <td>3376</td>\n",
       "      <td>49.822275</td>\n",
       "    </tr>\n",
       "    <tr>\n",
       "      <th>Pit Bull</th>\n",
       "      <td>3338</td>\n",
       "      <td>51.032625</td>\n",
       "    </tr>\n",
       "    <tr>\n",
       "      <th>Bat</th>\n",
       "      <td>2292</td>\n",
       "      <td>0.000000</td>\n",
       "    </tr>\n",
       "    <tr>\n",
       "      <th>Domestic Medium Hair</th>\n",
       "      <td>2066</td>\n",
       "      <td>62.185687</td>\n",
       "    </tr>\n",
       "    <tr>\n",
       "      <th>Labrador Retriever</th>\n",
       "      <td>1998</td>\n",
       "      <td>51.251251</td>\n",
       "    </tr>\n",
       "    <tr>\n",
       "      <th>Australian Cattle Dog Mix</th>\n",
       "      <td>1982</td>\n",
       "      <td>58.779011</td>\n",
       "    </tr>\n",
       "    <tr>\n",
       "      <th>Chihuahua Shorthair</th>\n",
       "      <td>1981</td>\n",
       "      <td>46.744069</td>\n",
       "    </tr>\n",
       "    <tr>\n",
       "      <th>German Shepherd</th>\n",
       "      <td>1788</td>\n",
       "      <td>58.179788</td>\n",
       "    </tr>\n",
       "    <tr>\n",
       "      <th>Bat Mix</th>\n",
       "      <td>1754</td>\n",
       "      <td>0.000000</td>\n",
       "    </tr>\n",
       "  </tbody>\n",
       "</table>\n",
       "</div>"
      ],
      "text/plain": [
       "                           total_count  adopt_perc\n",
       "Breed                                             \n",
       "Domestic Shorthair Mix           34026   46.299888\n",
       "Domestic Shorthair               23191   57.938527\n",
       "Pit Bull Mix                     10112   43.004054\n",
       "Labrador Retriever Mix            8733   55.598809\n",
       "Chihuahua Shorthair Mix           6900   48.079988\n",
       "German Shepherd Mix               4038   56.488361\n",
       "Domestic Medium Hair Mix          3376   49.822275\n",
       "Pit Bull                          3338   51.032625\n",
       "Bat                               2292    0.000000\n",
       "Domestic Medium Hair              2066   62.185687\n",
       "Labrador Retriever                1998   51.251251\n",
       "Australian Cattle Dog Mix         1982   58.779011\n",
       "Chihuahua Shorthair               1981   46.744069\n",
       "German Shepherd                   1788   58.179788\n",
       "Bat Mix                           1754    0.000000"
      ]
     },
     "execution_count": 19,
     "metadata": {},
     "output_type": "execute_result"
    }
   ],
   "source": [
    "df_filtered.groupby('Breed').agg(total_count=('Outcome Type', 'count'), adopt_perc=('Outcome Type', lambda x: (x=='Adoption').mean() * 100)).sort_values(by='total_count', ascending=False)"
   ]
  },
  {
   "cell_type": "code",
   "execution_count": 20,
   "id": "93e17153",
   "metadata": {
    "execution": {
     "iopub.execute_input": "2025-03-25T23:44:18.446135Z",
     "iopub.status.busy": "2025-03-25T23:44:18.445749Z",
     "iopub.status.idle": "2025-03-25T23:44:18.490166Z",
     "shell.execute_reply": "2025-03-25T23:44:18.489057Z"
    },
    "papermill": {
     "duration": 0.056584,
     "end_time": "2025-03-25T23:44:18.491834",
     "exception": false,
     "start_time": "2025-03-25T23:44:18.435250",
     "status": "completed"
    },
    "tags": []
   },
   "outputs": [
    {
     "data": {
      "text/html": [
       "<div>\n",
       "<style scoped>\n",
       "    .dataframe tbody tr th:only-of-type {\n",
       "        vertical-align: middle;\n",
       "    }\n",
       "\n",
       "    .dataframe tbody tr th {\n",
       "        vertical-align: top;\n",
       "    }\n",
       "\n",
       "    .dataframe thead th {\n",
       "        text-align: right;\n",
       "    }\n",
       "</style>\n",
       "<table border=\"1\" class=\"dataframe\">\n",
       "  <thead>\n",
       "    <tr style=\"text-align: right;\">\n",
       "      <th></th>\n",
       "      <th>total_count</th>\n",
       "      <th>adopt_perc</th>\n",
       "    </tr>\n",
       "    <tr>\n",
       "      <th>Breed</th>\n",
       "      <th></th>\n",
       "      <th></th>\n",
       "    </tr>\n",
       "  </thead>\n",
       "  <tbody>\n",
       "    <tr>\n",
       "      <th>Pit Bull Mix</th>\n",
       "      <td>10112</td>\n",
       "      <td>43.004054</td>\n",
       "    </tr>\n",
       "    <tr>\n",
       "      <th>Labrador Retriever Mix</th>\n",
       "      <td>8733</td>\n",
       "      <td>55.598809</td>\n",
       "    </tr>\n",
       "    <tr>\n",
       "      <th>Chihuahua Shorthair Mix</th>\n",
       "      <td>6900</td>\n",
       "      <td>48.079988</td>\n",
       "    </tr>\n",
       "    <tr>\n",
       "      <th>German Shepherd Mix</th>\n",
       "      <td>4038</td>\n",
       "      <td>56.488361</td>\n",
       "    </tr>\n",
       "    <tr>\n",
       "      <th>Pit Bull</th>\n",
       "      <td>3338</td>\n",
       "      <td>51.032625</td>\n",
       "    </tr>\n",
       "    <tr>\n",
       "      <th>Labrador Retriever</th>\n",
       "      <td>1998</td>\n",
       "      <td>51.251251</td>\n",
       "    </tr>\n",
       "    <tr>\n",
       "      <th>Australian Cattle Dog Mix</th>\n",
       "      <td>1982</td>\n",
       "      <td>58.779011</td>\n",
       "    </tr>\n",
       "    <tr>\n",
       "      <th>Chihuahua Shorthair</th>\n",
       "      <td>1981</td>\n",
       "      <td>46.744069</td>\n",
       "    </tr>\n",
       "    <tr>\n",
       "      <th>German Shepherd</th>\n",
       "      <td>1788</td>\n",
       "      <td>58.179788</td>\n",
       "    </tr>\n",
       "  </tbody>\n",
       "</table>\n",
       "</div>"
      ],
      "text/plain": [
       "                           total_count  adopt_perc\n",
       "Breed                                             \n",
       "Pit Bull Mix                     10112   43.004054\n",
       "Labrador Retriever Mix            8733   55.598809\n",
       "Chihuahua Shorthair Mix           6900   48.079988\n",
       "German Shepherd Mix               4038   56.488361\n",
       "Pit Bull                          3338   51.032625\n",
       "Labrador Retriever                1998   51.251251\n",
       "Australian Cattle Dog Mix         1982   58.779011\n",
       "Chihuahua Shorthair               1981   46.744069\n",
       "German Shepherd                   1788   58.179788"
      ]
     },
     "execution_count": 20,
     "metadata": {},
     "output_type": "execute_result"
    }
   ],
   "source": [
    "df_filtered[df_filtered['Animal Type']=='Dog'].groupby('Breed').agg(total_count=('Outcome Type', 'count'), adopt_perc=('Outcome Type', lambda x: (x=='Adoption').mean() * 100)).sort_values(by='total_count', ascending=False)"
   ]
  },
  {
   "cell_type": "code",
   "execution_count": 21,
   "id": "b1783f46",
   "metadata": {
    "execution": {
     "iopub.execute_input": "2025-03-25T23:44:18.512821Z",
     "iopub.status.busy": "2025-03-25T23:44:18.512488Z",
     "iopub.status.idle": "2025-03-25T23:44:18.542662Z",
     "shell.execute_reply": "2025-03-25T23:44:18.541534Z"
    },
    "papermill": {
     "duration": 0.04302,
     "end_time": "2025-03-25T23:44:18.544628",
     "exception": false,
     "start_time": "2025-03-25T23:44:18.501608",
     "status": "completed"
    },
    "tags": []
   },
   "outputs": [
    {
     "data": {
      "text/html": [
       "<div>\n",
       "<style scoped>\n",
       "    .dataframe tbody tr th:only-of-type {\n",
       "        vertical-align: middle;\n",
       "    }\n",
       "\n",
       "    .dataframe tbody tr th {\n",
       "        vertical-align: top;\n",
       "    }\n",
       "\n",
       "    .dataframe thead th {\n",
       "        text-align: right;\n",
       "    }\n",
       "</style>\n",
       "<table border=\"1\" class=\"dataframe\">\n",
       "  <thead>\n",
       "    <tr style=\"text-align: right;\">\n",
       "      <th></th>\n",
       "      <th>Outcome Type</th>\n",
       "    </tr>\n",
       "  </thead>\n",
       "  <tbody>\n",
       "    <tr>\n",
       "      <th>total_count</th>\n",
       "      <td>109.000000</td>\n",
       "    </tr>\n",
       "    <tr>\n",
       "      <th>adopt_perc</th>\n",
       "      <td>51.818182</td>\n",
       "    </tr>\n",
       "  </tbody>\n",
       "</table>\n",
       "</div>"
      ],
      "text/plain": [
       "             Outcome Type\n",
       "total_count    109.000000\n",
       "adopt_perc      51.818182"
      ]
     },
     "execution_count": 21,
     "metadata": {},
     "output_type": "execute_result"
    }
   ],
   "source": [
    "df[df['Breed'] == 'Belgian Malinois'].agg(total_count=('Outcome Type', 'count'), adopt_perc=('Outcome Type', lambda x: (x=='Adoption').mean() * 100))"
   ]
  },
  {
   "cell_type": "code",
   "execution_count": 22,
   "id": "28e24e5b",
   "metadata": {
    "execution": {
     "iopub.execute_input": "2025-03-25T23:44:18.566023Z",
     "iopub.status.busy": "2025-03-25T23:44:18.565588Z",
     "iopub.status.idle": "2025-03-25T23:44:18.610216Z",
     "shell.execute_reply": "2025-03-25T23:44:18.608970Z"
    },
    "papermill": {
     "duration": 0.05738,
     "end_time": "2025-03-25T23:44:18.612087",
     "exception": false,
     "start_time": "2025-03-25T23:44:18.554707",
     "status": "completed"
    },
    "tags": []
   },
   "outputs": [
    {
     "data": {
      "text/html": [
       "<div>\n",
       "<style scoped>\n",
       "    .dataframe tbody tr th:only-of-type {\n",
       "        vertical-align: middle;\n",
       "    }\n",
       "\n",
       "    .dataframe tbody tr th {\n",
       "        vertical-align: top;\n",
       "    }\n",
       "\n",
       "    .dataframe thead th {\n",
       "        text-align: right;\n",
       "    }\n",
       "</style>\n",
       "<table border=\"1\" class=\"dataframe\">\n",
       "  <thead>\n",
       "    <tr style=\"text-align: right;\">\n",
       "      <th></th>\n",
       "      <th>total_count</th>\n",
       "      <th>adopt_perc</th>\n",
       "    </tr>\n",
       "    <tr>\n",
       "      <th>Breed</th>\n",
       "      <th></th>\n",
       "      <th></th>\n",
       "    </tr>\n",
       "  </thead>\n",
       "  <tbody>\n",
       "    <tr>\n",
       "      <th>Australian Cattle Dog Mix</th>\n",
       "      <td>1982</td>\n",
       "      <td>58.779011</td>\n",
       "    </tr>\n",
       "    <tr>\n",
       "      <th>German Shepherd</th>\n",
       "      <td>1788</td>\n",
       "      <td>58.179788</td>\n",
       "    </tr>\n",
       "    <tr>\n",
       "      <th>German Shepherd Mix</th>\n",
       "      <td>4038</td>\n",
       "      <td>56.488361</td>\n",
       "    </tr>\n",
       "    <tr>\n",
       "      <th>Labrador Retriever Mix</th>\n",
       "      <td>8733</td>\n",
       "      <td>55.598809</td>\n",
       "    </tr>\n",
       "    <tr>\n",
       "      <th>Labrador Retriever</th>\n",
       "      <td>1998</td>\n",
       "      <td>51.251251</td>\n",
       "    </tr>\n",
       "    <tr>\n",
       "      <th>Pit Bull</th>\n",
       "      <td>3338</td>\n",
       "      <td>51.032625</td>\n",
       "    </tr>\n",
       "    <tr>\n",
       "      <th>Chihuahua Shorthair Mix</th>\n",
       "      <td>6900</td>\n",
       "      <td>48.079988</td>\n",
       "    </tr>\n",
       "    <tr>\n",
       "      <th>Chihuahua Shorthair</th>\n",
       "      <td>1981</td>\n",
       "      <td>46.744069</td>\n",
       "    </tr>\n",
       "    <tr>\n",
       "      <th>Pit Bull Mix</th>\n",
       "      <td>10112</td>\n",
       "      <td>43.004054</td>\n",
       "    </tr>\n",
       "  </tbody>\n",
       "</table>\n",
       "</div>"
      ],
      "text/plain": [
       "                           total_count  adopt_perc\n",
       "Breed                                             \n",
       "Australian Cattle Dog Mix         1982   58.779011\n",
       "German Shepherd                   1788   58.179788\n",
       "German Shepherd Mix               4038   56.488361\n",
       "Labrador Retriever Mix            8733   55.598809\n",
       "Labrador Retriever                1998   51.251251\n",
       "Pit Bull                          3338   51.032625\n",
       "Chihuahua Shorthair Mix           6900   48.079988\n",
       "Chihuahua Shorthair               1981   46.744069\n",
       "Pit Bull Mix                     10112   43.004054"
      ]
     },
     "execution_count": 22,
     "metadata": {},
     "output_type": "execute_result"
    }
   ],
   "source": [
    "df_filtered[df_filtered['Animal Type']=='Dog'].groupby('Breed').agg(total_count=('Outcome Type', 'count'), adopt_perc=('Outcome Type', lambda x: (x=='Adoption').mean() * 100)).sort_values(by='adopt_perc', ascending=False)"
   ]
  },
  {
   "cell_type": "markdown",
   "id": "0d7e97e8",
   "metadata": {
    "papermill": {
     "duration": 0.011059,
     "end_time": "2025-03-25T23:44:18.633863",
     "exception": false,
     "start_time": "2025-03-25T23:44:18.622804",
     "status": "completed"
    },
    "tags": []
   },
   "source": [
    "What is a good cutoff for filtering?"
   ]
  },
  {
   "cell_type": "markdown",
   "id": "bf5e1ee2",
   "metadata": {
    "papermill": {
     "duration": 0.009607,
     "end_time": "2025-03-25T23:44:18.653802",
     "exception": false,
     "start_time": "2025-03-25T23:44:18.644195",
     "status": "completed"
    },
    "tags": []
   },
   "source": [
    "8. Do younger animals get adopted more quickly?\n",
    "9. Are certain zip codes associated with more intakes or adoptions?\n",
    "10. How long do animals typically stay in the shelter before adoption?"
   ]
  },
  {
   "cell_type": "code",
   "execution_count": 23,
   "id": "1c4d730d",
   "metadata": {
    "execution": {
     "iopub.execute_input": "2025-03-25T23:44:18.674820Z",
     "iopub.status.busy": "2025-03-25T23:44:18.674485Z",
     "iopub.status.idle": "2025-03-25T23:44:18.739825Z",
     "shell.execute_reply": "2025-03-25T23:44:18.738684Z"
    },
    "papermill": {
     "duration": 0.077957,
     "end_time": "2025-03-25T23:44:18.741602",
     "exception": false,
     "start_time": "2025-03-25T23:44:18.663645",
     "status": "completed"
    },
    "tags": []
   },
   "outputs": [
    {
     "data": {
      "text/html": [
       "<div>\n",
       "<style scoped>\n",
       "    .dataframe tbody tr th:only-of-type {\n",
       "        vertical-align: middle;\n",
       "    }\n",
       "\n",
       "    .dataframe tbody tr th {\n",
       "        vertical-align: top;\n",
       "    }\n",
       "\n",
       "    .dataframe thead th {\n",
       "        text-align: right;\n",
       "    }\n",
       "</style>\n",
       "<table border=\"1\" class=\"dataframe\">\n",
       "  <thead>\n",
       "    <tr style=\"text-align: right;\">\n",
       "      <th></th>\n",
       "      <th>count</th>\n",
       "      <th>mean</th>\n",
       "      <th>std</th>\n",
       "      <th>min</th>\n",
       "      <th>25%</th>\n",
       "      <th>50%</th>\n",
       "      <th>75%</th>\n",
       "      <th>max</th>\n",
       "    </tr>\n",
       "    <tr>\n",
       "      <th>Outcome Type</th>\n",
       "      <th></th>\n",
       "      <th></th>\n",
       "      <th></th>\n",
       "      <th></th>\n",
       "      <th></th>\n",
       "      <th></th>\n",
       "      <th></th>\n",
       "      <th></th>\n",
       "    </tr>\n",
       "  </thead>\n",
       "  <tbody>\n",
       "    <tr>\n",
       "      <th>Adoption</th>\n",
       "      <td>83709.0</td>\n",
       "      <td>613.385347</td>\n",
       "      <td>875.231895</td>\n",
       "      <td>0.0</td>\n",
       "      <td>86.00</td>\n",
       "      <td>262.0</td>\n",
       "      <td>745.00</td>\n",
       "      <td>7307.0</td>\n",
       "    </tr>\n",
       "    <tr>\n",
       "      <th>Died</th>\n",
       "      <td>1658.0</td>\n",
       "      <td>563.377563</td>\n",
       "      <td>1053.448128</td>\n",
       "      <td>0.0</td>\n",
       "      <td>33.00</td>\n",
       "      <td>77.0</td>\n",
       "      <td>730.00</td>\n",
       "      <td>5926.0</td>\n",
       "    </tr>\n",
       "    <tr>\n",
       "      <th>Disposal</th>\n",
       "      <td>868.0</td>\n",
       "      <td>568.804147</td>\n",
       "      <td>671.549977</td>\n",
       "      <td>0.0</td>\n",
       "      <td>365.00</td>\n",
       "      <td>368.5</td>\n",
       "      <td>732.00</td>\n",
       "      <td>6036.0</td>\n",
       "    </tr>\n",
       "    <tr>\n",
       "      <th>Euthanasia</th>\n",
       "      <td>10686.0</td>\n",
       "      <td>908.779805</td>\n",
       "      <td>1170.778932</td>\n",
       "      <td>0.0</td>\n",
       "      <td>365.00</td>\n",
       "      <td>618.0</td>\n",
       "      <td>740.00</td>\n",
       "      <td>8401.0</td>\n",
       "    </tr>\n",
       "    <tr>\n",
       "      <th>Lost</th>\n",
       "      <td>2.0</td>\n",
       "      <td>429.500000</td>\n",
       "      <td>437.699098</td>\n",
       "      <td>120.0</td>\n",
       "      <td>274.75</td>\n",
       "      <td>429.5</td>\n",
       "      <td>584.25</td>\n",
       "      <td>739.0</td>\n",
       "    </tr>\n",
       "    <tr>\n",
       "      <th>Missing</th>\n",
       "      <td>92.0</td>\n",
       "      <td>524.684783</td>\n",
       "      <td>805.347252</td>\n",
       "      <td>19.0</td>\n",
       "      <td>109.00</td>\n",
       "      <td>233.5</td>\n",
       "      <td>737.00</td>\n",
       "      <td>5483.0</td>\n",
       "    </tr>\n",
       "    <tr>\n",
       "      <th>Relocate</th>\n",
       "      <td>28.0</td>\n",
       "      <td>821.214286</td>\n",
       "      <td>1574.675095</td>\n",
       "      <td>31.0</td>\n",
       "      <td>185.00</td>\n",
       "      <td>367.5</td>\n",
       "      <td>731.25</td>\n",
       "      <td>6677.0</td>\n",
       "    </tr>\n",
       "    <tr>\n",
       "      <th>Return to Owner</th>\n",
       "      <td>25529.0</td>\n",
       "      <td>1495.160523</td>\n",
       "      <td>1343.512497</td>\n",
       "      <td>0.0</td>\n",
       "      <td>546.00</td>\n",
       "      <td>1047.0</td>\n",
       "      <td>2191.00</td>\n",
       "      <td>10227.0</td>\n",
       "    </tr>\n",
       "    <tr>\n",
       "      <th>Rto-Adopt</th>\n",
       "      <td>1230.0</td>\n",
       "      <td>1242.447154</td>\n",
       "      <td>1148.964072</td>\n",
       "      <td>0.0</td>\n",
       "      <td>391.50</td>\n",
       "      <td>750.0</td>\n",
       "      <td>1825.00</td>\n",
       "      <td>6210.0</td>\n",
       "    </tr>\n",
       "    <tr>\n",
       "      <th>Stolen</th>\n",
       "      <td>5.0</td>\n",
       "      <td>1685.200000</td>\n",
       "      <td>1181.802310</td>\n",
       "      <td>330.0</td>\n",
       "      <td>1121.00</td>\n",
       "      <td>1121.0</td>\n",
       "      <td>2806.00</td>\n",
       "      <td>3048.0</td>\n",
       "    </tr>\n",
       "    <tr>\n",
       "      <th>Transfer</th>\n",
       "      <td>48264.0</td>\n",
       "      <td>599.791314</td>\n",
       "      <td>923.225811</td>\n",
       "      <td>0.0</td>\n",
       "      <td>37.00</td>\n",
       "      <td>274.0</td>\n",
       "      <td>736.00</td>\n",
       "      <td>10996.0</td>\n",
       "    </tr>\n",
       "  </tbody>\n",
       "</table>\n",
       "</div>"
      ],
      "text/plain": [
       "                   count         mean          std    min      25%     50%  \\\n",
       "Outcome Type                                                                 \n",
       "Adoption         83709.0   613.385347   875.231895    0.0    86.00   262.0   \n",
       "Died              1658.0   563.377563  1053.448128    0.0    33.00    77.0   \n",
       "Disposal           868.0   568.804147   671.549977    0.0   365.00   368.5   \n",
       "Euthanasia       10686.0   908.779805  1170.778932    0.0   365.00   618.0   \n",
       "Lost                 2.0   429.500000   437.699098  120.0   274.75   429.5   \n",
       "Missing             92.0   524.684783   805.347252   19.0   109.00   233.5   \n",
       "Relocate            28.0   821.214286  1574.675095   31.0   185.00   367.5   \n",
       "Return to Owner  25529.0  1495.160523  1343.512497    0.0   546.00  1047.0   \n",
       "Rto-Adopt         1230.0  1242.447154  1148.964072    0.0   391.50   750.0   \n",
       "Stolen               5.0  1685.200000  1181.802310  330.0  1121.00  1121.0   \n",
       "Transfer         48264.0   599.791314   923.225811    0.0    37.00   274.0   \n",
       "\n",
       "                     75%      max  \n",
       "Outcome Type                       \n",
       "Adoption          745.00   7307.0  \n",
       "Died              730.00   5926.0  \n",
       "Disposal          732.00   6036.0  \n",
       "Euthanasia        740.00   8401.0  \n",
       "Lost              584.25    739.0  \n",
       "Missing           737.00   5483.0  \n",
       "Relocate          731.25   6677.0  \n",
       "Return to Owner  2191.00  10227.0  \n",
       "Rto-Adopt        1825.00   6210.0  \n",
       "Stolen           2806.00   3048.0  \n",
       "Transfer          736.00  10996.0  "
      ]
     },
     "execution_count": 23,
     "metadata": {},
     "output_type": "execute_result"
    }
   ],
   "source": [
    "df.groupby('Outcome Type')['age_upon_outcome_days'].describe()"
   ]
  },
  {
   "cell_type": "code",
   "execution_count": 24,
   "id": "a19da134",
   "metadata": {
    "execution": {
     "iopub.execute_input": "2025-03-25T23:44:18.764251Z",
     "iopub.status.busy": "2025-03-25T23:44:18.763782Z",
     "iopub.status.idle": "2025-03-25T23:44:18.821034Z",
     "shell.execute_reply": "2025-03-25T23:44:18.819986Z"
    },
    "papermill": {
     "duration": 0.070525,
     "end_time": "2025-03-25T23:44:18.822852",
     "exception": false,
     "start_time": "2025-03-25T23:44:18.752327",
     "status": "completed"
    },
    "tags": []
   },
   "outputs": [
    {
     "data": {
      "text/html": [
       "<div>\n",
       "<style scoped>\n",
       "    .dataframe tbody tr th:only-of-type {\n",
       "        vertical-align: middle;\n",
       "    }\n",
       "\n",
       "    .dataframe tbody tr th {\n",
       "        vertical-align: top;\n",
       "    }\n",
       "\n",
       "    .dataframe thead th {\n",
       "        text-align: right;\n",
       "    }\n",
       "</style>\n",
       "<table border=\"1\" class=\"dataframe\">\n",
       "  <thead>\n",
       "    <tr style=\"text-align: right;\">\n",
       "      <th></th>\n",
       "      <th>total_count</th>\n",
       "      <th>adopt_perc</th>\n",
       "    </tr>\n",
       "    <tr>\n",
       "      <th>Breed</th>\n",
       "      <th></th>\n",
       "      <th></th>\n",
       "    </tr>\n",
       "  </thead>\n",
       "  <tbody>\n",
       "    <tr>\n",
       "      <th>Redbone Hound Mix</th>\n",
       "      <td>114</td>\n",
       "      <td>69.298246</td>\n",
       "    </tr>\n",
       "    <tr>\n",
       "      <th>Siberian Husky/German Shepherd</th>\n",
       "      <td>129</td>\n",
       "      <td>68.217054</td>\n",
       "    </tr>\n",
       "    <tr>\n",
       "      <th>Black Mouth Cur</th>\n",
       "      <td>120</td>\n",
       "      <td>67.500000</td>\n",
       "    </tr>\n",
       "    <tr>\n",
       "      <th>Catahoula</th>\n",
       "      <td>144</td>\n",
       "      <td>67.361111</td>\n",
       "    </tr>\n",
       "    <tr>\n",
       "      <th>German Shepherd/Siberian Husky</th>\n",
       "      <td>110</td>\n",
       "      <td>64.545455</td>\n",
       "    </tr>\n",
       "    <tr>\n",
       "      <th>Australian Cattle Dog/Labrador Retriever</th>\n",
       "      <td>138</td>\n",
       "      <td>63.768116</td>\n",
       "    </tr>\n",
       "    <tr>\n",
       "      <th>Whippet Mix</th>\n",
       "      <td>107</td>\n",
       "      <td>61.682243</td>\n",
       "    </tr>\n",
       "    <tr>\n",
       "      <th>Manchester Terrier Mix</th>\n",
       "      <td>132</td>\n",
       "      <td>61.363636</td>\n",
       "    </tr>\n",
       "    <tr>\n",
       "      <th>Harrier Mix</th>\n",
       "      <td>106</td>\n",
       "      <td>60.377358</td>\n",
       "    </tr>\n",
       "    <tr>\n",
       "      <th>Jack Russell Terrier</th>\n",
       "      <td>124</td>\n",
       "      <td>59.677419</td>\n",
       "    </tr>\n",
       "    <tr>\n",
       "      <th>Pointer</th>\n",
       "      <td>115</td>\n",
       "      <td>59.130435</td>\n",
       "    </tr>\n",
       "    <tr>\n",
       "      <th>Manx Mix</th>\n",
       "      <td>111</td>\n",
       "      <td>58.558559</td>\n",
       "    </tr>\n",
       "    <tr>\n",
       "      <th>Border Collie/Labrador Retriever</th>\n",
       "      <td>145</td>\n",
       "      <td>57.931034</td>\n",
       "    </tr>\n",
       "    <tr>\n",
       "      <th>Maine Coon Mix</th>\n",
       "      <td>128</td>\n",
       "      <td>57.812500</td>\n",
       "    </tr>\n",
       "    <tr>\n",
       "      <th>Carolina Dog Mix</th>\n",
       "      <td>121</td>\n",
       "      <td>56.198347</td>\n",
       "    </tr>\n",
       "    <tr>\n",
       "      <th>Collie Smooth Mix</th>\n",
       "      <td>130</td>\n",
       "      <td>56.153846</td>\n",
       "    </tr>\n",
       "    <tr>\n",
       "      <th>Boxer/Labrador Retriever</th>\n",
       "      <td>102</td>\n",
       "      <td>55.882353</td>\n",
       "    </tr>\n",
       "    <tr>\n",
       "      <th>Miniature Pinscher</th>\n",
       "      <td>101</td>\n",
       "      <td>55.445545</td>\n",
       "    </tr>\n",
       "    <tr>\n",
       "      <th>Staffordshire</th>\n",
       "      <td>140</td>\n",
       "      <td>55.000000</td>\n",
       "    </tr>\n",
       "    <tr>\n",
       "      <th>Flat Coat Retriever Mix</th>\n",
       "      <td>133</td>\n",
       "      <td>54.887218</td>\n",
       "    </tr>\n",
       "    <tr>\n",
       "      <th>Anatol Shepherd</th>\n",
       "      <td>140</td>\n",
       "      <td>54.285714</td>\n",
       "    </tr>\n",
       "    <tr>\n",
       "      <th>American Staffordshire Terrier</th>\n",
       "      <td>118</td>\n",
       "      <td>53.389831</td>\n",
       "    </tr>\n",
       "    <tr>\n",
       "      <th>Boxer/Pit Bull</th>\n",
       "      <td>118</td>\n",
       "      <td>53.389831</td>\n",
       "    </tr>\n",
       "    <tr>\n",
       "      <th>Belgian Malinois Mix</th>\n",
       "      <td>137</td>\n",
       "      <td>52.554745</td>\n",
       "    </tr>\n",
       "    <tr>\n",
       "      <th>Norfolk Terrier Mix</th>\n",
       "      <td>119</td>\n",
       "      <td>52.100840</td>\n",
       "    </tr>\n",
       "    <tr>\n",
       "      <th>Belgian Malinois</th>\n",
       "      <td>110</td>\n",
       "      <td>51.818182</td>\n",
       "    </tr>\n",
       "    <tr>\n",
       "      <th>Rat Terrier</th>\n",
       "      <td>138</td>\n",
       "      <td>51.449275</td>\n",
       "    </tr>\n",
       "    <tr>\n",
       "      <th>Dachshund Wirehair Mix</th>\n",
       "      <td>144</td>\n",
       "      <td>48.611111</td>\n",
       "    </tr>\n",
       "    <tr>\n",
       "      <th>Chihuahua Shorthair/Pug</th>\n",
       "      <td>104</td>\n",
       "      <td>47.115385</td>\n",
       "    </tr>\n",
       "    <tr>\n",
       "      <th>Rhod Ridgeback Mix</th>\n",
       "      <td>120</td>\n",
       "      <td>45.833333</td>\n",
       "    </tr>\n",
       "    <tr>\n",
       "      <th>Dachshund Longhair Mix</th>\n",
       "      <td>140</td>\n",
       "      <td>43.571429</td>\n",
       "    </tr>\n",
       "    <tr>\n",
       "      <th>Miniature Schnauzer/Miniature Poodle</th>\n",
       "      <td>103</td>\n",
       "      <td>41.747573</td>\n",
       "    </tr>\n",
       "    <tr>\n",
       "      <th>Bull Terrier Mix</th>\n",
       "      <td>115</td>\n",
       "      <td>36.521739</td>\n",
       "    </tr>\n",
       "    <tr>\n",
       "      <th>Great Dane Mix</th>\n",
       "      <td>142</td>\n",
       "      <td>35.915493</td>\n",
       "    </tr>\n",
       "    <tr>\n",
       "      <th>Toy Poodle Mix</th>\n",
       "      <td>131</td>\n",
       "      <td>35.877863</td>\n",
       "    </tr>\n",
       "    <tr>\n",
       "      <th>Pit Bull/Boxer</th>\n",
       "      <td>123</td>\n",
       "      <td>35.772358</td>\n",
       "    </tr>\n",
       "    <tr>\n",
       "      <th>Maltese/Miniature Poodle</th>\n",
       "      <td>114</td>\n",
       "      <td>35.087719</td>\n",
       "    </tr>\n",
       "    <tr>\n",
       "      <th>English Bulldog Mix</th>\n",
       "      <td>112</td>\n",
       "      <td>33.035714</td>\n",
       "    </tr>\n",
       "    <tr>\n",
       "      <th>Maltese</th>\n",
       "      <td>139</td>\n",
       "      <td>30.215827</td>\n",
       "    </tr>\n",
       "    <tr>\n",
       "      <th>Boston Terrier Mix</th>\n",
       "      <td>142</td>\n",
       "      <td>26.760563</td>\n",
       "    </tr>\n",
       "    <tr>\n",
       "      <th>Skunk Mix</th>\n",
       "      <td>105</td>\n",
       "      <td>0.000000</td>\n",
       "    </tr>\n",
       "    <tr>\n",
       "      <th>Fox</th>\n",
       "      <td>142</td>\n",
       "      <td>0.000000</td>\n",
       "    </tr>\n",
       "  </tbody>\n",
       "</table>\n",
       "</div>"
      ],
      "text/plain": [
       "                                          total_count  adopt_perc\n",
       "Breed                                                            \n",
       "Redbone Hound Mix                                 114   69.298246\n",
       "Siberian Husky/German Shepherd                    129   68.217054\n",
       "Black Mouth Cur                                   120   67.500000\n",
       "Catahoula                                         144   67.361111\n",
       "German Shepherd/Siberian Husky                    110   64.545455\n",
       "Australian Cattle Dog/Labrador Retriever          138   63.768116\n",
       "Whippet Mix                                       107   61.682243\n",
       "Manchester Terrier Mix                            132   61.363636\n",
       "Harrier Mix                                       106   60.377358\n",
       "Jack Russell Terrier                              124   59.677419\n",
       "Pointer                                           115   59.130435\n",
       "Manx Mix                                          111   58.558559\n",
       "Border Collie/Labrador Retriever                  145   57.931034\n",
       "Maine Coon Mix                                    128   57.812500\n",
       "Carolina Dog Mix                                  121   56.198347\n",
       "Collie Smooth Mix                                 130   56.153846\n",
       "Boxer/Labrador Retriever                          102   55.882353\n",
       "Miniature Pinscher                                101   55.445545\n",
       "Staffordshire                                     140   55.000000\n",
       "Flat Coat Retriever Mix                           133   54.887218\n",
       "Anatol Shepherd                                   140   54.285714\n",
       "American Staffordshire Terrier                    118   53.389831\n",
       "Boxer/Pit Bull                                    118   53.389831\n",
       "Belgian Malinois Mix                              137   52.554745\n",
       "Norfolk Terrier Mix                               119   52.100840\n",
       "Belgian Malinois                                  110   51.818182\n",
       "Rat Terrier                                       138   51.449275\n",
       "Dachshund Wirehair Mix                            144   48.611111\n",
       "Chihuahua Shorthair/Pug                           104   47.115385\n",
       "Rhod Ridgeback Mix                                120   45.833333\n",
       "Dachshund Longhair Mix                            140   43.571429\n",
       "Miniature Schnauzer/Miniature Poodle              103   41.747573\n",
       "Bull Terrier Mix                                  115   36.521739\n",
       "Great Dane Mix                                    142   35.915493\n",
       "Toy Poodle Mix                                    131   35.877863\n",
       "Pit Bull/Boxer                                    123   35.772358\n",
       "Maltese/Miniature Poodle                          114   35.087719\n",
       "English Bulldog Mix                               112   33.035714\n",
       "Maltese                                           139   30.215827\n",
       "Boston Terrier Mix                                142   26.760563\n",
       "Skunk Mix                                         105    0.000000\n",
       "Fox                                               142    0.000000"
      ]
     },
     "execution_count": 24,
     "metadata": {},
     "output_type": "execute_result"
    }
   ],
   "source": [
    "breed_counts = df['Breed'].value_counts()\n",
    "popular_breeds = breed_counts[(breed_counts>100) & (breed_counts<150)].index\n",
    "df_other = df[df['Breed'].isin(popular_breeds)]\n",
    "df_other.groupby('Breed').agg( total_count=(\"Breed\", \"count\"), \n",
    "                                 adopt_perc=('Outcome Type', lambda x: (x=='Adoption').mean() * 100 )).sort_values(by='adopt_perc', ascending = False)"
   ]
  }
 ],
 "metadata": {
  "kaggle": {
   "accelerator": "none",
   "dataSources": [
    {
     "datasetId": 6815598,
     "sourceId": 10955746,
     "sourceType": "datasetVersion"
    }
   ],
   "dockerImageVersionId": 30918,
   "isGpuEnabled": false,
   "isInternetEnabled": true,
   "language": "python",
   "sourceType": "notebook"
  },
  "kernelspec": {
   "display_name": "Python 3",
   "language": "python",
   "name": "python3"
  },
  "language_info": {
   "codemirror_mode": {
    "name": "ipython",
    "version": 3
   },
   "file_extension": ".py",
   "mimetype": "text/x-python",
   "name": "python",
   "nbconvert_exporter": "python",
   "pygments_lexer": "ipython3",
   "version": "3.10.12"
  },
  "papermill": {
   "default_parameters": {},
   "duration": 27.098562,
   "end_time": "2025-03-25T23:44:19.456497",
   "environment_variables": {},
   "exception": null,
   "input_path": "__notebook__.ipynb",
   "output_path": "__notebook__.ipynb",
   "parameters": {},
   "start_time": "2025-03-25T23:43:52.357935",
   "version": "2.6.0"
  }
 },
 "nbformat": 4,
 "nbformat_minor": 5
}

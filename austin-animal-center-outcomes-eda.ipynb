{
 "cells": [
  {
   "cell_type": "code",
   "execution_count": 1,
   "id": "709d6092",
   "metadata": {
    "_cell_guid": "b1076dfc-b9ad-4769-8c92-a6c4dae69d19",
    "_uuid": "8f2839f25d086af736a60e9eeb907d3b93b6e0e5",
    "execution": {
     "iopub.execute_input": "2025-03-24T21:32:11.494116Z",
     "iopub.status.busy": "2025-03-24T21:32:11.493620Z",
     "iopub.status.idle": "2025-03-24T21:32:12.555455Z",
     "shell.execute_reply": "2025-03-24T21:32:12.554157Z"
    },
    "papermill": {
     "duration": 1.079625,
     "end_time": "2025-03-24T21:32:12.557339",
     "exception": false,
     "start_time": "2025-03-24T21:32:11.477714",
     "status": "completed"
    },
    "tags": []
   },
   "outputs": [
    {
     "name": "stdout",
     "output_type": "stream",
     "text": [
      "/kaggle/input/austin-animal-center-outcomes/Austin_Animal_Center_Outcomes.csv\n"
     ]
    }
   ],
   "source": [
    "# This Python 3 environment comes with many helpful analytics libraries installed\n",
    "# It is defined by the kaggle/python Docker image: https://github.com/kaggle/docker-python\n",
    "# For example, here's several helpful packages to load\n",
    "\n",
    "import numpy as np # linear algebra\n",
    "import pandas as pd # data processing, CSV file I/O (e.g. pd.read_csv)\n",
    "\n",
    "# Input data files are available in the read-only \"../input/\" directory\n",
    "# For example, running this (by clicking run or pressing Shift+Enter) will list all files under the input directory\n",
    "\n",
    "import os\n",
    "for dirname, _, filenames in os.walk('/kaggle/input'):\n",
    "    for filename in filenames:\n",
    "        print(os.path.join(dirname, filename))\n",
    "\n",
    "# You can write up to 20GB to the current directory (/kaggle/working/) that gets preserved as output when you create a version using \"Save & Run All\" \n",
    "# You can also write temporary files to /kaggle/temp/, but they won't be saved outside of the current session"
   ]
  },
  {
   "cell_type": "markdown",
   "id": "871ea21d",
   "metadata": {
    "papermill": {
     "duration": 0.01286,
     "end_time": "2025-03-24T21:32:12.583787",
     "exception": false,
     "start_time": "2025-03-24T21:32:12.570927",
     "status": "completed"
    },
    "tags": []
   },
   "source": [
    "Currently studying the pandas library and using this dataset as an opportunity to demonstrate what I've learned.\n",
    "\n",
    "**Questions I want to answer:**\n",
    "1. How many total records (animals) are in the dataset?\n",
    "2. What are the most common animal types?\n",
    "3. What are the most common breeds for dogs and cats?\n",
    "4. What are the busiest months for animal intakes?\n",
    "5. Has the number of adoptions changed over time?\n",
    "6. What are the most common outcomes for animals?\n",
    "7. Do certain breeds have higher adoption rates?\n",
    "8. Do younger animals get adopted more quickly?\n",
    "9. Are certain zip codes associated with more intakes or adoptions?\n",
    "10. How long do animals typically stay in the shelter before adoption?"
   ]
  },
  {
   "cell_type": "markdown",
   "id": "7291047a",
   "metadata": {
    "papermill": {
     "duration": 0.013289,
     "end_time": "2025-03-24T21:32:12.610366",
     "exception": false,
     "start_time": "2025-03-24T21:32:12.597077",
     "status": "completed"
    },
    "tags": []
   },
   "source": [
    "# Step 1: Cleaning\n",
    "1. Does the dataset have missing values? If so, which columns and how many?\n",
    "2. Are there duplicate rows? Should they be removed?\n",
    "3. Are there any inconsistent or unexpected values (e.g., negative ages, incorrect dates)?\n",
    "4. Do column names follow a consistent format (lowercase, snake_case, etc.)?\n",
    " handling missing data\n",
    "* Should missing values be filled, removed, or left as is?\n",
    "* If filling missing values, what’s the best approach (mean, median, mode, forward/backward fill)?\n",
    "* Are missing values concentrated in specific columns or random?\n",
    "\n",
    "data type validation\n",
    "* Are all columns in the correct data type (e.g., dates as datetime, numbers as int/float)?\n",
    "* Do categorical columns have correct and consistent labels?\n",
    "* Are numerical columns formatted correctly (e.g., no misplaced commas or currency symbols)?\n",
    "\n",
    " standardizing and fixing inconsistencies\n",
    "* Are animal types (e.g., “Dog” vs. “dog”) consistent?\n",
    "* Are breed names standardized (e.g., “German Shepherd” vs. “GSD”)?\n",
    "* Do outcome types and intake types have uniform spelling and categorization?\n",
    "* Are date formats consistent across the dataset?\n",
    "\n",
    " handling outliers and erroneous data\n",
    "* Are there extreme outliers in numerical columns (e.g., very high ages, negative values)?\n",
    "* Are there animals with duplicate intake and outcome records?\n",
    "* Are there any animals with unrealistic age values (e.g., “100 years old” for a dog)?\n",
    "\n",
    " date and time processing\n",
    "* Are intake and outcome dates properly formatted and sorted?\n",
    "* Are there cases where the outcome date is before the intake date?\n",
    "* Are there unexpected time gaps between intake and outcome?\n",
    "\n",
    "final checks\n",
    "* Does the cleaned dataset retain all necessary columns for analysis?\n",
    "* Have you documented the cleaning steps for reproducibility?\n",
    "* Have you saved the cleaned dataset for further analysis?"
   ]
  },
  {
   "cell_type": "code",
   "execution_count": 2,
   "id": "35066104",
   "metadata": {
    "execution": {
     "iopub.execute_input": "2025-03-24T21:32:12.638169Z",
     "iopub.status.busy": "2025-03-24T21:32:12.637670Z",
     "iopub.status.idle": "2025-03-24T21:32:13.768280Z",
     "shell.execute_reply": "2025-03-24T21:32:13.766957Z"
    },
    "papermill": {
     "duration": 1.146459,
     "end_time": "2025-03-24T21:32:13.769995",
     "exception": false,
     "start_time": "2025-03-24T21:32:12.623536",
     "status": "completed"
    },
    "tags": []
   },
   "outputs": [
    {
     "name": "stdout",
     "output_type": "stream",
     "text": [
      "/kaggle/input/austin-animal-center-outcomes/Austin_Animal_Center_Outcomes.csv\n",
      "<class 'pandas.core.frame.DataFrame'>\n",
      "RangeIndex: 172113 entries, 0 to 172112\n",
      "Data columns (total 12 columns):\n",
      " #   Column            Non-Null Count   Dtype \n",
      "---  ------            --------------   ----- \n",
      " 0   Animal ID         172113 non-null  object\n",
      " 1   Name              122845 non-null  object\n",
      " 2   DateTime          172113 non-null  object\n",
      " 3   MonthYear         172113 non-null  object\n",
      " 4   Date of Birth     172113 non-null  object\n",
      " 5   Outcome Type      172071 non-null  object\n",
      " 6   Outcome Subtype   78842 non-null   object\n",
      " 7   Animal Type       172113 non-null  object\n",
      " 8   Sex upon Outcome  172111 non-null  object\n",
      " 9   Age upon Outcome  172106 non-null  object\n",
      " 10  Breed             172113 non-null  object\n",
      " 11  Color             172113 non-null  object\n",
      "dtypes: object(12)\n",
      "memory usage: 15.8+ MB\n"
     ]
    }
   ],
   "source": [
    "for dirname, _, filenames in os.walk('/kaggle/input'):\n",
    "    for filename in filenames:\n",
    "        print(os.path.join(dirname, filename))\n",
    "        dataset = os.path.join(dirname, filename)\n",
    "\n",
    "df = pd.read_csv(dataset)\n",
    "df_backup = df.copy()\n",
    "df.info()"
   ]
  },
  {
   "cell_type": "markdown",
   "id": "aff3ed7e",
   "metadata": {
    "papermill": {
     "duration": 0.013736,
     "end_time": "2025-03-24T21:32:13.797162",
     "exception": false,
     "start_time": "2025-03-24T21:32:13.783426",
     "status": "completed"
    },
    "tags": []
   },
   "source": [
    "Changing data to correct datatypes"
   ]
  },
  {
   "cell_type": "code",
   "execution_count": 3,
   "id": "ee9ac2a0",
   "metadata": {
    "execution": {
     "iopub.execute_input": "2025-03-24T21:32:13.825235Z",
     "iopub.status.busy": "2025-03-24T21:32:13.824848Z",
     "iopub.status.idle": "2025-03-24T21:32:29.933659Z",
     "shell.execute_reply": "2025-03-24T21:32:29.932424Z"
    },
    "papermill": {
     "duration": 16.125278,
     "end_time": "2025-03-24T21:32:29.935779",
     "exception": false,
     "start_time": "2025-03-24T21:32:13.810501",
     "status": "completed"
    },
    "tags": []
   },
   "outputs": [
    {
     "name": "stderr",
     "output_type": "stream",
     "text": [
      "<ipython-input-3-a1bf5901da9c>:1: UserWarning: Could not infer format, so each element will be parsed individually, falling back to `dateutil`. To ensure parsing is consistent and as-expected, please specify a format.\n",
      "  df['DateTime'] = pd.to_datetime(df['DateTime'], errors='coerce')\n",
      "<ipython-input-3-a1bf5901da9c>:2: UserWarning: Could not infer format, so each element will be parsed individually, falling back to `dateutil`. To ensure parsing is consistent and as-expected, please specify a format.\n",
      "  df['MonthYear'] = pd.to_datetime(df['MonthYear'],  errors='coerce')\n"
     ]
    }
   ],
   "source": [
    "df['DateTime'] = pd.to_datetime(df['DateTime'], errors='coerce')\n",
    "df['MonthYear'] = pd.to_datetime(df['MonthYear'],  errors='coerce')\n",
    "df['Date of Birth'] = pd.to_datetime(df['Date of Birth'], errors='coerce')"
   ]
  },
  {
   "cell_type": "code",
   "execution_count": 4,
   "id": "68c98650",
   "metadata": {
    "execution": {
     "iopub.execute_input": "2025-03-24T21:32:29.964293Z",
     "iopub.status.busy": "2025-03-24T21:32:29.963886Z",
     "iopub.status.idle": "2025-03-24T21:32:30.063219Z",
     "shell.execute_reply": "2025-03-24T21:32:30.061920Z"
    },
    "papermill": {
     "duration": 0.115843,
     "end_time": "2025-03-24T21:32:30.065149",
     "exception": false,
     "start_time": "2025-03-24T21:32:29.949306",
     "status": "completed"
    },
    "tags": []
   },
   "outputs": [
    {
     "name": "stdout",
     "output_type": "stream",
     "text": [
      "<class 'pandas.core.frame.DataFrame'>\n",
      "RangeIndex: 172113 entries, 0 to 172112\n",
      "Data columns (total 12 columns):\n",
      " #   Column            Non-Null Count   Dtype         \n",
      "---  ------            --------------   -----         \n",
      " 0   Animal ID         172113 non-null  object        \n",
      " 1   Name              122845 non-null  object        \n",
      " 2   DateTime          172113 non-null  datetime64[ns]\n",
      " 3   MonthYear         172113 non-null  datetime64[ns]\n",
      " 4   Date of Birth     172113 non-null  datetime64[ns]\n",
      " 5   Outcome Type      172071 non-null  object        \n",
      " 6   Outcome Subtype   78842 non-null   object        \n",
      " 7   Animal Type       172113 non-null  object        \n",
      " 8   Sex upon Outcome  172111 non-null  object        \n",
      " 9   Age upon Outcome  172106 non-null  object        \n",
      " 10  Breed             172113 non-null  object        \n",
      " 11  Color             172113 non-null  object        \n",
      "dtypes: datetime64[ns](3), object(9)\n",
      "memory usage: 15.8+ MB\n"
     ]
    }
   ],
   "source": [
    "df.info()"
   ]
  },
  {
   "cell_type": "code",
   "execution_count": 5,
   "id": "55435cfe",
   "metadata": {
    "execution": {
     "iopub.execute_input": "2025-03-24T21:32:30.094196Z",
     "iopub.status.busy": "2025-03-24T21:32:30.093757Z",
     "iopub.status.idle": "2025-03-24T21:32:30.119813Z",
     "shell.execute_reply": "2025-03-24T21:32:30.118511Z"
    },
    "papermill": {
     "duration": 0.042435,
     "end_time": "2025-03-24T21:32:30.121695",
     "exception": false,
     "start_time": "2025-03-24T21:32:30.079260",
     "status": "completed"
    },
    "tags": []
   },
   "outputs": [
    {
     "name": "stdout",
     "output_type": "stream",
     "text": [
      "0 0 0        2023-03-25\n",
      "1        2017-05-02\n",
      "2        2017-07-12\n",
      "3        2019-08-16\n",
      "4        2015-10-08\n",
      "            ...    \n",
      "172108   2024-12-16\n",
      "172109   2021-03-03\n",
      "172110   2019-02-27\n",
      "172111   2025-01-06\n",
      "172112   2014-03-05\n",
      "Name: Date of Birth, Length: 172113, dtype: datetime64[ns]\n"
     ]
    },
    {
     "data": {
      "text/plain": [
       "count                           172113\n",
       "mean     2018-10-22 01:03:43.701870336\n",
       "min                2013-10-01 00:00:00\n",
       "25%                2016-02-01 00:00:00\n",
       "50%                2018-07-01 00:00:00\n",
       "75%                2021-07-01 00:00:00\n",
       "max                2025-03-01 00:00:00\n",
       "Name: MonthYear, dtype: object"
      ]
     },
     "execution_count": 5,
     "metadata": {},
     "output_type": "execute_result"
    }
   ],
   "source": [
    "print(df['DateTime'].isna().sum(), df['MonthYear'].isna().sum(), df['Date of Birth'])\n",
    "df['MonthYear'].describe()"
   ]
  },
  {
   "cell_type": "code",
   "execution_count": 6,
   "id": "30132f32",
   "metadata": {
    "execution": {
     "iopub.execute_input": "2025-03-24T21:32:30.150503Z",
     "iopub.status.busy": "2025-03-24T21:32:30.150100Z",
     "iopub.status.idle": "2025-03-24T21:32:30.165858Z",
     "shell.execute_reply": "2025-03-24T21:32:30.164706Z"
    },
    "papermill": {
     "duration": 0.032517,
     "end_time": "2025-03-24T21:32:30.167804",
     "exception": false,
     "start_time": "2025-03-24T21:32:30.135287",
     "status": "completed"
    },
    "tags": []
   },
   "outputs": [
    {
     "data": {
      "text/plain": [
       "count                           172113\n",
       "mean     2018-11-06 11:28:53.957923072\n",
       "min                2013-10-01 09:31:00\n",
       "25%                2016-02-01 08:56:00\n",
       "50%                2018-07-21 17:54:00\n",
       "75%                2021-07-25 17:47:00\n",
       "max                2025-03-07 13:48:00\n",
       "Name: DateTime, dtype: object"
      ]
     },
     "execution_count": 6,
     "metadata": {},
     "output_type": "execute_result"
    }
   ],
   "source": [
    "df['DateTime'].describe()"
   ]
  },
  {
   "cell_type": "code",
   "execution_count": 7,
   "id": "54b6e59d",
   "metadata": {
    "execution": {
     "iopub.execute_input": "2025-03-24T21:32:30.196797Z",
     "iopub.status.busy": "2025-03-24T21:32:30.196402Z",
     "iopub.status.idle": "2025-03-24T21:32:30.212391Z",
     "shell.execute_reply": "2025-03-24T21:32:30.211258Z"
    },
    "papermill": {
     "duration": 0.032551,
     "end_time": "2025-03-24T21:32:30.214274",
     "exception": false,
     "start_time": "2025-03-24T21:32:30.181723",
     "status": "completed"
    },
    "tags": []
   },
   "outputs": [
    {
     "data": {
      "text/plain": [
       "count                           172113\n",
       "mean     2016-10-04 09:36:05.923550208\n",
       "min                1991-09-22 00:00:00\n",
       "25%                2014-03-11 00:00:00\n",
       "50%                2016-10-21 00:00:00\n",
       "75%                2019-11-06 00:00:00\n",
       "max                2028-05-01 00:00:00\n",
       "Name: Date of Birth, dtype: object"
      ]
     },
     "execution_count": 7,
     "metadata": {},
     "output_type": "execute_result"
    }
   ],
   "source": [
    "df['Date of Birth'].describe()"
   ]
  },
  {
   "cell_type": "markdown",
   "id": "49f4a902",
   "metadata": {
    "papermill": {
     "duration": 0.013666,
     "end_time": "2025-03-24T21:32:30.241820",
     "exception": false,
     "start_time": "2025-03-24T21:32:30.228154",
     "status": "completed"
    },
    "tags": []
   },
   "source": [
    "## 1. Does the dataset have missing values? If so, which columns and how many?\n",
    "We see below that Outcome Type, Outcome Subtype, Sex upon Outcome, and Age upon Outcome all have missing values."
   ]
  },
  {
   "cell_type": "code",
   "execution_count": 8,
   "id": "21f82f8c",
   "metadata": {
    "execution": {
     "iopub.execute_input": "2025-03-24T21:32:30.272159Z",
     "iopub.status.busy": "2025-03-24T21:32:30.271783Z",
     "iopub.status.idle": "2025-03-24T21:32:30.326755Z",
     "shell.execute_reply": "2025-03-24T21:32:30.325628Z"
    },
    "papermill": {
     "duration": 0.072145,
     "end_time": "2025-03-24T21:32:30.328541",
     "exception": false,
     "start_time": "2025-03-24T21:32:30.256396",
     "status": "completed"
    },
    "tags": []
   },
   "outputs": [
    {
     "data": {
      "text/html": [
       "<div>\n",
       "<style scoped>\n",
       "    .dataframe tbody tr th:only-of-type {\n",
       "        vertical-align: middle;\n",
       "    }\n",
       "\n",
       "    .dataframe tbody tr th {\n",
       "        vertical-align: top;\n",
       "    }\n",
       "\n",
       "    .dataframe thead th {\n",
       "        text-align: right;\n",
       "    }\n",
       "</style>\n",
       "<table border=\"1\" class=\"dataframe\">\n",
       "  <thead>\n",
       "    <tr style=\"text-align: right;\">\n",
       "      <th></th>\n",
       "      <th>DateTime</th>\n",
       "      <th>MonthYear</th>\n",
       "      <th>Date of Birth</th>\n",
       "    </tr>\n",
       "  </thead>\n",
       "  <tbody>\n",
       "    <tr>\n",
       "      <th>count</th>\n",
       "      <td>172113</td>\n",
       "      <td>172113</td>\n",
       "      <td>172113</td>\n",
       "    </tr>\n",
       "    <tr>\n",
       "      <th>mean</th>\n",
       "      <td>2018-11-06 11:28:53.957923072</td>\n",
       "      <td>2018-10-22 01:03:43.701870336</td>\n",
       "      <td>2016-10-04 09:36:05.923550208</td>\n",
       "    </tr>\n",
       "    <tr>\n",
       "      <th>min</th>\n",
       "      <td>2013-10-01 09:31:00</td>\n",
       "      <td>2013-10-01 00:00:00</td>\n",
       "      <td>1991-09-22 00:00:00</td>\n",
       "    </tr>\n",
       "    <tr>\n",
       "      <th>25%</th>\n",
       "      <td>2016-02-01 08:56:00</td>\n",
       "      <td>2016-02-01 00:00:00</td>\n",
       "      <td>2014-03-11 00:00:00</td>\n",
       "    </tr>\n",
       "    <tr>\n",
       "      <th>50%</th>\n",
       "      <td>2018-07-21 17:54:00</td>\n",
       "      <td>2018-07-01 00:00:00</td>\n",
       "      <td>2016-10-21 00:00:00</td>\n",
       "    </tr>\n",
       "    <tr>\n",
       "      <th>75%</th>\n",
       "      <td>2021-07-25 17:47:00</td>\n",
       "      <td>2021-07-01 00:00:00</td>\n",
       "      <td>2019-11-06 00:00:00</td>\n",
       "    </tr>\n",
       "    <tr>\n",
       "      <th>max</th>\n",
       "      <td>2025-03-07 13:48:00</td>\n",
       "      <td>2025-03-01 00:00:00</td>\n",
       "      <td>2028-05-01 00:00:00</td>\n",
       "    </tr>\n",
       "  </tbody>\n",
       "</table>\n",
       "</div>"
      ],
      "text/plain": [
       "                            DateTime                      MonthYear  \\\n",
       "count                         172113                         172113   \n",
       "mean   2018-11-06 11:28:53.957923072  2018-10-22 01:03:43.701870336   \n",
       "min              2013-10-01 09:31:00            2013-10-01 00:00:00   \n",
       "25%              2016-02-01 08:56:00            2016-02-01 00:00:00   \n",
       "50%              2018-07-21 17:54:00            2018-07-01 00:00:00   \n",
       "75%              2021-07-25 17:47:00            2021-07-01 00:00:00   \n",
       "max              2025-03-07 13:48:00            2025-03-01 00:00:00   \n",
       "\n",
       "                       Date of Birth  \n",
       "count                         172113  \n",
       "mean   2016-10-04 09:36:05.923550208  \n",
       "min              1991-09-22 00:00:00  \n",
       "25%              2014-03-11 00:00:00  \n",
       "50%              2016-10-21 00:00:00  \n",
       "75%              2019-11-06 00:00:00  \n",
       "max              2028-05-01 00:00:00  "
      ]
     },
     "execution_count": 8,
     "metadata": {},
     "output_type": "execute_result"
    }
   ],
   "source": [
    "df.describe()"
   ]
  },
  {
   "cell_type": "markdown",
   "id": "9f913937",
   "metadata": {
    "papermill": {
     "duration": 0.01365,
     "end_time": "2025-03-24T21:32:30.356387",
     "exception": false,
     "start_time": "2025-03-24T21:32:30.342737",
     "status": "completed"
    },
    "tags": []
   },
   "source": [
    "## 2. Are there duplicate rows? Should they be removed?\n",
    "25 duplicated rows. Yes, they should be removed."
   ]
  },
  {
   "cell_type": "code",
   "execution_count": 9,
   "id": "01d156ed",
   "metadata": {
    "execution": {
     "iopub.execute_input": "2025-03-24T21:32:30.385991Z",
     "iopub.status.busy": "2025-03-24T21:32:30.385528Z",
     "iopub.status.idle": "2025-03-24T21:32:30.595111Z",
     "shell.execute_reply": "2025-03-24T21:32:30.594027Z"
    },
    "papermill": {
     "duration": 0.226254,
     "end_time": "2025-03-24T21:32:30.596928",
     "exception": false,
     "start_time": "2025-03-24T21:32:30.370674",
     "status": "completed"
    },
    "tags": []
   },
   "outputs": [
    {
     "data": {
      "text/plain": [
       "25"
      ]
     },
     "execution_count": 9,
     "metadata": {},
     "output_type": "execute_result"
    }
   ],
   "source": [
    "df.duplicated().sum()"
   ]
  },
  {
   "cell_type": "code",
   "execution_count": 10,
   "id": "6722280f",
   "metadata": {
    "execution": {
     "iopub.execute_input": "2025-03-24T21:32:30.627280Z",
     "iopub.status.busy": "2025-03-24T21:32:30.626857Z",
     "iopub.status.idle": "2025-03-24T21:32:30.879566Z",
     "shell.execute_reply": "2025-03-24T21:32:30.878492Z"
    },
    "papermill": {
     "duration": 0.270256,
     "end_time": "2025-03-24T21:32:30.881673",
     "exception": false,
     "start_time": "2025-03-24T21:32:30.611417",
     "status": "completed"
    },
    "tags": []
   },
   "outputs": [
    {
     "data": {
      "text/html": [
       "<div>\n",
       "<style scoped>\n",
       "    .dataframe tbody tr th:only-of-type {\n",
       "        vertical-align: middle;\n",
       "    }\n",
       "\n",
       "    .dataframe tbody tr th {\n",
       "        vertical-align: top;\n",
       "    }\n",
       "\n",
       "    .dataframe thead th {\n",
       "        text-align: right;\n",
       "    }\n",
       "</style>\n",
       "<table border=\"1\" class=\"dataframe\">\n",
       "  <thead>\n",
       "    <tr style=\"text-align: right;\">\n",
       "      <th></th>\n",
       "      <th>Animal ID</th>\n",
       "      <th>Name</th>\n",
       "      <th>DateTime</th>\n",
       "      <th>MonthYear</th>\n",
       "      <th>Date of Birth</th>\n",
       "      <th>Outcome Type</th>\n",
       "      <th>Outcome Subtype</th>\n",
       "      <th>Animal Type</th>\n",
       "      <th>Sex upon Outcome</th>\n",
       "      <th>Age upon Outcome</th>\n",
       "      <th>Breed</th>\n",
       "      <th>Color</th>\n",
       "    </tr>\n",
       "  </thead>\n",
       "  <tbody>\n",
       "    <tr>\n",
       "      <th>0</th>\n",
       "      <td>A882831</td>\n",
       "      <td>*Hamilton</td>\n",
       "      <td>2023-07-01 18:12:00</td>\n",
       "      <td>2023-07-01</td>\n",
       "      <td>2023-03-25</td>\n",
       "      <td>Adoption</td>\n",
       "      <td>NaN</td>\n",
       "      <td>Cat</td>\n",
       "      <td>Neutered Male</td>\n",
       "      <td>3 months</td>\n",
       "      <td>Domestic Shorthair Mix</td>\n",
       "      <td>Black/White</td>\n",
       "    </tr>\n",
       "    <tr>\n",
       "      <th>1</th>\n",
       "      <td>A794011</td>\n",
       "      <td>Chunk</td>\n",
       "      <td>2019-05-08 18:20:00</td>\n",
       "      <td>2019-05-01</td>\n",
       "      <td>2017-05-02</td>\n",
       "      <td>Rto-Adopt</td>\n",
       "      <td>NaN</td>\n",
       "      <td>Cat</td>\n",
       "      <td>Neutered Male</td>\n",
       "      <td>2 years</td>\n",
       "      <td>Domestic Shorthair Mix</td>\n",
       "      <td>Brown Tabby/White</td>\n",
       "    </tr>\n",
       "    <tr>\n",
       "      <th>2</th>\n",
       "      <td>A776359</td>\n",
       "      <td>Gizmo</td>\n",
       "      <td>2018-07-18 16:02:00</td>\n",
       "      <td>2018-07-01</td>\n",
       "      <td>2017-07-12</td>\n",
       "      <td>Adoption</td>\n",
       "      <td>NaN</td>\n",
       "      <td>Dog</td>\n",
       "      <td>Neutered Male</td>\n",
       "      <td>1 year</td>\n",
       "      <td>Chihuahua Shorthair Mix</td>\n",
       "      <td>White/Brown</td>\n",
       "    </tr>\n",
       "    <tr>\n",
       "      <th>3</th>\n",
       "      <td>A821648</td>\n",
       "      <td>NaN</td>\n",
       "      <td>2020-08-16 11:38:00</td>\n",
       "      <td>2020-08-01</td>\n",
       "      <td>2019-08-16</td>\n",
       "      <td>Euthanasia</td>\n",
       "      <td>NaN</td>\n",
       "      <td>Other</td>\n",
       "      <td>Unknown</td>\n",
       "      <td>1 year</td>\n",
       "      <td>Raccoon</td>\n",
       "      <td>Gray</td>\n",
       "    </tr>\n",
       "    <tr>\n",
       "      <th>4</th>\n",
       "      <td>A720371</td>\n",
       "      <td>Moose</td>\n",
       "      <td>2016-02-13 17:59:00</td>\n",
       "      <td>2016-02-01</td>\n",
       "      <td>2015-10-08</td>\n",
       "      <td>Adoption</td>\n",
       "      <td>NaN</td>\n",
       "      <td>Dog</td>\n",
       "      <td>Neutered Male</td>\n",
       "      <td>4 months</td>\n",
       "      <td>Anatol Shepherd/Labrador Retriever</td>\n",
       "      <td>Buff</td>\n",
       "    </tr>\n",
       "    <tr>\n",
       "      <th>...</th>\n",
       "      <td>...</td>\n",
       "      <td>...</td>\n",
       "      <td>...</td>\n",
       "      <td>...</td>\n",
       "      <td>...</td>\n",
       "      <td>...</td>\n",
       "      <td>...</td>\n",
       "      <td>...</td>\n",
       "      <td>...</td>\n",
       "      <td>...</td>\n",
       "      <td>...</td>\n",
       "      <td>...</td>\n",
       "    </tr>\n",
       "    <tr>\n",
       "      <th>172108</th>\n",
       "      <td>A922949</td>\n",
       "      <td>*Scout</td>\n",
       "      <td>2025-03-07 11:45:00</td>\n",
       "      <td>2025-03-01</td>\n",
       "      <td>2024-12-16</td>\n",
       "      <td>Adoption</td>\n",
       "      <td>Foster</td>\n",
       "      <td>Dog</td>\n",
       "      <td>Neutered Male</td>\n",
       "      <td>2 months</td>\n",
       "      <td>Chihuahua Shorthair Mix</td>\n",
       "      <td>Buff/White</td>\n",
       "    </tr>\n",
       "    <tr>\n",
       "      <th>172109</th>\n",
       "      <td>A925959</td>\n",
       "      <td>NaN</td>\n",
       "      <td>2025-03-07 11:24:00</td>\n",
       "      <td>2025-03-01</td>\n",
       "      <td>2021-03-03</td>\n",
       "      <td>Transfer</td>\n",
       "      <td>Partner</td>\n",
       "      <td>Dog</td>\n",
       "      <td>Intact Male</td>\n",
       "      <td>4 years</td>\n",
       "      <td>Dachshund/Chihuahua Shorthair</td>\n",
       "      <td>Black/White</td>\n",
       "    </tr>\n",
       "    <tr>\n",
       "      <th>172110</th>\n",
       "      <td>A925235</td>\n",
       "      <td>*Gertrude</td>\n",
       "      <td>2025-03-07 12:48:00</td>\n",
       "      <td>2025-03-01</td>\n",
       "      <td>2019-02-27</td>\n",
       "      <td>Adoption</td>\n",
       "      <td>NaN</td>\n",
       "      <td>Dog</td>\n",
       "      <td>Spayed Female</td>\n",
       "      <td>6 years</td>\n",
       "      <td>Miniature Schnauzer</td>\n",
       "      <td>Black/Black</td>\n",
       "    </tr>\n",
       "    <tr>\n",
       "      <th>172111</th>\n",
       "      <td>A924228</td>\n",
       "      <td>*Penny Lane</td>\n",
       "      <td>2025-03-07 12:41:00</td>\n",
       "      <td>2025-03-01</td>\n",
       "      <td>2025-01-06</td>\n",
       "      <td>Adoption</td>\n",
       "      <td>NaN</td>\n",
       "      <td>Dog</td>\n",
       "      <td>Spayed Female</td>\n",
       "      <td>1 month</td>\n",
       "      <td>Australian Cattle Dog/Pit Bull</td>\n",
       "      <td>Blue Tick</td>\n",
       "    </tr>\n",
       "    <tr>\n",
       "      <th>172112</th>\n",
       "      <td>A926089</td>\n",
       "      <td>NaN</td>\n",
       "      <td>2025-03-07 13:48:00</td>\n",
       "      <td>2025-03-01</td>\n",
       "      <td>2014-03-05</td>\n",
       "      <td>Transfer</td>\n",
       "      <td>Partner</td>\n",
       "      <td>Dog</td>\n",
       "      <td>Intact Female</td>\n",
       "      <td>11 years</td>\n",
       "      <td>Toy Poodle</td>\n",
       "      <td>White</td>\n",
       "    </tr>\n",
       "  </tbody>\n",
       "</table>\n",
       "<p>172088 rows × 12 columns</p>\n",
       "</div>"
      ],
      "text/plain": [
       "       Animal ID         Name            DateTime  MonthYear Date of Birth  \\\n",
       "0        A882831    *Hamilton 2023-07-01 18:12:00 2023-07-01    2023-03-25   \n",
       "1        A794011        Chunk 2019-05-08 18:20:00 2019-05-01    2017-05-02   \n",
       "2        A776359        Gizmo 2018-07-18 16:02:00 2018-07-01    2017-07-12   \n",
       "3        A821648          NaN 2020-08-16 11:38:00 2020-08-01    2019-08-16   \n",
       "4        A720371        Moose 2016-02-13 17:59:00 2016-02-01    2015-10-08   \n",
       "...          ...          ...                 ...        ...           ...   \n",
       "172108   A922949       *Scout 2025-03-07 11:45:00 2025-03-01    2024-12-16   \n",
       "172109   A925959          NaN 2025-03-07 11:24:00 2025-03-01    2021-03-03   \n",
       "172110   A925235    *Gertrude 2025-03-07 12:48:00 2025-03-01    2019-02-27   \n",
       "172111   A924228  *Penny Lane 2025-03-07 12:41:00 2025-03-01    2025-01-06   \n",
       "172112   A926089          NaN 2025-03-07 13:48:00 2025-03-01    2014-03-05   \n",
       "\n",
       "       Outcome Type Outcome Subtype Animal Type Sex upon Outcome  \\\n",
       "0          Adoption             NaN         Cat    Neutered Male   \n",
       "1         Rto-Adopt             NaN         Cat    Neutered Male   \n",
       "2          Adoption             NaN         Dog    Neutered Male   \n",
       "3        Euthanasia             NaN       Other          Unknown   \n",
       "4          Adoption             NaN         Dog    Neutered Male   \n",
       "...             ...             ...         ...              ...   \n",
       "172108     Adoption          Foster         Dog    Neutered Male   \n",
       "172109     Transfer         Partner         Dog      Intact Male   \n",
       "172110     Adoption             NaN         Dog    Spayed Female   \n",
       "172111     Adoption             NaN         Dog    Spayed Female   \n",
       "172112     Transfer         Partner         Dog    Intact Female   \n",
       "\n",
       "       Age upon Outcome                               Breed              Color  \n",
       "0              3 months              Domestic Shorthair Mix        Black/White  \n",
       "1               2 years              Domestic Shorthair Mix  Brown Tabby/White  \n",
       "2                1 year             Chihuahua Shorthair Mix        White/Brown  \n",
       "3                1 year                             Raccoon               Gray  \n",
       "4              4 months  Anatol Shepherd/Labrador Retriever               Buff  \n",
       "...                 ...                                 ...                ...  \n",
       "172108         2 months             Chihuahua Shorthair Mix         Buff/White  \n",
       "172109          4 years       Dachshund/Chihuahua Shorthair        Black/White  \n",
       "172110          6 years                 Miniature Schnauzer        Black/Black  \n",
       "172111          1 month      Australian Cattle Dog/Pit Bull          Blue Tick  \n",
       "172112         11 years                          Toy Poodle              White  \n",
       "\n",
       "[172088 rows x 12 columns]"
      ]
     },
     "execution_count": 10,
     "metadata": {},
     "output_type": "execute_result"
    }
   ],
   "source": [
    "df.drop_duplicates()"
   ]
  },
  {
   "cell_type": "markdown",
   "id": "31b38171",
   "metadata": {
    "papermill": {
     "duration": 0.014236,
     "end_time": "2025-03-24T21:32:30.910937",
     "exception": false,
     "start_time": "2025-03-24T21:32:30.896701",
     "status": "completed"
    },
    "tags": []
   },
   "source": [
    "Are there any inconsistent or unexpected values (e.g., negative ages, incorrect dates)?"
   ]
  },
  {
   "cell_type": "code",
   "execution_count": 11,
   "id": "7a8756bb",
   "metadata": {
    "execution": {
     "iopub.execute_input": "2025-03-24T21:32:30.942416Z",
     "iopub.status.busy": "2025-03-24T21:32:30.941970Z",
     "iopub.status.idle": "2025-03-24T21:32:30.978701Z",
     "shell.execute_reply": "2025-03-24T21:32:30.977541Z"
    },
    "papermill": {
     "duration": 0.054555,
     "end_time": "2025-03-24T21:32:30.980455",
     "exception": false,
     "start_time": "2025-03-24T21:32:30.925900",
     "status": "completed"
    },
    "tags": []
   },
   "outputs": [
    {
     "data": {
      "text/plain": [
       "Name\n",
       "Luna        748\n",
       "Max         721\n",
       "Bella       674\n",
       "Rocky       490\n",
       "Daisy       464\n",
       "           ... \n",
       "*Brocade      1\n",
       "Babydoll      1\n",
       "A849756       1\n",
       "Karati        1\n",
       "Trueno        1\n",
       "Name: count, Length: 29585, dtype: int64"
      ]
     },
     "execution_count": 11,
     "metadata": {},
     "output_type": "execute_result"
    }
   ],
   "source": [
    "df['Name'].value_counts()"
   ]
  },
  {
   "cell_type": "code",
   "execution_count": 12,
   "id": "34f70044",
   "metadata": {
    "execution": {
     "iopub.execute_input": "2025-03-24T21:32:31.011806Z",
     "iopub.status.busy": "2025-03-24T21:32:31.011430Z",
     "iopub.status.idle": "2025-03-24T21:32:31.053431Z",
     "shell.execute_reply": "2025-03-24T21:32:31.052245Z"
    },
    "papermill": {
     "duration": 0.059986,
     "end_time": "2025-03-24T21:32:31.055199",
     "exception": false,
     "start_time": "2025-03-24T21:32:30.995213",
     "status": "completed"
    },
    "tags": []
   },
   "outputs": [
    {
     "data": {
      "text/html": [
       "<div>\n",
       "<style scoped>\n",
       "    .dataframe tbody tr th:only-of-type {\n",
       "        vertical-align: middle;\n",
       "    }\n",
       "\n",
       "    .dataframe tbody tr th {\n",
       "        vertical-align: top;\n",
       "    }\n",
       "\n",
       "    .dataframe thead th {\n",
       "        text-align: right;\n",
       "    }\n",
       "</style>\n",
       "<table border=\"1\" class=\"dataframe\">\n",
       "  <thead>\n",
       "    <tr style=\"text-align: right;\">\n",
       "      <th></th>\n",
       "      <th>Animal ID</th>\n",
       "      <th>Name</th>\n",
       "      <th>DateTime</th>\n",
       "      <th>MonthYear</th>\n",
       "      <th>Date of Birth</th>\n",
       "      <th>Outcome Type</th>\n",
       "      <th>Outcome Subtype</th>\n",
       "      <th>Animal Type</th>\n",
       "      <th>Sex upon Outcome</th>\n",
       "      <th>Age upon Outcome</th>\n",
       "      <th>Breed</th>\n",
       "      <th>Color</th>\n",
       "    </tr>\n",
       "  </thead>\n",
       "  <tbody>\n",
       "    <tr>\n",
       "      <th>3</th>\n",
       "      <td>A821648</td>\n",
       "      <td>NaN</td>\n",
       "      <td>2020-08-16 11:38:00</td>\n",
       "      <td>2020-08-01</td>\n",
       "      <td>2019-08-16</td>\n",
       "      <td>Euthanasia</td>\n",
       "      <td>NaN</td>\n",
       "      <td>Other</td>\n",
       "      <td>Unknown</td>\n",
       "      <td>1 year</td>\n",
       "      <td>Raccoon</td>\n",
       "      <td>Gray</td>\n",
       "    </tr>\n",
       "    <tr>\n",
       "      <th>5</th>\n",
       "      <td>A674754</td>\n",
       "      <td>NaN</td>\n",
       "      <td>2014-03-18 11:47:00</td>\n",
       "      <td>2014-03-01</td>\n",
       "      <td>2014-03-12</td>\n",
       "      <td>Transfer</td>\n",
       "      <td>Partner</td>\n",
       "      <td>Cat</td>\n",
       "      <td>Intact Male</td>\n",
       "      <td>6 days</td>\n",
       "      <td>Domestic Shorthair Mix</td>\n",
       "      <td>Orange Tabby</td>\n",
       "    </tr>\n",
       "    <tr>\n",
       "      <th>8</th>\n",
       "      <td>A902098</td>\n",
       "      <td>NaN</td>\n",
       "      <td>2024-07-18 12:07:00</td>\n",
       "      <td>2024-07-01</td>\n",
       "      <td>2024-04-10</td>\n",
       "      <td>Adoption</td>\n",
       "      <td>Foster</td>\n",
       "      <td>Cat</td>\n",
       "      <td>Neutered Male</td>\n",
       "      <td>3 months</td>\n",
       "      <td>Domestic Shorthair</td>\n",
       "      <td>Blue Tabby</td>\n",
       "    </tr>\n",
       "    <tr>\n",
       "      <th>13</th>\n",
       "      <td>A888689</td>\n",
       "      <td>NaN</td>\n",
       "      <td>2023-09-14 09:22:00</td>\n",
       "      <td>2023-09-01</td>\n",
       "      <td>2020-09-11</td>\n",
       "      <td>Transfer</td>\n",
       "      <td>Snr</td>\n",
       "      <td>Cat</td>\n",
       "      <td>Intact Male</td>\n",
       "      <td>3 years</td>\n",
       "      <td>Domestic Medium Hair</td>\n",
       "      <td>Brown Tabby</td>\n",
       "    </tr>\n",
       "    <tr>\n",
       "      <th>14</th>\n",
       "      <td>A684617</td>\n",
       "      <td>NaN</td>\n",
       "      <td>2014-07-27 09:00:00</td>\n",
       "      <td>2014-07-01</td>\n",
       "      <td>2012-07-26</td>\n",
       "      <td>Transfer</td>\n",
       "      <td>SCRP</td>\n",
       "      <td>Cat</td>\n",
       "      <td>Intact Female</td>\n",
       "      <td>2 years</td>\n",
       "      <td>Domestic Shorthair Mix</td>\n",
       "      <td>Black</td>\n",
       "    </tr>\n",
       "    <tr>\n",
       "      <th>...</th>\n",
       "      <td>...</td>\n",
       "      <td>...</td>\n",
       "      <td>...</td>\n",
       "      <td>...</td>\n",
       "      <td>...</td>\n",
       "      <td>...</td>\n",
       "      <td>...</td>\n",
       "      <td>...</td>\n",
       "      <td>...</td>\n",
       "      <td>...</td>\n",
       "      <td>...</td>\n",
       "      <td>...</td>\n",
       "    </tr>\n",
       "    <tr>\n",
       "      <th>172105</th>\n",
       "      <td>A925579</td>\n",
       "      <td>NaN</td>\n",
       "      <td>2025-03-07 11:18:00</td>\n",
       "      <td>2025-03-01</td>\n",
       "      <td>2023-02-26</td>\n",
       "      <td>Transfer</td>\n",
       "      <td>Partner</td>\n",
       "      <td>Dog</td>\n",
       "      <td>Intact Male</td>\n",
       "      <td>2 years</td>\n",
       "      <td>Shih Tzu</td>\n",
       "      <td>White/Black</td>\n",
       "    </tr>\n",
       "    <tr>\n",
       "      <th>172106</th>\n",
       "      <td>A922138</td>\n",
       "      <td>NaN</td>\n",
       "      <td>2025-03-07 11:14:00</td>\n",
       "      <td>2025-03-01</td>\n",
       "      <td>2024-01-24</td>\n",
       "      <td>Adoption</td>\n",
       "      <td>Foster</td>\n",
       "      <td>Cat</td>\n",
       "      <td>Spayed Female</td>\n",
       "      <td>1 year</td>\n",
       "      <td>Domestic Shorthair</td>\n",
       "      <td>Tortie</td>\n",
       "    </tr>\n",
       "    <tr>\n",
       "      <th>172107</th>\n",
       "      <td>A925987</td>\n",
       "      <td>NaN</td>\n",
       "      <td>2025-03-07 11:16:00</td>\n",
       "      <td>2025-03-01</td>\n",
       "      <td>2024-03-03</td>\n",
       "      <td>Transfer</td>\n",
       "      <td>Partner</td>\n",
       "      <td>Dog</td>\n",
       "      <td>Intact Male</td>\n",
       "      <td>1 year</td>\n",
       "      <td>Lhasa Apso</td>\n",
       "      <td>Black/Brown</td>\n",
       "    </tr>\n",
       "    <tr>\n",
       "      <th>172109</th>\n",
       "      <td>A925959</td>\n",
       "      <td>NaN</td>\n",
       "      <td>2025-03-07 11:24:00</td>\n",
       "      <td>2025-03-01</td>\n",
       "      <td>2021-03-03</td>\n",
       "      <td>Transfer</td>\n",
       "      <td>Partner</td>\n",
       "      <td>Dog</td>\n",
       "      <td>Intact Male</td>\n",
       "      <td>4 years</td>\n",
       "      <td>Dachshund/Chihuahua Shorthair</td>\n",
       "      <td>Black/White</td>\n",
       "    </tr>\n",
       "    <tr>\n",
       "      <th>172112</th>\n",
       "      <td>A926089</td>\n",
       "      <td>NaN</td>\n",
       "      <td>2025-03-07 13:48:00</td>\n",
       "      <td>2025-03-01</td>\n",
       "      <td>2014-03-05</td>\n",
       "      <td>Transfer</td>\n",
       "      <td>Partner</td>\n",
       "      <td>Dog</td>\n",
       "      <td>Intact Female</td>\n",
       "      <td>11 years</td>\n",
       "      <td>Toy Poodle</td>\n",
       "      <td>White</td>\n",
       "    </tr>\n",
       "  </tbody>\n",
       "</table>\n",
       "<p>49268 rows × 12 columns</p>\n",
       "</div>"
      ],
      "text/plain": [
       "       Animal ID Name            DateTime  MonthYear Date of Birth  \\\n",
       "3        A821648  NaN 2020-08-16 11:38:00 2020-08-01    2019-08-16   \n",
       "5        A674754  NaN 2014-03-18 11:47:00 2014-03-01    2014-03-12   \n",
       "8        A902098  NaN 2024-07-18 12:07:00 2024-07-01    2024-04-10   \n",
       "13       A888689  NaN 2023-09-14 09:22:00 2023-09-01    2020-09-11   \n",
       "14       A684617  NaN 2014-07-27 09:00:00 2014-07-01    2012-07-26   \n",
       "...          ...  ...                 ...        ...           ...   \n",
       "172105   A925579  NaN 2025-03-07 11:18:00 2025-03-01    2023-02-26   \n",
       "172106   A922138  NaN 2025-03-07 11:14:00 2025-03-01    2024-01-24   \n",
       "172107   A925987  NaN 2025-03-07 11:16:00 2025-03-01    2024-03-03   \n",
       "172109   A925959  NaN 2025-03-07 11:24:00 2025-03-01    2021-03-03   \n",
       "172112   A926089  NaN 2025-03-07 13:48:00 2025-03-01    2014-03-05   \n",
       "\n",
       "       Outcome Type Outcome Subtype Animal Type Sex upon Outcome  \\\n",
       "3        Euthanasia             NaN       Other          Unknown   \n",
       "5          Transfer         Partner         Cat      Intact Male   \n",
       "8          Adoption          Foster         Cat    Neutered Male   \n",
       "13         Transfer             Snr         Cat      Intact Male   \n",
       "14         Transfer            SCRP         Cat    Intact Female   \n",
       "...             ...             ...         ...              ...   \n",
       "172105     Transfer         Partner         Dog      Intact Male   \n",
       "172106     Adoption          Foster         Cat    Spayed Female   \n",
       "172107     Transfer         Partner         Dog      Intact Male   \n",
       "172109     Transfer         Partner         Dog      Intact Male   \n",
       "172112     Transfer         Partner         Dog    Intact Female   \n",
       "\n",
       "       Age upon Outcome                          Breed         Color  \n",
       "3                1 year                        Raccoon          Gray  \n",
       "5                6 days         Domestic Shorthair Mix  Orange Tabby  \n",
       "8              3 months             Domestic Shorthair    Blue Tabby  \n",
       "13              3 years           Domestic Medium Hair   Brown Tabby  \n",
       "14              2 years         Domestic Shorthair Mix         Black  \n",
       "...                 ...                            ...           ...  \n",
       "172105          2 years                       Shih Tzu   White/Black  \n",
       "172106           1 year             Domestic Shorthair        Tortie  \n",
       "172107           1 year                     Lhasa Apso   Black/Brown  \n",
       "172109          4 years  Dachshund/Chihuahua Shorthair   Black/White  \n",
       "172112         11 years                     Toy Poodle         White  \n",
       "\n",
       "[49268 rows x 12 columns]"
      ]
     },
     "execution_count": 12,
     "metadata": {},
     "output_type": "execute_result"
    }
   ],
   "source": [
    "df['Name'].isna().sum()\n",
    "df[df['Name'].isna()]"
   ]
  },
  {
   "cell_type": "code",
   "execution_count": 13,
   "id": "142e0c49",
   "metadata": {
    "execution": {
     "iopub.execute_input": "2025-03-24T21:32:31.086439Z",
     "iopub.status.busy": "2025-03-24T21:32:31.086101Z",
     "iopub.status.idle": "2025-03-24T21:32:31.103968Z",
     "shell.execute_reply": "2025-03-24T21:32:31.102677Z"
    },
    "papermill": {
     "duration": 0.035336,
     "end_time": "2025-03-24T21:32:31.105566",
     "exception": false,
     "start_time": "2025-03-24T21:32:31.070230",
     "status": "completed"
    },
    "tags": []
   },
   "outputs": [
    {
     "name": "stderr",
     "output_type": "stream",
     "text": [
      "<ipython-input-13-c9c58b5c4e5b>:1: FutureWarning: A value is trying to be set on a copy of a DataFrame or Series through chained assignment using an inplace method.\n",
      "The behavior will change in pandas 3.0. This inplace method will never work because the intermediate object on which we are setting values always behaves as a copy.\n",
      "\n",
      "For example, when doing 'df[col].method(value, inplace=True)', try using 'df.method({col: value}, inplace=True)' or df[col] = df[col].method(value) instead, to perform the operation inplace on the original object.\n",
      "\n",
      "\n",
      "  df['Name'].fillna('Unknown', inplace=True)\n"
     ]
    }
   ],
   "source": [
    "df['Name'].fillna('Unknown', inplace=True)"
   ]
  },
  {
   "cell_type": "markdown",
   "id": "3378a1a1",
   "metadata": {
    "papermill": {
     "duration": 0.014465,
     "end_time": "2025-03-24T21:32:31.135303",
     "exception": false,
     "start_time": "2025-03-24T21:32:31.120838",
     "status": "completed"
    },
    "tags": []
   },
   "source": [
    "Checking for null values again after using default 'Unknown' name"
   ]
  },
  {
   "cell_type": "code",
   "execution_count": 14,
   "id": "288903c6",
   "metadata": {
    "execution": {
     "iopub.execute_input": "2025-03-24T21:32:31.166901Z",
     "iopub.status.busy": "2025-03-24T21:32:31.166488Z",
     "iopub.status.idle": "2025-03-24T21:32:31.195414Z",
     "shell.execute_reply": "2025-03-24T21:32:31.194364Z"
    },
    "papermill": {
     "duration": 0.04643,
     "end_time": "2025-03-24T21:32:31.197106",
     "exception": false,
     "start_time": "2025-03-24T21:32:31.150676",
     "status": "completed"
    },
    "tags": []
   },
   "outputs": [
    {
     "data": {
      "text/html": [
       "<div>\n",
       "<style scoped>\n",
       "    .dataframe tbody tr th:only-of-type {\n",
       "        vertical-align: middle;\n",
       "    }\n",
       "\n",
       "    .dataframe tbody tr th {\n",
       "        vertical-align: top;\n",
       "    }\n",
       "\n",
       "    .dataframe thead th {\n",
       "        text-align: right;\n",
       "    }\n",
       "</style>\n",
       "<table border=\"1\" class=\"dataframe\">\n",
       "  <thead>\n",
       "    <tr style=\"text-align: right;\">\n",
       "      <th></th>\n",
       "      <th>Animal ID</th>\n",
       "      <th>Name</th>\n",
       "      <th>DateTime</th>\n",
       "      <th>MonthYear</th>\n",
       "      <th>Date of Birth</th>\n",
       "      <th>Outcome Type</th>\n",
       "      <th>Outcome Subtype</th>\n",
       "      <th>Animal Type</th>\n",
       "      <th>Sex upon Outcome</th>\n",
       "      <th>Age upon Outcome</th>\n",
       "      <th>Breed</th>\n",
       "      <th>Color</th>\n",
       "    </tr>\n",
       "  </thead>\n",
       "  <tbody>\n",
       "  </tbody>\n",
       "</table>\n",
       "</div>"
      ],
      "text/plain": [
       "Empty DataFrame\n",
       "Columns: [Animal ID, Name, DateTime, MonthYear, Date of Birth, Outcome Type, Outcome Subtype, Animal Type, Sex upon Outcome, Age upon Outcome, Breed, Color]\n",
       "Index: []"
      ]
     },
     "execution_count": 14,
     "metadata": {},
     "output_type": "execute_result"
    }
   ],
   "source": [
    "df['Name'].isna().sum()\n",
    "df[df['Name'].isna()]"
   ]
  },
  {
   "cell_type": "markdown",
   "id": "99d16feb",
   "metadata": {
    "papermill": {
     "duration": 0.014662,
     "end_time": "2025-03-24T21:32:31.227188",
     "exception": false,
     "start_time": "2025-03-24T21:32:31.212526",
     "status": "completed"
    },
    "tags": []
   },
   "source": [
    "Looking at some of the weird names"
   ]
  },
  {
   "cell_type": "code",
   "execution_count": 15,
   "id": "94109337",
   "metadata": {
    "execution": {
     "iopub.execute_input": "2025-03-24T21:32:31.259437Z",
     "iopub.status.busy": "2025-03-24T21:32:31.259110Z",
     "iopub.status.idle": "2025-03-24T21:32:31.294376Z",
     "shell.execute_reply": "2025-03-24T21:32:31.293223Z"
    },
    "papermill": {
     "duration": 0.053932,
     "end_time": "2025-03-24T21:32:31.296091",
     "exception": false,
     "start_time": "2025-03-24T21:32:31.242159",
     "status": "completed"
    },
    "tags": []
   },
   "outputs": [
    {
     "data": {
      "text/plain": [
       "Index(['*Pearl The Girl', 'Navada', '*170 G', 'Tatianna', '*Keroppi',\n",
       "       'A837241', '*Cat Benatar', '*Ol' Saint Nick', 'Big Maximus', 'Oddie',\n",
       "       ...\n",
       "       'Panny', 'Hestia', 'A872166', 'A863086', 'Chicago', '*Brocade',\n",
       "       'Babydoll', 'A849756', 'Karati', 'Trueno'],\n",
       "      dtype='object', name='Name', length=17910)"
      ]
     },
     "execution_count": 15,
     "metadata": {},
     "output_type": "execute_result"
    }
   ],
   "source": [
    "unique_values = df['Name'].value_counts()\n",
    "unique_values[unique_values == 1].index"
   ]
  },
  {
   "cell_type": "markdown",
   "id": "23251c46",
   "metadata": {
    "papermill": {
     "duration": 0.01488,
     "end_time": "2025-03-24T21:32:31.326382",
     "exception": false,
     "start_time": "2025-03-24T21:32:31.311502",
     "status": "completed"
    },
    "tags": []
   },
   "source": [
    "Checking for non-Alphabetical characters"
   ]
  },
  {
   "cell_type": "code",
   "execution_count": 16,
   "id": "5198cbec",
   "metadata": {
    "execution": {
     "iopub.execute_input": "2025-03-24T21:32:31.358655Z",
     "iopub.status.busy": "2025-03-24T21:32:31.358283Z",
     "iopub.status.idle": "2025-03-24T21:32:31.431768Z",
     "shell.execute_reply": "2025-03-24T21:32:31.430517Z"
    },
    "papermill": {
     "duration": 0.091437,
     "end_time": "2025-03-24T21:32:31.433527",
     "exception": false,
     "start_time": "2025-03-24T21:32:31.342090",
     "status": "completed"
    },
    "tags": []
   },
   "outputs": [
    {
     "name": "stdout",
     "output_type": "stream",
     "text": [
      "28                  A878380\n",
      "37                  A886502\n",
      "55                  A851472\n",
      "72                  A839936\n",
      "98           *Boot Scootin'\n",
      "                ...        \n",
      "171661         *Mr. Pickles\n",
      "171708         *Mr. Pickles\n",
      "171946           *Choco-Cat\n",
      "172075       *Mae(Deceased)\n",
      "172080    24-1809C Snowball\n",
      "Name: Name, Length: 5484, dtype: object\n"
     ]
    }
   ],
   "source": [
    "weird_names = df[df['Name'].str.contains(r'[^a-zA-Z*\\s]', na=False)]\n",
    "print(weird_names['Name'])"
   ]
  },
  {
   "cell_type": "markdown",
   "id": "726f3dc2",
   "metadata": {
    "papermill": {
     "duration": 0.015517,
     "end_time": "2025-03-24T21:32:31.465066",
     "exception": false,
     "start_time": "2025-03-24T21:32:31.449549",
     "status": "completed"
    },
    "tags": []
   },
   "source": [
    "Why are there two cats named *Mr. Pickles? Same cat or different?"
   ]
  },
  {
   "cell_type": "code",
   "execution_count": 17,
   "id": "8811cb94",
   "metadata": {
    "execution": {
     "iopub.execute_input": "2025-03-24T21:32:31.497801Z",
     "iopub.status.busy": "2025-03-24T21:32:31.497403Z",
     "iopub.status.idle": "2025-03-24T21:32:31.524686Z",
     "shell.execute_reply": "2025-03-24T21:32:31.523695Z"
    },
    "papermill": {
     "duration": 0.045575,
     "end_time": "2025-03-24T21:32:31.526379",
     "exception": false,
     "start_time": "2025-03-24T21:32:31.480804",
     "status": "completed"
    },
    "tags": []
   },
   "outputs": [
    {
     "data": {
      "text/html": [
       "<div>\n",
       "<style scoped>\n",
       "    .dataframe tbody tr th:only-of-type {\n",
       "        vertical-align: middle;\n",
       "    }\n",
       "\n",
       "    .dataframe tbody tr th {\n",
       "        vertical-align: top;\n",
       "    }\n",
       "\n",
       "    .dataframe thead th {\n",
       "        text-align: right;\n",
       "    }\n",
       "</style>\n",
       "<table border=\"1\" class=\"dataframe\">\n",
       "  <thead>\n",
       "    <tr style=\"text-align: right;\">\n",
       "      <th></th>\n",
       "      <th>Animal ID</th>\n",
       "      <th>Name</th>\n",
       "      <th>DateTime</th>\n",
       "      <th>MonthYear</th>\n",
       "      <th>Date of Birth</th>\n",
       "      <th>Outcome Type</th>\n",
       "      <th>Outcome Subtype</th>\n",
       "      <th>Animal Type</th>\n",
       "      <th>Sex upon Outcome</th>\n",
       "      <th>Age upon Outcome</th>\n",
       "      <th>Breed</th>\n",
       "      <th>Color</th>\n",
       "    </tr>\n",
       "  </thead>\n",
       "  <tbody>\n",
       "    <tr>\n",
       "      <th>11235</th>\n",
       "      <td>A772703</td>\n",
       "      <td>*Mr. Pickles</td>\n",
       "      <td>2019-01-16 13:55:00</td>\n",
       "      <td>2019-01-01</td>\n",
       "      <td>2015-05-22</td>\n",
       "      <td>Adoption</td>\n",
       "      <td>Foster</td>\n",
       "      <td>Dog</td>\n",
       "      <td>Neutered Male</td>\n",
       "      <td>3 years</td>\n",
       "      <td>American Pit Bull Terrier Mix</td>\n",
       "      <td>Blue/White</td>\n",
       "    </tr>\n",
       "    <tr>\n",
       "      <th>171661</th>\n",
       "      <td>A741366</td>\n",
       "      <td>*Mr. Pickles</td>\n",
       "      <td>2017-01-05 17:25:00</td>\n",
       "      <td>2017-01-01</td>\n",
       "      <td>2015-12-31</td>\n",
       "      <td>Adoption</td>\n",
       "      <td>NaN</td>\n",
       "      <td>Dog</td>\n",
       "      <td>Neutered Male</td>\n",
       "      <td>1 year</td>\n",
       "      <td>Norwich Terrier Mix</td>\n",
       "      <td>Tan</td>\n",
       "    </tr>\n",
       "    <tr>\n",
       "      <th>171708</th>\n",
       "      <td>A741366</td>\n",
       "      <td>*Mr. Pickles</td>\n",
       "      <td>2025-02-23 11:51:00</td>\n",
       "      <td>2025-02-01</td>\n",
       "      <td>2015-12-31</td>\n",
       "      <td>Adoption</td>\n",
       "      <td>NaN</td>\n",
       "      <td>Dog</td>\n",
       "      <td>Neutered Male</td>\n",
       "      <td>9 years</td>\n",
       "      <td>Norwich Terrier Mix</td>\n",
       "      <td>Tan</td>\n",
       "    </tr>\n",
       "  </tbody>\n",
       "</table>\n",
       "</div>"
      ],
      "text/plain": [
       "       Animal ID          Name            DateTime  MonthYear Date of Birth  \\\n",
       "11235    A772703  *Mr. Pickles 2019-01-16 13:55:00 2019-01-01    2015-05-22   \n",
       "171661   A741366  *Mr. Pickles 2017-01-05 17:25:00 2017-01-01    2015-12-31   \n",
       "171708   A741366  *Mr. Pickles 2025-02-23 11:51:00 2025-02-01    2015-12-31   \n",
       "\n",
       "       Outcome Type Outcome Subtype Animal Type Sex upon Outcome  \\\n",
       "11235      Adoption          Foster         Dog    Neutered Male   \n",
       "171661     Adoption             NaN         Dog    Neutered Male   \n",
       "171708     Adoption             NaN         Dog    Neutered Male   \n",
       "\n",
       "       Age upon Outcome                          Breed       Color  \n",
       "11235           3 years  American Pit Bull Terrier Mix  Blue/White  \n",
       "171661           1 year            Norwich Terrier Mix         Tan  \n",
       "171708          9 years            Norwich Terrier Mix         Tan  "
      ]
     },
     "execution_count": 17,
     "metadata": {},
     "output_type": "execute_result"
    }
   ],
   "source": [
    "df[df['Name'] == '*Mr. Pickles']"
   ]
  },
  {
   "cell_type": "markdown",
   "id": "6a0708ab",
   "metadata": {
    "papermill": {
     "duration": 0.015985,
     "end_time": "2025-03-24T21:32:31.558471",
     "exception": false,
     "start_time": "2025-03-24T21:32:31.542486",
     "status": "completed"
    },
    "tags": []
   },
   "source": [
    "Animals with parentheses in their name"
   ]
  },
  {
   "cell_type": "code",
   "execution_count": 18,
   "id": "68c2c5a6",
   "metadata": {
    "execution": {
     "iopub.execute_input": "2025-03-24T21:32:31.591779Z",
     "iopub.status.busy": "2025-03-24T21:32:31.591338Z",
     "iopub.status.idle": "2025-03-24T21:32:31.655921Z",
     "shell.execute_reply": "2025-03-24T21:32:31.654697Z"
    },
    "papermill": {
     "duration": 0.0834,
     "end_time": "2025-03-24T21:32:31.657794",
     "exception": false,
     "start_time": "2025-03-24T21:32:31.574394",
     "status": "completed"
    },
    "tags": []
   },
   "outputs": [
    {
     "name": "stdout",
     "output_type": "stream",
     "text": [
      "9082      (Pup 2 - Head Stripe)\n",
      "9463      884864 (White Collar)\n",
      "10966            Chaplin( Loco)\n",
      "11475         Bella (Bluebelle)\n",
      "13360              Baymax (Max)\n",
      "                  ...          \n",
      "169267          Lb (Little Boy)\n",
      "170074         Woodrow (Woodie)\n",
      "171381                 (Baby 1)\n",
      "171387                 (Baby 2)\n",
      "172075           *Mae(Deceased)\n",
      "Name: Name, Length: 86, dtype: object\n"
     ]
    }
   ],
   "source": [
    "parens_names = df[df['Name'].str.contains(r'[()]', na=False)]\n",
    "print(parens_names['Name'])"
   ]
  },
  {
   "cell_type": "code",
   "execution_count": 19,
   "id": "eab50aaa",
   "metadata": {
    "execution": {
     "iopub.execute_input": "2025-03-24T21:32:31.691208Z",
     "iopub.status.busy": "2025-03-24T21:32:31.690803Z",
     "iopub.status.idle": "2025-03-24T21:32:31.828128Z",
     "shell.execute_reply": "2025-03-24T21:32:31.827025Z"
    },
    "papermill": {
     "duration": 0.156186,
     "end_time": "2025-03-24T21:32:31.830158",
     "exception": false,
     "start_time": "2025-03-24T21:32:31.673972",
     "status": "completed"
    },
    "tags": []
   },
   "outputs": [
    {
     "data": {
      "text/plain": [
       "Index(['A721033', 'A718223', 'A718877', 'A705625', 'A706536', 'A761266',\n",
       "       'A616444', 'A700407', 'A737814', 'A716018',\n",
       "       ...\n",
       "       'A640710', 'A687949', 'A836558', 'A685166', 'A666654', 'A862131',\n",
       "       'A896685', 'A904147', 'A694520', 'A803141'],\n",
       "      dtype='object', name='Animal ID', length=13379)"
      ]
     },
     "execution_count": 19,
     "metadata": {},
     "output_type": "execute_result"
    }
   ],
   "source": [
    "dupe_values = df['Animal ID'].value_counts()\n",
    "dupe_values[dupe_values > 1].index"
   ]
  },
  {
   "cell_type": "code",
   "execution_count": 20,
   "id": "4876177e",
   "metadata": {
    "execution": {
     "iopub.execute_input": "2025-03-24T21:32:31.863770Z",
     "iopub.status.busy": "2025-03-24T21:32:31.863389Z",
     "iopub.status.idle": "2025-03-24T21:32:31.879557Z",
     "shell.execute_reply": "2025-03-24T21:32:31.878407Z"
    },
    "papermill": {
     "duration": 0.035181,
     "end_time": "2025-03-24T21:32:31.881448",
     "exception": false,
     "start_time": "2025-03-24T21:32:31.846267",
     "status": "completed"
    },
    "tags": []
   },
   "outputs": [
    {
     "data": {
      "text/plain": [
       "count                           172113\n",
       "mean     2018-11-06 11:28:53.957923072\n",
       "min                2013-10-01 09:31:00\n",
       "25%                2016-02-01 08:56:00\n",
       "50%                2018-07-21 17:54:00\n",
       "75%                2021-07-25 17:47:00\n",
       "max                2025-03-07 13:48:00\n",
       "Name: DateTime, dtype: object"
      ]
     },
     "execution_count": 20,
     "metadata": {},
     "output_type": "execute_result"
    }
   ],
   "source": [
    "df['DateTime'].describe()"
   ]
  },
  {
   "cell_type": "code",
   "execution_count": 21,
   "id": "e9bb857c",
   "metadata": {
    "execution": {
     "iopub.execute_input": "2025-03-24T21:32:31.972253Z",
     "iopub.status.busy": "2025-03-24T21:32:31.971906Z",
     "iopub.status.idle": "2025-03-24T21:32:31.983305Z",
     "shell.execute_reply": "2025-03-24T21:32:31.982316Z"
    },
    "papermill": {
     "duration": 0.086997,
     "end_time": "2025-03-24T21:32:31.984908",
     "exception": false,
     "start_time": "2025-03-24T21:32:31.897911",
     "status": "completed"
    },
    "tags": []
   },
   "outputs": [
    {
     "data": {
      "text/plain": [
       "MonthYear\n",
       "2019-06-01    2244\n",
       "2014-07-01    2084\n",
       "2019-08-01    1979\n",
       "2015-06-01    1976\n",
       "2019-07-01    1949\n",
       "              ... \n",
       "2021-01-01     649\n",
       "2020-05-01     442\n",
       "2021-02-01     422\n",
       "2020-04-01     393\n",
       "2025-03-01     213\n",
       "Name: count, Length: 138, dtype: int64"
      ]
     },
     "execution_count": 21,
     "metadata": {},
     "output_type": "execute_result"
    }
   ],
   "source": [
    "df['MonthYear'].value_counts()"
   ]
  },
  {
   "cell_type": "code",
   "execution_count": 22,
   "id": "baf2f079",
   "metadata": {
    "execution": {
     "iopub.execute_input": "2025-03-24T21:32:32.019512Z",
     "iopub.status.busy": "2025-03-24T21:32:32.019143Z",
     "iopub.status.idle": "2025-03-24T21:32:32.031194Z",
     "shell.execute_reply": "2025-03-24T21:32:32.030054Z"
    },
    "papermill": {
     "duration": 0.031602,
     "end_time": "2025-03-24T21:32:32.033030",
     "exception": false,
     "start_time": "2025-03-24T21:32:32.001428",
     "status": "completed"
    },
    "tags": []
   },
   "outputs": [
    {
     "data": {
      "text/plain": [
       "Date of Birth\n",
       "2016-05-01    121\n",
       "2014-05-05    120\n",
       "2015-09-01    117\n",
       "2014-04-21    117\n",
       "2018-04-16    108\n",
       "             ... \n",
       "2001-02-02      1\n",
       "1999-01-04      1\n",
       "1997-07-07      1\n",
       "2006-08-09      1\n",
       "2000-04-22      1\n",
       "Name: count, Length: 8613, dtype: int64"
      ]
     },
     "execution_count": 22,
     "metadata": {},
     "output_type": "execute_result"
    }
   ],
   "source": [
    "df['Date of Birth'].value_counts()"
   ]
  },
  {
   "cell_type": "code",
   "execution_count": 23,
   "id": "0d5e0bc1",
   "metadata": {
    "execution": {
     "iopub.execute_input": "2025-03-24T21:32:32.066405Z",
     "iopub.status.busy": "2025-03-24T21:32:32.066011Z",
     "iopub.status.idle": "2025-03-24T21:32:32.085153Z",
     "shell.execute_reply": "2025-03-24T21:32:32.084132Z"
    },
    "papermill": {
     "duration": 0.037714,
     "end_time": "2025-03-24T21:32:32.086875",
     "exception": false,
     "start_time": "2025-03-24T21:32:32.049161",
     "status": "completed"
    },
    "tags": []
   },
   "outputs": [
    {
     "data": {
      "text/plain": [
       "Outcome Type\n",
       "Adoption           83709\n",
       "Transfer           48264\n",
       "Return to Owner    25529\n",
       "Euthanasia         10686\n",
       "Died                1658\n",
       "Rto-Adopt           1230\n",
       "Disposal             868\n",
       "Missing               92\n",
       "Relocate              28\n",
       "Stolen                 5\n",
       "Lost                   2\n",
       "Name: count, dtype: int64"
      ]
     },
     "execution_count": 23,
     "metadata": {},
     "output_type": "execute_result"
    }
   ],
   "source": [
    "df['Outcome Type'].value_counts()"
   ]
  },
  {
   "cell_type": "code",
   "execution_count": 24,
   "id": "dac0e183",
   "metadata": {
    "execution": {
     "iopub.execute_input": "2025-03-24T21:32:32.121233Z",
     "iopub.status.busy": "2025-03-24T21:32:32.120842Z",
     "iopub.status.idle": "2025-03-24T21:32:32.137113Z",
     "shell.execute_reply": "2025-03-24T21:32:32.135995Z"
    },
    "papermill": {
     "duration": 0.035192,
     "end_time": "2025-03-24T21:32:32.138802",
     "exception": false,
     "start_time": "2025-03-24T21:32:32.103610",
     "status": "completed"
    },
    "tags": []
   },
   "outputs": [
    {
     "data": {
      "text/plain": [
       "Outcome Subtype\n",
       "Partner                40046\n",
       "Foster                 17729\n",
       "Rabies Risk             4843\n",
       "Suffering               4094\n",
       "Snr                     4041\n",
       "SCRP                    3211\n",
       "Out State                931\n",
       "In Kennel                866\n",
       "Aggressive               611\n",
       "Offsite                  512\n",
       "In Foster                413\n",
       "Medical                  352\n",
       "At Vet                   351\n",
       "Field                    238\n",
       "Behavior                 176\n",
       "Enroute                  112\n",
       "Court/Investigation       99\n",
       "Emergency                 52\n",
       "Underage                  37\n",
       "In Surgery                33\n",
       "Customer S                20\n",
       "Prc                       20\n",
       "Possible Theft            16\n",
       "Barn                      16\n",
       "In State                  12\n",
       "Emer                      11\n",
       "Name: count, dtype: int64"
      ]
     },
     "execution_count": 24,
     "metadata": {},
     "output_type": "execute_result"
    }
   ],
   "source": [
    "df['Outcome Subtype'].value_counts()"
   ]
  },
  {
   "cell_type": "code",
   "execution_count": 25,
   "id": "391c89ae",
   "metadata": {
    "execution": {
     "iopub.execute_input": "2025-03-24T21:32:32.173087Z",
     "iopub.status.busy": "2025-03-24T21:32:32.172682Z",
     "iopub.status.idle": "2025-03-24T21:32:32.191875Z",
     "shell.execute_reply": "2025-03-24T21:32:32.190744Z"
    },
    "papermill": {
     "duration": 0.038318,
     "end_time": "2025-03-24T21:32:32.193742",
     "exception": false,
     "start_time": "2025-03-24T21:32:32.155424",
     "status": "completed"
    },
    "tags": []
   },
   "outputs": [
    {
     "data": {
      "text/plain": [
       "Animal Type\n",
       "Dog          93718\n",
       "Cat          68652\n",
       "Other         8839\n",
       "Bird           870\n",
       "Livestock       34\n",
       "Name: count, dtype: int64"
      ]
     },
     "execution_count": 25,
     "metadata": {},
     "output_type": "execute_result"
    }
   ],
   "source": [
    "df['Animal Type'].value_counts()"
   ]
  },
  {
   "cell_type": "code",
   "execution_count": 26,
   "id": "1c86a53d",
   "metadata": {
    "execution": {
     "iopub.execute_input": "2025-03-24T21:32:32.228970Z",
     "iopub.status.busy": "2025-03-24T21:32:32.228559Z",
     "iopub.status.idle": "2025-03-24T21:32:32.247502Z",
     "shell.execute_reply": "2025-03-24T21:32:32.246430Z"
    },
    "papermill": {
     "duration": 0.038616,
     "end_time": "2025-03-24T21:32:32.249430",
     "exception": false,
     "start_time": "2025-03-24T21:32:32.210814",
     "status": "completed"
    },
    "tags": []
   },
   "outputs": [
    {
     "data": {
      "text/plain": [
       "Sex upon Outcome\n",
       "Neutered Male    60363\n",
       "Spayed Female    54784\n",
       "Intact Male      22056\n",
       "Intact Female    21614\n",
       "Unknown          13294\n",
       "Name: count, dtype: int64"
      ]
     },
     "execution_count": 26,
     "metadata": {},
     "output_type": "execute_result"
    }
   ],
   "source": [
    "df['Sex upon Outcome'].value_counts()"
   ]
  },
  {
   "cell_type": "code",
   "execution_count": 27,
   "id": "7fb12a28",
   "metadata": {
    "execution": {
     "iopub.execute_input": "2025-03-24T21:32:32.284561Z",
     "iopub.status.busy": "2025-03-24T21:32:32.284224Z",
     "iopub.status.idle": "2025-03-24T21:32:32.304147Z",
     "shell.execute_reply": "2025-03-24T21:32:32.303091Z"
    },
    "papermill": {
     "duration": 0.039209,
     "end_time": "2025-03-24T21:32:32.305999",
     "exception": false,
     "start_time": "2025-03-24T21:32:32.266790",
     "status": "completed"
    },
    "tags": []
   },
   "outputs": [
    {
     "data": {
      "text/plain": [
       "Age upon Outcome\n",
       "1 year       28510\n",
       "2 years      27603\n",
       "2 months     23069\n",
       "3 years       9702\n",
       "3 months      9137\n",
       "1 month       7332\n",
       "4 months      6010\n",
       "4 years       5766\n",
       "5 years       5217\n",
       "5 months      4404\n",
       "6 months      4162\n",
       "6 years       3403\n",
       "7 years       2995\n",
       "8 years       2938\n",
       "3 weeks       2871\n",
       "2 weeks       2868\n",
       "8 months      2689\n",
       "4 weeks       2407\n",
       "10 months     2382\n",
       "10 years      2367\n",
       "7 months      2257\n",
       "9 months      1754\n",
       "9 years       1642\n",
       "1 weeks       1338\n",
       "12 years      1154\n",
       "11 months     1096\n",
       "1 week         952\n",
       "11 years       920\n",
       "13 years       740\n",
       "3 days         565\n",
       "14 years       533\n",
       "2 days         523\n",
       "1 day          506\n",
       "15 years       461\n",
       "4 days         352\n",
       "6 days         341\n",
       "0 years        268\n",
       "5 days         221\n",
       "5 weeks        202\n",
       "16 years       200\n",
       "17 years       107\n",
       "18 years        64\n",
       "19 years        29\n",
       "20 years        26\n",
       "-1 years         6\n",
       "22 years         6\n",
       "-3 years         2\n",
       "25 years         2\n",
       "21 years         1\n",
       "24 years         1\n",
       "28 years         1\n",
       "30 years         1\n",
       "23 years         1\n",
       "-2 years         1\n",
       "-4 years         1\n",
       "Name: count, dtype: int64"
      ]
     },
     "execution_count": 27,
     "metadata": {},
     "output_type": "execute_result"
    }
   ],
   "source": [
    "df['Age upon Outcome'].value_counts()"
   ]
  },
  {
   "cell_type": "markdown",
   "id": "425989e4",
   "metadata": {
    "papermill": {
     "duration": 0.016279,
     "end_time": "2025-03-24T21:32:32.338947",
     "exception": false,
     "start_time": "2025-03-24T21:32:32.322668",
     "status": "completed"
    },
    "tags": []
   },
   "source": [
    "Let's calculate it manually using 'DateTime' and 'Date of Birth'"
   ]
  },
  {
   "cell_type": "code",
   "execution_count": 28,
   "id": "bc1b89b7",
   "metadata": {
    "execution": {
     "iopub.execute_input": "2025-03-24T21:32:32.376817Z",
     "iopub.status.busy": "2025-03-24T21:32:32.376436Z",
     "iopub.status.idle": "2025-03-24T21:32:32.397268Z",
     "shell.execute_reply": "2025-03-24T21:32:32.396271Z"
    },
    "papermill": {
     "duration": 0.040394,
     "end_time": "2025-03-24T21:32:32.399049",
     "exception": false,
     "start_time": "2025-03-24T21:32:32.358655",
     "status": "completed"
    },
    "tags": []
   },
   "outputs": [
    {
     "data": {
      "text/plain": [
       "count    172113.000000\n",
       "mean        762.466019\n",
       "std        1043.710141\n",
       "min       -1548.000000\n",
       "25%          90.000000\n",
       "50%         369.000000\n",
       "75%         812.000000\n",
       "max       10996.000000\n",
       "Name: age_upon_outcome_days, dtype: float64"
      ]
     },
     "execution_count": 28,
     "metadata": {},
     "output_type": "execute_result"
    }
   ],
   "source": [
    "df['age_upon_outcome_days'] = (df['DateTime'] - df['Date of Birth']).dt.days\n",
    "df['age_upon_outcome_days'].describe()"
   ]
  },
  {
   "cell_type": "markdown",
   "id": "77f86466",
   "metadata": {
    "papermill": {
     "duration": 0.017127,
     "end_time": "2025-03-24T21:32:32.433656",
     "exception": false,
     "start_time": "2025-03-24T21:32:32.416529",
     "status": "completed"
    },
    "tags": []
   },
   "source": [
    "The negative years do not make sense."
   ]
  },
  {
   "cell_type": "code",
   "execution_count": 29,
   "id": "105f4207",
   "metadata": {
    "execution": {
     "iopub.execute_input": "2025-03-24T21:32:32.469338Z",
     "iopub.status.busy": "2025-03-24T21:32:32.468985Z",
     "iopub.status.idle": "2025-03-24T21:32:32.484139Z",
     "shell.execute_reply": "2025-03-24T21:32:32.483056Z"
    },
    "papermill": {
     "duration": 0.035142,
     "end_time": "2025-03-24T21:32:32.486021",
     "exception": false,
     "start_time": "2025-03-24T21:32:32.450879",
     "status": "completed"
    },
    "tags": []
   },
   "outputs": [
    {
     "data": {
      "text/html": [
       "<div>\n",
       "<style scoped>\n",
       "    .dataframe tbody tr th:only-of-type {\n",
       "        vertical-align: middle;\n",
       "    }\n",
       "\n",
       "    .dataframe tbody tr th {\n",
       "        vertical-align: top;\n",
       "    }\n",
       "\n",
       "    .dataframe thead th {\n",
       "        text-align: right;\n",
       "    }\n",
       "</style>\n",
       "<table border=\"1\" class=\"dataframe\">\n",
       "  <thead>\n",
       "    <tr style=\"text-align: right;\">\n",
       "      <th></th>\n",
       "      <th>Animal ID</th>\n",
       "      <th>Name</th>\n",
       "      <th>DateTime</th>\n",
       "      <th>MonthYear</th>\n",
       "      <th>Date of Birth</th>\n",
       "      <th>Outcome Type</th>\n",
       "      <th>Outcome Subtype</th>\n",
       "      <th>Animal Type</th>\n",
       "      <th>Sex upon Outcome</th>\n",
       "      <th>Age upon Outcome</th>\n",
       "      <th>Breed</th>\n",
       "      <th>Color</th>\n",
       "      <th>age_upon_outcome_days</th>\n",
       "    </tr>\n",
       "  </thead>\n",
       "  <tbody>\n",
       "    <tr>\n",
       "      <th>95789</th>\n",
       "      <td>A783723</td>\n",
       "      <td>Pina</td>\n",
       "      <td>2018-11-12 11:53:00</td>\n",
       "      <td>2018-11-01</td>\n",
       "      <td>2023-02-07</td>\n",
       "      <td>Adoption</td>\n",
       "      <td>NaN</td>\n",
       "      <td>Cat</td>\n",
       "      <td>Intact Female</td>\n",
       "      <td>-4 years</td>\n",
       "      <td>Domestic Shorthair</td>\n",
       "      <td>White/Orange</td>\n",
       "      <td>-1548</td>\n",
       "    </tr>\n",
       "  </tbody>\n",
       "</table>\n",
       "</div>"
      ],
      "text/plain": [
       "      Animal ID  Name            DateTime  MonthYear Date of Birth  \\\n",
       "95789   A783723  Pina 2018-11-12 11:53:00 2018-11-01    2023-02-07   \n",
       "\n",
       "      Outcome Type Outcome Subtype Animal Type Sex upon Outcome  \\\n",
       "95789     Adoption             NaN         Cat    Intact Female   \n",
       "\n",
       "      Age upon Outcome               Breed         Color  \\\n",
       "95789         -4 years  Domestic Shorthair  White/Orange   \n",
       "\n",
       "       age_upon_outcome_days  \n",
       "95789                  -1548  "
      ]
     },
     "execution_count": 29,
     "metadata": {},
     "output_type": "execute_result"
    }
   ],
   "source": [
    "df[df['age_upon_outcome_days'] == df['age_upon_outcome_days'].min()]"
   ]
  },
  {
   "cell_type": "code",
   "execution_count": 30,
   "id": "334aec15",
   "metadata": {
    "execution": {
     "iopub.execute_input": "2025-03-24T21:32:32.522102Z",
     "iopub.status.busy": "2025-03-24T21:32:32.521717Z",
     "iopub.status.idle": "2025-03-24T21:32:32.543439Z",
     "shell.execute_reply": "2025-03-24T21:32:32.542184Z"
    },
    "papermill": {
     "duration": 0.042267,
     "end_time": "2025-03-24T21:32:32.545331",
     "exception": false,
     "start_time": "2025-03-24T21:32:32.503064",
     "status": "completed"
    },
    "tags": []
   },
   "outputs": [
    {
     "data": {
      "text/html": [
       "<div>\n",
       "<style scoped>\n",
       "    .dataframe tbody tr th:only-of-type {\n",
       "        vertical-align: middle;\n",
       "    }\n",
       "\n",
       "    .dataframe tbody tr th {\n",
       "        vertical-align: top;\n",
       "    }\n",
       "\n",
       "    .dataframe thead th {\n",
       "        text-align: right;\n",
       "    }\n",
       "</style>\n",
       "<table border=\"1\" class=\"dataframe\">\n",
       "  <thead>\n",
       "    <tr style=\"text-align: right;\">\n",
       "      <th></th>\n",
       "      <th>Animal ID</th>\n",
       "      <th>Name</th>\n",
       "      <th>DateTime</th>\n",
       "      <th>MonthYear</th>\n",
       "      <th>Date of Birth</th>\n",
       "      <th>Outcome Type</th>\n",
       "      <th>Outcome Subtype</th>\n",
       "      <th>Animal Type</th>\n",
       "      <th>Sex upon Outcome</th>\n",
       "      <th>Age upon Outcome</th>\n",
       "      <th>Breed</th>\n",
       "      <th>Color</th>\n",
       "      <th>age_upon_outcome_days</th>\n",
       "    </tr>\n",
       "  </thead>\n",
       "  <tbody>\n",
       "    <tr>\n",
       "      <th>815</th>\n",
       "      <td>A788866</td>\n",
       "      <td>Unknown</td>\n",
       "      <td>2019-02-15 12:02:00</td>\n",
       "      <td>2019-02-01</td>\n",
       "      <td>2019-12-06</td>\n",
       "      <td>Adoption</td>\n",
       "      <td>NaN</td>\n",
       "      <td>Dog</td>\n",
       "      <td>Neutered Male</td>\n",
       "      <td>0 years</td>\n",
       "      <td>German Shepherd/Catahoula</td>\n",
       "      <td>Black Brindle</td>\n",
       "      <td>-294</td>\n",
       "    </tr>\n",
       "    <tr>\n",
       "      <th>2155</th>\n",
       "      <td>A737397</td>\n",
       "      <td>Jellybean</td>\n",
       "      <td>2016-11-05 18:16:00</td>\n",
       "      <td>2016-11-01</td>\n",
       "      <td>2016-11-15</td>\n",
       "      <td>Adoption</td>\n",
       "      <td>NaN</td>\n",
       "      <td>Cat</td>\n",
       "      <td>Intact Female</td>\n",
       "      <td>0 years</td>\n",
       "      <td>Domestic Shorthair Mix</td>\n",
       "      <td>White/Orange</td>\n",
       "      <td>-10</td>\n",
       "    </tr>\n",
       "    <tr>\n",
       "      <th>5355</th>\n",
       "      <td>A804197</td>\n",
       "      <td>Unknown</td>\n",
       "      <td>2019-09-11 18:24:00</td>\n",
       "      <td>2019-09-01</td>\n",
       "      <td>2019-09-12</td>\n",
       "      <td>Transfer</td>\n",
       "      <td>Partner</td>\n",
       "      <td>Cat</td>\n",
       "      <td>Intact Female</td>\n",
       "      <td>0 years</td>\n",
       "      <td>Domestic Shorthair</td>\n",
       "      <td>Black/White</td>\n",
       "      <td>-1</td>\n",
       "    </tr>\n",
       "    <tr>\n",
       "      <th>11796</th>\n",
       "      <td>A757376</td>\n",
       "      <td>Gorda</td>\n",
       "      <td>2017-09-05 19:25:00</td>\n",
       "      <td>2017-09-01</td>\n",
       "      <td>2019-11-05</td>\n",
       "      <td>Rto-Adopt</td>\n",
       "      <td>NaN</td>\n",
       "      <td>Dog</td>\n",
       "      <td>Spayed Female</td>\n",
       "      <td>-2 years</td>\n",
       "      <td>Miniature Schnauzer Mix</td>\n",
       "      <td>White</td>\n",
       "      <td>-791</td>\n",
       "    </tr>\n",
       "    <tr>\n",
       "      <th>21186</th>\n",
       "      <td>A725472</td>\n",
       "      <td>Rascal</td>\n",
       "      <td>2016-07-24 15:54:00</td>\n",
       "      <td>2016-07-01</td>\n",
       "      <td>2020-04-29</td>\n",
       "      <td>Adoption</td>\n",
       "      <td>Foster</td>\n",
       "      <td>Dog</td>\n",
       "      <td>Neutered Male</td>\n",
       "      <td>-3 years</td>\n",
       "      <td>Chihuahua Shorthair Mix</td>\n",
       "      <td>White/Brown</td>\n",
       "      <td>-1375</td>\n",
       "    </tr>\n",
       "    <tr>\n",
       "      <th>29758</th>\n",
       "      <td>A745085</td>\n",
       "      <td>Keira</td>\n",
       "      <td>2017-03-13 18:11:00</td>\n",
       "      <td>2017-03-01</td>\n",
       "      <td>2017-10-11</td>\n",
       "      <td>Adoption</td>\n",
       "      <td>NaN</td>\n",
       "      <td>Dog</td>\n",
       "      <td>Spayed Female</td>\n",
       "      <td>0 years</td>\n",
       "      <td>Australian Cattle Dog Mix</td>\n",
       "      <td>White</td>\n",
       "      <td>-212</td>\n",
       "    </tr>\n",
       "    <tr>\n",
       "      <th>31851</th>\n",
       "      <td>A834123</td>\n",
       "      <td>Colt</td>\n",
       "      <td>2021-05-14 13:09:00</td>\n",
       "      <td>2021-05-01</td>\n",
       "      <td>2021-07-04</td>\n",
       "      <td>Transfer</td>\n",
       "      <td>Partner</td>\n",
       "      <td>Dog</td>\n",
       "      <td>Neutered Male</td>\n",
       "      <td>0 years</td>\n",
       "      <td>Great Pyrenees</td>\n",
       "      <td>White/Tan</td>\n",
       "      <td>-51</td>\n",
       "    </tr>\n",
       "    <tr>\n",
       "      <th>43948</th>\n",
       "      <td>A802049</td>\n",
       "      <td>Unknown</td>\n",
       "      <td>2019-07-16 00:00:00</td>\n",
       "      <td>2019-07-01</td>\n",
       "      <td>2019-07-17</td>\n",
       "      <td>Euthanasia</td>\n",
       "      <td>At Vet</td>\n",
       "      <td>Cat</td>\n",
       "      <td>Intact Male</td>\n",
       "      <td>0 years</td>\n",
       "      <td>Domestic Shorthair</td>\n",
       "      <td>White</td>\n",
       "      <td>-1</td>\n",
       "    </tr>\n",
       "    <tr>\n",
       "      <th>66002</th>\n",
       "      <td>A871020</td>\n",
       "      <td>Unknown</td>\n",
       "      <td>2020-03-17 12:04:00</td>\n",
       "      <td>2020-03-01</td>\n",
       "      <td>2021-12-16</td>\n",
       "      <td>Disposal</td>\n",
       "      <td>NaN</td>\n",
       "      <td>Other</td>\n",
       "      <td>Unknown</td>\n",
       "      <td>-1 years</td>\n",
       "      <td>Opossum</td>\n",
       "      <td>Gray</td>\n",
       "      <td>-639</td>\n",
       "    </tr>\n",
       "    <tr>\n",
       "      <th>67507</th>\n",
       "      <td>A853991</td>\n",
       "      <td>Unknown</td>\n",
       "      <td>2021-06-15 16:07:00</td>\n",
       "      <td>2021-06-01</td>\n",
       "      <td>2021-09-28</td>\n",
       "      <td>Adoption</td>\n",
       "      <td>NaN</td>\n",
       "      <td>Cat</td>\n",
       "      <td>Neutered Male</td>\n",
       "      <td>0 years</td>\n",
       "      <td>Domestic Shorthair</td>\n",
       "      <td>Brown Tabby/White</td>\n",
       "      <td>-105</td>\n",
       "    </tr>\n",
       "    <tr>\n",
       "      <th>77059</th>\n",
       "      <td>A757376</td>\n",
       "      <td>Gorda</td>\n",
       "      <td>2018-10-21 19:01:00</td>\n",
       "      <td>2018-10-01</td>\n",
       "      <td>2019-11-05</td>\n",
       "      <td>Return to Owner</td>\n",
       "      <td>NaN</td>\n",
       "      <td>Dog</td>\n",
       "      <td>Spayed Female</td>\n",
       "      <td>-1 years</td>\n",
       "      <td>Miniature Schnauzer Mix</td>\n",
       "      <td>White</td>\n",
       "      <td>-380</td>\n",
       "    </tr>\n",
       "    <tr>\n",
       "      <th>80595</th>\n",
       "      <td>A736114</td>\n",
       "      <td>Unknown</td>\n",
       "      <td>2016-10-04 15:13:00</td>\n",
       "      <td>2016-10-01</td>\n",
       "      <td>2016-10-28</td>\n",
       "      <td>Transfer</td>\n",
       "      <td>Partner</td>\n",
       "      <td>Cat</td>\n",
       "      <td>Intact Male</td>\n",
       "      <td>0 years</td>\n",
       "      <td>Domestic Shorthair Mix</td>\n",
       "      <td>Orange Tabby</td>\n",
       "      <td>-24</td>\n",
       "    </tr>\n",
       "    <tr>\n",
       "      <th>83850</th>\n",
       "      <td>A850078</td>\n",
       "      <td>Holmes</td>\n",
       "      <td>2022-01-19 16:10:00</td>\n",
       "      <td>2022-01-01</td>\n",
       "      <td>2022-05-07</td>\n",
       "      <td>Adoption</td>\n",
       "      <td>NaN</td>\n",
       "      <td>Dog</td>\n",
       "      <td>Intact Male</td>\n",
       "      <td>0 years</td>\n",
       "      <td>Whippet Mix</td>\n",
       "      <td>Brown Brindle</td>\n",
       "      <td>-108</td>\n",
       "    </tr>\n",
       "    <tr>\n",
       "      <th>88138</th>\n",
       "      <td>A754280</td>\n",
       "      <td>Chewbacca</td>\n",
       "      <td>2016-04-11 00:00:00</td>\n",
       "      <td>2016-04-01</td>\n",
       "      <td>2016-07-12</td>\n",
       "      <td>Transfer</td>\n",
       "      <td>Partner</td>\n",
       "      <td>Dog</td>\n",
       "      <td>Intact Male</td>\n",
       "      <td>0 years</td>\n",
       "      <td>Australian Cattle Dog</td>\n",
       "      <td>Black/Brown</td>\n",
       "      <td>-92</td>\n",
       "    </tr>\n",
       "    <tr>\n",
       "      <th>89050</th>\n",
       "      <td>A825065</td>\n",
       "      <td>Unknown</td>\n",
       "      <td>2020-10-31 11:05:00</td>\n",
       "      <td>2020-10-01</td>\n",
       "      <td>2021-10-01</td>\n",
       "      <td>Died</td>\n",
       "      <td>In Kennel</td>\n",
       "      <td>Cat</td>\n",
       "      <td>Intact Female</td>\n",
       "      <td>0 years</td>\n",
       "      <td>Domestic Shorthair</td>\n",
       "      <td>Brown Tabby</td>\n",
       "      <td>-335</td>\n",
       "    </tr>\n",
       "    <tr>\n",
       "      <th>95789</th>\n",
       "      <td>A783723</td>\n",
       "      <td>Pina</td>\n",
       "      <td>2018-11-12 11:53:00</td>\n",
       "      <td>2018-11-01</td>\n",
       "      <td>2023-02-07</td>\n",
       "      <td>Adoption</td>\n",
       "      <td>NaN</td>\n",
       "      <td>Cat</td>\n",
       "      <td>Intact Female</td>\n",
       "      <td>-4 years</td>\n",
       "      <td>Domestic Shorthair</td>\n",
       "      <td>White/Orange</td>\n",
       "      <td>-1548</td>\n",
       "    </tr>\n",
       "    <tr>\n",
       "      <th>96045</th>\n",
       "      <td>A797495</td>\n",
       "      <td>Ace</td>\n",
       "      <td>2019-06-15 12:44:00</td>\n",
       "      <td>2019-06-01</td>\n",
       "      <td>2020-12-16</td>\n",
       "      <td>Return to Owner</td>\n",
       "      <td>NaN</td>\n",
       "      <td>Dog</td>\n",
       "      <td>Neutered Male</td>\n",
       "      <td>-1 years</td>\n",
       "      <td>Cairn Terrier</td>\n",
       "      <td>Black/Tan</td>\n",
       "      <td>-550</td>\n",
       "    </tr>\n",
       "    <tr>\n",
       "      <th>99512</th>\n",
       "      <td>A751749</td>\n",
       "      <td>Taco</td>\n",
       "      <td>2014-09-10 17:29:00</td>\n",
       "      <td>2014-09-01</td>\n",
       "      <td>2014-12-12</td>\n",
       "      <td>Adoption</td>\n",
       "      <td>NaN</td>\n",
       "      <td>Dog</td>\n",
       "      <td>Neutered Male</td>\n",
       "      <td>0 years</td>\n",
       "      <td>Border Collie Mix</td>\n",
       "      <td>Black/White</td>\n",
       "      <td>-93</td>\n",
       "    </tr>\n",
       "    <tr>\n",
       "      <th>105115</th>\n",
       "      <td>A703416</td>\n",
       "      <td>Neko</td>\n",
       "      <td>2015-05-26 16:58:00</td>\n",
       "      <td>2015-05-01</td>\n",
       "      <td>2015-05-29</td>\n",
       "      <td>Return to Owner</td>\n",
       "      <td>NaN</td>\n",
       "      <td>Dog</td>\n",
       "      <td>Neutered Male</td>\n",
       "      <td>0 years</td>\n",
       "      <td>Labrador Retriever Mix</td>\n",
       "      <td>Black</td>\n",
       "      <td>-3</td>\n",
       "    </tr>\n",
       "    <tr>\n",
       "      <th>108509</th>\n",
       "      <td>A881120</td>\n",
       "      <td>Unknown</td>\n",
       "      <td>2023-05-21 15:23:00</td>\n",
       "      <td>2023-05-01</td>\n",
       "      <td>2024-03-17</td>\n",
       "      <td>Euthanasia</td>\n",
       "      <td>Suffering</td>\n",
       "      <td>Cat</td>\n",
       "      <td>Intact Male</td>\n",
       "      <td>0 years</td>\n",
       "      <td>Domestic Shorthair</td>\n",
       "      <td>Black/White</td>\n",
       "      <td>-301</td>\n",
       "    </tr>\n",
       "    <tr>\n",
       "      <th>109508</th>\n",
       "      <td>A702326</td>\n",
       "      <td>Penelope</td>\n",
       "      <td>2015-05-24 17:01:00</td>\n",
       "      <td>2015-05-01</td>\n",
       "      <td>2015-08-29</td>\n",
       "      <td>Adoption</td>\n",
       "      <td>NaN</td>\n",
       "      <td>Cat</td>\n",
       "      <td>Spayed Female</td>\n",
       "      <td>0 years</td>\n",
       "      <td>Domestic Shorthair Mix</td>\n",
       "      <td>Black</td>\n",
       "      <td>-97</td>\n",
       "    </tr>\n",
       "    <tr>\n",
       "      <th>120304</th>\n",
       "      <td>A725472</td>\n",
       "      <td>Rascal</td>\n",
       "      <td>2019-02-26 14:34:00</td>\n",
       "      <td>2019-02-01</td>\n",
       "      <td>2020-04-29</td>\n",
       "      <td>Adoption</td>\n",
       "      <td>NaN</td>\n",
       "      <td>Dog</td>\n",
       "      <td>Neutered Male</td>\n",
       "      <td>-1 years</td>\n",
       "      <td>Chihuahua Shorthair Mix</td>\n",
       "      <td>White/Brown</td>\n",
       "      <td>-428</td>\n",
       "    </tr>\n",
       "    <tr>\n",
       "      <th>122085</th>\n",
       "      <td>A660928</td>\n",
       "      <td>Sadie</td>\n",
       "      <td>2013-12-01 13:19:00</td>\n",
       "      <td>2013-12-01</td>\n",
       "      <td>2014-04-03</td>\n",
       "      <td>Transfer</td>\n",
       "      <td>Partner</td>\n",
       "      <td>Dog</td>\n",
       "      <td>Spayed Female</td>\n",
       "      <td>0 years</td>\n",
       "      <td>Labrador Retriever Mix</td>\n",
       "      <td>Black/White</td>\n",
       "      <td>-123</td>\n",
       "    </tr>\n",
       "    <tr>\n",
       "      <th>125622</th>\n",
       "      <td>A706929</td>\n",
       "      <td>Unknown</td>\n",
       "      <td>2015-07-05 14:46:00</td>\n",
       "      <td>2015-07-01</td>\n",
       "      <td>2015-07-06</td>\n",
       "      <td>Transfer</td>\n",
       "      <td>Partner</td>\n",
       "      <td>Cat</td>\n",
       "      <td>Unknown</td>\n",
       "      <td>0 years</td>\n",
       "      <td>Domestic Shorthair Mix</td>\n",
       "      <td>Tortie</td>\n",
       "      <td>-1</td>\n",
       "    </tr>\n",
       "    <tr>\n",
       "      <th>129153</th>\n",
       "      <td>A788874</td>\n",
       "      <td>Unknown</td>\n",
       "      <td>2019-02-14 17:13:00</td>\n",
       "      <td>2019-02-01</td>\n",
       "      <td>2019-12-06</td>\n",
       "      <td>Adoption</td>\n",
       "      <td>NaN</td>\n",
       "      <td>Dog</td>\n",
       "      <td>Spayed Female</td>\n",
       "      <td>0 years</td>\n",
       "      <td>Labrador Retriever Mix</td>\n",
       "      <td>White/Tricolor</td>\n",
       "      <td>-295</td>\n",
       "    </tr>\n",
       "    <tr>\n",
       "      <th>129213</th>\n",
       "      <td>A749253</td>\n",
       "      <td>Orange</td>\n",
       "      <td>2017-05-12 16:43:00</td>\n",
       "      <td>2017-05-01</td>\n",
       "      <td>2017-07-01</td>\n",
       "      <td>Euthanasia</td>\n",
       "      <td>Suffering</td>\n",
       "      <td>Cat</td>\n",
       "      <td>Intact Female</td>\n",
       "      <td>0 years</td>\n",
       "      <td>Domestic Shorthair Mix</td>\n",
       "      <td>Orange Tabby</td>\n",
       "      <td>-50</td>\n",
       "    </tr>\n",
       "    <tr>\n",
       "      <th>143638</th>\n",
       "      <td>A860186</td>\n",
       "      <td>Ophelia</td>\n",
       "      <td>2022-06-28 19:18:00</td>\n",
       "      <td>2022-06-01</td>\n",
       "      <td>2022-07-08</td>\n",
       "      <td>Adoption</td>\n",
       "      <td>NaN</td>\n",
       "      <td>Dog</td>\n",
       "      <td>Spayed Female</td>\n",
       "      <td>0 years</td>\n",
       "      <td>Yorkshire Terrier Mix</td>\n",
       "      <td>Sable</td>\n",
       "      <td>-10</td>\n",
       "    </tr>\n",
       "    <tr>\n",
       "      <th>145384</th>\n",
       "      <td>A725472</td>\n",
       "      <td>Rascal</td>\n",
       "      <td>2018-07-11 16:40:00</td>\n",
       "      <td>2018-07-01</td>\n",
       "      <td>2020-04-29</td>\n",
       "      <td>Return to Owner</td>\n",
       "      <td>NaN</td>\n",
       "      <td>Dog</td>\n",
       "      <td>Neutered Male</td>\n",
       "      <td>-1 years</td>\n",
       "      <td>Chihuahua Shorthair Mix</td>\n",
       "      <td>White/Brown</td>\n",
       "      <td>-658</td>\n",
       "    </tr>\n",
       "    <tr>\n",
       "      <th>147008</th>\n",
       "      <td>A753893</td>\n",
       "      <td>Chato</td>\n",
       "      <td>2015-07-02 11:06:00</td>\n",
       "      <td>2015-07-01</td>\n",
       "      <td>2016-07-12</td>\n",
       "      <td>Transfer</td>\n",
       "      <td>Partner</td>\n",
       "      <td>Dog</td>\n",
       "      <td>Intact Male</td>\n",
       "      <td>-1 years</td>\n",
       "      <td>American Bulldog Mix</td>\n",
       "      <td>White/Brown</td>\n",
       "      <td>-376</td>\n",
       "    </tr>\n",
       "    <tr>\n",
       "      <th>149301</th>\n",
       "      <td>A896364</td>\n",
       "      <td>Unknown</td>\n",
       "      <td>2024-01-14 16:42:00</td>\n",
       "      <td>2024-01-01</td>\n",
       "      <td>2024-01-15</td>\n",
       "      <td>Transfer</td>\n",
       "      <td>Partner</td>\n",
       "      <td>Cat</td>\n",
       "      <td>Intact Male</td>\n",
       "      <td>0 years</td>\n",
       "      <td>Domestic Shorthair</td>\n",
       "      <td>Orange Tabby</td>\n",
       "      <td>-1</td>\n",
       "    </tr>\n",
       "    <tr>\n",
       "      <th>167566</th>\n",
       "      <td>A799589</td>\n",
       "      <td>Dondee</td>\n",
       "      <td>2019-07-16 19:04:00</td>\n",
       "      <td>2019-07-01</td>\n",
       "      <td>2019-10-15</td>\n",
       "      <td>Rto-Adopt</td>\n",
       "      <td>NaN</td>\n",
       "      <td>Dog</td>\n",
       "      <td>Spayed Female</td>\n",
       "      <td>0 years</td>\n",
       "      <td>Labrador Retriever Mix</td>\n",
       "      <td>Black</td>\n",
       "      <td>-91</td>\n",
       "    </tr>\n",
       "    <tr>\n",
       "      <th>172034</th>\n",
       "      <td>A922017</td>\n",
       "      <td>Akima</td>\n",
       "      <td>2025-03-05 13:00:00</td>\n",
       "      <td>2025-03-01</td>\n",
       "      <td>2028-05-01</td>\n",
       "      <td>Transfer</td>\n",
       "      <td>Partner</td>\n",
       "      <td>Dog</td>\n",
       "      <td>Intact Male</td>\n",
       "      <td>-3 years</td>\n",
       "      <td>Greyhound</td>\n",
       "      <td>White/Brown Brindle</td>\n",
       "      <td>-1153</td>\n",
       "    </tr>\n",
       "  </tbody>\n",
       "</table>\n",
       "</div>"
      ],
      "text/plain": [
       "       Animal ID       Name            DateTime  MonthYear Date of Birth  \\\n",
       "815      A788866    Unknown 2019-02-15 12:02:00 2019-02-01    2019-12-06   \n",
       "2155     A737397  Jellybean 2016-11-05 18:16:00 2016-11-01    2016-11-15   \n",
       "5355     A804197    Unknown 2019-09-11 18:24:00 2019-09-01    2019-09-12   \n",
       "11796    A757376      Gorda 2017-09-05 19:25:00 2017-09-01    2019-11-05   \n",
       "21186    A725472     Rascal 2016-07-24 15:54:00 2016-07-01    2020-04-29   \n",
       "29758    A745085      Keira 2017-03-13 18:11:00 2017-03-01    2017-10-11   \n",
       "31851    A834123       Colt 2021-05-14 13:09:00 2021-05-01    2021-07-04   \n",
       "43948    A802049    Unknown 2019-07-16 00:00:00 2019-07-01    2019-07-17   \n",
       "66002    A871020    Unknown 2020-03-17 12:04:00 2020-03-01    2021-12-16   \n",
       "67507    A853991    Unknown 2021-06-15 16:07:00 2021-06-01    2021-09-28   \n",
       "77059    A757376      Gorda 2018-10-21 19:01:00 2018-10-01    2019-11-05   \n",
       "80595    A736114    Unknown 2016-10-04 15:13:00 2016-10-01    2016-10-28   \n",
       "83850    A850078     Holmes 2022-01-19 16:10:00 2022-01-01    2022-05-07   \n",
       "88138    A754280  Chewbacca 2016-04-11 00:00:00 2016-04-01    2016-07-12   \n",
       "89050    A825065    Unknown 2020-10-31 11:05:00 2020-10-01    2021-10-01   \n",
       "95789    A783723       Pina 2018-11-12 11:53:00 2018-11-01    2023-02-07   \n",
       "96045    A797495        Ace 2019-06-15 12:44:00 2019-06-01    2020-12-16   \n",
       "99512    A751749       Taco 2014-09-10 17:29:00 2014-09-01    2014-12-12   \n",
       "105115   A703416       Neko 2015-05-26 16:58:00 2015-05-01    2015-05-29   \n",
       "108509   A881120    Unknown 2023-05-21 15:23:00 2023-05-01    2024-03-17   \n",
       "109508   A702326   Penelope 2015-05-24 17:01:00 2015-05-01    2015-08-29   \n",
       "120304   A725472     Rascal 2019-02-26 14:34:00 2019-02-01    2020-04-29   \n",
       "122085   A660928      Sadie 2013-12-01 13:19:00 2013-12-01    2014-04-03   \n",
       "125622   A706929    Unknown 2015-07-05 14:46:00 2015-07-01    2015-07-06   \n",
       "129153   A788874    Unknown 2019-02-14 17:13:00 2019-02-01    2019-12-06   \n",
       "129213   A749253     Orange 2017-05-12 16:43:00 2017-05-01    2017-07-01   \n",
       "143638   A860186    Ophelia 2022-06-28 19:18:00 2022-06-01    2022-07-08   \n",
       "145384   A725472     Rascal 2018-07-11 16:40:00 2018-07-01    2020-04-29   \n",
       "147008   A753893      Chato 2015-07-02 11:06:00 2015-07-01    2016-07-12   \n",
       "149301   A896364    Unknown 2024-01-14 16:42:00 2024-01-01    2024-01-15   \n",
       "167566   A799589     Dondee 2019-07-16 19:04:00 2019-07-01    2019-10-15   \n",
       "172034   A922017      Akima 2025-03-05 13:00:00 2025-03-01    2028-05-01   \n",
       "\n",
       "           Outcome Type Outcome Subtype Animal Type Sex upon Outcome  \\\n",
       "815            Adoption             NaN         Dog    Neutered Male   \n",
       "2155           Adoption             NaN         Cat    Intact Female   \n",
       "5355           Transfer         Partner         Cat    Intact Female   \n",
       "11796         Rto-Adopt             NaN         Dog    Spayed Female   \n",
       "21186          Adoption          Foster         Dog    Neutered Male   \n",
       "29758          Adoption             NaN         Dog    Spayed Female   \n",
       "31851          Transfer         Partner         Dog    Neutered Male   \n",
       "43948        Euthanasia          At Vet         Cat      Intact Male   \n",
       "66002          Disposal             NaN       Other          Unknown   \n",
       "67507          Adoption             NaN         Cat    Neutered Male   \n",
       "77059   Return to Owner             NaN         Dog    Spayed Female   \n",
       "80595          Transfer         Partner         Cat      Intact Male   \n",
       "83850          Adoption             NaN         Dog      Intact Male   \n",
       "88138          Transfer         Partner         Dog      Intact Male   \n",
       "89050              Died       In Kennel         Cat    Intact Female   \n",
       "95789          Adoption             NaN         Cat    Intact Female   \n",
       "96045   Return to Owner             NaN         Dog    Neutered Male   \n",
       "99512          Adoption             NaN         Dog    Neutered Male   \n",
       "105115  Return to Owner             NaN         Dog    Neutered Male   \n",
       "108509       Euthanasia       Suffering         Cat      Intact Male   \n",
       "109508         Adoption             NaN         Cat    Spayed Female   \n",
       "120304         Adoption             NaN         Dog    Neutered Male   \n",
       "122085         Transfer         Partner         Dog    Spayed Female   \n",
       "125622         Transfer         Partner         Cat          Unknown   \n",
       "129153         Adoption             NaN         Dog    Spayed Female   \n",
       "129213       Euthanasia       Suffering         Cat    Intact Female   \n",
       "143638         Adoption             NaN         Dog    Spayed Female   \n",
       "145384  Return to Owner             NaN         Dog    Neutered Male   \n",
       "147008         Transfer         Partner         Dog      Intact Male   \n",
       "149301         Transfer         Partner         Cat      Intact Male   \n",
       "167566        Rto-Adopt             NaN         Dog    Spayed Female   \n",
       "172034         Transfer         Partner         Dog      Intact Male   \n",
       "\n",
       "       Age upon Outcome                      Breed                Color  \\\n",
       "815             0 years  German Shepherd/Catahoula        Black Brindle   \n",
       "2155            0 years     Domestic Shorthair Mix         White/Orange   \n",
       "5355            0 years         Domestic Shorthair          Black/White   \n",
       "11796          -2 years    Miniature Schnauzer Mix                White   \n",
       "21186          -3 years    Chihuahua Shorthair Mix          White/Brown   \n",
       "29758           0 years  Australian Cattle Dog Mix                White   \n",
       "31851           0 years             Great Pyrenees            White/Tan   \n",
       "43948           0 years         Domestic Shorthair                White   \n",
       "66002          -1 years                    Opossum                 Gray   \n",
       "67507           0 years         Domestic Shorthair    Brown Tabby/White   \n",
       "77059          -1 years    Miniature Schnauzer Mix                White   \n",
       "80595           0 years     Domestic Shorthair Mix         Orange Tabby   \n",
       "83850           0 years                Whippet Mix        Brown Brindle   \n",
       "88138           0 years      Australian Cattle Dog          Black/Brown   \n",
       "89050           0 years         Domestic Shorthair          Brown Tabby   \n",
       "95789          -4 years         Domestic Shorthair         White/Orange   \n",
       "96045          -1 years              Cairn Terrier            Black/Tan   \n",
       "99512           0 years          Border Collie Mix          Black/White   \n",
       "105115          0 years     Labrador Retriever Mix                Black   \n",
       "108509          0 years         Domestic Shorthair          Black/White   \n",
       "109508          0 years     Domestic Shorthair Mix                Black   \n",
       "120304         -1 years    Chihuahua Shorthair Mix          White/Brown   \n",
       "122085          0 years     Labrador Retriever Mix          Black/White   \n",
       "125622          0 years     Domestic Shorthair Mix               Tortie   \n",
       "129153          0 years     Labrador Retriever Mix       White/Tricolor   \n",
       "129213          0 years     Domestic Shorthair Mix         Orange Tabby   \n",
       "143638          0 years      Yorkshire Terrier Mix                Sable   \n",
       "145384         -1 years    Chihuahua Shorthair Mix          White/Brown   \n",
       "147008         -1 years       American Bulldog Mix          White/Brown   \n",
       "149301          0 years         Domestic Shorthair         Orange Tabby   \n",
       "167566          0 years     Labrador Retriever Mix                Black   \n",
       "172034         -3 years                  Greyhound  White/Brown Brindle   \n",
       "\n",
       "        age_upon_outcome_days  \n",
       "815                      -294  \n",
       "2155                      -10  \n",
       "5355                       -1  \n",
       "11796                    -791  \n",
       "21186                   -1375  \n",
       "29758                    -212  \n",
       "31851                     -51  \n",
       "43948                      -1  \n",
       "66002                    -639  \n",
       "67507                    -105  \n",
       "77059                    -380  \n",
       "80595                     -24  \n",
       "83850                    -108  \n",
       "88138                     -92  \n",
       "89050                    -335  \n",
       "95789                   -1548  \n",
       "96045                    -550  \n",
       "99512                     -93  \n",
       "105115                     -3  \n",
       "108509                   -301  \n",
       "109508                    -97  \n",
       "120304                   -428  \n",
       "122085                   -123  \n",
       "125622                     -1  \n",
       "129153                   -295  \n",
       "129213                    -50  \n",
       "143638                    -10  \n",
       "145384                   -658  \n",
       "147008                   -376  \n",
       "149301                     -1  \n",
       "167566                    -91  \n",
       "172034                  -1153  "
      ]
     },
     "execution_count": 30,
     "metadata": {},
     "output_type": "execute_result"
    }
   ],
   "source": [
    "df[df['age_upon_outcome_days'] < 0]"
   ]
  },
  {
   "cell_type": "code",
   "execution_count": 31,
   "id": "1aae4c5c",
   "metadata": {
    "execution": {
     "iopub.execute_input": "2025-03-24T21:32:32.582441Z",
     "iopub.status.busy": "2025-03-24T21:32:32.582089Z",
     "iopub.status.idle": "2025-03-24T21:32:32.586305Z",
     "shell.execute_reply": "2025-03-24T21:32:32.585251Z"
    },
    "papermill": {
     "duration": 0.024899,
     "end_time": "2025-03-24T21:32:32.588136",
     "exception": false,
     "start_time": "2025-03-24T21:32:32.563237",
     "status": "completed"
    },
    "tags": []
   },
   "outputs": [],
   "source": [
    "def fix_negative_age(row):\n",
    "    return max(row.age_upon_outcome_days, 0)"
   ]
  },
  {
   "cell_type": "code",
   "execution_count": 32,
   "id": "0c58809a",
   "metadata": {
    "execution": {
     "iopub.execute_input": "2025-03-24T21:32:32.625394Z",
     "iopub.status.busy": "2025-03-24T21:32:32.625025Z",
     "iopub.status.idle": "2025-03-24T21:32:35.496278Z",
     "shell.execute_reply": "2025-03-24T21:32:35.495132Z"
    },
    "papermill": {
     "duration": 2.891821,
     "end_time": "2025-03-24T21:32:35.498255",
     "exception": false,
     "start_time": "2025-03-24T21:32:32.606434",
     "status": "completed"
    },
    "tags": []
   },
   "outputs": [],
   "source": [
    "df['age_upon_outcome_days'] = df.apply(fix_negative_age, axis='columns')"
   ]
  },
  {
   "cell_type": "code",
   "execution_count": 33,
   "id": "cb787abe",
   "metadata": {
    "execution": {
     "iopub.execute_input": "2025-03-24T21:32:35.536969Z",
     "iopub.status.busy": "2025-03-24T21:32:35.536560Z",
     "iopub.status.idle": "2025-03-24T21:32:35.548701Z",
     "shell.execute_reply": "2025-03-24T21:32:35.547672Z"
    },
    "papermill": {
     "duration": 0.033936,
     "end_time": "2025-03-24T21:32:35.550394",
     "exception": false,
     "start_time": "2025-03-24T21:32:35.516458",
     "status": "completed"
    },
    "tags": []
   },
   "outputs": [
    {
     "data": {
      "text/html": [
       "<div>\n",
       "<style scoped>\n",
       "    .dataframe tbody tr th:only-of-type {\n",
       "        vertical-align: middle;\n",
       "    }\n",
       "\n",
       "    .dataframe tbody tr th {\n",
       "        vertical-align: top;\n",
       "    }\n",
       "\n",
       "    .dataframe thead th {\n",
       "        text-align: right;\n",
       "    }\n",
       "</style>\n",
       "<table border=\"1\" class=\"dataframe\">\n",
       "  <thead>\n",
       "    <tr style=\"text-align: right;\">\n",
       "      <th></th>\n",
       "      <th>Animal ID</th>\n",
       "      <th>Name</th>\n",
       "      <th>DateTime</th>\n",
       "      <th>MonthYear</th>\n",
       "      <th>Date of Birth</th>\n",
       "      <th>Outcome Type</th>\n",
       "      <th>Outcome Subtype</th>\n",
       "      <th>Animal Type</th>\n",
       "      <th>Sex upon Outcome</th>\n",
       "      <th>Age upon Outcome</th>\n",
       "      <th>Breed</th>\n",
       "      <th>Color</th>\n",
       "      <th>age_upon_outcome_days</th>\n",
       "    </tr>\n",
       "  </thead>\n",
       "  <tbody>\n",
       "  </tbody>\n",
       "</table>\n",
       "</div>"
      ],
      "text/plain": [
       "Empty DataFrame\n",
       "Columns: [Animal ID, Name, DateTime, MonthYear, Date of Birth, Outcome Type, Outcome Subtype, Animal Type, Sex upon Outcome, Age upon Outcome, Breed, Color, age_upon_outcome_days]\n",
       "Index: []"
      ]
     },
     "execution_count": 33,
     "metadata": {},
     "output_type": "execute_result"
    }
   ],
   "source": [
    "df[df['age_upon_outcome_days'] < 0]"
   ]
  },
  {
   "cell_type": "code",
   "execution_count": 34,
   "id": "a01be047",
   "metadata": {
    "execution": {
     "iopub.execute_input": "2025-03-24T21:32:35.589870Z",
     "iopub.status.busy": "2025-03-24T21:32:35.589455Z",
     "iopub.status.idle": "2025-03-24T21:32:35.609598Z",
     "shell.execute_reply": "2025-03-24T21:32:35.608443Z"
    },
    "papermill": {
     "duration": 0.041964,
     "end_time": "2025-03-24T21:32:35.611528",
     "exception": false,
     "start_time": "2025-03-24T21:32:35.569564",
     "status": "completed"
    },
    "tags": []
   },
   "outputs": [
    {
     "data": {
      "text/html": [
       "<div>\n",
       "<style scoped>\n",
       "    .dataframe tbody tr th:only-of-type {\n",
       "        vertical-align: middle;\n",
       "    }\n",
       "\n",
       "    .dataframe tbody tr th {\n",
       "        vertical-align: top;\n",
       "    }\n",
       "\n",
       "    .dataframe thead th {\n",
       "        text-align: right;\n",
       "    }\n",
       "</style>\n",
       "<table border=\"1\" class=\"dataframe\">\n",
       "  <thead>\n",
       "    <tr style=\"text-align: right;\">\n",
       "      <th></th>\n",
       "      <th>Animal ID</th>\n",
       "      <th>Name</th>\n",
       "      <th>DateTime</th>\n",
       "      <th>MonthYear</th>\n",
       "      <th>Date of Birth</th>\n",
       "      <th>Outcome Type</th>\n",
       "      <th>Outcome Subtype</th>\n",
       "      <th>Animal Type</th>\n",
       "      <th>Sex upon Outcome</th>\n",
       "      <th>Age upon Outcome</th>\n",
       "      <th>Breed</th>\n",
       "      <th>Color</th>\n",
       "      <th>age_upon_outcome_days</th>\n",
       "    </tr>\n",
       "  </thead>\n",
       "  <tbody>\n",
       "    <tr>\n",
       "      <th>65062</th>\n",
       "      <td>A842878</td>\n",
       "      <td>Sunshine</td>\n",
       "      <td>2021-10-30 15:07:00</td>\n",
       "      <td>2021-10-01</td>\n",
       "      <td>1991-09-22</td>\n",
       "      <td>Transfer</td>\n",
       "      <td>Partner</td>\n",
       "      <td>Bird</td>\n",
       "      <td>Intact Female</td>\n",
       "      <td>30 years</td>\n",
       "      <td>Macaw</td>\n",
       "      <td>Blue/Gold</td>\n",
       "      <td>10996</td>\n",
       "    </tr>\n",
       "    <tr>\n",
       "      <th>12920</th>\n",
       "      <td>A855081</td>\n",
       "      <td>Rasheedi</td>\n",
       "      <td>2022-04-14 10:53:00</td>\n",
       "      <td>2022-04-01</td>\n",
       "      <td>1994-04-14</td>\n",
       "      <td>Return to Owner</td>\n",
       "      <td>NaN</td>\n",
       "      <td>Other</td>\n",
       "      <td>Intact Female</td>\n",
       "      <td>28 years</td>\n",
       "      <td>Tortoise</td>\n",
       "      <td>Brown</td>\n",
       "      <td>10227</td>\n",
       "    </tr>\n",
       "    <tr>\n",
       "      <th>88333</th>\n",
       "      <td>A740127</td>\n",
       "      <td>Sweet Pea</td>\n",
       "      <td>2016-12-16 00:00:00</td>\n",
       "      <td>2016-12-01</td>\n",
       "      <td>1991-12-11</td>\n",
       "      <td>Transfer</td>\n",
       "      <td>Partner</td>\n",
       "      <td>Bird</td>\n",
       "      <td>Intact Female</td>\n",
       "      <td>25 years</td>\n",
       "      <td>Cockatoo</td>\n",
       "      <td>White/Orange</td>\n",
       "      <td>9137</td>\n",
       "    </tr>\n",
       "    <tr>\n",
       "      <th>45775</th>\n",
       "      <td>A912407</td>\n",
       "      <td>Unknown</td>\n",
       "      <td>2024-09-04 17:10:00</td>\n",
       "      <td>2024-09-01</td>\n",
       "      <td>1999-08-30</td>\n",
       "      <td>Transfer</td>\n",
       "      <td>Partner</td>\n",
       "      <td>Other</td>\n",
       "      <td>Intact Male</td>\n",
       "      <td>25 years</td>\n",
       "      <td>Tortoise</td>\n",
       "      <td>Brown</td>\n",
       "      <td>9137</td>\n",
       "    </tr>\n",
       "    <tr>\n",
       "      <th>67327</th>\n",
       "      <td>A773881</td>\n",
       "      <td>Shy Boy</td>\n",
       "      <td>2018-06-07 15:33:00</td>\n",
       "      <td>2018-06-01</td>\n",
       "      <td>1994-06-07</td>\n",
       "      <td>Return to Owner</td>\n",
       "      <td>NaN</td>\n",
       "      <td>Dog</td>\n",
       "      <td>Neutered Male</td>\n",
       "      <td>24 years</td>\n",
       "      <td>German Shepherd Mix</td>\n",
       "      <td>Red/Cream</td>\n",
       "      <td>8766</td>\n",
       "    </tr>\n",
       "    <tr>\n",
       "      <th>...</th>\n",
       "      <td>...</td>\n",
       "      <td>...</td>\n",
       "      <td>...</td>\n",
       "      <td>...</td>\n",
       "      <td>...</td>\n",
       "      <td>...</td>\n",
       "      <td>...</td>\n",
       "      <td>...</td>\n",
       "      <td>...</td>\n",
       "      <td>...</td>\n",
       "      <td>...</td>\n",
       "      <td>...</td>\n",
       "      <td>...</td>\n",
       "    </tr>\n",
       "    <tr>\n",
       "      <th>100052</th>\n",
       "      <td>A793491</td>\n",
       "      <td>Snoopy</td>\n",
       "      <td>2019-04-26 14:49:00</td>\n",
       "      <td>2019-04-01</td>\n",
       "      <td>2004-04-26</td>\n",
       "      <td>Return to Owner</td>\n",
       "      <td>NaN</td>\n",
       "      <td>Dog</td>\n",
       "      <td>Intact Male</td>\n",
       "      <td>15 years</td>\n",
       "      <td>Mexican Hairless</td>\n",
       "      <td>Black</td>\n",
       "      <td>5478</td>\n",
       "    </tr>\n",
       "    <tr>\n",
       "      <th>95584</th>\n",
       "      <td>A802979</td>\n",
       "      <td>Percy</td>\n",
       "      <td>2019-08-26 13:00:00</td>\n",
       "      <td>2019-08-01</td>\n",
       "      <td>2004-08-26</td>\n",
       "      <td>Return to Owner</td>\n",
       "      <td>NaN</td>\n",
       "      <td>Dog</td>\n",
       "      <td>Spayed Female</td>\n",
       "      <td>15 years</td>\n",
       "      <td>Labrador Retriever Mix</td>\n",
       "      <td>Tan</td>\n",
       "      <td>5478</td>\n",
       "    </tr>\n",
       "    <tr>\n",
       "      <th>62754</th>\n",
       "      <td>A814444</td>\n",
       "      <td>Nala</td>\n",
       "      <td>2020-02-29 15:33:00</td>\n",
       "      <td>2020-02-01</td>\n",
       "      <td>2005-03-01</td>\n",
       "      <td>Adoption</td>\n",
       "      <td>NaN</td>\n",
       "      <td>Dog</td>\n",
       "      <td>Spayed Female</td>\n",
       "      <td>15 years</td>\n",
       "      <td>Chihuahua Shorthair</td>\n",
       "      <td>Tan</td>\n",
       "      <td>5478</td>\n",
       "    </tr>\n",
       "    <tr>\n",
       "      <th>62944</th>\n",
       "      <td>A813121</td>\n",
       "      <td>Colby</td>\n",
       "      <td>2020-02-04 19:06:00</td>\n",
       "      <td>2020-02-01</td>\n",
       "      <td>2005-02-04</td>\n",
       "      <td>Return to Owner</td>\n",
       "      <td>NaN</td>\n",
       "      <td>Dog</td>\n",
       "      <td>Neutered Male</td>\n",
       "      <td>15 years</td>\n",
       "      <td>Golden Retriever</td>\n",
       "      <td>Tan</td>\n",
       "      <td>5478</td>\n",
       "    </tr>\n",
       "    <tr>\n",
       "      <th>40661</th>\n",
       "      <td>A888048</td>\n",
       "      <td>Chuy</td>\n",
       "      <td>2023-08-30 18:45:00</td>\n",
       "      <td>2023-08-01</td>\n",
       "      <td>2008-08-30</td>\n",
       "      <td>Return to Owner</td>\n",
       "      <td>NaN</td>\n",
       "      <td>Dog</td>\n",
       "      <td>Intact Male</td>\n",
       "      <td>15 years</td>\n",
       "      <td>Chihuahua Shorthair</td>\n",
       "      <td>Black/White</td>\n",
       "      <td>5478</td>\n",
       "    </tr>\n",
       "  </tbody>\n",
       "</table>\n",
       "<p>900 rows × 13 columns</p>\n",
       "</div>"
      ],
      "text/plain": [
       "       Animal ID       Name            DateTime  MonthYear Date of Birth  \\\n",
       "65062    A842878   Sunshine 2021-10-30 15:07:00 2021-10-01    1991-09-22   \n",
       "12920    A855081   Rasheedi 2022-04-14 10:53:00 2022-04-01    1994-04-14   \n",
       "88333    A740127  Sweet Pea 2016-12-16 00:00:00 2016-12-01    1991-12-11   \n",
       "45775    A912407    Unknown 2024-09-04 17:10:00 2024-09-01    1999-08-30   \n",
       "67327    A773881    Shy Boy 2018-06-07 15:33:00 2018-06-01    1994-06-07   \n",
       "...          ...        ...                 ...        ...           ...   \n",
       "100052   A793491     Snoopy 2019-04-26 14:49:00 2019-04-01    2004-04-26   \n",
       "95584    A802979      Percy 2019-08-26 13:00:00 2019-08-01    2004-08-26   \n",
       "62754    A814444       Nala 2020-02-29 15:33:00 2020-02-01    2005-03-01   \n",
       "62944    A813121      Colby 2020-02-04 19:06:00 2020-02-01    2005-02-04   \n",
       "40661    A888048       Chuy 2023-08-30 18:45:00 2023-08-01    2008-08-30   \n",
       "\n",
       "           Outcome Type Outcome Subtype Animal Type Sex upon Outcome  \\\n",
       "65062          Transfer         Partner        Bird    Intact Female   \n",
       "12920   Return to Owner             NaN       Other    Intact Female   \n",
       "88333          Transfer         Partner        Bird    Intact Female   \n",
       "45775          Transfer         Partner       Other      Intact Male   \n",
       "67327   Return to Owner             NaN         Dog    Neutered Male   \n",
       "...                 ...             ...         ...              ...   \n",
       "100052  Return to Owner             NaN         Dog      Intact Male   \n",
       "95584   Return to Owner             NaN         Dog    Spayed Female   \n",
       "62754          Adoption             NaN         Dog    Spayed Female   \n",
       "62944   Return to Owner             NaN         Dog    Neutered Male   \n",
       "40661   Return to Owner             NaN         Dog      Intact Male   \n",
       "\n",
       "       Age upon Outcome                   Breed         Color  \\\n",
       "65062          30 years                   Macaw     Blue/Gold   \n",
       "12920          28 years                Tortoise         Brown   \n",
       "88333          25 years                Cockatoo  White/Orange   \n",
       "45775          25 years                Tortoise         Brown   \n",
       "67327          24 years     German Shepherd Mix     Red/Cream   \n",
       "...                 ...                     ...           ...   \n",
       "100052         15 years        Mexican Hairless         Black   \n",
       "95584          15 years  Labrador Retriever Mix           Tan   \n",
       "62754          15 years     Chihuahua Shorthair           Tan   \n",
       "62944          15 years        Golden Retriever           Tan   \n",
       "40661          15 years     Chihuahua Shorthair   Black/White   \n",
       "\n",
       "        age_upon_outcome_days  \n",
       "65062                   10996  \n",
       "12920                   10227  \n",
       "88333                    9137  \n",
       "45775                    9137  \n",
       "67327                    8766  \n",
       "...                       ...  \n",
       "100052                   5478  \n",
       "95584                    5478  \n",
       "62754                    5478  \n",
       "62944                    5478  \n",
       "40661                    5478  \n",
       "\n",
       "[900 rows x 13 columns]"
      ]
     },
     "execution_count": 34,
     "metadata": {},
     "output_type": "execute_result"
    }
   ],
   "source": [
    "df[df['age_upon_outcome_days'] > 15*365].sort_values(by='age_upon_outcome_days', ascending = False)"
   ]
  },
  {
   "cell_type": "code",
   "execution_count": 35,
   "id": "89c8fc3e",
   "metadata": {
    "execution": {
     "iopub.execute_input": "2025-03-24T21:32:35.649683Z",
     "iopub.status.busy": "2025-03-24T21:32:35.649239Z",
     "iopub.status.idle": "2025-03-24T21:32:35.663869Z",
     "shell.execute_reply": "2025-03-24T21:32:35.662722Z"
    },
    "papermill": {
     "duration": 0.035608,
     "end_time": "2025-03-24T21:32:35.665799",
     "exception": false,
     "start_time": "2025-03-24T21:32:35.630191",
     "status": "completed"
    },
    "tags": []
   },
   "outputs": [
    {
     "data": {
      "text/html": [
       "<div>\n",
       "<style scoped>\n",
       "    .dataframe tbody tr th:only-of-type {\n",
       "        vertical-align: middle;\n",
       "    }\n",
       "\n",
       "    .dataframe tbody tr th {\n",
       "        vertical-align: top;\n",
       "    }\n",
       "\n",
       "    .dataframe thead th {\n",
       "        text-align: right;\n",
       "    }\n",
       "</style>\n",
       "<table border=\"1\" class=\"dataframe\">\n",
       "  <thead>\n",
       "    <tr style=\"text-align: right;\">\n",
       "      <th></th>\n",
       "      <th>Animal ID</th>\n",
       "      <th>Name</th>\n",
       "      <th>DateTime</th>\n",
       "      <th>MonthYear</th>\n",
       "      <th>Date of Birth</th>\n",
       "      <th>Outcome Type</th>\n",
       "      <th>Outcome Subtype</th>\n",
       "      <th>Animal Type</th>\n",
       "      <th>Sex upon Outcome</th>\n",
       "      <th>Age upon Outcome</th>\n",
       "      <th>Breed</th>\n",
       "      <th>Color</th>\n",
       "      <th>age_upon_outcome_days</th>\n",
       "    </tr>\n",
       "  </thead>\n",
       "  <tbody>\n",
       "    <tr>\n",
       "      <th>65062</th>\n",
       "      <td>A842878</td>\n",
       "      <td>Sunshine</td>\n",
       "      <td>2021-10-30 15:07:00</td>\n",
       "      <td>2021-10-01</td>\n",
       "      <td>1991-09-22</td>\n",
       "      <td>Transfer</td>\n",
       "      <td>Partner</td>\n",
       "      <td>Bird</td>\n",
       "      <td>Intact Female</td>\n",
       "      <td>30 years</td>\n",
       "      <td>Macaw</td>\n",
       "      <td>Blue/Gold</td>\n",
       "      <td>10996</td>\n",
       "    </tr>\n",
       "  </tbody>\n",
       "</table>\n",
       "</div>"
      ],
      "text/plain": [
       "      Animal ID      Name            DateTime  MonthYear Date of Birth  \\\n",
       "65062   A842878  Sunshine 2021-10-30 15:07:00 2021-10-01    1991-09-22   \n",
       "\n",
       "      Outcome Type Outcome Subtype Animal Type Sex upon Outcome  \\\n",
       "65062     Transfer         Partner        Bird    Intact Female   \n",
       "\n",
       "      Age upon Outcome  Breed      Color  age_upon_outcome_days  \n",
       "65062         30 years  Macaw  Blue/Gold                  10996  "
      ]
     },
     "execution_count": 35,
     "metadata": {},
     "output_type": "execute_result"
    }
   ],
   "source": [
    "df[df['age_upon_outcome_days'] == df['age_upon_outcome_days'].max()]"
   ]
  },
  {
   "cell_type": "code",
   "execution_count": 36,
   "id": "b55779d3",
   "metadata": {
    "execution": {
     "iopub.execute_input": "2025-03-24T21:32:35.704492Z",
     "iopub.status.busy": "2025-03-24T21:32:35.704146Z",
     "iopub.status.idle": "2025-03-24T21:32:35.723843Z",
     "shell.execute_reply": "2025-03-24T21:32:35.722722Z"
    },
    "papermill": {
     "duration": 0.041049,
     "end_time": "2025-03-24T21:32:35.725417",
     "exception": false,
     "start_time": "2025-03-24T21:32:35.684368",
     "status": "completed"
    },
    "tags": []
   },
   "outputs": [
    {
     "data": {
      "text/plain": [
       "172113"
      ]
     },
     "execution_count": 36,
     "metadata": {},
     "output_type": "execute_result"
    }
   ],
   "source": [
    "df['Breed'].value_counts().sum()"
   ]
  },
  {
   "cell_type": "code",
   "execution_count": 37,
   "id": "53c77070",
   "metadata": {
    "execution": {
     "iopub.execute_input": "2025-03-24T21:32:35.763977Z",
     "iopub.status.busy": "2025-03-24T21:32:35.763616Z",
     "iopub.status.idle": "2025-03-24T21:32:35.787869Z",
     "shell.execute_reply": "2025-03-24T21:32:35.786724Z"
    },
    "papermill": {
     "duration": 0.045716,
     "end_time": "2025-03-24T21:32:35.789668",
     "exception": false,
     "start_time": "2025-03-24T21:32:35.743952",
     "status": "completed"
    },
    "tags": []
   },
   "outputs": [
    {
     "data": {
      "text/plain": [
       "Breed\n",
       "Domestic Shorthair Mix           34026\n",
       "Domestic Shorthair               23197\n",
       "Pit Bull Mix                     10113\n",
       "Labrador Retriever Mix            8734\n",
       "Chihuahua Shorthair Mix           6901\n",
       "German Shepherd Mix               4038\n",
       "Domestic Medium Hair Mix          3376\n",
       "Pit Bull                          3341\n",
       "Bat                               2293\n",
       "Domestic Medium Hair              2068\n",
       "Labrador Retriever                1998\n",
       "Australian Cattle Dog Mix         1982\n",
       "Chihuahua Shorthair               1981\n",
       "German Shepherd                   1791\n",
       "Bat Mix                           1756\n",
       "Domestic Longhair Mix             1687\n",
       "Siamese Mix                       1467\n",
       "Dachshund Mix                     1189\n",
       "Boxer Mix                         1178\n",
       "Border Collie Mix                 1144\n",
       "Siberian Husky Mix                 963\n",
       "Miniature Poodle Mix               924\n",
       "Australian Shepherd Mix            873\n",
       "Catahoula Mix                      851\n",
       "Siberian Husky                     846\n",
       "Raccoon                            814\n",
       "Staffordshire Mix                  799\n",
       "Great Pyrenees Mix                 771\n",
       "Domestic Longhair                  764\n",
       "Rat Terrier Mix                    726\n",
       "Yorkshire Terrier Mix              693\n",
       "Miniature Schnauzer Mix            679\n",
       "Beagle Mix                         674\n",
       "Jack Russell Terrier Mix           664\n",
       "Pointer Mix                        651\n",
       "Cairn Terrier Mix                  602\n",
       "American Bulldog Mix               595\n",
       "Chihuahua Longhair Mix             566\n",
       "Australian Cattle Dog              565\n",
       "Anatol Shepherd Mix                548\n",
       "Guinea Pig                         542\n",
       "Raccoon Mix                        539\n",
       "Siamese                            536\n",
       "Black Mouth Cur Mix                530\n",
       "Rottweiler Mix                     512\n",
       "Labrador Retriever/Pit Bull        506\n",
       "Plott Hound Mix                    494\n",
       "Great Pyrenees                     479\n",
       "Australian Kelpie Mix              470\n",
       "Chihuahua Shorthair/Dachshund      439\n",
       "Name: count, dtype: int64"
      ]
     },
     "execution_count": 37,
     "metadata": {},
     "output_type": "execute_result"
    }
   ],
   "source": [
    "df['Breed'].value_counts().head(50)"
   ]
  },
  {
   "cell_type": "code",
   "execution_count": 38,
   "id": "b472a5f7",
   "metadata": {
    "execution": {
     "iopub.execute_input": "2025-03-24T21:32:35.828563Z",
     "iopub.status.busy": "2025-03-24T21:32:35.828182Z",
     "iopub.status.idle": "2025-03-24T21:32:35.912001Z",
     "shell.execute_reply": "2025-03-24T21:32:35.910614Z"
    },
    "papermill": {
     "duration": 0.105259,
     "end_time": "2025-03-24T21:32:35.913811",
     "exception": false,
     "start_time": "2025-03-24T21:32:35.808552",
     "status": "completed"
    },
    "tags": []
   },
   "outputs": [
    {
     "name": "stdout",
     "output_type": "stream",
     "text": [
      "Breed\n",
      "St. Bernard Rough Coat Mix                       30\n",
      "St. Bernard Smooth Coat Mix                      27\n",
      "Lop-Holland                                      15\n",
      "St. Bernard Rough Coat/Boxer                     14\n",
      "Lop-English Mix                                  14\n",
      "Lop-Holland Mix                                  13\n",
      "Bat/Mex Free-Tail                                12\n",
      "St. Bernard Rough Coat                           11\n",
      "St. Bernard Smooth Coat                           8\n",
      "Great Pyrenees/St. Bernard Smooth Coat            7\n",
      "Lop-Mini                                          7\n",
      "Lop-Mini Mix                                      5\n",
      "Labrador Retriever/St. Bernard Smooth Coat        5\n",
      "Angora-French Mix                                 5\n",
      "Lop-Amer Fuzzy                                    3\n",
      "Australian Cattle Dog/St. Bernard Smooth Coat     3\n",
      "Angora-English                                    3\n",
      "Angora-English Mix                                3\n",
      "Rex-Mini                                          3\n",
      "St. Bernard Rough Coat/Great Pyrenees             2\n",
      "Lop-Mini/Lop-Holland                              2\n",
      "Anatol Shepherd/St. Bernard Smooth Coat           2\n",
      "St. Bernard Smooth Coat/Anatol Shepherd           2\n",
      "St. Bernard Rough Coat/Labrador Retriever         2\n",
      "Chinchilla-Stnd Mix                               2\n",
      "Lop-Amer Fuzzy Mix                                2\n",
      "Rex-Mini Mix                                      2\n",
      "Rabbit Sh/Lop-Mini                                1\n",
      "Rex/Lop-English                                   1\n",
      "New Zealand Wht/Lop-Holland                       1\n",
      "St. Bernard Rough Coat/Standard Schnauzer         1\n",
      "Lop-Mini/Hotot                                    1\n",
      "St. Bernard Rough Coat/Border Collie              1\n",
      "Rex-Mini/Lop-English                              1\n",
      "Labrador Retriever/St. Bernard Rough Coat         1\n",
      "Chinchilla-Amer                                   1\n",
      "Brittany/St. Bernard Smooth Coat                  1\n",
      "Dutch/Angora-Satin                                1\n",
      "St. Bernard Rough Coat/German Shepherd            1\n",
      "Lop-French                                        1\n",
      "Great Pyrenees/St. Bernard Rough Coat             1\n",
      "St. Bernard Rough Coat/Anatol Shepherd            1\n",
      "Pit Bull/St. Bernard Smooth Coat                  1\n",
      "St. Bernard Rough Coat/Beagle                     1\n",
      "Angora-Satin Mix                                  1\n",
      "Chinchilla-Stnd                                   1\n",
      "St. Bernard Smooth Coat/Mastiff                   1\n",
      "Angora-Satin                                      1\n",
      "Lop-English                                       1\n",
      "Chinchilla-Amer Mix                               1\n",
      "Name: count, dtype: int64\n"
     ]
    }
   ],
   "source": [
    "weird_breeds=df[df['Breed'].str.contains(r\"[^A-Za-z/*\\s]\", na=False)]\n",
    "print(weird_breeds['Breed'].value_counts())"
   ]
  },
  {
   "cell_type": "code",
   "execution_count": 39,
   "id": "6be8dc61",
   "metadata": {
    "execution": {
     "iopub.execute_input": "2025-03-24T21:32:35.954827Z",
     "iopub.status.busy": "2025-03-24T21:32:35.954413Z",
     "iopub.status.idle": "2025-03-24T21:32:35.972267Z",
     "shell.execute_reply": "2025-03-24T21:32:35.970905Z"
    },
    "papermill": {
     "duration": 0.040556,
     "end_time": "2025-03-24T21:32:35.974266",
     "exception": false,
     "start_time": "2025-03-24T21:32:35.933710",
     "status": "completed"
    },
    "tags": []
   },
   "outputs": [],
   "source": [
    "unique_colors = df['Color'].value_counts()"
   ]
  },
  {
   "cell_type": "code",
   "execution_count": 40,
   "id": "ada87cc6",
   "metadata": {
    "execution": {
     "iopub.execute_input": "2025-03-24T21:32:36.014094Z",
     "iopub.status.busy": "2025-03-24T21:32:36.013736Z",
     "iopub.status.idle": "2025-03-24T21:32:36.024164Z",
     "shell.execute_reply": "2025-03-24T21:32:36.023236Z"
    },
    "papermill": {
     "duration": 0.032991,
     "end_time": "2025-03-24T21:32:36.026118",
     "exception": false,
     "start_time": "2025-03-24T21:32:35.993127",
     "status": "completed"
    },
    "tags": []
   },
   "outputs": [
    {
     "data": {
      "text/plain": [
       "Color\n",
       "Agouti/Cream                 1\n",
       "Agouti/Gold                  1\n",
       "Agouti/Gray                  1\n",
       "Black Brindle/Blue           1\n",
       "Black Brindle/Yellow         1\n",
       "Black Smoke/Black            1\n",
       "Black Smoke/Black Tiger      1\n",
       "Black Smoke/Blue Tick        1\n",
       "Black Smoke/Brown Tabby      1\n",
       "Black Smoke/Chocolate        1\n",
       "Black Tabby/Black            1\n",
       "Black Tabby/Black Smoke      1\n",
       "Black Tabby/Gray Tabby       1\n",
       "Black Tabby/Orange           1\n",
       "Black/Seal Point             1\n",
       "Black/Silver Tabby           1\n",
       "Blue Cream/Blue Tiger        1\n",
       "Blue Cream/Buff              1\n",
       "Blue Merle/Brown Brindle     1\n",
       "Blue Merle/Brown Merle       1\n",
       "Blue Merle/Cream             1\n",
       "Blue Point/Lynx Point        1\n",
       "Blue Smoke/Brown             1\n",
       "Blue Smoke/Gray              1\n",
       "Blue Smoke/Tan               1\n",
       "Blue Tabby/Buff              1\n",
       "Blue Tabby/Orange            1\n",
       "Blue Tabby/Tan               1\n",
       "Blue Tabby/Tortie            1\n",
       "Blue Tick/Brown Brindle      1\n",
       "Blue Tiger/Black             1\n",
       "Blue Tiger/Tan               1\n",
       "Blue/Blue Merle              1\n",
       "Blue/Blue Tick               1\n",
       "Blue/Calico                  1\n",
       "Blue/Fawn                    1\n",
       "Blue/Gold                    1\n",
       "Brown Brindle/Blue           1\n",
       "Brown Brindle/Blue Cream     1\n",
       "Brown Brindle/Chocolate      1\n",
       "Brown Brindle/Liver Tick     1\n",
       "Brown Brindle/Tricolor       1\n",
       "Brown Merle/Brown Merle      1\n",
       "Brown Merle/Brown Tabby      1\n",
       "Brown Merle/Chocolate        1\n",
       "Brown Tabby/Black Brindle    1\n",
       "Brown Tabby/Black Tabby      1\n",
       "Brown Tabby/Blue             1\n",
       "Brown Tabby/Gold             1\n",
       "Brown Tabby/Liver            1\n",
       "Name: count, dtype: int64"
      ]
     },
     "execution_count": 40,
     "metadata": {},
     "output_type": "execute_result"
    }
   ],
   "source": [
    "unique_colors[unique_colors == 1].sort_index().head(50)"
   ]
  },
  {
   "cell_type": "markdown",
   "id": "5ad62e5c",
   "metadata": {
    "papermill": {
     "duration": 0.018616,
     "end_time": "2025-03-24T21:32:36.064002",
     "exception": false,
     "start_time": "2025-03-24T21:32:36.045386",
     "status": "completed"
    },
    "tags": []
   },
   "source": [
    "Is it weird to have colors like \"Black Tabby/Gray Tabby\", \"Blue/Blue Merle\", \"Brown Merle/Brown Merle\", \"Blue Merle/Brown Merle\"?"
   ]
  },
  {
   "cell_type": "code",
   "execution_count": 41,
   "id": "31ec67a6",
   "metadata": {
    "execution": {
     "iopub.execute_input": "2025-03-24T21:32:36.103386Z",
     "iopub.status.busy": "2025-03-24T21:32:36.102874Z",
     "iopub.status.idle": "2025-03-24T21:32:36.150405Z",
     "shell.execute_reply": "2025-03-24T21:32:36.149301Z"
    },
    "papermill": {
     "duration": 0.068937,
     "end_time": "2025-03-24T21:32:36.152034",
     "exception": false,
     "start_time": "2025-03-24T21:32:36.083097",
     "status": "completed"
    },
    "tags": []
   },
   "outputs": [
    {
     "data": {
      "text/html": [
       "<div>\n",
       "<style scoped>\n",
       "    .dataframe tbody tr th:only-of-type {\n",
       "        vertical-align: middle;\n",
       "    }\n",
       "\n",
       "    .dataframe tbody tr th {\n",
       "        vertical-align: top;\n",
       "    }\n",
       "\n",
       "    .dataframe thead th {\n",
       "        text-align: right;\n",
       "    }\n",
       "</style>\n",
       "<table border=\"1\" class=\"dataframe\">\n",
       "  <thead>\n",
       "    <tr style=\"text-align: right;\">\n",
       "      <th></th>\n",
       "      <th>DateTime</th>\n",
       "      <th>MonthYear</th>\n",
       "      <th>Date of Birth</th>\n",
       "      <th>age_upon_outcome_days</th>\n",
       "    </tr>\n",
       "  </thead>\n",
       "  <tbody>\n",
       "    <tr>\n",
       "      <th>count</th>\n",
       "      <td>172113</td>\n",
       "      <td>172113</td>\n",
       "      <td>172113</td>\n",
       "      <td>172113.000000</td>\n",
       "    </tr>\n",
       "    <tr>\n",
       "      <th>mean</th>\n",
       "      <td>2018-11-06 11:28:53.957923072</td>\n",
       "      <td>2018-10-22 01:03:43.701870336</td>\n",
       "      <td>2016-10-04 09:36:05.923550208</td>\n",
       "      <td>762.525260</td>\n",
       "    </tr>\n",
       "    <tr>\n",
       "      <th>min</th>\n",
       "      <td>2013-10-01 09:31:00</td>\n",
       "      <td>2013-10-01 00:00:00</td>\n",
       "      <td>1991-09-22 00:00:00</td>\n",
       "      <td>0.000000</td>\n",
       "    </tr>\n",
       "    <tr>\n",
       "      <th>25%</th>\n",
       "      <td>2016-02-01 08:56:00</td>\n",
       "      <td>2016-02-01 00:00:00</td>\n",
       "      <td>2014-03-11 00:00:00</td>\n",
       "      <td>90.000000</td>\n",
       "    </tr>\n",
       "    <tr>\n",
       "      <th>50%</th>\n",
       "      <td>2018-07-21 17:54:00</td>\n",
       "      <td>2018-07-01 00:00:00</td>\n",
       "      <td>2016-10-21 00:00:00</td>\n",
       "      <td>369.000000</td>\n",
       "    </tr>\n",
       "    <tr>\n",
       "      <th>75%</th>\n",
       "      <td>2021-07-25 17:47:00</td>\n",
       "      <td>2021-07-01 00:00:00</td>\n",
       "      <td>2019-11-06 00:00:00</td>\n",
       "      <td>812.000000</td>\n",
       "    </tr>\n",
       "    <tr>\n",
       "      <th>max</th>\n",
       "      <td>2025-03-07 13:48:00</td>\n",
       "      <td>2025-03-01 00:00:00</td>\n",
       "      <td>2028-05-01 00:00:00</td>\n",
       "      <td>10996.000000</td>\n",
       "    </tr>\n",
       "    <tr>\n",
       "      <th>std</th>\n",
       "      <td>NaN</td>\n",
       "      <td>NaN</td>\n",
       "      <td>NaN</td>\n",
       "      <td>1043.643606</td>\n",
       "    </tr>\n",
       "  </tbody>\n",
       "</table>\n",
       "</div>"
      ],
      "text/plain": [
       "                            DateTime                      MonthYear  \\\n",
       "count                         172113                         172113   \n",
       "mean   2018-11-06 11:28:53.957923072  2018-10-22 01:03:43.701870336   \n",
       "min              2013-10-01 09:31:00            2013-10-01 00:00:00   \n",
       "25%              2016-02-01 08:56:00            2016-02-01 00:00:00   \n",
       "50%              2018-07-21 17:54:00            2018-07-01 00:00:00   \n",
       "75%              2021-07-25 17:47:00            2021-07-01 00:00:00   \n",
       "max              2025-03-07 13:48:00            2025-03-01 00:00:00   \n",
       "std                              NaN                            NaN   \n",
       "\n",
       "                       Date of Birth  age_upon_outcome_days  \n",
       "count                         172113          172113.000000  \n",
       "mean   2016-10-04 09:36:05.923550208             762.525260  \n",
       "min              1991-09-22 00:00:00               0.000000  \n",
       "25%              2014-03-11 00:00:00              90.000000  \n",
       "50%              2016-10-21 00:00:00             369.000000  \n",
       "75%              2019-11-06 00:00:00             812.000000  \n",
       "max              2028-05-01 00:00:00           10996.000000  \n",
       "std                              NaN            1043.643606  "
      ]
     },
     "execution_count": 41,
     "metadata": {},
     "output_type": "execute_result"
    }
   ],
   "source": [
    "df.describe()"
   ]
  },
  {
   "cell_type": "markdown",
   "id": "5010723d",
   "metadata": {
    "papermill": {
     "duration": 0.018623,
     "end_time": "2025-03-24T21:32:36.189858",
     "exception": false,
     "start_time": "2025-03-24T21:32:36.171235",
     "status": "completed"
    },
    "tags": []
   },
   "source": [
    "1. How many total records (animals) are in the dataset?\n",
    "2. What are the most common animal types?\n",
    "3. What are the most common breeds for dogs and cats?\n",
    "4. What are the busiest months for animal intakes?\n",
    "5. Has the number of adoptions changed over time?\n",
    "6. What are the most common outcomes for animals?\n",
    "7. Do certain breeds have higher adoption rates?\n",
    "8. Do younger animals get adopted more quickly?\n",
    "9. Are certain zip codes associated with more intakes or adoptions?\n",
    "10. How long do animals typically stay in the shelter before adoption?"
   ]
  },
  {
   "cell_type": "markdown",
   "id": "9e942ac6",
   "metadata": {
    "papermill": {
     "duration": 0.018906,
     "end_time": "2025-03-24T21:32:36.228422",
     "exception": false,
     "start_time": "2025-03-24T21:32:36.209516",
     "status": "completed"
    },
    "tags": []
   },
   "source": [
    "How many total records/animals are in the dataset?\n",
    "172113 records, 154722 unique animals"
   ]
  },
  {
   "cell_type": "code",
   "execution_count": 42,
   "id": "3f558b60",
   "metadata": {
    "execution": {
     "iopub.execute_input": "2025-03-24T21:32:36.269354Z",
     "iopub.status.busy": "2025-03-24T21:32:36.268957Z",
     "iopub.status.idle": "2025-03-24T21:32:36.411568Z",
     "shell.execute_reply": "2025-03-24T21:32:36.410372Z"
    },
    "papermill": {
     "duration": 0.165764,
     "end_time": "2025-03-24T21:32:36.413454",
     "exception": false,
     "start_time": "2025-03-24T21:32:36.247690",
     "status": "completed"
    },
    "tags": []
   },
   "outputs": [
    {
     "data": {
      "text/plain": [
       "count      172113\n",
       "unique     154722\n",
       "top       A721033\n",
       "freq           33\n",
       "Name: Animal ID, dtype: object"
      ]
     },
     "execution_count": 42,
     "metadata": {},
     "output_type": "execute_result"
    }
   ],
   "source": [
    "df['Animal ID'].describe()"
   ]
  },
  {
   "cell_type": "markdown",
   "id": "b7435abb",
   "metadata": {
    "papermill": {
     "duration": 0.019637,
     "end_time": "2025-03-24T21:32:36.452812",
     "exception": false,
     "start_time": "2025-03-24T21:32:36.433175",
     "status": "completed"
    },
    "tags": []
   },
   "source": [
    "2. What are the most common animal types?\n"
   ]
  },
  {
   "cell_type": "code",
   "execution_count": 43,
   "id": "933d2c49",
   "metadata": {
    "execution": {
     "iopub.execute_input": "2025-03-24T21:32:36.493354Z",
     "iopub.status.busy": "2025-03-24T21:32:36.493006Z",
     "iopub.status.idle": "2025-03-24T21:32:36.512091Z",
     "shell.execute_reply": "2025-03-24T21:32:36.510971Z"
    },
    "papermill": {
     "duration": 0.041772,
     "end_time": "2025-03-24T21:32:36.513715",
     "exception": false,
     "start_time": "2025-03-24T21:32:36.471943",
     "status": "completed"
    },
    "tags": []
   },
   "outputs": [
    {
     "data": {
      "text/plain": [
       "Animal Type\n",
       "Dog          93718\n",
       "Cat          68652\n",
       "Other         8839\n",
       "Bird           870\n",
       "Livestock       34\n",
       "Name: count, dtype: int64"
      ]
     },
     "execution_count": 43,
     "metadata": {},
     "output_type": "execute_result"
    }
   ],
   "source": [
    "df['Animal Type'].value_counts()"
   ]
  },
  {
   "cell_type": "code",
   "execution_count": 44,
   "id": "f12932fb",
   "metadata": {
    "execution": {
     "iopub.execute_input": "2025-03-24T21:32:36.556935Z",
     "iopub.status.busy": "2025-03-24T21:32:36.556552Z",
     "iopub.status.idle": "2025-03-24T21:32:36.582849Z",
     "shell.execute_reply": "2025-03-24T21:32:36.581713Z"
    },
    "papermill": {
     "duration": 0.051792,
     "end_time": "2025-03-24T21:32:36.584893",
     "exception": false,
     "start_time": "2025-03-24T21:32:36.533101",
     "status": "completed"
    },
    "tags": []
   },
   "outputs": [
    {
     "data": {
      "text/plain": [
       "Breed\n",
       "Bat                    2293\n",
       "Bat Mix                1756\n",
       "Raccoon                 814\n",
       "Guinea Pig              542\n",
       "Raccoon Mix             539\n",
       "                       ... \n",
       "Britannia Petit Mix       1\n",
       "Angora-Satin Mix          1\n",
       "Polish Mix                1\n",
       "Chinchilla-Amer           1\n",
       "Rhinelander Mix           1\n",
       "Name: count, Length: 138, dtype: int64"
      ]
     },
     "execution_count": 44,
     "metadata": {},
     "output_type": "execute_result"
    }
   ],
   "source": [
    "df[df['Animal Type'] == 'Other']['Breed'].value_counts()"
   ]
  },
  {
   "cell_type": "markdown",
   "id": "21914f6a",
   "metadata": {
    "papermill": {
     "duration": 0.01933,
     "end_time": "2025-03-24T21:32:36.624831",
     "exception": false,
     "start_time": "2025-03-24T21:32:36.605501",
     "status": "completed"
    },
    "tags": []
   },
   "source": [
    "3. What are the most common breeds for dogs and cats?"
   ]
  },
  {
   "cell_type": "code",
   "execution_count": 45,
   "id": "c64c88de",
   "metadata": {
    "execution": {
     "iopub.execute_input": "2025-03-24T21:32:36.665450Z",
     "iopub.status.busy": "2025-03-24T21:32:36.665087Z",
     "iopub.status.idle": "2025-03-24T21:32:36.713786Z",
     "shell.execute_reply": "2025-03-24T21:32:36.712803Z"
    },
    "papermill": {
     "duration": 0.071347,
     "end_time": "2025-03-24T21:32:36.715409",
     "exception": false,
     "start_time": "2025-03-24T21:32:36.644062",
     "status": "completed"
    },
    "tags": []
   },
   "outputs": [
    {
     "data": {
      "text/plain": [
       "Breed\n",
       "Pit Bull Mix                              10113\n",
       "Labrador Retriever Mix                     8734\n",
       "Chihuahua Shorthair Mix                    6901\n",
       "German Shepherd Mix                        4038\n",
       "Pit Bull                                   3341\n",
       "                                          ...  \n",
       "Labrador Retriever/Saluki                     1\n",
       "Bull Terrier Miniature/German Shepherd        1\n",
       "Basset Hound/Beauceron                        1\n",
       "Boxer/American Pit Bull Terrier               1\n",
       "Doberman Pinsch/Alaskan Husky                 1\n",
       "Name: count, Length: 2639, dtype: int64"
      ]
     },
     "execution_count": 45,
     "metadata": {},
     "output_type": "execute_result"
    }
   ],
   "source": [
    "df[df['Animal Type'] == 'Dog']['Breed'].value_counts()"
   ]
  },
  {
   "cell_type": "code",
   "execution_count": 46,
   "id": "1f2b7123",
   "metadata": {
    "execution": {
     "iopub.execute_input": "2025-03-24T21:32:36.756188Z",
     "iopub.status.busy": "2025-03-24T21:32:36.755846Z",
     "iopub.status.idle": "2025-03-24T21:32:36.794510Z",
     "shell.execute_reply": "2025-03-24T21:32:36.793243Z"
    },
    "papermill": {
     "duration": 0.061061,
     "end_time": "2025-03-24T21:32:36.796373",
     "exception": false,
     "start_time": "2025-03-24T21:32:36.735312",
     "status": "completed"
    },
    "tags": []
   },
   "outputs": [
    {
     "data": {
      "text/plain": [
       "Breed\n",
       "Domestic Shorthair Mix                      34026\n",
       "Domestic Shorthair                          23197\n",
       "Domestic Medium Hair Mix                     3376\n",
       "Domestic Medium Hair                         2068\n",
       "Domestic Longhair Mix                        1687\n",
       "                                            ...  \n",
       "Japanese Bobtail/American Curl Shorthair        1\n",
       "Savannah                                        1\n",
       "Domestic Shorthair/Bengal                       1\n",
       "Turkish Angora                                  1\n",
       "Bombay                                          1\n",
       "Name: count, Length: 110, dtype: int64"
      ]
     },
     "execution_count": 46,
     "metadata": {},
     "output_type": "execute_result"
    }
   ],
   "source": [
    "df[df['Animal Type'] == 'Cat']['Breed'].value_counts()"
   ]
  },
  {
   "cell_type": "markdown",
   "id": "a78aed1a",
   "metadata": {
    "papermill": {
     "duration": 0.028875,
     "end_time": "2025-03-24T21:32:36.844929",
     "exception": false,
     "start_time": "2025-03-24T21:32:36.816054",
     "status": "completed"
    },
    "tags": []
   },
   "source": [
    "4. What are the busiest months for animal intakes?\n"
   ]
  },
  {
   "cell_type": "code",
   "execution_count": 47,
   "id": "7c28e1d2",
   "metadata": {
    "execution": {
     "iopub.execute_input": "2025-03-24T21:32:36.901289Z",
     "iopub.status.busy": "2025-03-24T21:32:36.900947Z",
     "iopub.status.idle": "2025-03-24T21:32:36.926844Z",
     "shell.execute_reply": "2025-03-24T21:32:36.925688Z"
    },
    "papermill": {
     "duration": 0.054145,
     "end_time": "2025-03-24T21:32:36.928820",
     "exception": false,
     "start_time": "2025-03-24T21:32:36.874675",
     "status": "completed"
    },
    "tags": []
   },
   "outputs": [],
   "source": [
    "df['outcome_month'] = df['MonthYear'].dt.month\n",
    "df['outcome_year'] = df['MonthYear'].dt.year"
   ]
  },
  {
   "cell_type": "code",
   "execution_count": 48,
   "id": "da35dc92",
   "metadata": {
    "execution": {
     "iopub.execute_input": "2025-03-24T21:32:36.970255Z",
     "iopub.status.busy": "2025-03-24T21:32:36.969893Z",
     "iopub.status.idle": "2025-03-24T21:32:36.978877Z",
     "shell.execute_reply": "2025-03-24T21:32:36.977736Z"
    },
    "papermill": {
     "duration": 0.031946,
     "end_time": "2025-03-24T21:32:36.980803",
     "exception": false,
     "start_time": "2025-03-24T21:32:36.948857",
     "status": "completed"
    },
    "tags": []
   },
   "outputs": [
    {
     "data": {
      "text/plain": [
       "outcome_month\n",
       "7     16507\n",
       "6     16295\n",
       "8     16062\n",
       "10    15705\n",
       "9     14627\n",
       "5     14598\n",
       "12    14392\n",
       "11    13929\n",
       "1     13273\n",
       "3     12800\n",
       "4     12177\n",
       "2     11748\n",
       "Name: count, dtype: int64"
      ]
     },
     "execution_count": 48,
     "metadata": {},
     "output_type": "execute_result"
    }
   ],
   "source": [
    "df['outcome_month'].value_counts()"
   ]
  },
  {
   "cell_type": "code",
   "execution_count": 49,
   "id": "eb0ed562",
   "metadata": {
    "execution": {
     "iopub.execute_input": "2025-03-24T21:32:37.021796Z",
     "iopub.status.busy": "2025-03-24T21:32:37.021414Z",
     "iopub.status.idle": "2025-03-24T21:32:37.029983Z",
     "shell.execute_reply": "2025-03-24T21:32:37.028924Z"
    },
    "papermill": {
     "duration": 0.030892,
     "end_time": "2025-03-24T21:32:37.031561",
     "exception": false,
     "start_time": "2025-03-24T21:32:37.000669",
     "status": "completed"
    },
    "tags": []
   },
   "outputs": [
    {
     "data": {
      "text/plain": [
       "outcome_year\n",
       "2019    19775\n",
       "2014    18709\n",
       "2015    18506\n",
       "2016    17670\n",
       "2017    17657\n",
       "2018    16741\n",
       "2021    11967\n",
       "2022    11886\n",
       "2024    11822\n",
       "2023    11151\n",
       "2020     9778\n",
       "2013     4505\n",
       "2025     1946\n",
       "Name: count, dtype: int64"
      ]
     },
     "execution_count": 49,
     "metadata": {},
     "output_type": "execute_result"
    }
   ],
   "source": [
    "df['outcome_year'].value_counts()"
   ]
  },
  {
   "cell_type": "markdown",
   "id": "015db670",
   "metadata": {
    "papermill": {
     "duration": 0.019397,
     "end_time": "2025-03-24T21:32:37.070791",
     "exception": false,
     "start_time": "2025-03-24T21:32:37.051394",
     "status": "completed"
    },
    "tags": []
   },
   "source": [
    "Why was 2013 so low? First year of data collection?"
   ]
  },
  {
   "cell_type": "markdown",
   "id": "fcc8ffc4",
   "metadata": {
    "papermill": {
     "duration": 0.019169,
     "end_time": "2025-03-24T21:32:37.109845",
     "exception": false,
     "start_time": "2025-03-24T21:32:37.090676",
     "status": "completed"
    },
    "tags": []
   },
   "source": [
    "What are the most common outcomes for animals?"
   ]
  },
  {
   "cell_type": "code",
   "execution_count": 50,
   "id": "31093853",
   "metadata": {
    "execution": {
     "iopub.execute_input": "2025-03-24T21:32:37.151491Z",
     "iopub.status.busy": "2025-03-24T21:32:37.151134Z",
     "iopub.status.idle": "2025-03-24T21:32:37.170769Z",
     "shell.execute_reply": "2025-03-24T21:32:37.169552Z"
    },
    "papermill": {
     "duration": 0.042932,
     "end_time": "2025-03-24T21:32:37.172386",
     "exception": false,
     "start_time": "2025-03-24T21:32:37.129454",
     "status": "completed"
    },
    "tags": []
   },
   "outputs": [
    {
     "data": {
      "text/plain": [
       "Outcome Type\n",
       "Adoption           83709\n",
       "Transfer           48264\n",
       "Return to Owner    25529\n",
       "Euthanasia         10686\n",
       "Died                1658\n",
       "Rto-Adopt           1230\n",
       "Disposal             868\n",
       "Missing               92\n",
       "Relocate              28\n",
       "Stolen                 5\n",
       "Lost                   2\n",
       "Name: count, dtype: int64"
      ]
     },
     "execution_count": 50,
     "metadata": {},
     "output_type": "execute_result"
    }
   ],
   "source": [
    "df['Outcome Type'].value_counts()"
   ]
  },
  {
   "cell_type": "markdown",
   "id": "2834d99a",
   "metadata": {
    "papermill": {
     "duration": 0.019963,
     "end_time": "2025-03-24T21:32:37.212394",
     "exception": false,
     "start_time": "2025-03-24T21:32:37.192431",
     "status": "completed"
    },
    "tags": []
   },
   "source": [
    "7. Do certain breeds have higher adoption rates?"
   ]
  },
  {
   "cell_type": "code",
   "execution_count": 51,
   "id": "a2cb8c48",
   "metadata": {
    "execution": {
     "iopub.execute_input": "2025-03-24T21:32:37.255106Z",
     "iopub.status.busy": "2025-03-24T21:32:37.254735Z",
     "iopub.status.idle": "2025-03-24T21:32:37.655640Z",
     "shell.execute_reply": "2025-03-24T21:32:37.654675Z"
    },
    "papermill": {
     "duration": 0.424329,
     "end_time": "2025-03-24T21:32:37.657467",
     "exception": false,
     "start_time": "2025-03-24T21:32:37.233138",
     "status": "completed"
    },
    "tags": []
   },
   "outputs": [
    {
     "data": {
      "text/plain": [
       "Breed\n",
       "Yorkshire Terrier/Yorkshire Terrier          100.0\n",
       "Harrier/Anatol Shepherd                      100.0\n",
       "Border Terrier/Dachshund Wirehair            100.0\n",
       "Border Terrier/Jack Russell Terrier          100.0\n",
       "Greyhound/Weimaraner                         100.0\n",
       "                                             ...  \n",
       "Irish Wolfhound/Australian Shepherd            0.0\n",
       "Irish Wolfhound/American Pit Bull Terrier      0.0\n",
       "Rabbit Sh/Lop-Mini                             0.0\n",
       "Raccoon                                        0.0\n",
       "Maltese/Shih Tzu                               0.0\n",
       "Name: Outcome Type, Length: 2990, dtype: float64"
      ]
     },
     "execution_count": 51,
     "metadata": {},
     "output_type": "execute_result"
    }
   ],
   "source": [
    "df.groupby('Breed')['Outcome Type'].apply(lambda x: (x=='Adoption').mean() * 100).sort_values(ascending=False)"
   ]
  },
  {
   "cell_type": "code",
   "execution_count": 52,
   "id": "0d2bbd05",
   "metadata": {
    "execution": {
     "iopub.execute_input": "2025-03-24T21:32:37.699787Z",
     "iopub.status.busy": "2025-03-24T21:32:37.699358Z",
     "iopub.status.idle": "2025-03-24T21:32:37.787776Z",
     "shell.execute_reply": "2025-03-24T21:32:37.786519Z"
    },
    "papermill": {
     "duration": 0.111402,
     "end_time": "2025-03-24T21:32:37.789535",
     "exception": false,
     "start_time": "2025-03-24T21:32:37.678133",
     "status": "completed"
    },
    "tags": []
   },
   "outputs": [
    {
     "data": {
      "text/html": [
       "<div>\n",
       "<style scoped>\n",
       "    .dataframe tbody tr th:only-of-type {\n",
       "        vertical-align: middle;\n",
       "    }\n",
       "\n",
       "    .dataframe tbody tr th {\n",
       "        vertical-align: top;\n",
       "    }\n",
       "\n",
       "    .dataframe thead th {\n",
       "        text-align: right;\n",
       "    }\n",
       "</style>\n",
       "<table border=\"1\" class=\"dataframe\">\n",
       "  <thead>\n",
       "    <tr style=\"text-align: right;\">\n",
       "      <th></th>\n",
       "      <th>total_count</th>\n",
       "      <th>adopt_perc</th>\n",
       "    </tr>\n",
       "    <tr>\n",
       "      <th>Breed</th>\n",
       "      <th></th>\n",
       "      <th></th>\n",
       "    </tr>\n",
       "  </thead>\n",
       "  <tbody>\n",
       "    <tr>\n",
       "      <th>Domestic Medium Hair</th>\n",
       "      <td>2068</td>\n",
       "      <td>62.185687</td>\n",
       "    </tr>\n",
       "    <tr>\n",
       "      <th>Australian Cattle Dog Mix</th>\n",
       "      <td>1982</td>\n",
       "      <td>58.779011</td>\n",
       "    </tr>\n",
       "    <tr>\n",
       "      <th>German Shepherd</th>\n",
       "      <td>1791</td>\n",
       "      <td>58.179788</td>\n",
       "    </tr>\n",
       "    <tr>\n",
       "      <th>Domestic Shorthair</th>\n",
       "      <td>23197</td>\n",
       "      <td>57.938527</td>\n",
       "    </tr>\n",
       "    <tr>\n",
       "      <th>German Shepherd Mix</th>\n",
       "      <td>4038</td>\n",
       "      <td>56.488361</td>\n",
       "    </tr>\n",
       "    <tr>\n",
       "      <th>Labrador Retriever Mix</th>\n",
       "      <td>8734</td>\n",
       "      <td>55.598809</td>\n",
       "    </tr>\n",
       "    <tr>\n",
       "      <th>Labrador Retriever</th>\n",
       "      <td>1998</td>\n",
       "      <td>51.251251</td>\n",
       "    </tr>\n",
       "    <tr>\n",
       "      <th>Pit Bull</th>\n",
       "      <td>3341</td>\n",
       "      <td>51.032625</td>\n",
       "    </tr>\n",
       "    <tr>\n",
       "      <th>Domestic Medium Hair Mix</th>\n",
       "      <td>3376</td>\n",
       "      <td>49.822275</td>\n",
       "    </tr>\n",
       "    <tr>\n",
       "      <th>Chihuahua Shorthair Mix</th>\n",
       "      <td>6901</td>\n",
       "      <td>48.079988</td>\n",
       "    </tr>\n",
       "    <tr>\n",
       "      <th>Chihuahua Shorthair</th>\n",
       "      <td>1981</td>\n",
       "      <td>46.744069</td>\n",
       "    </tr>\n",
       "    <tr>\n",
       "      <th>Domestic Shorthair Mix</th>\n",
       "      <td>34026</td>\n",
       "      <td>46.299888</td>\n",
       "    </tr>\n",
       "    <tr>\n",
       "      <th>Pit Bull Mix</th>\n",
       "      <td>10113</td>\n",
       "      <td>43.004054</td>\n",
       "    </tr>\n",
       "    <tr>\n",
       "      <th>Bat</th>\n",
       "      <td>2293</td>\n",
       "      <td>0.000000</td>\n",
       "    </tr>\n",
       "    <tr>\n",
       "      <th>Bat Mix</th>\n",
       "      <td>1756</td>\n",
       "      <td>0.000000</td>\n",
       "    </tr>\n",
       "  </tbody>\n",
       "</table>\n",
       "</div>"
      ],
      "text/plain": [
       "                           total_count  adopt_perc\n",
       "Breed                                             \n",
       "Domestic Medium Hair              2068   62.185687\n",
       "Australian Cattle Dog Mix         1982   58.779011\n",
       "German Shepherd                   1791   58.179788\n",
       "Domestic Shorthair               23197   57.938527\n",
       "German Shepherd Mix               4038   56.488361\n",
       "Labrador Retriever Mix            8734   55.598809\n",
       "Labrador Retriever                1998   51.251251\n",
       "Pit Bull                          3341   51.032625\n",
       "Domestic Medium Hair Mix          3376   49.822275\n",
       "Chihuahua Shorthair Mix           6901   48.079988\n",
       "Chihuahua Shorthair               1981   46.744069\n",
       "Domestic Shorthair Mix           34026   46.299888\n",
       "Pit Bull Mix                     10113   43.004054\n",
       "Bat                               2293    0.000000\n",
       "Bat Mix                           1756    0.000000"
      ]
     },
     "execution_count": 52,
     "metadata": {},
     "output_type": "execute_result"
    }
   ],
   "source": [
    "breed_counts = df['Breed'].value_counts()\n",
    "popular_breeds = breed_counts[breed_counts>170000*.01].index\n",
    "df_filtered = df[df['Breed'].isin(popular_breeds)]\n",
    "df_filtered.groupby('Breed').agg( total_count=(\"Breed\", \"count\"), \n",
    "                                 adopt_perc=('Outcome Type', lambda x: (x=='Adoption').mean() * 100 )).sort_values(by='adopt_perc', ascending = False)"
   ]
  },
  {
   "cell_type": "code",
   "execution_count": 53,
   "id": "9b9b2136",
   "metadata": {
    "execution": {
     "iopub.execute_input": "2025-03-24T21:32:37.832310Z",
     "iopub.status.busy": "2025-03-24T21:32:37.831899Z",
     "iopub.status.idle": "2025-03-24T21:32:37.877355Z",
     "shell.execute_reply": "2025-03-24T21:32:37.876300Z"
    },
    "papermill": {
     "duration": 0.068734,
     "end_time": "2025-03-24T21:32:37.879130",
     "exception": false,
     "start_time": "2025-03-24T21:32:37.810396",
     "status": "completed"
    },
    "tags": []
   },
   "outputs": [
    {
     "data": {
      "text/html": [
       "<div>\n",
       "<style scoped>\n",
       "    .dataframe tbody tr th:only-of-type {\n",
       "        vertical-align: middle;\n",
       "    }\n",
       "\n",
       "    .dataframe tbody tr th {\n",
       "        vertical-align: top;\n",
       "    }\n",
       "\n",
       "    .dataframe thead th {\n",
       "        text-align: right;\n",
       "    }\n",
       "</style>\n",
       "<table border=\"1\" class=\"dataframe\">\n",
       "  <thead>\n",
       "    <tr style=\"text-align: right;\">\n",
       "      <th></th>\n",
       "      <th>total_count</th>\n",
       "      <th>adopt_perc</th>\n",
       "    </tr>\n",
       "    <tr>\n",
       "      <th>Breed</th>\n",
       "      <th></th>\n",
       "      <th></th>\n",
       "    </tr>\n",
       "  </thead>\n",
       "  <tbody>\n",
       "    <tr>\n",
       "      <th>Domestic Shorthair Mix</th>\n",
       "      <td>34026</td>\n",
       "      <td>46.299888</td>\n",
       "    </tr>\n",
       "    <tr>\n",
       "      <th>Domestic Shorthair</th>\n",
       "      <td>23191</td>\n",
       "      <td>57.938527</td>\n",
       "    </tr>\n",
       "    <tr>\n",
       "      <th>Pit Bull Mix</th>\n",
       "      <td>10112</td>\n",
       "      <td>43.004054</td>\n",
       "    </tr>\n",
       "    <tr>\n",
       "      <th>Labrador Retriever Mix</th>\n",
       "      <td>8733</td>\n",
       "      <td>55.598809</td>\n",
       "    </tr>\n",
       "    <tr>\n",
       "      <th>Chihuahua Shorthair Mix</th>\n",
       "      <td>6900</td>\n",
       "      <td>48.079988</td>\n",
       "    </tr>\n",
       "    <tr>\n",
       "      <th>German Shepherd Mix</th>\n",
       "      <td>4038</td>\n",
       "      <td>56.488361</td>\n",
       "    </tr>\n",
       "    <tr>\n",
       "      <th>Domestic Medium Hair Mix</th>\n",
       "      <td>3376</td>\n",
       "      <td>49.822275</td>\n",
       "    </tr>\n",
       "    <tr>\n",
       "      <th>Pit Bull</th>\n",
       "      <td>3338</td>\n",
       "      <td>51.032625</td>\n",
       "    </tr>\n",
       "    <tr>\n",
       "      <th>Bat</th>\n",
       "      <td>2292</td>\n",
       "      <td>0.000000</td>\n",
       "    </tr>\n",
       "    <tr>\n",
       "      <th>Domestic Medium Hair</th>\n",
       "      <td>2066</td>\n",
       "      <td>62.185687</td>\n",
       "    </tr>\n",
       "    <tr>\n",
       "      <th>Labrador Retriever</th>\n",
       "      <td>1998</td>\n",
       "      <td>51.251251</td>\n",
       "    </tr>\n",
       "    <tr>\n",
       "      <th>Australian Cattle Dog Mix</th>\n",
       "      <td>1982</td>\n",
       "      <td>58.779011</td>\n",
       "    </tr>\n",
       "    <tr>\n",
       "      <th>Chihuahua Shorthair</th>\n",
       "      <td>1981</td>\n",
       "      <td>46.744069</td>\n",
       "    </tr>\n",
       "    <tr>\n",
       "      <th>German Shepherd</th>\n",
       "      <td>1788</td>\n",
       "      <td>58.179788</td>\n",
       "    </tr>\n",
       "    <tr>\n",
       "      <th>Bat Mix</th>\n",
       "      <td>1754</td>\n",
       "      <td>0.000000</td>\n",
       "    </tr>\n",
       "  </tbody>\n",
       "</table>\n",
       "</div>"
      ],
      "text/plain": [
       "                           total_count  adopt_perc\n",
       "Breed                                             \n",
       "Domestic Shorthair Mix           34026   46.299888\n",
       "Domestic Shorthair               23191   57.938527\n",
       "Pit Bull Mix                     10112   43.004054\n",
       "Labrador Retriever Mix            8733   55.598809\n",
       "Chihuahua Shorthair Mix           6900   48.079988\n",
       "German Shepherd Mix               4038   56.488361\n",
       "Domestic Medium Hair Mix          3376   49.822275\n",
       "Pit Bull                          3338   51.032625\n",
       "Bat                               2292    0.000000\n",
       "Domestic Medium Hair              2066   62.185687\n",
       "Labrador Retriever                1998   51.251251\n",
       "Australian Cattle Dog Mix         1982   58.779011\n",
       "Chihuahua Shorthair               1981   46.744069\n",
       "German Shepherd                   1788   58.179788\n",
       "Bat Mix                           1754    0.000000"
      ]
     },
     "execution_count": 53,
     "metadata": {},
     "output_type": "execute_result"
    }
   ],
   "source": [
    "df_filtered.groupby('Breed').agg(total_count=('Outcome Type', 'count'), adopt_perc=('Outcome Type', lambda x: (x=='Adoption').mean() * 100)).sort_values(by='total_count', ascending=False)"
   ]
  },
  {
   "cell_type": "code",
   "execution_count": 54,
   "id": "9adffe9b",
   "metadata": {
    "execution": {
     "iopub.execute_input": "2025-03-24T21:32:37.921566Z",
     "iopub.status.busy": "2025-03-24T21:32:37.921150Z",
     "iopub.status.idle": "2025-03-24T21:32:37.965778Z",
     "shell.execute_reply": "2025-03-24T21:32:37.964527Z"
    },
    "papermill": {
     "duration": 0.067965,
     "end_time": "2025-03-24T21:32:37.967511",
     "exception": false,
     "start_time": "2025-03-24T21:32:37.899546",
     "status": "completed"
    },
    "tags": []
   },
   "outputs": [
    {
     "data": {
      "text/html": [
       "<div>\n",
       "<style scoped>\n",
       "    .dataframe tbody tr th:only-of-type {\n",
       "        vertical-align: middle;\n",
       "    }\n",
       "\n",
       "    .dataframe tbody tr th {\n",
       "        vertical-align: top;\n",
       "    }\n",
       "\n",
       "    .dataframe thead th {\n",
       "        text-align: right;\n",
       "    }\n",
       "</style>\n",
       "<table border=\"1\" class=\"dataframe\">\n",
       "  <thead>\n",
       "    <tr style=\"text-align: right;\">\n",
       "      <th></th>\n",
       "      <th>total_count</th>\n",
       "      <th>adopt_perc</th>\n",
       "    </tr>\n",
       "    <tr>\n",
       "      <th>Breed</th>\n",
       "      <th></th>\n",
       "      <th></th>\n",
       "    </tr>\n",
       "  </thead>\n",
       "  <tbody>\n",
       "    <tr>\n",
       "      <th>Pit Bull Mix</th>\n",
       "      <td>10112</td>\n",
       "      <td>43.004054</td>\n",
       "    </tr>\n",
       "    <tr>\n",
       "      <th>Labrador Retriever Mix</th>\n",
       "      <td>8733</td>\n",
       "      <td>55.598809</td>\n",
       "    </tr>\n",
       "    <tr>\n",
       "      <th>Chihuahua Shorthair Mix</th>\n",
       "      <td>6900</td>\n",
       "      <td>48.079988</td>\n",
       "    </tr>\n",
       "    <tr>\n",
       "      <th>German Shepherd Mix</th>\n",
       "      <td>4038</td>\n",
       "      <td>56.488361</td>\n",
       "    </tr>\n",
       "    <tr>\n",
       "      <th>Pit Bull</th>\n",
       "      <td>3338</td>\n",
       "      <td>51.032625</td>\n",
       "    </tr>\n",
       "    <tr>\n",
       "      <th>Labrador Retriever</th>\n",
       "      <td>1998</td>\n",
       "      <td>51.251251</td>\n",
       "    </tr>\n",
       "    <tr>\n",
       "      <th>Australian Cattle Dog Mix</th>\n",
       "      <td>1982</td>\n",
       "      <td>58.779011</td>\n",
       "    </tr>\n",
       "    <tr>\n",
       "      <th>Chihuahua Shorthair</th>\n",
       "      <td>1981</td>\n",
       "      <td>46.744069</td>\n",
       "    </tr>\n",
       "    <tr>\n",
       "      <th>German Shepherd</th>\n",
       "      <td>1788</td>\n",
       "      <td>58.179788</td>\n",
       "    </tr>\n",
       "  </tbody>\n",
       "</table>\n",
       "</div>"
      ],
      "text/plain": [
       "                           total_count  adopt_perc\n",
       "Breed                                             \n",
       "Pit Bull Mix                     10112   43.004054\n",
       "Labrador Retriever Mix            8733   55.598809\n",
       "Chihuahua Shorthair Mix           6900   48.079988\n",
       "German Shepherd Mix               4038   56.488361\n",
       "Pit Bull                          3338   51.032625\n",
       "Labrador Retriever                1998   51.251251\n",
       "Australian Cattle Dog Mix         1982   58.779011\n",
       "Chihuahua Shorthair               1981   46.744069\n",
       "German Shepherd                   1788   58.179788"
      ]
     },
     "execution_count": 54,
     "metadata": {},
     "output_type": "execute_result"
    }
   ],
   "source": [
    "df_filtered[df_filtered['Animal Type']=='Dog'].groupby('Breed').agg(total_count=('Outcome Type', 'count'), adopt_perc=('Outcome Type', lambda x: (x=='Adoption').mean() * 100)).sort_values(by='total_count', ascending=False)"
   ]
  },
  {
   "cell_type": "code",
   "execution_count": 55,
   "id": "b44481b2",
   "metadata": {
    "execution": {
     "iopub.execute_input": "2025-03-24T21:32:38.011758Z",
     "iopub.status.busy": "2025-03-24T21:32:38.011335Z",
     "iopub.status.idle": "2025-03-24T21:32:38.041134Z",
     "shell.execute_reply": "2025-03-24T21:32:38.040117Z"
    },
    "papermill": {
     "duration": 0.053127,
     "end_time": "2025-03-24T21:32:38.042894",
     "exception": false,
     "start_time": "2025-03-24T21:32:37.989767",
     "status": "completed"
    },
    "tags": []
   },
   "outputs": [
    {
     "data": {
      "text/html": [
       "<div>\n",
       "<style scoped>\n",
       "    .dataframe tbody tr th:only-of-type {\n",
       "        vertical-align: middle;\n",
       "    }\n",
       "\n",
       "    .dataframe tbody tr th {\n",
       "        vertical-align: top;\n",
       "    }\n",
       "\n",
       "    .dataframe thead th {\n",
       "        text-align: right;\n",
       "    }\n",
       "</style>\n",
       "<table border=\"1\" class=\"dataframe\">\n",
       "  <thead>\n",
       "    <tr style=\"text-align: right;\">\n",
       "      <th></th>\n",
       "      <th>Outcome Type</th>\n",
       "    </tr>\n",
       "  </thead>\n",
       "  <tbody>\n",
       "    <tr>\n",
       "      <th>total_count</th>\n",
       "      <td>109.000000</td>\n",
       "    </tr>\n",
       "    <tr>\n",
       "      <th>adopt_perc</th>\n",
       "      <td>51.818182</td>\n",
       "    </tr>\n",
       "  </tbody>\n",
       "</table>\n",
       "</div>"
      ],
      "text/plain": [
       "             Outcome Type\n",
       "total_count    109.000000\n",
       "adopt_perc      51.818182"
      ]
     },
     "execution_count": 55,
     "metadata": {},
     "output_type": "execute_result"
    }
   ],
   "source": [
    "df[df['Breed'] == 'Belgian Malinois'].agg(total_count=('Outcome Type', 'count'), adopt_perc=('Outcome Type', lambda x: (x=='Adoption').mean() * 100))"
   ]
  },
  {
   "cell_type": "code",
   "execution_count": 56,
   "id": "68448e1b",
   "metadata": {
    "execution": {
     "iopub.execute_input": "2025-03-24T21:32:38.085701Z",
     "iopub.status.busy": "2025-03-24T21:32:38.085315Z",
     "iopub.status.idle": "2025-03-24T21:32:38.129219Z",
     "shell.execute_reply": "2025-03-24T21:32:38.128106Z"
    },
    "papermill": {
     "duration": 0.067434,
     "end_time": "2025-03-24T21:32:38.130951",
     "exception": false,
     "start_time": "2025-03-24T21:32:38.063517",
     "status": "completed"
    },
    "tags": []
   },
   "outputs": [
    {
     "data": {
      "text/html": [
       "<div>\n",
       "<style scoped>\n",
       "    .dataframe tbody tr th:only-of-type {\n",
       "        vertical-align: middle;\n",
       "    }\n",
       "\n",
       "    .dataframe tbody tr th {\n",
       "        vertical-align: top;\n",
       "    }\n",
       "\n",
       "    .dataframe thead th {\n",
       "        text-align: right;\n",
       "    }\n",
       "</style>\n",
       "<table border=\"1\" class=\"dataframe\">\n",
       "  <thead>\n",
       "    <tr style=\"text-align: right;\">\n",
       "      <th></th>\n",
       "      <th>total_count</th>\n",
       "      <th>adopt_perc</th>\n",
       "    </tr>\n",
       "    <tr>\n",
       "      <th>Breed</th>\n",
       "      <th></th>\n",
       "      <th></th>\n",
       "    </tr>\n",
       "  </thead>\n",
       "  <tbody>\n",
       "    <tr>\n",
       "      <th>Australian Cattle Dog Mix</th>\n",
       "      <td>1982</td>\n",
       "      <td>58.779011</td>\n",
       "    </tr>\n",
       "    <tr>\n",
       "      <th>German Shepherd</th>\n",
       "      <td>1788</td>\n",
       "      <td>58.179788</td>\n",
       "    </tr>\n",
       "    <tr>\n",
       "      <th>German Shepherd Mix</th>\n",
       "      <td>4038</td>\n",
       "      <td>56.488361</td>\n",
       "    </tr>\n",
       "    <tr>\n",
       "      <th>Labrador Retriever Mix</th>\n",
       "      <td>8733</td>\n",
       "      <td>55.598809</td>\n",
       "    </tr>\n",
       "    <tr>\n",
       "      <th>Labrador Retriever</th>\n",
       "      <td>1998</td>\n",
       "      <td>51.251251</td>\n",
       "    </tr>\n",
       "    <tr>\n",
       "      <th>Pit Bull</th>\n",
       "      <td>3338</td>\n",
       "      <td>51.032625</td>\n",
       "    </tr>\n",
       "    <tr>\n",
       "      <th>Chihuahua Shorthair Mix</th>\n",
       "      <td>6900</td>\n",
       "      <td>48.079988</td>\n",
       "    </tr>\n",
       "    <tr>\n",
       "      <th>Chihuahua Shorthair</th>\n",
       "      <td>1981</td>\n",
       "      <td>46.744069</td>\n",
       "    </tr>\n",
       "    <tr>\n",
       "      <th>Pit Bull Mix</th>\n",
       "      <td>10112</td>\n",
       "      <td>43.004054</td>\n",
       "    </tr>\n",
       "  </tbody>\n",
       "</table>\n",
       "</div>"
      ],
      "text/plain": [
       "                           total_count  adopt_perc\n",
       "Breed                                             \n",
       "Australian Cattle Dog Mix         1982   58.779011\n",
       "German Shepherd                   1788   58.179788\n",
       "German Shepherd Mix               4038   56.488361\n",
       "Labrador Retriever Mix            8733   55.598809\n",
       "Labrador Retriever                1998   51.251251\n",
       "Pit Bull                          3338   51.032625\n",
       "Chihuahua Shorthair Mix           6900   48.079988\n",
       "Chihuahua Shorthair               1981   46.744069\n",
       "Pit Bull Mix                     10112   43.004054"
      ]
     },
     "execution_count": 56,
     "metadata": {},
     "output_type": "execute_result"
    }
   ],
   "source": [
    "df_filtered[df_filtered['Animal Type']=='Dog'].groupby('Breed').agg(total_count=('Outcome Type', 'count'), adopt_perc=('Outcome Type', lambda x: (x=='Adoption').mean() * 100)).sort_values(by='adopt_perc', ascending=False)"
   ]
  },
  {
   "cell_type": "markdown",
   "id": "1cc6c9e4",
   "metadata": {
    "papermill": {
     "duration": 0.020603,
     "end_time": "2025-03-24T21:32:38.172477",
     "exception": false,
     "start_time": "2025-03-24T21:32:38.151874",
     "status": "completed"
    },
    "tags": []
   },
   "source": [
    "What is a good cutoff for filtering?"
   ]
  },
  {
   "cell_type": "markdown",
   "id": "09203d07",
   "metadata": {
    "papermill": {
     "duration": 0.02149,
     "end_time": "2025-03-24T21:32:38.215274",
     "exception": false,
     "start_time": "2025-03-24T21:32:38.193784",
     "status": "completed"
    },
    "tags": []
   },
   "source": [
    "8. Do younger animals get adopted more quickly?\n",
    "9. Are certain zip codes associated with more intakes or adoptions?\n",
    "10. How long do animals typically stay in the shelter before adoption?"
   ]
  },
  {
   "cell_type": "code",
   "execution_count": 57,
   "id": "91fc8b20",
   "metadata": {
    "execution": {
     "iopub.execute_input": "2025-03-24T21:32:38.260109Z",
     "iopub.status.busy": "2025-03-24T21:32:38.259775Z",
     "iopub.status.idle": "2025-03-24T21:32:38.283998Z",
     "shell.execute_reply": "2025-03-24T21:32:38.282991Z"
    },
    "papermill": {
     "duration": 0.0484,
     "end_time": "2025-03-24T21:32:38.285742",
     "exception": false,
     "start_time": "2025-03-24T21:32:38.237342",
     "status": "completed"
    },
    "tags": []
   },
   "outputs": [
    {
     "data": {
      "text/plain": [
       "Outcome Type\n",
       "Adoption            613.385347\n",
       "Died                563.377563\n",
       "Disposal            568.804147\n",
       "Euthanasia          908.779805\n",
       "Lost                429.500000\n",
       "Missing             524.684783\n",
       "Relocate            821.214286\n",
       "Return to Owner    1495.160523\n",
       "Rto-Adopt          1242.447154\n",
       "Stolen             1685.200000\n",
       "Transfer            599.791314\n",
       "Name: age_upon_outcome_days, dtype: float64"
      ]
     },
     "execution_count": 57,
     "metadata": {},
     "output_type": "execute_result"
    }
   ],
   "source": [
    "df.groupby('Outcome Type')['age_upon_outcome_days'].mean()"
   ]
  },
  {
   "cell_type": "code",
   "execution_count": 58,
   "id": "c8f65360",
   "metadata": {
    "execution": {
     "iopub.execute_input": "2025-03-24T21:32:38.329339Z",
     "iopub.status.busy": "2025-03-24T21:32:38.328862Z",
     "iopub.status.idle": "2025-03-24T21:32:38.357654Z",
     "shell.execute_reply": "2025-03-24T21:32:38.356455Z"
    },
    "papermill": {
     "duration": 0.052586,
     "end_time": "2025-03-24T21:32:38.359450",
     "exception": false,
     "start_time": "2025-03-24T21:32:38.306864",
     "status": "completed"
    },
    "tags": []
   },
   "outputs": [
    {
     "data": {
      "text/plain": [
       "Outcome Type\n",
       "Adoption            262.0\n",
       "Died                 77.0\n",
       "Disposal            368.5\n",
       "Euthanasia          618.0\n",
       "Lost                429.5\n",
       "Missing             233.5\n",
       "Relocate            367.5\n",
       "Return to Owner    1047.0\n",
       "Rto-Adopt           750.0\n",
       "Stolen             1121.0\n",
       "Transfer            274.0\n",
       "Name: age_upon_outcome_days, dtype: float64"
      ]
     },
     "execution_count": 58,
     "metadata": {},
     "output_type": "execute_result"
    }
   ],
   "source": [
    "df.groupby('Outcome Type')['age_upon_outcome_days'].median()"
   ]
  },
  {
   "cell_type": "code",
   "execution_count": 59,
   "id": "ebb25453",
   "metadata": {
    "execution": {
     "iopub.execute_input": "2025-03-24T21:32:38.402976Z",
     "iopub.status.busy": "2025-03-24T21:32:38.402634Z",
     "iopub.status.idle": "2025-03-24T21:32:38.467890Z",
     "shell.execute_reply": "2025-03-24T21:32:38.466601Z"
    },
    "papermill": {
     "duration": 0.089015,
     "end_time": "2025-03-24T21:32:38.469664",
     "exception": false,
     "start_time": "2025-03-24T21:32:38.380649",
     "status": "completed"
    },
    "tags": []
   },
   "outputs": [
    {
     "data": {
      "text/html": [
       "<div>\n",
       "<style scoped>\n",
       "    .dataframe tbody tr th:only-of-type {\n",
       "        vertical-align: middle;\n",
       "    }\n",
       "\n",
       "    .dataframe tbody tr th {\n",
       "        vertical-align: top;\n",
       "    }\n",
       "\n",
       "    .dataframe thead th {\n",
       "        text-align: right;\n",
       "    }\n",
       "</style>\n",
       "<table border=\"1\" class=\"dataframe\">\n",
       "  <thead>\n",
       "    <tr style=\"text-align: right;\">\n",
       "      <th></th>\n",
       "      <th>count</th>\n",
       "      <th>mean</th>\n",
       "      <th>std</th>\n",
       "      <th>min</th>\n",
       "      <th>25%</th>\n",
       "      <th>50%</th>\n",
       "      <th>75%</th>\n",
       "      <th>max</th>\n",
       "    </tr>\n",
       "    <tr>\n",
       "      <th>Outcome Type</th>\n",
       "      <th></th>\n",
       "      <th></th>\n",
       "      <th></th>\n",
       "      <th></th>\n",
       "      <th></th>\n",
       "      <th></th>\n",
       "      <th></th>\n",
       "      <th></th>\n",
       "    </tr>\n",
       "  </thead>\n",
       "  <tbody>\n",
       "    <tr>\n",
       "      <th>Adoption</th>\n",
       "      <td>83709.0</td>\n",
       "      <td>613.385347</td>\n",
       "      <td>875.231895</td>\n",
       "      <td>0.0</td>\n",
       "      <td>86.00</td>\n",
       "      <td>262.0</td>\n",
       "      <td>745.00</td>\n",
       "      <td>7307.0</td>\n",
       "    </tr>\n",
       "    <tr>\n",
       "      <th>Died</th>\n",
       "      <td>1658.0</td>\n",
       "      <td>563.377563</td>\n",
       "      <td>1053.448128</td>\n",
       "      <td>0.0</td>\n",
       "      <td>33.00</td>\n",
       "      <td>77.0</td>\n",
       "      <td>730.00</td>\n",
       "      <td>5926.0</td>\n",
       "    </tr>\n",
       "    <tr>\n",
       "      <th>Disposal</th>\n",
       "      <td>868.0</td>\n",
       "      <td>568.804147</td>\n",
       "      <td>671.549977</td>\n",
       "      <td>0.0</td>\n",
       "      <td>365.00</td>\n",
       "      <td>368.5</td>\n",
       "      <td>732.00</td>\n",
       "      <td>6036.0</td>\n",
       "    </tr>\n",
       "    <tr>\n",
       "      <th>Euthanasia</th>\n",
       "      <td>10686.0</td>\n",
       "      <td>908.779805</td>\n",
       "      <td>1170.778932</td>\n",
       "      <td>0.0</td>\n",
       "      <td>365.00</td>\n",
       "      <td>618.0</td>\n",
       "      <td>740.00</td>\n",
       "      <td>8401.0</td>\n",
       "    </tr>\n",
       "    <tr>\n",
       "      <th>Lost</th>\n",
       "      <td>2.0</td>\n",
       "      <td>429.500000</td>\n",
       "      <td>437.699098</td>\n",
       "      <td>120.0</td>\n",
       "      <td>274.75</td>\n",
       "      <td>429.5</td>\n",
       "      <td>584.25</td>\n",
       "      <td>739.0</td>\n",
       "    </tr>\n",
       "    <tr>\n",
       "      <th>Missing</th>\n",
       "      <td>92.0</td>\n",
       "      <td>524.684783</td>\n",
       "      <td>805.347252</td>\n",
       "      <td>19.0</td>\n",
       "      <td>109.00</td>\n",
       "      <td>233.5</td>\n",
       "      <td>737.00</td>\n",
       "      <td>5483.0</td>\n",
       "    </tr>\n",
       "    <tr>\n",
       "      <th>Relocate</th>\n",
       "      <td>28.0</td>\n",
       "      <td>821.214286</td>\n",
       "      <td>1574.675095</td>\n",
       "      <td>31.0</td>\n",
       "      <td>185.00</td>\n",
       "      <td>367.5</td>\n",
       "      <td>731.25</td>\n",
       "      <td>6677.0</td>\n",
       "    </tr>\n",
       "    <tr>\n",
       "      <th>Return to Owner</th>\n",
       "      <td>25529.0</td>\n",
       "      <td>1495.160523</td>\n",
       "      <td>1343.512497</td>\n",
       "      <td>0.0</td>\n",
       "      <td>546.00</td>\n",
       "      <td>1047.0</td>\n",
       "      <td>2191.00</td>\n",
       "      <td>10227.0</td>\n",
       "    </tr>\n",
       "    <tr>\n",
       "      <th>Rto-Adopt</th>\n",
       "      <td>1230.0</td>\n",
       "      <td>1242.447154</td>\n",
       "      <td>1148.964072</td>\n",
       "      <td>0.0</td>\n",
       "      <td>391.50</td>\n",
       "      <td>750.0</td>\n",
       "      <td>1825.00</td>\n",
       "      <td>6210.0</td>\n",
       "    </tr>\n",
       "    <tr>\n",
       "      <th>Stolen</th>\n",
       "      <td>5.0</td>\n",
       "      <td>1685.200000</td>\n",
       "      <td>1181.802310</td>\n",
       "      <td>330.0</td>\n",
       "      <td>1121.00</td>\n",
       "      <td>1121.0</td>\n",
       "      <td>2806.00</td>\n",
       "      <td>3048.0</td>\n",
       "    </tr>\n",
       "    <tr>\n",
       "      <th>Transfer</th>\n",
       "      <td>48264.0</td>\n",
       "      <td>599.791314</td>\n",
       "      <td>923.225811</td>\n",
       "      <td>0.0</td>\n",
       "      <td>37.00</td>\n",
       "      <td>274.0</td>\n",
       "      <td>736.00</td>\n",
       "      <td>10996.0</td>\n",
       "    </tr>\n",
       "  </tbody>\n",
       "</table>\n",
       "</div>"
      ],
      "text/plain": [
       "                   count         mean          std    min      25%     50%  \\\n",
       "Outcome Type                                                                 \n",
       "Adoption         83709.0   613.385347   875.231895    0.0    86.00   262.0   \n",
       "Died              1658.0   563.377563  1053.448128    0.0    33.00    77.0   \n",
       "Disposal           868.0   568.804147   671.549977    0.0   365.00   368.5   \n",
       "Euthanasia       10686.0   908.779805  1170.778932    0.0   365.00   618.0   \n",
       "Lost                 2.0   429.500000   437.699098  120.0   274.75   429.5   \n",
       "Missing             92.0   524.684783   805.347252   19.0   109.00   233.5   \n",
       "Relocate            28.0   821.214286  1574.675095   31.0   185.00   367.5   \n",
       "Return to Owner  25529.0  1495.160523  1343.512497    0.0   546.00  1047.0   \n",
       "Rto-Adopt         1230.0  1242.447154  1148.964072    0.0   391.50   750.0   \n",
       "Stolen               5.0  1685.200000  1181.802310  330.0  1121.00  1121.0   \n",
       "Transfer         48264.0   599.791314   923.225811    0.0    37.00   274.0   \n",
       "\n",
       "                     75%      max  \n",
       "Outcome Type                       \n",
       "Adoption          745.00   7307.0  \n",
       "Died              730.00   5926.0  \n",
       "Disposal          732.00   6036.0  \n",
       "Euthanasia        740.00   8401.0  \n",
       "Lost              584.25    739.0  \n",
       "Missing           737.00   5483.0  \n",
       "Relocate          731.25   6677.0  \n",
       "Return to Owner  2191.00  10227.0  \n",
       "Rto-Adopt        1825.00   6210.0  \n",
       "Stolen           2806.00   3048.0  \n",
       "Transfer          736.00  10996.0  "
      ]
     },
     "execution_count": 59,
     "metadata": {},
     "output_type": "execute_result"
    }
   ],
   "source": [
    "df.groupby('Outcome Type')['age_upon_outcome_days'].describe()"
   ]
  },
  {
   "cell_type": "code",
   "execution_count": 60,
   "id": "bd4e0db8",
   "metadata": {
    "execution": {
     "iopub.execute_input": "2025-03-24T21:32:38.514218Z",
     "iopub.status.busy": "2025-03-24T21:32:38.513885Z",
     "iopub.status.idle": "2025-03-24T21:32:38.565882Z",
     "shell.execute_reply": "2025-03-24T21:32:38.564726Z"
    },
    "papermill": {
     "duration": 0.076942,
     "end_time": "2025-03-24T21:32:38.568100",
     "exception": false,
     "start_time": "2025-03-24T21:32:38.491158",
     "status": "completed"
    },
    "tags": []
   },
   "outputs": [
    {
     "data": {
      "text/html": [
       "<div>\n",
       "<style scoped>\n",
       "    .dataframe tbody tr th:only-of-type {\n",
       "        vertical-align: middle;\n",
       "    }\n",
       "\n",
       "    .dataframe tbody tr th {\n",
       "        vertical-align: top;\n",
       "    }\n",
       "\n",
       "    .dataframe thead th {\n",
       "        text-align: right;\n",
       "    }\n",
       "</style>\n",
       "<table border=\"1\" class=\"dataframe\">\n",
       "  <thead>\n",
       "    <tr style=\"text-align: right;\">\n",
       "      <th></th>\n",
       "      <th>total_count</th>\n",
       "      <th>adopt_perc</th>\n",
       "    </tr>\n",
       "    <tr>\n",
       "      <th>Breed</th>\n",
       "      <th></th>\n",
       "      <th></th>\n",
       "    </tr>\n",
       "  </thead>\n",
       "  <tbody>\n",
       "    <tr>\n",
       "      <th>Redbone Hound Mix</th>\n",
       "      <td>114</td>\n",
       "      <td>69.298246</td>\n",
       "    </tr>\n",
       "    <tr>\n",
       "      <th>Siberian Husky/German Shepherd</th>\n",
       "      <td>129</td>\n",
       "      <td>68.217054</td>\n",
       "    </tr>\n",
       "    <tr>\n",
       "      <th>Black Mouth Cur</th>\n",
       "      <td>120</td>\n",
       "      <td>67.500000</td>\n",
       "    </tr>\n",
       "    <tr>\n",
       "      <th>Catahoula</th>\n",
       "      <td>144</td>\n",
       "      <td>67.361111</td>\n",
       "    </tr>\n",
       "    <tr>\n",
       "      <th>German Shepherd/Siberian Husky</th>\n",
       "      <td>110</td>\n",
       "      <td>64.545455</td>\n",
       "    </tr>\n",
       "    <tr>\n",
       "      <th>Australian Cattle Dog/Labrador Retriever</th>\n",
       "      <td>138</td>\n",
       "      <td>63.768116</td>\n",
       "    </tr>\n",
       "    <tr>\n",
       "      <th>Whippet Mix</th>\n",
       "      <td>107</td>\n",
       "      <td>61.682243</td>\n",
       "    </tr>\n",
       "    <tr>\n",
       "      <th>Manchester Terrier Mix</th>\n",
       "      <td>132</td>\n",
       "      <td>61.363636</td>\n",
       "    </tr>\n",
       "    <tr>\n",
       "      <th>Harrier Mix</th>\n",
       "      <td>106</td>\n",
       "      <td>60.377358</td>\n",
       "    </tr>\n",
       "    <tr>\n",
       "      <th>Jack Russell Terrier</th>\n",
       "      <td>124</td>\n",
       "      <td>59.677419</td>\n",
       "    </tr>\n",
       "    <tr>\n",
       "      <th>Pointer</th>\n",
       "      <td>115</td>\n",
       "      <td>59.130435</td>\n",
       "    </tr>\n",
       "    <tr>\n",
       "      <th>Manx Mix</th>\n",
       "      <td>111</td>\n",
       "      <td>58.558559</td>\n",
       "    </tr>\n",
       "    <tr>\n",
       "      <th>Border Collie/Labrador Retriever</th>\n",
       "      <td>145</td>\n",
       "      <td>57.931034</td>\n",
       "    </tr>\n",
       "    <tr>\n",
       "      <th>Maine Coon Mix</th>\n",
       "      <td>128</td>\n",
       "      <td>57.812500</td>\n",
       "    </tr>\n",
       "    <tr>\n",
       "      <th>Carolina Dog Mix</th>\n",
       "      <td>121</td>\n",
       "      <td>56.198347</td>\n",
       "    </tr>\n",
       "    <tr>\n",
       "      <th>Collie Smooth Mix</th>\n",
       "      <td>130</td>\n",
       "      <td>56.153846</td>\n",
       "    </tr>\n",
       "    <tr>\n",
       "      <th>Boxer/Labrador Retriever</th>\n",
       "      <td>102</td>\n",
       "      <td>55.882353</td>\n",
       "    </tr>\n",
       "    <tr>\n",
       "      <th>Miniature Pinscher</th>\n",
       "      <td>101</td>\n",
       "      <td>55.445545</td>\n",
       "    </tr>\n",
       "    <tr>\n",
       "      <th>Staffordshire</th>\n",
       "      <td>140</td>\n",
       "      <td>55.000000</td>\n",
       "    </tr>\n",
       "    <tr>\n",
       "      <th>Flat Coat Retriever Mix</th>\n",
       "      <td>133</td>\n",
       "      <td>54.887218</td>\n",
       "    </tr>\n",
       "    <tr>\n",
       "      <th>Anatol Shepherd</th>\n",
       "      <td>140</td>\n",
       "      <td>54.285714</td>\n",
       "    </tr>\n",
       "    <tr>\n",
       "      <th>American Staffordshire Terrier</th>\n",
       "      <td>118</td>\n",
       "      <td>53.389831</td>\n",
       "    </tr>\n",
       "    <tr>\n",
       "      <th>Boxer/Pit Bull</th>\n",
       "      <td>118</td>\n",
       "      <td>53.389831</td>\n",
       "    </tr>\n",
       "    <tr>\n",
       "      <th>Belgian Malinois Mix</th>\n",
       "      <td>137</td>\n",
       "      <td>52.554745</td>\n",
       "    </tr>\n",
       "    <tr>\n",
       "      <th>Norfolk Terrier Mix</th>\n",
       "      <td>119</td>\n",
       "      <td>52.100840</td>\n",
       "    </tr>\n",
       "    <tr>\n",
       "      <th>Belgian Malinois</th>\n",
       "      <td>110</td>\n",
       "      <td>51.818182</td>\n",
       "    </tr>\n",
       "    <tr>\n",
       "      <th>Rat Terrier</th>\n",
       "      <td>138</td>\n",
       "      <td>51.449275</td>\n",
       "    </tr>\n",
       "    <tr>\n",
       "      <th>Dachshund Wirehair Mix</th>\n",
       "      <td>144</td>\n",
       "      <td>48.611111</td>\n",
       "    </tr>\n",
       "    <tr>\n",
       "      <th>Chihuahua Shorthair/Pug</th>\n",
       "      <td>104</td>\n",
       "      <td>47.115385</td>\n",
       "    </tr>\n",
       "    <tr>\n",
       "      <th>Rhod Ridgeback Mix</th>\n",
       "      <td>120</td>\n",
       "      <td>45.833333</td>\n",
       "    </tr>\n",
       "    <tr>\n",
       "      <th>Dachshund Longhair Mix</th>\n",
       "      <td>140</td>\n",
       "      <td>43.571429</td>\n",
       "    </tr>\n",
       "    <tr>\n",
       "      <th>Miniature Schnauzer/Miniature Poodle</th>\n",
       "      <td>103</td>\n",
       "      <td>41.747573</td>\n",
       "    </tr>\n",
       "    <tr>\n",
       "      <th>Bull Terrier Mix</th>\n",
       "      <td>115</td>\n",
       "      <td>36.521739</td>\n",
       "    </tr>\n",
       "    <tr>\n",
       "      <th>Great Dane Mix</th>\n",
       "      <td>142</td>\n",
       "      <td>35.915493</td>\n",
       "    </tr>\n",
       "    <tr>\n",
       "      <th>Toy Poodle Mix</th>\n",
       "      <td>131</td>\n",
       "      <td>35.877863</td>\n",
       "    </tr>\n",
       "    <tr>\n",
       "      <th>Pit Bull/Boxer</th>\n",
       "      <td>123</td>\n",
       "      <td>35.772358</td>\n",
       "    </tr>\n",
       "    <tr>\n",
       "      <th>Maltese/Miniature Poodle</th>\n",
       "      <td>114</td>\n",
       "      <td>35.087719</td>\n",
       "    </tr>\n",
       "    <tr>\n",
       "      <th>English Bulldog Mix</th>\n",
       "      <td>112</td>\n",
       "      <td>33.035714</td>\n",
       "    </tr>\n",
       "    <tr>\n",
       "      <th>Maltese</th>\n",
       "      <td>139</td>\n",
       "      <td>30.215827</td>\n",
       "    </tr>\n",
       "    <tr>\n",
       "      <th>Boston Terrier Mix</th>\n",
       "      <td>142</td>\n",
       "      <td>26.760563</td>\n",
       "    </tr>\n",
       "    <tr>\n",
       "      <th>Skunk Mix</th>\n",
       "      <td>105</td>\n",
       "      <td>0.000000</td>\n",
       "    </tr>\n",
       "    <tr>\n",
       "      <th>Fox</th>\n",
       "      <td>142</td>\n",
       "      <td>0.000000</td>\n",
       "    </tr>\n",
       "  </tbody>\n",
       "</table>\n",
       "</div>"
      ],
      "text/plain": [
       "                                          total_count  adopt_perc\n",
       "Breed                                                            \n",
       "Redbone Hound Mix                                 114   69.298246\n",
       "Siberian Husky/German Shepherd                    129   68.217054\n",
       "Black Mouth Cur                                   120   67.500000\n",
       "Catahoula                                         144   67.361111\n",
       "German Shepherd/Siberian Husky                    110   64.545455\n",
       "Australian Cattle Dog/Labrador Retriever          138   63.768116\n",
       "Whippet Mix                                       107   61.682243\n",
       "Manchester Terrier Mix                            132   61.363636\n",
       "Harrier Mix                                       106   60.377358\n",
       "Jack Russell Terrier                              124   59.677419\n",
       "Pointer                                           115   59.130435\n",
       "Manx Mix                                          111   58.558559\n",
       "Border Collie/Labrador Retriever                  145   57.931034\n",
       "Maine Coon Mix                                    128   57.812500\n",
       "Carolina Dog Mix                                  121   56.198347\n",
       "Collie Smooth Mix                                 130   56.153846\n",
       "Boxer/Labrador Retriever                          102   55.882353\n",
       "Miniature Pinscher                                101   55.445545\n",
       "Staffordshire                                     140   55.000000\n",
       "Flat Coat Retriever Mix                           133   54.887218\n",
       "Anatol Shepherd                                   140   54.285714\n",
       "American Staffordshire Terrier                    118   53.389831\n",
       "Boxer/Pit Bull                                    118   53.389831\n",
       "Belgian Malinois Mix                              137   52.554745\n",
       "Norfolk Terrier Mix                               119   52.100840\n",
       "Belgian Malinois                                  110   51.818182\n",
       "Rat Terrier                                       138   51.449275\n",
       "Dachshund Wirehair Mix                            144   48.611111\n",
       "Chihuahua Shorthair/Pug                           104   47.115385\n",
       "Rhod Ridgeback Mix                                120   45.833333\n",
       "Dachshund Longhair Mix                            140   43.571429\n",
       "Miniature Schnauzer/Miniature Poodle              103   41.747573\n",
       "Bull Terrier Mix                                  115   36.521739\n",
       "Great Dane Mix                                    142   35.915493\n",
       "Toy Poodle Mix                                    131   35.877863\n",
       "Pit Bull/Boxer                                    123   35.772358\n",
       "Maltese/Miniature Poodle                          114   35.087719\n",
       "English Bulldog Mix                               112   33.035714\n",
       "Maltese                                           139   30.215827\n",
       "Boston Terrier Mix                                142   26.760563\n",
       "Skunk Mix                                         105    0.000000\n",
       "Fox                                               142    0.000000"
      ]
     },
     "execution_count": 60,
     "metadata": {},
     "output_type": "execute_result"
    }
   ],
   "source": [
    "breed_counts = df['Breed'].value_counts()\n",
    "popular_breeds = breed_counts[(breed_counts>100) & (breed_counts<150)].index\n",
    "df_other = df[df['Breed'].isin(popular_breeds)]\n",
    "df_other.groupby('Breed').agg( total_count=(\"Breed\", \"count\"), \n",
    "                                 adopt_perc=('Outcome Type', lambda x: (x=='Adoption').mean() * 100 )).sort_values(by='adopt_perc', ascending = False)"
   ]
  }
 ],
 "metadata": {
  "kaggle": {
   "accelerator": "none",
   "dataSources": [
    {
     "datasetId": 6815598,
     "sourceId": 10955746,
     "sourceType": "datasetVersion"
    }
   ],
   "dockerImageVersionId": 30918,
   "isGpuEnabled": false,
   "isInternetEnabled": true,
   "language": "python",
   "sourceType": "notebook"
  },
  "kernelspec": {
   "display_name": "Python 3",
   "language": "python",
   "name": "python3"
  },
  "language_info": {
   "codemirror_mode": {
    "name": "ipython",
    "version": 3
   },
   "file_extension": ".py",
   "mimetype": "text/x-python",
   "name": "python",
   "nbconvert_exporter": "python",
   "pygments_lexer": "ipython3",
   "version": "3.10.12"
  },
  "papermill": {
   "default_parameters": {},
   "duration": 30.570477,
   "end_time": "2025-03-24T21:32:39.212552",
   "environment_variables": {},
   "exception": null,
   "input_path": "__notebook__.ipynb",
   "output_path": "__notebook__.ipynb",
   "parameters": {},
   "start_time": "2025-03-24T21:32:08.642075",
   "version": "2.6.0"
  }
 },
 "nbformat": 4,
 "nbformat_minor": 5
}

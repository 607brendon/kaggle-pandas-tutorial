{
 "cells": [
  {
   "cell_type": "code",
   "execution_count": 1,
   "id": "644b1a0c",
   "metadata": {
    "_cell_guid": "b1076dfc-b9ad-4769-8c92-a6c4dae69d19",
    "_uuid": "8f2839f25d086af736a60e9eeb907d3b93b6e0e5",
    "execution": {
     "iopub.execute_input": "2025-03-10T16:42:57.816175Z",
     "iopub.status.busy": "2025-03-10T16:42:57.815809Z",
     "iopub.status.idle": "2025-03-10T16:42:58.897246Z",
     "shell.execute_reply": "2025-03-10T16:42:58.895803Z"
    },
    "papermill": {
     "duration": 1.087976,
     "end_time": "2025-03-10T16:42:58.899147",
     "exception": false,
     "start_time": "2025-03-10T16:42:57.811171",
     "status": "completed"
    },
    "tags": []
   },
   "outputs": [
    {
     "name": "stdout",
     "output_type": "stream",
     "text": [
      "/kaggle/input/austin-animal-center-outcomes/Austin_Animal_Center_Outcomes.csv\n"
     ]
    }
   ],
   "source": [
    "# This Python 3 environment comes with many helpful analytics libraries installed\n",
    "# It is defined by the kaggle/python Docker image: https://github.com/kaggle/docker-python\n",
    "# For example, here's several helpful packages to load\n",
    "\n",
    "import numpy as np # linear algebra\n",
    "import pandas as pd # data processing, CSV file I/O (e.g. pd.read_csv)\n",
    "\n",
    "# Input data files are available in the read-only \"../input/\" directory\n",
    "# For example, running this (by clicking run or pressing Shift+Enter) will list all files under the input directory\n",
    "\n",
    "import os\n",
    "for dirname, _, filenames in os.walk('/kaggle/input'):\n",
    "    for filename in filenames:\n",
    "        print(os.path.join(dirname, filename))\n",
    "\n",
    "# You can write up to 20GB to the current directory (/kaggle/working/) that gets preserved as output when you create a version using \"Save & Run All\" \n",
    "# You can also write temporary files to /kaggle/temp/, but they won't be saved outside of the current session"
   ]
  },
  {
   "cell_type": "markdown",
   "id": "1a6b3dd6",
   "metadata": {
    "papermill": {
     "duration": 0.002747,
     "end_time": "2025-03-10T16:42:58.905229",
     "exception": false,
     "start_time": "2025-03-10T16:42:58.902482",
     "status": "completed"
    },
    "tags": []
   },
   "source": [
    "Currently studying the pandas library and using this dataset as an opportunity to demonstrate what I've learned.\n",
    "\n",
    "**Questions I want to answer:**\n",
    "1. How many total records (animals) are in the dataset?\n",
    "2. What are the most common animal types?\n",
    "3. What are the most common breeds for dogs and cats?\n",
    "4. What are the busiest months for animal intakes?\n",
    "5. Has the number of adoptions changed over time?\n",
    "6. What are the most common outcomes for animals?\n",
    "7. Do certain breeds have higher adoption rates?\n",
    "8. Do younger animals get adopted more quickly?\n",
    "9. Are certain zip codes associated with more intakes or adoptions?\n",
    "10. How long do animals typically stay in the shelter before adoption?"
   ]
  },
  {
   "cell_type": "markdown",
   "id": "bfadafbb",
   "metadata": {
    "papermill": {
     "duration": 0.002436,
     "end_time": "2025-03-10T16:42:58.910494",
     "exception": false,
     "start_time": "2025-03-10T16:42:58.908058",
     "status": "completed"
    },
    "tags": []
   },
   "source": [
    "### Step 1: Cleaning\n",
    "1. Does the dataset have missing values? If so, which columns and how many?\n",
    "2. Are there duplicate rows? Should they be removed?\n",
    "3. Are there any inconsistent or unexpected values (e.g., negative ages, incorrect dates)?\n",
    "4. Do column names follow a consistent format (lowercase, snake_case, etc.)?\n",
    "## handling missing data\n",
    "* Should missing values be filled, removed, or left as is?\n",
    "* If filling missing values, what’s the best approach (mean, median, mode, forward/backward fill)?\n",
    "* Are missing values concentrated in specific columns or random?\n",
    "\n",
    "## data type validation\n",
    "* Are all columns in the correct data type (e.g., dates as datetime, numbers as int/float)?\n",
    "* Do categorical columns have correct and consistent labels?\n",
    "* Are numerical columns formatted correctly (e.g., no misplaced commas or currency symbols)?\n",
    "\n",
    "## standardizing and fixing inconsistencies\n",
    "* Are animal types (e.g., “Dog” vs. “dog”) consistent?\n",
    "* Are breed names standardized (e.g., “German Shepherd” vs. “GSD”)?\n",
    "* Do outcome types and intake types have uniform spelling and categorization?\n",
    "* Are date formats consistent across the dataset?\n",
    "\n",
    "## handling outliers and erroneous data\n",
    "* Are there extreme outliers in numerical columns (e.g., very high ages, negative values)?\n",
    "* Are there animals with duplicate intake and outcome records?\n",
    "* Are there any animals with unrealistic age values (e.g., “100 years old” for a dog)?\n",
    "\n",
    "## date and time processing\n",
    "* Are intake and outcome dates properly formatted and sorted?\n",
    "* Are there cases where the outcome date is before the intake date?\n",
    "* Are there unexpected time gaps between intake and outcome?\n",
    "\n",
    "## final checks\n",
    "* Does the cleaned dataset retain all necessary columns for analysis?\n",
    "* Have you documented the cleaning steps for reproducibility?\n",
    "* Have you saved the cleaned dataset for further analysis?"
   ]
  },
  {
   "cell_type": "code",
   "execution_count": 2,
   "id": "811188dd",
   "metadata": {
    "execution": {
     "iopub.execute_input": "2025-03-10T16:42:58.917426Z",
     "iopub.status.busy": "2025-03-10T16:42:58.916910Z",
     "iopub.status.idle": "2025-03-10T16:42:59.933217Z",
     "shell.execute_reply": "2025-03-10T16:42:59.931931Z"
    },
    "papermill": {
     "duration": 1.021601,
     "end_time": "2025-03-10T16:42:59.934816",
     "exception": false,
     "start_time": "2025-03-10T16:42:58.913215",
     "status": "completed"
    },
    "tags": []
   },
   "outputs": [
    {
     "name": "stdout",
     "output_type": "stream",
     "text": [
      "/kaggle/input/austin-animal-center-outcomes/Austin_Animal_Center_Outcomes.csv\n",
      "<class 'pandas.core.frame.DataFrame'>\n",
      "RangeIndex: 172113 entries, 0 to 172112\n",
      "Data columns (total 12 columns):\n",
      " #   Column            Non-Null Count   Dtype \n",
      "---  ------            --------------   ----- \n",
      " 0   Animal ID         172113 non-null  object\n",
      " 1   Name              122845 non-null  object\n",
      " 2   DateTime          172113 non-null  object\n",
      " 3   MonthYear         172113 non-null  object\n",
      " 4   Date of Birth     172113 non-null  object\n",
      " 5   Outcome Type      172071 non-null  object\n",
      " 6   Outcome Subtype   78842 non-null   object\n",
      " 7   Animal Type       172113 non-null  object\n",
      " 8   Sex upon Outcome  172111 non-null  object\n",
      " 9   Age upon Outcome  172106 non-null  object\n",
      " 10  Breed             172113 non-null  object\n",
      " 11  Color             172113 non-null  object\n",
      "dtypes: object(12)\n",
      "memory usage: 15.8+ MB\n"
     ]
    }
   ],
   "source": [
    "for dirname, _, filenames in os.walk('/kaggle/input'):\n",
    "    for filename in filenames:\n",
    "        print(os.path.join(dirname, filename))\n",
    "        dataset = os.path.join(dirname, filename)\n",
    "\n",
    "df = pd.read_csv(dataset)\n",
    "df.info()"
   ]
  },
  {
   "cell_type": "markdown",
   "id": "071636d7",
   "metadata": {
    "papermill": {
     "duration": 0.002762,
     "end_time": "2025-03-10T16:42:59.940714",
     "exception": false,
     "start_time": "2025-03-10T16:42:59.937952",
     "status": "completed"
    },
    "tags": []
   },
   "source": [
    "### 1. Does the dataset have missing values? If so, which columns and how many?\n",
    "We see below that Outcome Type, Outcome Subtype, Sex upon Outcome, and Age upon Outcome all have missing values."
   ]
  },
  {
   "cell_type": "code",
   "execution_count": 3,
   "id": "a35e7c2c",
   "metadata": {
    "execution": {
     "iopub.execute_input": "2025-03-10T16:42:59.947693Z",
     "iopub.status.busy": "2025-03-10T16:42:59.947361Z",
     "iopub.status.idle": "2025-03-10T16:43:00.470589Z",
     "shell.execute_reply": "2025-03-10T16:43:00.469517Z"
    },
    "papermill": {
     "duration": 0.528708,
     "end_time": "2025-03-10T16:43:00.472262",
     "exception": false,
     "start_time": "2025-03-10T16:42:59.943554",
     "status": "completed"
    },
    "tags": []
   },
   "outputs": [
    {
     "data": {
      "text/html": [
       "<div>\n",
       "<style scoped>\n",
       "    .dataframe tbody tr th:only-of-type {\n",
       "        vertical-align: middle;\n",
       "    }\n",
       "\n",
       "    .dataframe tbody tr th {\n",
       "        vertical-align: top;\n",
       "    }\n",
       "\n",
       "    .dataframe thead th {\n",
       "        text-align: right;\n",
       "    }\n",
       "</style>\n",
       "<table border=\"1\" class=\"dataframe\">\n",
       "  <thead>\n",
       "    <tr style=\"text-align: right;\">\n",
       "      <th></th>\n",
       "      <th>Animal ID</th>\n",
       "      <th>Name</th>\n",
       "      <th>DateTime</th>\n",
       "      <th>MonthYear</th>\n",
       "      <th>Date of Birth</th>\n",
       "      <th>Outcome Type</th>\n",
       "      <th>Outcome Subtype</th>\n",
       "      <th>Animal Type</th>\n",
       "      <th>Sex upon Outcome</th>\n",
       "      <th>Age upon Outcome</th>\n",
       "      <th>Breed</th>\n",
       "      <th>Color</th>\n",
       "    </tr>\n",
       "  </thead>\n",
       "  <tbody>\n",
       "    <tr>\n",
       "      <th>count</th>\n",
       "      <td>172113</td>\n",
       "      <td>122845</td>\n",
       "      <td>172113</td>\n",
       "      <td>172113</td>\n",
       "      <td>172113</td>\n",
       "      <td>172071</td>\n",
       "      <td>78842</td>\n",
       "      <td>172113</td>\n",
       "      <td>172111</td>\n",
       "      <td>172106</td>\n",
       "      <td>172113</td>\n",
       "      <td>172113</td>\n",
       "    </tr>\n",
       "    <tr>\n",
       "      <th>unique</th>\n",
       "      <td>154722</td>\n",
       "      <td>29585</td>\n",
       "      <td>143835</td>\n",
       "      <td>138</td>\n",
       "      <td>8613</td>\n",
       "      <td>11</td>\n",
       "      <td>26</td>\n",
       "      <td>5</td>\n",
       "      <td>5</td>\n",
       "      <td>55</td>\n",
       "      <td>2990</td>\n",
       "      <td>661</td>\n",
       "    </tr>\n",
       "    <tr>\n",
       "      <th>top</th>\n",
       "      <td>A721033</td>\n",
       "      <td>Luna</td>\n",
       "      <td>04/18/2016 12:00:00 AM</td>\n",
       "      <td>Jun 2019</td>\n",
       "      <td>05/01/2016</td>\n",
       "      <td>Adoption</td>\n",
       "      <td>Partner</td>\n",
       "      <td>Dog</td>\n",
       "      <td>Neutered Male</td>\n",
       "      <td>1 year</td>\n",
       "      <td>Domestic Shorthair Mix</td>\n",
       "      <td>Black/White</td>\n",
       "    </tr>\n",
       "    <tr>\n",
       "      <th>freq</th>\n",
       "      <td>33</td>\n",
       "      <td>748</td>\n",
       "      <td>39</td>\n",
       "      <td>2244</td>\n",
       "      <td>121</td>\n",
       "      <td>83709</td>\n",
       "      <td>40046</td>\n",
       "      <td>93718</td>\n",
       "      <td>60363</td>\n",
       "      <td>28510</td>\n",
       "      <td>34026</td>\n",
       "      <td>17820</td>\n",
       "    </tr>\n",
       "  </tbody>\n",
       "</table>\n",
       "</div>"
      ],
      "text/plain": [
       "       Animal ID    Name                DateTime MonthYear Date of Birth  \\\n",
       "count     172113  122845                  172113    172113        172113   \n",
       "unique    154722   29585                  143835       138          8613   \n",
       "top      A721033    Luna  04/18/2016 12:00:00 AM  Jun 2019    05/01/2016   \n",
       "freq          33     748                      39      2244           121   \n",
       "\n",
       "       Outcome Type Outcome Subtype Animal Type Sex upon Outcome  \\\n",
       "count        172071           78842      172113           172111   \n",
       "unique           11              26           5                5   \n",
       "top        Adoption         Partner         Dog    Neutered Male   \n",
       "freq          83709           40046       93718            60363   \n",
       "\n",
       "       Age upon Outcome                   Breed        Color  \n",
       "count            172106                  172113       172113  \n",
       "unique               55                    2990          661  \n",
       "top              1 year  Domestic Shorthair Mix  Black/White  \n",
       "freq              28510                   34026        17820  "
      ]
     },
     "execution_count": 3,
     "metadata": {},
     "output_type": "execute_result"
    }
   ],
   "source": [
    "df.describe()"
   ]
  },
  {
   "cell_type": "markdown",
   "id": "e0de80e6",
   "metadata": {
    "papermill": {
     "duration": 0.002991,
     "end_time": "2025-03-10T16:43:00.478774",
     "exception": false,
     "start_time": "2025-03-10T16:43:00.475783",
     "status": "completed"
    },
    "tags": []
   },
   "source": [
    "## 2. Are there duplicate rows? Should they be removed?\n",
    "25 duplicated rows. Yes, they should be removed."
   ]
  },
  {
   "cell_type": "code",
   "execution_count": 4,
   "id": "2c321347",
   "metadata": {
    "execution": {
     "iopub.execute_input": "2025-03-10T16:43:00.486531Z",
     "iopub.status.busy": "2025-03-10T16:43:00.486170Z",
     "iopub.status.idle": "2025-03-10T16:43:00.737506Z",
     "shell.execute_reply": "2025-03-10T16:43:00.736566Z"
    },
    "papermill": {
     "duration": 0.25764,
     "end_time": "2025-03-10T16:43:00.739579",
     "exception": false,
     "start_time": "2025-03-10T16:43:00.481939",
     "status": "completed"
    },
    "tags": []
   },
   "outputs": [
    {
     "data": {
      "text/plain": [
       "25"
      ]
     },
     "execution_count": 4,
     "metadata": {},
     "output_type": "execute_result"
    }
   ],
   "source": [
    "df.duplicated().sum()"
   ]
  },
  {
   "cell_type": "code",
   "execution_count": 5,
   "id": "2c2f365d",
   "metadata": {
    "execution": {
     "iopub.execute_input": "2025-03-10T16:43:00.747884Z",
     "iopub.status.busy": "2025-03-10T16:43:00.747521Z",
     "iopub.status.idle": "2025-03-10T16:43:01.037092Z",
     "shell.execute_reply": "2025-03-10T16:43:01.036112Z"
    },
    "papermill": {
     "duration": 0.295748,
     "end_time": "2025-03-10T16:43:01.038908",
     "exception": false,
     "start_time": "2025-03-10T16:43:00.743160",
     "status": "completed"
    },
    "tags": []
   },
   "outputs": [
    {
     "data": {
      "text/html": [
       "<div>\n",
       "<style scoped>\n",
       "    .dataframe tbody tr th:only-of-type {\n",
       "        vertical-align: middle;\n",
       "    }\n",
       "\n",
       "    .dataframe tbody tr th {\n",
       "        vertical-align: top;\n",
       "    }\n",
       "\n",
       "    .dataframe thead th {\n",
       "        text-align: right;\n",
       "    }\n",
       "</style>\n",
       "<table border=\"1\" class=\"dataframe\">\n",
       "  <thead>\n",
       "    <tr style=\"text-align: right;\">\n",
       "      <th></th>\n",
       "      <th>Animal ID</th>\n",
       "      <th>Name</th>\n",
       "      <th>DateTime</th>\n",
       "      <th>MonthYear</th>\n",
       "      <th>Date of Birth</th>\n",
       "      <th>Outcome Type</th>\n",
       "      <th>Outcome Subtype</th>\n",
       "      <th>Animal Type</th>\n",
       "      <th>Sex upon Outcome</th>\n",
       "      <th>Age upon Outcome</th>\n",
       "      <th>Breed</th>\n",
       "      <th>Color</th>\n",
       "    </tr>\n",
       "  </thead>\n",
       "  <tbody>\n",
       "    <tr>\n",
       "      <th>0</th>\n",
       "      <td>A882831</td>\n",
       "      <td>*Hamilton</td>\n",
       "      <td>07/01/2023 06:12:00 PM</td>\n",
       "      <td>Jul 2023</td>\n",
       "      <td>03/25/2023</td>\n",
       "      <td>Adoption</td>\n",
       "      <td>NaN</td>\n",
       "      <td>Cat</td>\n",
       "      <td>Neutered Male</td>\n",
       "      <td>3 months</td>\n",
       "      <td>Domestic Shorthair Mix</td>\n",
       "      <td>Black/White</td>\n",
       "    </tr>\n",
       "    <tr>\n",
       "      <th>1</th>\n",
       "      <td>A794011</td>\n",
       "      <td>Chunk</td>\n",
       "      <td>05/08/2019 06:20:00 PM</td>\n",
       "      <td>May 2019</td>\n",
       "      <td>05/02/2017</td>\n",
       "      <td>Rto-Adopt</td>\n",
       "      <td>NaN</td>\n",
       "      <td>Cat</td>\n",
       "      <td>Neutered Male</td>\n",
       "      <td>2 years</td>\n",
       "      <td>Domestic Shorthair Mix</td>\n",
       "      <td>Brown Tabby/White</td>\n",
       "    </tr>\n",
       "    <tr>\n",
       "      <th>2</th>\n",
       "      <td>A776359</td>\n",
       "      <td>Gizmo</td>\n",
       "      <td>07/18/2018 04:02:00 PM</td>\n",
       "      <td>Jul 2018</td>\n",
       "      <td>07/12/2017</td>\n",
       "      <td>Adoption</td>\n",
       "      <td>NaN</td>\n",
       "      <td>Dog</td>\n",
       "      <td>Neutered Male</td>\n",
       "      <td>1 year</td>\n",
       "      <td>Chihuahua Shorthair Mix</td>\n",
       "      <td>White/Brown</td>\n",
       "    </tr>\n",
       "    <tr>\n",
       "      <th>3</th>\n",
       "      <td>A821648</td>\n",
       "      <td>NaN</td>\n",
       "      <td>08/16/2020 11:38:00 AM</td>\n",
       "      <td>Aug 2020</td>\n",
       "      <td>08/16/2019</td>\n",
       "      <td>Euthanasia</td>\n",
       "      <td>NaN</td>\n",
       "      <td>Other</td>\n",
       "      <td>Unknown</td>\n",
       "      <td>1 year</td>\n",
       "      <td>Raccoon</td>\n",
       "      <td>Gray</td>\n",
       "    </tr>\n",
       "    <tr>\n",
       "      <th>4</th>\n",
       "      <td>A720371</td>\n",
       "      <td>Moose</td>\n",
       "      <td>02/13/2016 05:59:00 PM</td>\n",
       "      <td>Feb 2016</td>\n",
       "      <td>10/08/2015</td>\n",
       "      <td>Adoption</td>\n",
       "      <td>NaN</td>\n",
       "      <td>Dog</td>\n",
       "      <td>Neutered Male</td>\n",
       "      <td>4 months</td>\n",
       "      <td>Anatol Shepherd/Labrador Retriever</td>\n",
       "      <td>Buff</td>\n",
       "    </tr>\n",
       "    <tr>\n",
       "      <th>...</th>\n",
       "      <td>...</td>\n",
       "      <td>...</td>\n",
       "      <td>...</td>\n",
       "      <td>...</td>\n",
       "      <td>...</td>\n",
       "      <td>...</td>\n",
       "      <td>...</td>\n",
       "      <td>...</td>\n",
       "      <td>...</td>\n",
       "      <td>...</td>\n",
       "      <td>...</td>\n",
       "      <td>...</td>\n",
       "    </tr>\n",
       "    <tr>\n",
       "      <th>172108</th>\n",
       "      <td>A922949</td>\n",
       "      <td>*Scout</td>\n",
       "      <td>03/07/2025 11:45:00 AM</td>\n",
       "      <td>Mar 2025</td>\n",
       "      <td>12/16/2024</td>\n",
       "      <td>Adoption</td>\n",
       "      <td>Foster</td>\n",
       "      <td>Dog</td>\n",
       "      <td>Neutered Male</td>\n",
       "      <td>2 months</td>\n",
       "      <td>Chihuahua Shorthair Mix</td>\n",
       "      <td>Buff/White</td>\n",
       "    </tr>\n",
       "    <tr>\n",
       "      <th>172109</th>\n",
       "      <td>A925959</td>\n",
       "      <td>NaN</td>\n",
       "      <td>03/07/2025 11:24:00 AM</td>\n",
       "      <td>Mar 2025</td>\n",
       "      <td>03/03/2021</td>\n",
       "      <td>Transfer</td>\n",
       "      <td>Partner</td>\n",
       "      <td>Dog</td>\n",
       "      <td>Intact Male</td>\n",
       "      <td>4 years</td>\n",
       "      <td>Dachshund/Chihuahua Shorthair</td>\n",
       "      <td>Black/White</td>\n",
       "    </tr>\n",
       "    <tr>\n",
       "      <th>172110</th>\n",
       "      <td>A925235</td>\n",
       "      <td>*Gertrude</td>\n",
       "      <td>03/07/2025 12:48:00 PM</td>\n",
       "      <td>Mar 2025</td>\n",
       "      <td>02/27/2019</td>\n",
       "      <td>Adoption</td>\n",
       "      <td>NaN</td>\n",
       "      <td>Dog</td>\n",
       "      <td>Spayed Female</td>\n",
       "      <td>6 years</td>\n",
       "      <td>Miniature Schnauzer</td>\n",
       "      <td>Black/Black</td>\n",
       "    </tr>\n",
       "    <tr>\n",
       "      <th>172111</th>\n",
       "      <td>A924228</td>\n",
       "      <td>*Penny Lane</td>\n",
       "      <td>03/07/2025 12:41:00 PM</td>\n",
       "      <td>Mar 2025</td>\n",
       "      <td>01/06/2025</td>\n",
       "      <td>Adoption</td>\n",
       "      <td>NaN</td>\n",
       "      <td>Dog</td>\n",
       "      <td>Spayed Female</td>\n",
       "      <td>1 month</td>\n",
       "      <td>Australian Cattle Dog/Pit Bull</td>\n",
       "      <td>Blue Tick</td>\n",
       "    </tr>\n",
       "    <tr>\n",
       "      <th>172112</th>\n",
       "      <td>A926089</td>\n",
       "      <td>NaN</td>\n",
       "      <td>03/07/2025 01:48:00 PM</td>\n",
       "      <td>Mar 2025</td>\n",
       "      <td>03/05/2014</td>\n",
       "      <td>Transfer</td>\n",
       "      <td>Partner</td>\n",
       "      <td>Dog</td>\n",
       "      <td>Intact Female</td>\n",
       "      <td>11 years</td>\n",
       "      <td>Toy Poodle</td>\n",
       "      <td>White</td>\n",
       "    </tr>\n",
       "  </tbody>\n",
       "</table>\n",
       "<p>172088 rows × 12 columns</p>\n",
       "</div>"
      ],
      "text/plain": [
       "       Animal ID         Name                DateTime MonthYear Date of Birth  \\\n",
       "0        A882831    *Hamilton  07/01/2023 06:12:00 PM  Jul 2023    03/25/2023   \n",
       "1        A794011        Chunk  05/08/2019 06:20:00 PM  May 2019    05/02/2017   \n",
       "2        A776359        Gizmo  07/18/2018 04:02:00 PM  Jul 2018    07/12/2017   \n",
       "3        A821648          NaN  08/16/2020 11:38:00 AM  Aug 2020    08/16/2019   \n",
       "4        A720371        Moose  02/13/2016 05:59:00 PM  Feb 2016    10/08/2015   \n",
       "...          ...          ...                     ...       ...           ...   \n",
       "172108   A922949       *Scout  03/07/2025 11:45:00 AM  Mar 2025    12/16/2024   \n",
       "172109   A925959          NaN  03/07/2025 11:24:00 AM  Mar 2025    03/03/2021   \n",
       "172110   A925235    *Gertrude  03/07/2025 12:48:00 PM  Mar 2025    02/27/2019   \n",
       "172111   A924228  *Penny Lane  03/07/2025 12:41:00 PM  Mar 2025    01/06/2025   \n",
       "172112   A926089          NaN  03/07/2025 01:48:00 PM  Mar 2025    03/05/2014   \n",
       "\n",
       "       Outcome Type Outcome Subtype Animal Type Sex upon Outcome  \\\n",
       "0          Adoption             NaN         Cat    Neutered Male   \n",
       "1         Rto-Adopt             NaN         Cat    Neutered Male   \n",
       "2          Adoption             NaN         Dog    Neutered Male   \n",
       "3        Euthanasia             NaN       Other          Unknown   \n",
       "4          Adoption             NaN         Dog    Neutered Male   \n",
       "...             ...             ...         ...              ...   \n",
       "172108     Adoption          Foster         Dog    Neutered Male   \n",
       "172109     Transfer         Partner         Dog      Intact Male   \n",
       "172110     Adoption             NaN         Dog    Spayed Female   \n",
       "172111     Adoption             NaN         Dog    Spayed Female   \n",
       "172112     Transfer         Partner         Dog    Intact Female   \n",
       "\n",
       "       Age upon Outcome                               Breed              Color  \n",
       "0              3 months              Domestic Shorthair Mix        Black/White  \n",
       "1               2 years              Domestic Shorthair Mix  Brown Tabby/White  \n",
       "2                1 year             Chihuahua Shorthair Mix        White/Brown  \n",
       "3                1 year                             Raccoon               Gray  \n",
       "4              4 months  Anatol Shepherd/Labrador Retriever               Buff  \n",
       "...                 ...                                 ...                ...  \n",
       "172108         2 months             Chihuahua Shorthair Mix         Buff/White  \n",
       "172109          4 years       Dachshund/Chihuahua Shorthair        Black/White  \n",
       "172110          6 years                 Miniature Schnauzer        Black/Black  \n",
       "172111          1 month      Australian Cattle Dog/Pit Bull          Blue Tick  \n",
       "172112         11 years                          Toy Poodle              White  \n",
       "\n",
       "[172088 rows x 12 columns]"
      ]
     },
     "execution_count": 5,
     "metadata": {},
     "output_type": "execute_result"
    }
   ],
   "source": [
    "df.drop_duplicates()"
   ]
  },
  {
   "cell_type": "markdown",
   "id": "8640a558",
   "metadata": {
    "papermill": {
     "duration": 0.003487,
     "end_time": "2025-03-10T16:43:01.046315",
     "exception": false,
     "start_time": "2025-03-10T16:43:01.042828",
     "status": "completed"
    },
    "tags": []
   },
   "source": [
    "Are there any inconsistent or unexpected values (e.g., negative ages, incorrect dates)?"
   ]
  },
  {
   "cell_type": "code",
   "execution_count": 6,
   "id": "881d419c",
   "metadata": {
    "execution": {
     "iopub.execute_input": "2025-03-10T16:43:01.054924Z",
     "iopub.status.busy": "2025-03-10T16:43:01.054509Z",
     "iopub.status.idle": "2025-03-10T16:43:01.087674Z",
     "shell.execute_reply": "2025-03-10T16:43:01.086551Z"
    },
    "papermill": {
     "duration": 0.03949,
     "end_time": "2025-03-10T16:43:01.089481",
     "exception": false,
     "start_time": "2025-03-10T16:43:01.049991",
     "status": "completed"
    },
    "tags": []
   },
   "outputs": [
    {
     "data": {
      "text/plain": [
       "Name\n",
       "Luna        748\n",
       "Max         721\n",
       "Bella       674\n",
       "Rocky       490\n",
       "Daisy       464\n",
       "           ... \n",
       "*Brocade      1\n",
       "Babydoll      1\n",
       "A849756       1\n",
       "Karati        1\n",
       "Trueno        1\n",
       "Name: count, Length: 29585, dtype: int64"
      ]
     },
     "execution_count": 6,
     "metadata": {},
     "output_type": "execute_result"
    }
   ],
   "source": [
    "df['Name'].value_counts()"
   ]
  }
 ],
 "metadata": {
  "kaggle": {
   "accelerator": "none",
   "dataSources": [
    {
     "datasetId": 6815598,
     "sourceId": 10955746,
     "sourceType": "datasetVersion"
    }
   ],
   "dockerImageVersionId": 30918,
   "isGpuEnabled": false,
   "isInternetEnabled": true,
   "language": "python",
   "sourceType": "notebook"
  },
  "kernelspec": {
   "display_name": "Python 3",
   "language": "python",
   "name": "python3"
  },
  "language_info": {
   "codemirror_mode": {
    "name": "ipython",
    "version": 3
   },
   "file_extension": ".py",
   "mimetype": "text/x-python",
   "name": "python",
   "nbconvert_exporter": "python",
   "pygments_lexer": "ipython3",
   "version": "3.10.12"
  },
  "papermill": {
   "default_parameters": {},
   "duration": 6.808253,
   "end_time": "2025-03-10T16:43:01.714182",
   "environment_variables": {},
   "exception": null,
   "input_path": "__notebook__.ipynb",
   "output_path": "__notebook__.ipynb",
   "parameters": {},
   "start_time": "2025-03-10T16:42:54.905929",
   "version": "2.6.0"
  }
 },
 "nbformat": 4,
 "nbformat_minor": 5
}

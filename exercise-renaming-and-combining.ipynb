{
 "cells": [
  {
   "cell_type": "markdown",
   "id": "2828bdab",
   "metadata": {
    "papermill": {
     "duration": 0.004657,
     "end_time": "2025-03-07T01:05:47.559774",
     "exception": false,
     "start_time": "2025-03-07T01:05:47.555117",
     "status": "completed"
    },
    "tags": []
   },
   "source": [
    "**This notebook is an exercise in the [Pandas](https://www.kaggle.com/learn/pandas) course.  You can reference the tutorial at [this link](https://www.kaggle.com/residentmario/renaming-and-combining).**\n",
    "\n",
    "---\n"
   ]
  },
  {
   "cell_type": "markdown",
   "id": "e5757e17",
   "metadata": {
    "papermill": {
     "duration": 0.002983,
     "end_time": "2025-03-07T01:05:47.566091",
     "exception": false,
     "start_time": "2025-03-07T01:05:47.563108",
     "status": "completed"
    },
    "tags": []
   },
   "source": [
    "# Introduction\n",
    "\n",
    "Run the following cell to load your data and some utility functions."
   ]
  },
  {
   "cell_type": "code",
   "execution_count": 1,
   "id": "25c21233",
   "metadata": {
    "execution": {
     "iopub.execute_input": "2025-03-07T01:05:47.573902Z",
     "iopub.status.busy": "2025-03-07T01:05:47.573589Z",
     "iopub.status.idle": "2025-03-07T01:05:51.917623Z",
     "shell.execute_reply": "2025-03-07T01:05:51.916528Z"
    },
    "papermill": {
     "duration": 4.349965,
     "end_time": "2025-03-07T01:05:51.919136",
     "exception": false,
     "start_time": "2025-03-07T01:05:47.569171",
     "status": "completed"
    },
    "tags": []
   },
   "outputs": [
    {
     "name": "stdout",
     "output_type": "stream",
     "text": [
      "Setup complete.\n"
     ]
    }
   ],
   "source": [
    "import pandas as pd\n",
    "\n",
    "reviews = pd.read_csv(\"../input/wine-reviews/winemag-data-130k-v2.csv\", index_col=0)\n",
    "\n",
    "from learntools.core import binder; binder.bind(globals())\n",
    "from learntools.pandas.renaming_and_combining import *\n",
    "print(\"Setup complete.\")"
   ]
  },
  {
   "cell_type": "markdown",
   "id": "48bd45f2",
   "metadata": {
    "papermill": {
     "duration": 0.003592,
     "end_time": "2025-03-07T01:05:51.926826",
     "exception": false,
     "start_time": "2025-03-07T01:05:51.923234",
     "status": "completed"
    },
    "tags": []
   },
   "source": [
    "# Exercises\n",
    "\n",
    "View the first several lines of your data by running the cell below:"
   ]
  },
  {
   "cell_type": "code",
   "execution_count": 2,
   "id": "e13e85f6",
   "metadata": {
    "execution": {
     "iopub.execute_input": "2025-03-07T01:05:51.934895Z",
     "iopub.status.busy": "2025-03-07T01:05:51.934591Z",
     "iopub.status.idle": "2025-03-07T01:05:51.961353Z",
     "shell.execute_reply": "2025-03-07T01:05:51.960535Z"
    },
    "papermill": {
     "duration": 0.032308,
     "end_time": "2025-03-07T01:05:51.962682",
     "exception": false,
     "start_time": "2025-03-07T01:05:51.930374",
     "status": "completed"
    },
    "tags": []
   },
   "outputs": [
    {
     "name": "stderr",
     "output_type": "stream",
     "text": [
      "/usr/local/lib/python3.10/dist-packages/pandas/io/formats/format.py:1458: RuntimeWarning: invalid value encountered in greater\n",
      "  has_large_values = (abs_vals > 1e6).any()\n",
      "/usr/local/lib/python3.10/dist-packages/pandas/io/formats/format.py:1459: RuntimeWarning: invalid value encountered in less\n",
      "  has_small_values = ((abs_vals < 10 ** (-self.digits)) & (abs_vals > 0)).any()\n",
      "/usr/local/lib/python3.10/dist-packages/pandas/io/formats/format.py:1459: RuntimeWarning: invalid value encountered in greater\n",
      "  has_small_values = ((abs_vals < 10 ** (-self.digits)) & (abs_vals > 0)).any()\n"
     ]
    },
    {
     "data": {
      "text/html": [
       "<div>\n",
       "<style scoped>\n",
       "    .dataframe tbody tr th:only-of-type {\n",
       "        vertical-align: middle;\n",
       "    }\n",
       "\n",
       "    .dataframe tbody tr th {\n",
       "        vertical-align: top;\n",
       "    }\n",
       "\n",
       "    .dataframe thead th {\n",
       "        text-align: right;\n",
       "    }\n",
       "</style>\n",
       "<table border=\"1\" class=\"dataframe\">\n",
       "  <thead>\n",
       "    <tr style=\"text-align: right;\">\n",
       "      <th></th>\n",
       "      <th>country</th>\n",
       "      <th>description</th>\n",
       "      <th>designation</th>\n",
       "      <th>points</th>\n",
       "      <th>price</th>\n",
       "      <th>province</th>\n",
       "      <th>region_1</th>\n",
       "      <th>region_2</th>\n",
       "      <th>taster_name</th>\n",
       "      <th>taster_twitter_handle</th>\n",
       "      <th>title</th>\n",
       "      <th>variety</th>\n",
       "      <th>winery</th>\n",
       "    </tr>\n",
       "  </thead>\n",
       "  <tbody>\n",
       "    <tr>\n",
       "      <th>0</th>\n",
       "      <td>Italy</td>\n",
       "      <td>Aromas include tropical fruit, broom, brimston...</td>\n",
       "      <td>Vulkà Bianco</td>\n",
       "      <td>87</td>\n",
       "      <td>NaN</td>\n",
       "      <td>Sicily &amp; Sardinia</td>\n",
       "      <td>Etna</td>\n",
       "      <td>NaN</td>\n",
       "      <td>Kerin O’Keefe</td>\n",
       "      <td>@kerinokeefe</td>\n",
       "      <td>Nicosia 2013 Vulkà Bianco  (Etna)</td>\n",
       "      <td>White Blend</td>\n",
       "      <td>Nicosia</td>\n",
       "    </tr>\n",
       "    <tr>\n",
       "      <th>1</th>\n",
       "      <td>Portugal</td>\n",
       "      <td>This is ripe and fruity, a wine that is smooth...</td>\n",
       "      <td>Avidagos</td>\n",
       "      <td>87</td>\n",
       "      <td>15.0</td>\n",
       "      <td>Douro</td>\n",
       "      <td>NaN</td>\n",
       "      <td>NaN</td>\n",
       "      <td>Roger Voss</td>\n",
       "      <td>@vossroger</td>\n",
       "      <td>Quinta dos Avidagos 2011 Avidagos Red (Douro)</td>\n",
       "      <td>Portuguese Red</td>\n",
       "      <td>Quinta dos Avidagos</td>\n",
       "    </tr>\n",
       "    <tr>\n",
       "      <th>2</th>\n",
       "      <td>US</td>\n",
       "      <td>Tart and snappy, the flavors of lime flesh and...</td>\n",
       "      <td>NaN</td>\n",
       "      <td>87</td>\n",
       "      <td>14.0</td>\n",
       "      <td>Oregon</td>\n",
       "      <td>Willamette Valley</td>\n",
       "      <td>Willamette Valley</td>\n",
       "      <td>Paul Gregutt</td>\n",
       "      <td>@paulgwine</td>\n",
       "      <td>Rainstorm 2013 Pinot Gris (Willamette Valley)</td>\n",
       "      <td>Pinot Gris</td>\n",
       "      <td>Rainstorm</td>\n",
       "    </tr>\n",
       "    <tr>\n",
       "      <th>3</th>\n",
       "      <td>US</td>\n",
       "      <td>Pineapple rind, lemon pith and orange blossom ...</td>\n",
       "      <td>Reserve Late Harvest</td>\n",
       "      <td>87</td>\n",
       "      <td>13.0</td>\n",
       "      <td>Michigan</td>\n",
       "      <td>Lake Michigan Shore</td>\n",
       "      <td>NaN</td>\n",
       "      <td>Alexander Peartree</td>\n",
       "      <td>NaN</td>\n",
       "      <td>St. Julian 2013 Reserve Late Harvest Riesling ...</td>\n",
       "      <td>Riesling</td>\n",
       "      <td>St. Julian</td>\n",
       "    </tr>\n",
       "    <tr>\n",
       "      <th>4</th>\n",
       "      <td>US</td>\n",
       "      <td>Much like the regular bottling from 2012, this...</td>\n",
       "      <td>Vintner's Reserve Wild Child Block</td>\n",
       "      <td>87</td>\n",
       "      <td>65.0</td>\n",
       "      <td>Oregon</td>\n",
       "      <td>Willamette Valley</td>\n",
       "      <td>Willamette Valley</td>\n",
       "      <td>Paul Gregutt</td>\n",
       "      <td>@paulgwine</td>\n",
       "      <td>Sweet Cheeks 2012 Vintner's Reserve Wild Child...</td>\n",
       "      <td>Pinot Noir</td>\n",
       "      <td>Sweet Cheeks</td>\n",
       "    </tr>\n",
       "  </tbody>\n",
       "</table>\n",
       "</div>"
      ],
      "text/plain": [
       "    country                                        description  \\\n",
       "0     Italy  Aromas include tropical fruit, broom, brimston...   \n",
       "1  Portugal  This is ripe and fruity, a wine that is smooth...   \n",
       "2        US  Tart and snappy, the flavors of lime flesh and...   \n",
       "3        US  Pineapple rind, lemon pith and orange blossom ...   \n",
       "4        US  Much like the regular bottling from 2012, this...   \n",
       "\n",
       "                          designation  points  price           province  \\\n",
       "0                        Vulkà Bianco      87    NaN  Sicily & Sardinia   \n",
       "1                            Avidagos      87   15.0              Douro   \n",
       "2                                 NaN      87   14.0             Oregon   \n",
       "3                Reserve Late Harvest      87   13.0           Michigan   \n",
       "4  Vintner's Reserve Wild Child Block      87   65.0             Oregon   \n",
       "\n",
       "              region_1           region_2         taster_name  \\\n",
       "0                 Etna                NaN       Kerin O’Keefe   \n",
       "1                  NaN                NaN          Roger Voss   \n",
       "2    Willamette Valley  Willamette Valley        Paul Gregutt   \n",
       "3  Lake Michigan Shore                NaN  Alexander Peartree   \n",
       "4    Willamette Valley  Willamette Valley        Paul Gregutt   \n",
       "\n",
       "  taster_twitter_handle                                              title  \\\n",
       "0          @kerinokeefe                  Nicosia 2013 Vulkà Bianco  (Etna)   \n",
       "1            @vossroger      Quinta dos Avidagos 2011 Avidagos Red (Douro)   \n",
       "2           @paulgwine       Rainstorm 2013 Pinot Gris (Willamette Valley)   \n",
       "3                   NaN  St. Julian 2013 Reserve Late Harvest Riesling ...   \n",
       "4           @paulgwine   Sweet Cheeks 2012 Vintner's Reserve Wild Child...   \n",
       "\n",
       "          variety               winery  \n",
       "0     White Blend              Nicosia  \n",
       "1  Portuguese Red  Quinta dos Avidagos  \n",
       "2      Pinot Gris            Rainstorm  \n",
       "3        Riesling           St. Julian  \n",
       "4      Pinot Noir         Sweet Cheeks  "
      ]
     },
     "execution_count": 2,
     "metadata": {},
     "output_type": "execute_result"
    }
   ],
   "source": [
    "reviews.head()"
   ]
  },
  {
   "cell_type": "markdown",
   "id": "f8261735",
   "metadata": {
    "papermill": {
     "duration": 0.003331,
     "end_time": "2025-03-07T01:05:51.969936",
     "exception": false,
     "start_time": "2025-03-07T01:05:51.966605",
     "status": "completed"
    },
    "tags": []
   },
   "source": [
    "## 1.\n",
    "`region_1` and `region_2` are pretty uninformative names for locale columns in the dataset. Create a copy of `reviews` with these columns renamed to `region` and `locale`, respectively."
   ]
  },
  {
   "cell_type": "code",
   "execution_count": 3,
   "id": "bd1f6b24",
   "metadata": {
    "execution": {
     "iopub.execute_input": "2025-03-07T01:05:51.978026Z",
     "iopub.status.busy": "2025-03-07T01:05:51.977750Z",
     "iopub.status.idle": "2025-03-07T01:05:51.991618Z",
     "shell.execute_reply": "2025-03-07T01:05:51.990715Z"
    },
    "papermill": {
     "duration": 0.019214,
     "end_time": "2025-03-07T01:05:51.992787",
     "exception": false,
     "start_time": "2025-03-07T01:05:51.973573",
     "status": "completed"
    },
    "tags": []
   },
   "outputs": [
    {
     "data": {
      "application/javascript": [
       "parent.postMessage({\"jupyterEvent\": \"custom.exercise_interaction\", \"data\": {\"outcomeType\": 1, \"valueTowardsCompletion\": 0.25, \"interactionType\": 1, \"questionType\": 1, \"questionId\": \"1_RenameCols\", \"learnToolsVersion\": \"0.3.4\", \"failureMessage\": \"\", \"exceptionClass\": \"\", \"trace\": \"\"}}, \"*\")"
      ],
      "text/plain": [
       "<IPython.core.display.Javascript object>"
      ]
     },
     "metadata": {},
     "output_type": "display_data"
    },
    {
     "data": {
      "text/markdown": [
       "<span style=\"color:#33cc33\">Correct</span>"
      ],
      "text/plain": [
       "Correct"
      ]
     },
     "metadata": {},
     "output_type": "display_data"
    }
   ],
   "source": [
    "# Your code here\n",
    "renamed = reviews.rename(columns={'region_1': 'region', 'region_2':'locale'})\n",
    "\n",
    "# Check your answer\n",
    "q1.check()"
   ]
  },
  {
   "cell_type": "code",
   "execution_count": 4,
   "id": "19ba90e9",
   "metadata": {
    "execution": {
     "iopub.execute_input": "2025-03-07T01:05:52.001181Z",
     "iopub.status.busy": "2025-03-07T01:05:52.000921Z",
     "iopub.status.idle": "2025-03-07T01:05:52.008610Z",
     "shell.execute_reply": "2025-03-07T01:05:52.007904Z"
    },
    "papermill": {
     "duration": 0.013271,
     "end_time": "2025-03-07T01:05:52.009888",
     "exception": false,
     "start_time": "2025-03-07T01:05:51.996617",
     "status": "completed"
    },
    "tags": []
   },
   "outputs": [
    {
     "data": {
      "application/javascript": [
       "parent.postMessage({\"jupyterEvent\": \"custom.exercise_interaction\", \"data\": {\"interactionType\": 2, \"questionType\": 1, \"questionId\": \"1_RenameCols\", \"learnToolsVersion\": \"0.3.4\", \"valueTowardsCompletion\": 0.0, \"failureMessage\": \"\", \"exceptionClass\": \"\", \"trace\": \"\", \"outcomeType\": 4}}, \"*\")"
      ],
      "text/plain": [
       "<IPython.core.display.Javascript object>"
      ]
     },
     "metadata": {},
     "output_type": "display_data"
    },
    {
     "data": {
      "text/markdown": [
       "<span style=\"color:#3366cc\">Hint:</span> Use `rename()`, and specify a `columns` parameter."
      ],
      "text/plain": [
       "Hint: Use `rename()`, and specify a `columns` parameter."
      ]
     },
     "metadata": {},
     "output_type": "display_data"
    },
    {
     "data": {
      "application/javascript": [
       "parent.postMessage({\"jupyterEvent\": \"custom.exercise_interaction\", \"data\": {\"interactionType\": 3, \"questionType\": 1, \"questionId\": \"1_RenameCols\", \"learnToolsVersion\": \"0.3.4\", \"valueTowardsCompletion\": 0.0, \"failureMessage\": \"\", \"exceptionClass\": \"\", \"trace\": \"\", \"outcomeType\": 4}}, \"*\")"
      ],
      "text/plain": [
       "<IPython.core.display.Javascript object>"
      ]
     },
     "metadata": {},
     "output_type": "display_data"
    },
    {
     "data": {
      "text/markdown": [
       "<span style=\"color:#33cc99\">Solution:</span> \n",
       "```python\n",
       "renamed = reviews.rename(columns=dict(region_1='region', region_2='locale'))\n",
       "```"
      ],
      "text/plain": [
       "Solution: \n",
       "```python\n",
       "renamed = reviews.rename(columns=dict(region_1='region', region_2='locale'))\n",
       "```"
      ]
     },
     "metadata": {},
     "output_type": "display_data"
    }
   ],
   "source": [
    "q1.hint()\n",
    "q1.solution()"
   ]
  },
  {
   "cell_type": "markdown",
   "id": "e32d6979",
   "metadata": {
    "papermill": {
     "duration": 0.003658,
     "end_time": "2025-03-07T01:05:52.017646",
     "exception": false,
     "start_time": "2025-03-07T01:05:52.013988",
     "status": "completed"
    },
    "tags": []
   },
   "source": [
    "## 2.\n",
    "Set the index name in the dataset to `wines`."
   ]
  },
  {
   "cell_type": "code",
   "execution_count": 5,
   "id": "d945fbec",
   "metadata": {
    "execution": {
     "iopub.execute_input": "2025-03-07T01:05:52.026515Z",
     "iopub.status.busy": "2025-03-07T01:05:52.026156Z",
     "iopub.status.idle": "2025-03-07T01:05:52.040088Z",
     "shell.execute_reply": "2025-03-07T01:05:52.039274Z"
    },
    "papermill": {
     "duration": 0.019925,
     "end_time": "2025-03-07T01:05:52.041365",
     "exception": false,
     "start_time": "2025-03-07T01:05:52.021440",
     "status": "completed"
    },
    "tags": []
   },
   "outputs": [
    {
     "data": {
      "application/javascript": [
       "parent.postMessage({\"jupyterEvent\": \"custom.exercise_interaction\", \"data\": {\"outcomeType\": 1, \"valueTowardsCompletion\": 0.25, \"interactionType\": 1, \"questionType\": 1, \"questionId\": \"2_RenameIndex\", \"learnToolsVersion\": \"0.3.4\", \"failureMessage\": \"\", \"exceptionClass\": \"\", \"trace\": \"\"}}, \"*\")"
      ],
      "text/plain": [
       "<IPython.core.display.Javascript object>"
      ]
     },
     "metadata": {},
     "output_type": "display_data"
    },
    {
     "data": {
      "text/markdown": [
       "<span style=\"color:#33cc33\">Correct</span>"
      ],
      "text/plain": [
       "Correct"
      ]
     },
     "metadata": {},
     "output_type": "display_data"
    }
   ],
   "source": [
    "reindexed = reviews.rename_axis(\"wines\", axis='rows')\n",
    "\n",
    "# Check your answer\n",
    "q2.check()"
   ]
  },
  {
   "cell_type": "code",
   "execution_count": 6,
   "id": "eaf7b943",
   "metadata": {
    "execution": {
     "iopub.execute_input": "2025-03-07T01:05:52.050892Z",
     "iopub.status.busy": "2025-03-07T01:05:52.050575Z",
     "iopub.status.idle": "2025-03-07T01:05:52.058661Z",
     "shell.execute_reply": "2025-03-07T01:05:52.057808Z"
    },
    "papermill": {
     "duration": 0.014078,
     "end_time": "2025-03-07T01:05:52.059826",
     "exception": false,
     "start_time": "2025-03-07T01:05:52.045748",
     "status": "completed"
    },
    "tags": []
   },
   "outputs": [
    {
     "data": {
      "application/javascript": [
       "parent.postMessage({\"jupyterEvent\": \"custom.exercise_interaction\", \"data\": {\"interactionType\": 2, \"questionType\": 1, \"questionId\": \"2_RenameIndex\", \"learnToolsVersion\": \"0.3.4\", \"valueTowardsCompletion\": 0.0, \"failureMessage\": \"\", \"exceptionClass\": \"\", \"trace\": \"\", \"outcomeType\": 4}}, \"*\")"
      ],
      "text/plain": [
       "<IPython.core.display.Javascript object>"
      ]
     },
     "metadata": {},
     "output_type": "display_data"
    },
    {
     "data": {
      "text/markdown": [
       "<span style=\"color:#3366cc\">Hint:</span> Use the `rename_axis()` method."
      ],
      "text/plain": [
       "Hint: Use the `rename_axis()` method."
      ]
     },
     "metadata": {},
     "output_type": "display_data"
    },
    {
     "data": {
      "application/javascript": [
       "parent.postMessage({\"jupyterEvent\": \"custom.exercise_interaction\", \"data\": {\"interactionType\": 3, \"questionType\": 1, \"questionId\": \"2_RenameIndex\", \"learnToolsVersion\": \"0.3.4\", \"valueTowardsCompletion\": 0.0, \"failureMessage\": \"\", \"exceptionClass\": \"\", \"trace\": \"\", \"outcomeType\": 4}}, \"*\")"
      ],
      "text/plain": [
       "<IPython.core.display.Javascript object>"
      ]
     },
     "metadata": {},
     "output_type": "display_data"
    },
    {
     "data": {
      "text/markdown": [
       "<span style=\"color:#33cc99\">Solution:</span> \n",
       "```python\n",
       "reindexed = reviews.rename_axis('wines', axis='rows')\n",
       "```"
      ],
      "text/plain": [
       "Solution: \n",
       "```python\n",
       "reindexed = reviews.rename_axis('wines', axis='rows')\n",
       "```"
      ]
     },
     "metadata": {},
     "output_type": "display_data"
    }
   ],
   "source": [
    "q2.hint()\n",
    "q2.solution()"
   ]
  },
  {
   "cell_type": "markdown",
   "id": "7cdcb8a6",
   "metadata": {
    "papermill": {
     "duration": 0.004299,
     "end_time": "2025-03-07T01:05:52.069109",
     "exception": false,
     "start_time": "2025-03-07T01:05:52.064810",
     "status": "completed"
    },
    "tags": []
   },
   "source": [
    "## 3.\n",
    "The [Things on Reddit](https://www.kaggle.com/residentmario/things-on-reddit/data) dataset includes product links from a selection of top-ranked forums (\"subreddits\") on reddit.com. Run the cell below to load a dataframe of products mentioned on the */r/gaming* subreddit and another dataframe for products mentioned on the *r//movies* subreddit."
   ]
  },
  {
   "cell_type": "code",
   "execution_count": 7,
   "id": "2e11fb05",
   "metadata": {
    "execution": {
     "iopub.execute_input": "2025-03-07T01:05:52.079111Z",
     "iopub.status.busy": "2025-03-07T01:05:52.078834Z",
     "iopub.status.idle": "2025-03-07T01:05:52.088175Z",
     "shell.execute_reply": "2025-03-07T01:05:52.087513Z"
    },
    "papermill": {
     "duration": 0.016082,
     "end_time": "2025-03-07T01:05:52.089810",
     "exception": false,
     "start_time": "2025-03-07T01:05:52.073728",
     "status": "completed"
    },
    "tags": []
   },
   "outputs": [],
   "source": [
    "gaming_products = pd.read_csv(\"../input/things-on-reddit/top-things/top-things/reddits/g/gaming.csv\")\n",
    "gaming_products['subreddit'] = \"r/gaming\"\n",
    "movie_products = pd.read_csv(\"../input/things-on-reddit/top-things/top-things/reddits/m/movies.csv\")\n",
    "movie_products['subreddit'] = \"r/movies\""
   ]
  },
  {
   "cell_type": "markdown",
   "id": "3ddb95b1",
   "metadata": {
    "papermill": {
     "duration": 0.004032,
     "end_time": "2025-03-07T01:05:52.098853",
     "exception": false,
     "start_time": "2025-03-07T01:05:52.094821",
     "status": "completed"
    },
    "tags": []
   },
   "source": [
    "Create a `DataFrame` of products mentioned on *either* subreddit."
   ]
  },
  {
   "cell_type": "code",
   "execution_count": 8,
   "id": "94639400",
   "metadata": {
    "execution": {
     "iopub.execute_input": "2025-03-07T01:05:52.108189Z",
     "iopub.status.busy": "2025-03-07T01:05:52.107947Z",
     "iopub.status.idle": "2025-03-07T01:05:52.116302Z",
     "shell.execute_reply": "2025-03-07T01:05:52.115522Z"
    },
    "papermill": {
     "duration": 0.014514,
     "end_time": "2025-03-07T01:05:52.117552",
     "exception": false,
     "start_time": "2025-03-07T01:05:52.103038",
     "status": "completed"
    },
    "tags": []
   },
   "outputs": [
    {
     "data": {
      "application/javascript": [
       "parent.postMessage({\"jupyterEvent\": \"custom.exercise_interaction\", \"data\": {\"outcomeType\": 1, \"valueTowardsCompletion\": 0.25, \"interactionType\": 1, \"questionType\": 2, \"questionId\": \"3_ConcatReddit\", \"learnToolsVersion\": \"0.3.4\", \"failureMessage\": \"\", \"exceptionClass\": \"\", \"trace\": \"\"}}, \"*\")"
      ],
      "text/plain": [
       "<IPython.core.display.Javascript object>"
      ]
     },
     "metadata": {},
     "output_type": "display_data"
    },
    {
     "data": {
      "text/markdown": [
       "<span style=\"color:#33cc33\">Correct</span>"
      ],
      "text/plain": [
       "Correct"
      ]
     },
     "metadata": {},
     "output_type": "display_data"
    }
   ],
   "source": [
    "combined_products = pd.concat([gaming_products, movie_products])\n",
    "\n",
    "# Check your answer\n",
    "q3.check()"
   ]
  },
  {
   "cell_type": "code",
   "execution_count": 9,
   "id": "ef0e007b",
   "metadata": {
    "execution": {
     "iopub.execute_input": "2025-03-07T01:05:52.128018Z",
     "iopub.status.busy": "2025-03-07T01:05:52.127803Z",
     "iopub.status.idle": "2025-03-07T01:05:52.134853Z",
     "shell.execute_reply": "2025-03-07T01:05:52.134318Z"
    },
    "papermill": {
     "duration": 0.013177,
     "end_time": "2025-03-07T01:05:52.135818",
     "exception": false,
     "start_time": "2025-03-07T01:05:52.122641",
     "status": "completed"
    },
    "tags": []
   },
   "outputs": [
    {
     "data": {
      "application/javascript": [
       "parent.postMessage({\"jupyterEvent\": \"custom.exercise_interaction\", \"data\": {\"interactionType\": 2, \"questionType\": 2, \"questionId\": \"3_ConcatReddit\", \"learnToolsVersion\": \"0.3.4\", \"valueTowardsCompletion\": 0.0, \"failureMessage\": \"\", \"exceptionClass\": \"\", \"trace\": \"\", \"outcomeType\": 4}}, \"*\")"
      ],
      "text/plain": [
       "<IPython.core.display.Javascript object>"
      ]
     },
     "metadata": {},
     "output_type": "display_data"
    },
    {
     "data": {
      "text/markdown": [
       "<span style=\"color:#3366cc\">Hint:</span> Use `pd.concat()`"
      ],
      "text/plain": [
       "Hint: Use `pd.concat()`"
      ]
     },
     "metadata": {},
     "output_type": "display_data"
    },
    {
     "data": {
      "application/javascript": [
       "parent.postMessage({\"jupyterEvent\": \"custom.exercise_interaction\", \"data\": {\"interactionType\": 3, \"questionType\": 2, \"questionId\": \"3_ConcatReddit\", \"learnToolsVersion\": \"0.3.4\", \"valueTowardsCompletion\": 0.0, \"failureMessage\": \"\", \"exceptionClass\": \"\", \"trace\": \"\", \"outcomeType\": 4}}, \"*\")"
      ],
      "text/plain": [
       "<IPython.core.display.Javascript object>"
      ]
     },
     "metadata": {},
     "output_type": "display_data"
    },
    {
     "data": {
      "text/markdown": [
       "<span style=\"color:#33cc99\">Solution:</span> \n",
       "```python\n",
       "combined_products = pd.concat([gaming_products, movie_products])\n",
       "```"
      ],
      "text/plain": [
       "Solution: \n",
       "```python\n",
       "combined_products = pd.concat([gaming_products, movie_products])\n",
       "```"
      ]
     },
     "metadata": {},
     "output_type": "display_data"
    }
   ],
   "source": [
    "q3.hint()\n",
    "q3.solution()"
   ]
  },
  {
   "cell_type": "markdown",
   "id": "43c63286",
   "metadata": {
    "papermill": {
     "duration": 0.004318,
     "end_time": "2025-03-07T01:05:52.145203",
     "exception": false,
     "start_time": "2025-03-07T01:05:52.140885",
     "status": "completed"
    },
    "tags": []
   },
   "source": [
    "## 4.\n",
    "The [Powerlifting Database](https://www.kaggle.com/open-powerlifting/powerlifting-database) dataset on Kaggle includes one CSV table for powerlifting meets and a separate one for powerlifting competitors. Run the cell below to load these datasets into dataframes:"
   ]
  },
  {
   "cell_type": "code",
   "execution_count": 10,
   "id": "b2c61c61",
   "metadata": {
    "execution": {
     "iopub.execute_input": "2025-03-07T01:05:52.155137Z",
     "iopub.status.busy": "2025-03-07T01:05:52.154892Z",
     "iopub.status.idle": "2025-03-07T01:05:52.569885Z",
     "shell.execute_reply": "2025-03-07T01:05:52.568937Z"
    },
    "papermill": {
     "duration": 0.421706,
     "end_time": "2025-03-07T01:05:52.571409",
     "exception": false,
     "start_time": "2025-03-07T01:05:52.149703",
     "status": "completed"
    },
    "tags": []
   },
   "outputs": [],
   "source": [
    "powerlifting_meets = pd.read_csv(\"../input/powerlifting-database/meets.csv\")\n",
    "powerlifting_competitors = pd.read_csv(\"../input/powerlifting-database/openpowerlifting.csv\")"
   ]
  },
  {
   "cell_type": "markdown",
   "id": "8877eec5",
   "metadata": {
    "papermill": {
     "duration": 0.0053,
     "end_time": "2025-03-07T01:05:52.583318",
     "exception": false,
     "start_time": "2025-03-07T01:05:52.578018",
     "status": "completed"
    },
    "tags": []
   },
   "source": [
    "Both tables include references to a `MeetID`, a unique key for each meet (competition) included in the database. Using this, generate a dataset combining the two tables into one."
   ]
  },
  {
   "cell_type": "code",
   "execution_count": 11,
   "id": "e10796c9",
   "metadata": {
    "execution": {
     "iopub.execute_input": "2025-03-07T01:05:52.596195Z",
     "iopub.status.busy": "2025-03-07T01:05:52.595907Z",
     "iopub.status.idle": "2025-03-07T01:05:53.110267Z",
     "shell.execute_reply": "2025-03-07T01:05:53.109046Z"
    },
    "papermill": {
     "duration": 0.521478,
     "end_time": "2025-03-07T01:05:53.111637",
     "exception": false,
     "start_time": "2025-03-07T01:05:52.590159",
     "status": "completed"
    },
    "tags": []
   },
   "outputs": [
    {
     "data": {
      "application/javascript": [
       "parent.postMessage({\"jupyterEvent\": \"custom.exercise_interaction\", \"data\": {\"outcomeType\": 1, \"valueTowardsCompletion\": 0.25, \"interactionType\": 1, \"questionType\": 2, \"questionId\": \"4_JoinLifting\", \"learnToolsVersion\": \"0.3.4\", \"failureMessage\": \"\", \"exceptionClass\": \"\", \"trace\": \"\"}}, \"*\")"
      ],
      "text/plain": [
       "<IPython.core.display.Javascript object>"
      ]
     },
     "metadata": {},
     "output_type": "display_data"
    },
    {
     "data": {
      "text/markdown": [
       "<span style=\"color:#33cc33\">Correct</span>"
      ],
      "text/plain": [
       "Correct"
      ]
     },
     "metadata": {},
     "output_type": "display_data"
    }
   ],
   "source": [
    "powerlifting_meets = powerlifting_meets.set_index(['MeetID'])\n",
    "powerlifting_competitors = powerlifting_competitors.set_index(['MeetID'])\n",
    "powerlifting_combined = powerlifting_meets.join(powerlifting_competitors, lsuffix='_meets', rsuffix='_competitors')\n",
    "\n",
    "# Check your answer\n",
    "q4.check()"
   ]
  },
  {
   "cell_type": "code",
   "execution_count": 12,
   "id": "fe3f8628",
   "metadata": {
    "execution": {
     "iopub.execute_input": "2025-03-07T01:05:53.123019Z",
     "iopub.status.busy": "2025-03-07T01:05:53.122732Z",
     "iopub.status.idle": "2025-03-07T01:05:53.131354Z",
     "shell.execute_reply": "2025-03-07T01:05:53.130523Z"
    },
    "papermill": {
     "duration": 0.015833,
     "end_time": "2025-03-07T01:05:53.132776",
     "exception": false,
     "start_time": "2025-03-07T01:05:53.116943",
     "status": "completed"
    },
    "tags": []
   },
   "outputs": [
    {
     "data": {
      "application/javascript": [
       "parent.postMessage({\"jupyterEvent\": \"custom.exercise_interaction\", \"data\": {\"interactionType\": 2, \"questionType\": 2, \"questionId\": \"4_JoinLifting\", \"learnToolsVersion\": \"0.3.4\", \"valueTowardsCompletion\": 0.0, \"failureMessage\": \"\", \"exceptionClass\": \"\", \"trace\": \"\", \"outcomeType\": 4}}, \"*\")"
      ],
      "text/plain": [
       "<IPython.core.display.Javascript object>"
      ]
     },
     "metadata": {},
     "output_type": "display_data"
    },
    {
     "data": {
      "text/markdown": [
       "<span style=\"color:#3366cc\">Hint:</span> Use `pd.Dataframe.join()`."
      ],
      "text/plain": [
       "Hint: Use `pd.Dataframe.join()`."
      ]
     },
     "metadata": {},
     "output_type": "display_data"
    },
    {
     "data": {
      "application/javascript": [
       "parent.postMessage({\"jupyterEvent\": \"custom.exercise_interaction\", \"data\": {\"interactionType\": 3, \"questionType\": 2, \"questionId\": \"4_JoinLifting\", \"learnToolsVersion\": \"0.3.4\", \"valueTowardsCompletion\": 0.0, \"failureMessage\": \"\", \"exceptionClass\": \"\", \"trace\": \"\", \"outcomeType\": 4}}, \"*\")"
      ],
      "text/plain": [
       "<IPython.core.display.Javascript object>"
      ]
     },
     "metadata": {},
     "output_type": "display_data"
    },
    {
     "data": {
      "text/markdown": [
       "<span style=\"color:#33cc99\">Solution:</span> \n",
       "```python\n",
       "powerlifting_combined = powerlifting_meets.set_index(\"MeetID\").join(powerlifting_competitors.set_index(\"MeetID\"))\n",
       "```"
      ],
      "text/plain": [
       "Solution: \n",
       "```python\n",
       "powerlifting_combined = powerlifting_meets.set_index(\"MeetID\").join(powerlifting_competitors.set_index(\"MeetID\"))\n",
       "```"
      ]
     },
     "metadata": {},
     "output_type": "display_data"
    }
   ],
   "source": [
    "q4.hint()\n",
    "q4.solution()"
   ]
  },
  {
   "cell_type": "markdown",
   "id": "00c0ebd4",
   "metadata": {
    "papermill": {
     "duration": 0.00495,
     "end_time": "2025-03-07T01:05:53.143348",
     "exception": false,
     "start_time": "2025-03-07T01:05:53.138398",
     "status": "completed"
    },
    "tags": []
   },
   "source": [
    "# Congratulations!\n",
    "\n",
    "You've finished the Pandas micro-course.  Many data scientists feel efficiency with Pandas is the most useful and practical skill they have, because it allows you to progress quickly in any project you have.\n",
    "\n",
    "If you'd like to apply your new skills to examining geospatial data, you're encouraged to check out our **[Geospatial Analysis](https://www.kaggle.com/learn/geospatial-analysis)** micro-course.\n",
    "\n",
    "You can also take advantage of your Pandas skills by entering a **[Kaggle Competition](https://www.kaggle.com/competitions)** or by answering a question you find interesting using **[Kaggle Datasets](https://www.kaggle.com/datasets)**."
   ]
  },
  {
   "cell_type": "markdown",
   "id": "1aa93bbc",
   "metadata": {
    "papermill": {
     "duration": 0.004936,
     "end_time": "2025-03-07T01:05:53.153617",
     "exception": false,
     "start_time": "2025-03-07T01:05:53.148681",
     "status": "completed"
    },
    "tags": []
   },
   "source": [
    "---\n",
    "\n",
    "\n",
    "\n",
    "\n",
    "*Have questions or comments? Visit the [course discussion forum](https://www.kaggle.com/learn/pandas/discussion) to chat with other learners.*"
   ]
  }
 ],
 "metadata": {
  "kaggle": {
   "accelerator": "none",
   "dataSources": [
    {
     "datasetId": 655,
     "sourceId": 1252,
     "sourceType": "datasetVersion"
    },
    {
     "datasetId": 2321,
     "sourceId": 3919,
     "sourceType": "datasetVersion"
    },
    {
     "datasetId": 2894,
     "sourceId": 4877,
     "sourceType": "datasetVersion"
    },
    {
     "datasetId": 3491,
     "sourceId": 5624,
     "sourceType": "datasetVersion"
    },
    {
     "datasetId": 1442,
     "sourceId": 8172,
     "sourceType": "datasetVersion"
    },
    {
     "datasetId": 9366,
     "sourceId": 13206,
     "sourceType": "datasetVersion"
    },
    {
     "datasetId": 179555,
     "sourceId": 403916,
     "sourceType": "datasetVersion"
    },
    {
     "datasetId": 4549,
     "sourceId": 466349,
     "sourceType": "datasetVersion"
    },
    {
     "datasetId": 2478,
     "sourceId": 1151655,
     "sourceType": "datasetVersion"
    },
    {
     "datasetId": 10128,
     "sourceId": 5438389,
     "sourceType": "datasetVersion"
    }
   ],
   "isGpuEnabled": false,
   "isInternetEnabled": false,
   "language": "python",
   "sourceType": "notebook"
  },
  "kernelspec": {
   "display_name": "Python 3",
   "language": "python",
   "name": "python3"
  },
  "language_info": {
   "codemirror_mode": {
    "name": "ipython",
    "version": 3
   },
   "file_extension": ".py",
   "mimetype": "text/x-python",
   "name": "python",
   "nbconvert_exporter": "python",
   "pygments_lexer": "ipython3",
   "version": "3.10.12"
  },
  "papermill": {
   "default_parameters": {},
   "duration": 8.563819,
   "end_time": "2025-03-07T01:05:53.776850",
   "environment_variables": {},
   "exception": null,
   "input_path": "__notebook__.ipynb",
   "output_path": "__notebook__.ipynb",
   "parameters": {},
   "start_time": "2025-03-07T01:05:45.213031",
   "version": "2.6.0"
  }
 },
 "nbformat": 4,
 "nbformat_minor": 5
}
